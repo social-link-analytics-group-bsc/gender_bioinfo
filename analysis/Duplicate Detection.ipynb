{
 "cells": [
  {
   "cell_type": "code",
   "execution_count": 1,
   "metadata": {},
   "outputs": [],
   "source": [
    "# Import libraries\n",
    "from recordlinkage import preprocessing, Compare\n",
    "from recordlinkage import index\n",
    "import os\n",
    "import pandas as pd\n",
    "import pathlib\n",
    "\n",
    "os.chdir('..')\n",
    "\n",
    "from db_manager import DBManager"
   ]
  },
  {
   "cell_type": "code",
   "execution_count": 2,
   "metadata": {},
   "outputs": [],
   "source": [
    "project_dir = os.getcwd()"
   ]
  },
  {
   "cell_type": "code",
   "execution_count": 3,
   "metadata": {},
   "outputs": [],
   "source": [
    "# Get data\n",
    "db_authors = DBManager('bioinfo_authors')"
   ]
  },
  {
   "cell_type": "code",
   "execution_count": 4,
   "metadata": {},
   "outputs": [],
   "source": [
    "# Process data\n",
    "authors_db = db_authors.search({})\n",
    "authors = []\n",
    "for author_db in authors_db:\n",
    "    # Clean the author's name\n",
    "    s_author = pd.Series(author_db['name'])\n",
    "    clean_author = preprocessing.clean(s_author, strip_accents='unicode')\n",
    "    author_str = clean_author.to_string(header=False, index=False).strip()\n",
    "    author_str_arr = author_str.split()\n",
    "    authors.append(\n",
    "        {\n",
    "            'first_name': ' '.join(author_str_arr[:len(author_str_arr)-1]),\n",
    "            'last_name': author_str_arr[-1],\n",
    "            'sex': author_db['gender']\n",
    "        }\n",
    "    )"
   ]
  },
  {
   "cell_type": "code",
   "execution_count": 8,
   "metadata": {},
   "outputs": [
    {
     "name": "stderr",
     "output_type": "stream",
     "text": [
      "/home/jorge/python_venvs/gender_identification/lib/python3.6/site-packages/recordlinkage/index.py:348: FutureWarning: the 'labels' keyword is deprecated, use 'codes' instead\n",
      "  verify_integrity=False)\n",
      "/home/jorge/python_venvs/gender_identification/lib/python3.6/site-packages/recordlinkage/base.py:288: FutureWarning: .labels was deprecated in version 0.24.0. Use .codes instead.\n",
      "  pairs = pairs[pairs.labels[0] > pairs.labels[1]]\n"
     ]
    }
   ],
   "source": [
    "# Create blocks\n",
    "import recordlinkage\n",
    "authors_pd = pd.DataFrame(authors)\n",
    "indexer = index.SortedNeighbourhoodIndex('last_name', window=9)\n",
    "candidate_links = indexer.index(authors_pd)"
   ]
  },
  {
   "cell_type": "code",
   "execution_count": 12,
   "metadata": {},
   "outputs": [],
   "source": [
    "# Compare records and find duplicates in blocks\n",
    "compare_cl = Compare()\n",
    "compare_cl.string('first_name', 'first_name', method='jarowinkler', threshold=0.95, label='first_name')\n",
    "compare_cl.string('last_name', 'last_name', method='jarowinkler', threshold=0.95, label='last_name')\n",
    "compare_cl.exact('sex', 'sex', label='sex')\n",
    "features = compare_cl.compute(candidate_links, authors_pd)"
   ]
  },
  {
   "cell_type": "code",
   "execution_count": 13,
   "metadata": {},
   "outputs": [
    {
     "data": {
      "text/html": [
       "<div>\n",
       "<style scoped>\n",
       "    .dataframe tbody tr th:only-of-type {\n",
       "        vertical-align: middle;\n",
       "    }\n",
       "\n",
       "    .dataframe tbody tr th {\n",
       "        vertical-align: top;\n",
       "    }\n",
       "\n",
       "    .dataframe thead th {\n",
       "        text-align: right;\n",
       "    }\n",
       "</style>\n",
       "<table border=\"1\" class=\"dataframe\">\n",
       "  <thead>\n",
       "    <tr style=\"text-align: right;\">\n",
       "      <th></th>\n",
       "      <th></th>\n",
       "      <th>first_name</th>\n",
       "      <th>last_name</th>\n",
       "      <th>sex</th>\n",
       "    </tr>\n",
       "  </thead>\n",
       "  <tbody>\n",
       "    <tr>\n",
       "      <th>99825</th>\n",
       "      <th>99012</th>\n",
       "      <td>0.0</td>\n",
       "      <td>0.0</td>\n",
       "      <td>0</td>\n",
       "    </tr>\n",
       "    <tr>\n",
       "      <th>101903</th>\n",
       "      <th>99012</th>\n",
       "      <td>0.0</td>\n",
       "      <td>0.0</td>\n",
       "      <td>1</td>\n",
       "    </tr>\n",
       "    <tr>\n",
       "      <th>102924</th>\n",
       "      <th>99012</th>\n",
       "      <td>0.0</td>\n",
       "      <td>0.0</td>\n",
       "      <td>1</td>\n",
       "    </tr>\n",
       "    <tr>\n",
       "      <th>104243</th>\n",
       "      <th>99012</th>\n",
       "      <td>0.0</td>\n",
       "      <td>0.0</td>\n",
       "      <td>0</td>\n",
       "    </tr>\n",
       "    <tr>\n",
       "      <th>105062</th>\n",
       "      <th>99012</th>\n",
       "      <td>0.0</td>\n",
       "      <td>0.0</td>\n",
       "      <td>1</td>\n",
       "    </tr>\n",
       "    <tr>\n",
       "      <th>108713</th>\n",
       "      <th>99012</th>\n",
       "      <td>0.0</td>\n",
       "      <td>0.0</td>\n",
       "      <td>1</td>\n",
       "    </tr>\n",
       "    <tr>\n",
       "      <th>28708</th>\n",
       "      <th>18432</th>\n",
       "      <td>0.0</td>\n",
       "      <td>0.0</td>\n",
       "      <td>1</td>\n",
       "    </tr>\n",
       "    <tr>\n",
       "      <th>28871</th>\n",
       "      <th>18432</th>\n",
       "      <td>0.0</td>\n",
       "      <td>0.0</td>\n",
       "      <td>1</td>\n",
       "    </tr>\n",
       "    <tr>\n",
       "      <th>29250</th>\n",
       "      <th>18432</th>\n",
       "      <td>0.0</td>\n",
       "      <td>0.0</td>\n",
       "      <td>0</td>\n",
       "    </tr>\n",
       "    <tr>\n",
       "      <th>39391</th>\n",
       "      <th>18432</th>\n",
       "      <td>0.0</td>\n",
       "      <td>0.0</td>\n",
       "      <td>1</td>\n",
       "    </tr>\n",
       "  </tbody>\n",
       "</table>\n",
       "</div>"
      ],
      "text/plain": [
       "              first_name  last_name  sex\n",
       "99825  99012         0.0        0.0    0\n",
       "101903 99012         0.0        0.0    1\n",
       "102924 99012         0.0        0.0    1\n",
       "104243 99012         0.0        0.0    0\n",
       "105062 99012         0.0        0.0    1\n",
       "108713 99012         0.0        0.0    1\n",
       "28708  18432         0.0        0.0    1\n",
       "28871  18432         0.0        0.0    1\n",
       "29250  18432         0.0        0.0    0\n",
       "39391  18432         0.0        0.0    1"
      ]
     },
     "execution_count": 13,
     "metadata": {},
     "output_type": "execute_result"
    }
   ],
   "source": [
    "features.head(10)"
   ]
  },
  {
   "cell_type": "code",
   "execution_count": 14,
   "metadata": {},
   "outputs": [
    {
     "data": {
      "text/plain": [
       "3.0       4693\n",
       "2.0    2941873\n",
       "1.0    3704952\n",
       "0.0     894712\n",
       "dtype: int64"
      ]
     },
     "execution_count": 14,
     "metadata": {},
     "output_type": "execute_result"
    }
   ],
   "source": [
    "features.sum(axis=1).value_counts().sort_index(ascending=False)"
   ]
  },
  {
   "cell_type": "code",
   "execution_count": 15,
   "metadata": {},
   "outputs": [],
   "source": [
    "# Get duplicates by matching records that have similar first_name, last_name, and sex\n",
    "duplicates = features[features.sum(axis=1) > 2]"
   ]
  },
  {
   "cell_type": "code",
   "execution_count": 16,
   "metadata": {},
   "outputs": [
    {
     "data": {
      "text/html": [
       "<div>\n",
       "<style scoped>\n",
       "    .dataframe tbody tr th:only-of-type {\n",
       "        vertical-align: middle;\n",
       "    }\n",
       "\n",
       "    .dataframe tbody tr th {\n",
       "        vertical-align: top;\n",
       "    }\n",
       "\n",
       "    .dataframe thead th {\n",
       "        text-align: right;\n",
       "    }\n",
       "</style>\n",
       "<table border=\"1\" class=\"dataframe\">\n",
       "  <thead>\n",
       "    <tr style=\"text-align: right;\">\n",
       "      <th></th>\n",
       "      <th></th>\n",
       "      <th>first_name</th>\n",
       "      <th>last_name</th>\n",
       "      <th>sex</th>\n",
       "    </tr>\n",
       "  </thead>\n",
       "  <tbody>\n",
       "    <tr>\n",
       "      <th>6915</th>\n",
       "      <th>6002</th>\n",
       "      <td>1.0</td>\n",
       "      <td>1.0</td>\n",
       "      <td>1</td>\n",
       "    </tr>\n",
       "    <tr>\n",
       "      <th>120099</th>\n",
       "      <th>12205</th>\n",
       "      <td>1.0</td>\n",
       "      <td>1.0</td>\n",
       "      <td>1</td>\n",
       "    </tr>\n",
       "    <tr>\n",
       "      <th>16191</th>\n",
       "      <th>5057</th>\n",
       "      <td>1.0</td>\n",
       "      <td>1.0</td>\n",
       "      <td>1</td>\n",
       "    </tr>\n",
       "    <tr>\n",
       "      <th>26790</th>\n",
       "      <th>5057</th>\n",
       "      <td>1.0</td>\n",
       "      <td>1.0</td>\n",
       "      <td>1</td>\n",
       "    </tr>\n",
       "    <tr>\n",
       "      <th>104193</th>\n",
       "      <th>103819</th>\n",
       "      <td>1.0</td>\n",
       "      <td>1.0</td>\n",
       "      <td>1</td>\n",
       "    </tr>\n",
       "  </tbody>\n",
       "</table>\n",
       "</div>"
      ],
      "text/plain": [
       "               first_name  last_name  sex\n",
       "6915   6002           1.0        1.0    1\n",
       "120099 12205          1.0        1.0    1\n",
       "16191  5057           1.0        1.0    1\n",
       "26790  5057           1.0        1.0    1\n",
       "104193 103819         1.0        1.0    1"
      ]
     },
     "execution_count": 16,
     "metadata": {},
     "output_type": "execute_result"
    }
   ],
   "source": [
    "duplicates.head()"
   ]
  },
  {
   "cell_type": "code",
   "execution_count": 17,
   "metadata": {},
   "outputs": [
    {
     "data": {
      "text/html": [
       "<div>\n",
       "<style scoped>\n",
       "    .dataframe tbody tr th:only-of-type {\n",
       "        vertical-align: middle;\n",
       "    }\n",
       "\n",
       "    .dataframe tbody tr th {\n",
       "        vertical-align: top;\n",
       "    }\n",
       "\n",
       "    .dataframe thead th {\n",
       "        text-align: right;\n",
       "    }\n",
       "</style>\n",
       "<table border=\"1\" class=\"dataframe\">\n",
       "  <thead>\n",
       "    <tr style=\"text-align: right;\">\n",
       "      <th></th>\n",
       "      <th>first_name</th>\n",
       "      <th>last_name</th>\n",
       "      <th>sex</th>\n",
       "    </tr>\n",
       "  </thead>\n",
       "  <tbody>\n",
       "    <tr>\n",
       "      <th>6915</th>\n",
       "      <td>manuel</td>\n",
       "      <td>campos</td>\n",
       "      <td>male</td>\n",
       "    </tr>\n",
       "    <tr>\n",
       "      <th>6002</th>\n",
       "      <td>manel</td>\n",
       "      <td>camps</td>\n",
       "      <td>male</td>\n",
       "    </tr>\n",
       "  </tbody>\n",
       "</table>\n",
       "</div>"
      ],
      "text/plain": [
       "     first_name last_name   sex\n",
       "6915     manuel    campos  male\n",
       "6002      manel     camps  male"
      ]
     },
     "execution_count": 17,
     "metadata": {},
     "output_type": "execute_result"
    }
   ],
   "source": [
    "authors_pd.loc[[6915, 6002]]"
   ]
  },
  {
   "cell_type": "code",
   "execution_count": 18,
   "metadata": {},
   "outputs": [
    {
     "data": {
      "text/html": [
       "<div>\n",
       "<style scoped>\n",
       "    .dataframe tbody tr th:only-of-type {\n",
       "        vertical-align: middle;\n",
       "    }\n",
       "\n",
       "    .dataframe tbody tr th {\n",
       "        vertical-align: top;\n",
       "    }\n",
       "\n",
       "    .dataframe thead th {\n",
       "        text-align: right;\n",
       "    }\n",
       "</style>\n",
       "<table border=\"1\" class=\"dataframe\">\n",
       "  <thead>\n",
       "    <tr style=\"text-align: right;\">\n",
       "      <th></th>\n",
       "      <th>first_name</th>\n",
       "      <th>last_name</th>\n",
       "      <th>sex</th>\n",
       "    </tr>\n",
       "  </thead>\n",
       "  <tbody>\n",
       "    <tr>\n",
       "      <th>120099</th>\n",
       "      <td>christian d</td>\n",
       "      <td>lorenz</td>\n",
       "      <td>male</td>\n",
       "    </tr>\n",
       "    <tr>\n",
       "      <th>12205</th>\n",
       "      <td>christian</td>\n",
       "      <td>lorenzi</td>\n",
       "      <td>male</td>\n",
       "    </tr>\n",
       "  </tbody>\n",
       "</table>\n",
       "</div>"
      ],
      "text/plain": [
       "         first_name last_name   sex\n",
       "120099  christian d    lorenz  male\n",
       "12205     christian   lorenzi  male"
      ]
     },
     "execution_count": 18,
     "metadata": {},
     "output_type": "execute_result"
    }
   ],
   "source": [
    "authors_pd.loc[[120099, 12205]]"
   ]
  },
  {
   "cell_type": "code",
   "execution_count": 19,
   "metadata": {},
   "outputs": [
    {
     "data": {
      "text/html": [
       "<div>\n",
       "<style scoped>\n",
       "    .dataframe tbody tr th:only-of-type {\n",
       "        vertical-align: middle;\n",
       "    }\n",
       "\n",
       "    .dataframe tbody tr th {\n",
       "        vertical-align: top;\n",
       "    }\n",
       "\n",
       "    .dataframe thead th {\n",
       "        text-align: right;\n",
       "    }\n",
       "</style>\n",
       "<table border=\"1\" class=\"dataframe\">\n",
       "  <thead>\n",
       "    <tr style=\"text-align: right;\">\n",
       "      <th></th>\n",
       "      <th>first_name</th>\n",
       "      <th>last_name</th>\n",
       "      <th>sex</th>\n",
       "    </tr>\n",
       "  </thead>\n",
       "  <tbody>\n",
       "    <tr>\n",
       "      <th>16191</th>\n",
       "      <td>erik m van</td>\n",
       "      <td>mulligen</td>\n",
       "      <td>male</td>\n",
       "    </tr>\n",
       "    <tr>\n",
       "      <th>5057</th>\n",
       "      <td>erik m van</td>\n",
       "      <td>mullingen</td>\n",
       "      <td>male</td>\n",
       "    </tr>\n",
       "  </tbody>\n",
       "</table>\n",
       "</div>"
      ],
      "text/plain": [
       "       first_name  last_name   sex\n",
       "16191  erik m van   mulligen  male\n",
       "5057   erik m van  mullingen  male"
      ]
     },
     "execution_count": 19,
     "metadata": {},
     "output_type": "execute_result"
    }
   ],
   "source": [
    "authors_pd.loc[[16191, 5057]]"
   ]
  },
  {
   "cell_type": "code",
   "execution_count": 20,
   "metadata": {},
   "outputs": [
    {
     "data": {
      "text/html": [
       "<div>\n",
       "<style scoped>\n",
       "    .dataframe tbody tr th:only-of-type {\n",
       "        vertical-align: middle;\n",
       "    }\n",
       "\n",
       "    .dataframe tbody tr th {\n",
       "        vertical-align: top;\n",
       "    }\n",
       "\n",
       "    .dataframe thead th {\n",
       "        text-align: right;\n",
       "    }\n",
       "</style>\n",
       "<table border=\"1\" class=\"dataframe\">\n",
       "  <thead>\n",
       "    <tr style=\"text-align: right;\">\n",
       "      <th></th>\n",
       "      <th>first_name</th>\n",
       "      <th>last_name</th>\n",
       "      <th>sex</th>\n",
       "    </tr>\n",
       "  </thead>\n",
       "  <tbody>\n",
       "    <tr>\n",
       "      <th>26790</th>\n",
       "      <td>erik van</td>\n",
       "      <td>mulligen</td>\n",
       "      <td>male</td>\n",
       "    </tr>\n",
       "    <tr>\n",
       "      <th>5057</th>\n",
       "      <td>erik m van</td>\n",
       "      <td>mullingen</td>\n",
       "      <td>male</td>\n",
       "    </tr>\n",
       "  </tbody>\n",
       "</table>\n",
       "</div>"
      ],
      "text/plain": [
       "       first_name  last_name   sex\n",
       "26790    erik van   mulligen  male\n",
       "5057   erik m van  mullingen  male"
      ]
     },
     "execution_count": 20,
     "metadata": {},
     "output_type": "execute_result"
    }
   ],
   "source": [
    "authors_pd.loc[[26790, 5057]]"
   ]
  },
  {
   "cell_type": "code",
   "execution_count": 33,
   "metadata": {},
   "outputs": [
    {
     "name": "stdout",
     "output_type": "stream",
     "text": [
      "Found 1075 pairs that are exactly equal\n"
     ]
    }
   ],
   "source": [
    "# store results in a new dataframe\n",
    "dup_df = pd.DataFrame(columns=['1_first_name', '1_last_name', '1_sex', '2_first_name', '2_last_name', '2_sex'])\n",
    "pairs_exactly_equal = 0\n",
    "for i in range(0, len(duplicates)):\n",
    "    columns_dup1 = ['1_'+col_name for col_name in list(authors_pd.loc[duplicates.iloc[i].name[0]].index)]\n",
    "    first_name_1, last_name_1, sex_1 = authors_pd.loc[duplicates.iloc[i].name[0]]['first_name'], \\\n",
    "                                       authors_pd.loc[duplicates.iloc[i].name[0]]['last_name'], \\\n",
    "                                       authors_pd.loc[duplicates.iloc[i].name[0]]['sex']\n",
    "    dup1 = pd.DataFrame([authors_pd.loc[duplicates.iloc[i].name[0]]], \n",
    "                         columns=list(authors_pd.loc[duplicates.iloc[i].name[0]].index),\n",
    "                         index=[i])\n",
    "    dup1.columns = columns_dup1\n",
    "    columns_dup2 = ['2_'+col_name for col_name in list(authors_pd.loc[duplicates.iloc[i].name[1]].index)]\n",
    "    first_name_2, last_name_2, sex_2 = authors_pd.loc[duplicates.iloc[i].name[1]]['first_name'], \\\n",
    "                                       authors_pd.loc[duplicates.iloc[i].name[1]]['last_name'], \\\n",
    "                                       authors_pd.loc[duplicates.iloc[i].name[1]]['sex']\n",
    "    dup2 = pd.DataFrame([authors_pd.loc[duplicates.iloc[i].name[1]]], \n",
    "                         columns=list(authors_pd.loc[duplicates.iloc[i].name[1]].index),\n",
    "                         index=[i])\n",
    "    dup2.columns = columns_dup2\n",
    "    if first_name_1 == first_name_2 and last_name_1 == last_name_2 and sex_1 == sex_2:\n",
    "        pairs_exactly_equal += 1\n",
    "        continue\n",
    "    dup_df = dup_df.append(pd.concat([dup1, dup2], axis=1), ignore_index=True)\n",
    "print(f\"Found {pairs_exactly_equal} pairs that are exactly equal\")"
   ]
  },
  {
   "cell_type": "code",
   "execution_count": 35,
   "metadata": {},
   "outputs": [
    {
     "name": "stdout",
     "output_type": "stream",
     "text": [
      "Found 3618 records that are potentially duplicates\n"
     ]
    }
   ],
   "source": [
    "print(f\"Found {dup_df.shape[0]} records that are potentially duplicates\")"
   ]
  },
  {
   "cell_type": "code",
   "execution_count": 36,
   "metadata": {},
   "outputs": [
    {
     "data": {
      "text/html": [
       "<div>\n",
       "<style scoped>\n",
       "    .dataframe tbody tr th:only-of-type {\n",
       "        vertical-align: middle;\n",
       "    }\n",
       "\n",
       "    .dataframe tbody tr th {\n",
       "        vertical-align: top;\n",
       "    }\n",
       "\n",
       "    .dataframe thead th {\n",
       "        text-align: right;\n",
       "    }\n",
       "</style>\n",
       "<table border=\"1\" class=\"dataframe\">\n",
       "  <thead>\n",
       "    <tr style=\"text-align: right;\">\n",
       "      <th></th>\n",
       "      <th>1_first_name</th>\n",
       "      <th>1_last_name</th>\n",
       "      <th>1_sex</th>\n",
       "      <th>2_first_name</th>\n",
       "      <th>2_last_name</th>\n",
       "      <th>2_sex</th>\n",
       "    </tr>\n",
       "  </thead>\n",
       "  <tbody>\n",
       "    <tr>\n",
       "      <th>0</th>\n",
       "      <td>manuel</td>\n",
       "      <td>campos</td>\n",
       "      <td>male</td>\n",
       "      <td>manel</td>\n",
       "      <td>camps</td>\n",
       "      <td>male</td>\n",
       "    </tr>\n",
       "    <tr>\n",
       "      <th>1</th>\n",
       "      <td>christian d</td>\n",
       "      <td>lorenz</td>\n",
       "      <td>male</td>\n",
       "      <td>christian</td>\n",
       "      <td>lorenzi</td>\n",
       "      <td>male</td>\n",
       "    </tr>\n",
       "    <tr>\n",
       "      <th>2</th>\n",
       "      <td>erik m van</td>\n",
       "      <td>mulligen</td>\n",
       "      <td>male</td>\n",
       "      <td>erik m van</td>\n",
       "      <td>mullingen</td>\n",
       "      <td>male</td>\n",
       "    </tr>\n",
       "    <tr>\n",
       "      <th>3</th>\n",
       "      <td>erik van</td>\n",
       "      <td>mulligen</td>\n",
       "      <td>male</td>\n",
       "      <td>erik m van</td>\n",
       "      <td>mullingen</td>\n",
       "      <td>male</td>\n",
       "    </tr>\n",
       "    <tr>\n",
       "      <th>4</th>\n",
       "      <td>michael</td>\n",
       "      <td>rothe</td>\n",
       "      <td>male</td>\n",
       "      <td>michael</td>\n",
       "      <td>rother</td>\n",
       "      <td>male</td>\n",
       "    </tr>\n",
       "    <tr>\n",
       "      <th>5</th>\n",
       "      <td>hua</td>\n",
       "      <td>chen</td>\n",
       "      <td>unknown</td>\n",
       "      <td>hua</td>\n",
       "      <td>cheng</td>\n",
       "      <td>unknown</td>\n",
       "    </tr>\n",
       "    <tr>\n",
       "      <th>6</th>\n",
       "      <td>li</td>\n",
       "      <td>chen</td>\n",
       "      <td>unknown</td>\n",
       "      <td>li</td>\n",
       "      <td>cheng</td>\n",
       "      <td>unknown</td>\n",
       "    </tr>\n",
       "    <tr>\n",
       "      <th>7</th>\n",
       "      <td>chia ling</td>\n",
       "      <td>chen</td>\n",
       "      <td>unknown</td>\n",
       "      <td>chia ying</td>\n",
       "      <td>cheng</td>\n",
       "      <td>unknown</td>\n",
       "    </tr>\n",
       "    <tr>\n",
       "      <th>8</th>\n",
       "      <td>shiyuan</td>\n",
       "      <td>chen</td>\n",
       "      <td>unknown</td>\n",
       "      <td>shi yuan</td>\n",
       "      <td>cheng</td>\n",
       "      <td>unknown</td>\n",
       "    </tr>\n",
       "    <tr>\n",
       "      <th>9</th>\n",
       "      <td>chao</td>\n",
       "      <td>chen</td>\n",
       "      <td>unknown</td>\n",
       "      <td>chao</td>\n",
       "      <td>cheng</td>\n",
       "      <td>unknown</td>\n",
       "    </tr>\n",
       "  </tbody>\n",
       "</table>\n",
       "</div>"
      ],
      "text/plain": [
       "  1_first_name 1_last_name    1_sex 2_first_name 2_last_name    2_sex\n",
       "0       manuel      campos     male        manel       camps     male\n",
       "1  christian d      lorenz     male    christian     lorenzi     male\n",
       "2   erik m van    mulligen     male   erik m van   mullingen     male\n",
       "3     erik van    mulligen     male   erik m van   mullingen     male\n",
       "4      michael       rothe     male      michael      rother     male\n",
       "5          hua        chen  unknown          hua       cheng  unknown\n",
       "6           li        chen  unknown           li       cheng  unknown\n",
       "7    chia ling        chen  unknown    chia ying       cheng  unknown\n",
       "8      shiyuan        chen  unknown     shi yuan       cheng  unknown\n",
       "9         chao        chen  unknown         chao       cheng  unknown"
      ]
     },
     "execution_count": 36,
     "metadata": {},
     "output_type": "execute_result"
    }
   ],
   "source": [
    "dup_df.head(10)"
   ]
  },
  {
   "cell_type": "code",
   "execution_count": 37,
   "metadata": {},
   "outputs": [],
   "source": [
    "dup_df.to_csv(pathlib.Path(project_dir, 'data/potential_duplicates.csv').as_posix())"
   ]
  }
 ],
 "metadata": {
  "kernelspec": {
   "display_name": "Python 3",
   "language": "python",
   "name": "python3"
  },
  "language_info": {
   "codemirror_mode": {
    "name": "ipython",
    "version": 3
   },
   "file_extension": ".py",
   "mimetype": "text/x-python",
   "name": "python",
   "nbconvert_exporter": "python",
   "pygments_lexer": "ipython3",
   "version": "3.6.7"
  }
 },
 "nbformat": 4,
 "nbformat_minor": 2
}
