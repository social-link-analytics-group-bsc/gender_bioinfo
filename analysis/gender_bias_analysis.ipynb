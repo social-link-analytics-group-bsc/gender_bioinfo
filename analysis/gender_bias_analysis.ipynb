{
 "cells": [
  {
   "cell_type": "markdown",
   "metadata": {},
   "source": [
    "# Gender bias in Bioinformatics"
   ]
  },
  {
   "cell_type": "markdown",
   "metadata": {},
   "source": [
    "This notebook shows a series of analyses conducted to study gender bians in bioinformatics. By talking the case of studies of the five most important journals in the area (nucleids acid research, bmc genomics, bmc bioinformatics, oxford bioinformatics, plos computational biology) we analyze bias in the autorship of the papers."
   ]
  },
  {
   "cell_type": "code",
   "execution_count": 430,
   "metadata": {},
   "outputs": [],
   "source": [
    "%matplotlib inline\n",
    "\n",
    "# Import libraries\n",
    "import os\n",
    "import pandas as pd\n",
    "import matplotlib.pyplot as plt\n",
    "import seaborn as sns\n",
    "import numpy as np\n",
    "from scipy.stats import ttest_ind, pearsonr\n",
    "\n",
    "os.chdir('..')\n",
    "\n",
    "from db_manager import DBManager\n",
    "\n",
    "plt.style.use('seaborn')"
   ]
  },
  {
   "cell_type": "code",
   "execution_count": 3,
   "metadata": {},
   "outputs": [],
   "source": [
    "# Save current dir in case it can be useful\n",
    "project_dir = os.getcwd()"
   ]
  },
  {
   "cell_type": "markdown",
   "metadata": {},
   "source": [
    "# Data load"
   ]
  },
  {
   "cell_type": "code",
   "execution_count": 260,
   "metadata": {},
   "outputs": [],
   "source": [
    "papers = pd.read_csv(project_dir + '/data/papers.csv')\n",
    "authors = pd.read_csv(project_dir + '/data/authors.csv')\n",
    "papers_authors = pd.read_csv(project_dir + '/data/papers_authors.csv')"
   ]
  },
  {
   "cell_type": "code",
   "execution_count": 261,
   "metadata": {},
   "outputs": [
    {
     "name": "stdout",
     "output_type": "stream",
     "text": [
      "Raw data:\n",
      "- 38349  Papers\n",
      "- 120855 Authors\n",
      "- 213141 Paper-Authors\n"
     ]
    }
   ],
   "source": [
    "print(\"Raw data:\\n-\", papers.shape[0], \" Papers\\n-\", authors.shape[0], \"Authors\\n-\", papers_authors.shape[0], \n",
    "      \"Paper-Authors\")"
   ]
  },
  {
   "cell_type": "markdown",
   "metadata": {},
   "source": [
    "# Data preprocessing"
   ]
  },
  {
   "cell_type": "code",
   "execution_count": 262,
   "metadata": {},
   "outputs": [],
   "source": [
    "# Convert vague gender name to specific name\n",
    "authors.loc[authors['gender']=='mostly_male','gender'] = 'male'\n",
    "authors.loc[authors['gender']=='mostly_female', 'gender'] = 'female'\n",
    "papers_authors.loc[papers_authors['author_gender']=='mostly_male','author_gender'] = 'male'\n",
    "papers_authors.loc[papers_authors['author_gender']=='mostly_female', 'author_gender'] = 'female'"
   ]
  },
  {
   "cell_type": "markdown",
   "metadata": {},
   "source": [
    "## Remove papers without authors"
   ]
  },
  {
   "cell_type": "code",
   "execution_count": 263,
   "metadata": {},
   "outputs": [
    {
     "name": "stdout",
     "output_type": "stream",
     "text": [
      "Papers without authors 1507 (most of these are papers whose authors have an unidentified gender)\n"
     ]
    }
   ],
   "source": [
    "papers_without_authors = papers[(papers['authors']==0)|(pd.isna(papers['authors']))]\n",
    "print(\"Papers without authors \" + str(papers_without_authors.shape[0]) + \" (most of these are papers \" \\\n",
    "      \"whose authors have an unidentified gender)\")"
   ]
  },
  {
   "cell_type": "code",
   "execution_count": 264,
   "metadata": {},
   "outputs": [
    {
     "name": "stdout",
     "output_type": "stream",
     "text": [
      "Papers with authors 36842\n"
     ]
    }
   ],
   "source": [
    "papers = papers[(papers['authors']!=0)&(pd.notnull(papers['authors']))]\n",
    "print(\"Papers with authors \" + str(papers.shape[0]))"
   ]
  },
  {
   "cell_type": "code",
   "execution_count": 265,
   "metadata": {},
   "outputs": [
    {
     "data": {
      "text/plain": [
       "213141"
      ]
     },
     "execution_count": 265,
     "metadata": {},
     "output_type": "execute_result"
    }
   ],
   "source": [
    "# Remove from papers authors dataset those papers without author\n",
    "papers_authors = papers_authors[~papers_authors['title'].isin(papers_without_authors)]\n",
    "papers_authors.shape[0]"
   ]
  },
  {
   "cell_type": "markdown",
   "metadata": {},
   "source": [
    "## Remove authors with unidentified gender"
   ]
  },
  {
   "cell_type": "code",
   "execution_count": 266,
   "metadata": {},
   "outputs": [
    {
     "name": "stdout",
     "output_type": "stream",
     "text": [
      "There are 20064 authors with unidentified gender\n"
     ]
    }
   ],
   "source": [
    "print(\"There are \" + str(authors[(authors['gender']!='male')&(authors['gender']!='female')].shape[0]) +\n",
    "      \" authors with unidentified gender\")"
   ]
  },
  {
   "cell_type": "markdown",
   "metadata": {},
   "source": [
    "### Filter out authors with unidentified gender"
   ]
  },
  {
   "cell_type": "code",
   "execution_count": 267,
   "metadata": {},
   "outputs": [
    {
     "data": {
      "text/plain": [
       "100791"
      ]
     },
     "execution_count": 267,
     "metadata": {},
     "output_type": "execute_result"
    }
   ],
   "source": [
    "authors = authors[(authors['gender']=='male')|(authors['gender']=='female')]\n",
    "authors.shape[0]"
   ]
  },
  {
   "cell_type": "code",
   "execution_count": 268,
   "metadata": {},
   "outputs": [
    {
     "data": {
      "text/plain": [
       "175844"
      ]
     },
     "execution_count": 268,
     "metadata": {},
     "output_type": "execute_result"
    }
   ],
   "source": [
    "# Remove rows that have author with unidentified gender\n",
    "papers_authors = papers_authors[(papers_authors['author_gender']=='male')|\n",
    "                                (papers_authors['author_gender']=='female')]\n",
    "papers_authors.shape[0]"
   ]
  },
  {
   "cell_type": "markdown",
   "metadata": {},
   "source": [
    "## Check data consistency"
   ]
  },
  {
   "cell_type": "code",
   "execution_count": 269,
   "metadata": {},
   "outputs": [
    {
     "name": "stdout",
     "output_type": "stream",
     "text": [
      "Number of rows are the same:  True\n"
     ]
    }
   ],
   "source": [
    "# Number of rows in dataframe papers must be equal to the number of rows in dataframe \n",
    "# papers_authors after grouping by title\n",
    "pa_to_check = papers_authors.groupby('title', sort=False, as_index=False)\n",
    "print(\"Number of rows are the same: \", pa_to_check.ngroups == papers.shape[0])"
   ]
  },
  {
   "cell_type": "code",
   "execution_count": 270,
   "metadata": {},
   "outputs": [
    {
     "name": "stdout",
     "output_type": "stream",
     "text": [
      "Number of rows are the same:  True\n"
     ]
    }
   ],
   "source": [
    "# Number of rows in dataframe authors must be equal to the number of rows in dataframe\n",
    "# papers_authors after grouping by author\n",
    "pa_to_check = papers_authors.groupby('author', sort=False, as_index=False)\n",
    "print(\"Number of rows are the same: \", pa_to_check.ngroups == authors.shape[0])"
   ]
  },
  {
   "cell_type": "markdown",
   "metadata": {},
   "source": [
    "# Papers"
   ]
  },
  {
   "cell_type": "code",
   "execution_count": 271,
   "metadata": {},
   "outputs": [
    {
     "name": "stdout",
     "output_type": "stream",
     "text": [
      "Total papers: 36842\n"
     ]
    }
   ],
   "source": [
    "print(\"Total papers: \" + str(papers.shape[0]))"
   ]
  },
  {
   "cell_type": "markdown",
   "metadata": {},
   "source": [
    "## Data structure"
   ]
  },
  {
   "cell_type": "code",
   "execution_count": 272,
   "metadata": {},
   "outputs": [
    {
     "data": {
      "text/html": [
       "<div>\n",
       "<style scoped>\n",
       "    .dataframe tbody tr th:only-of-type {\n",
       "        vertical-align: middle;\n",
       "    }\n",
       "\n",
       "    .dataframe tbody tr th {\n",
       "        vertical-align: top;\n",
       "    }\n",
       "\n",
       "    .dataframe thead th {\n",
       "        text-align: right;\n",
       "    }\n",
       "</style>\n",
       "<table border=\"1\" class=\"dataframe\">\n",
       "  <thead>\n",
       "    <tr style=\"text-align: right;\">\n",
       "      <th></th>\n",
       "      <th>id</th>\n",
       "      <th>title</th>\n",
       "      <th>DOI</th>\n",
       "      <th>year</th>\n",
       "      <th>source</th>\n",
       "      <th>citations</th>\n",
       "      <th>edamCategory</th>\n",
       "      <th>link</th>\n",
       "      <th>authors</th>\n",
       "      <th>gender_last_author</th>\n",
       "    </tr>\n",
       "  </thead>\n",
       "  <tbody>\n",
       "    <tr>\n",
       "      <th>0</th>\n",
       "      <td>1</td>\n",
       "      <td>A peptide-based method for 13C Metabolic Flux ...</td>\n",
       "      <td>10.1371/journal.pcbi.1003827</td>\n",
       "      <td>2014</td>\n",
       "      <td>plos computational biology</td>\n",
       "      <td>7</td>\n",
       "      <td>Omics &gt; Genomics &gt; Transcriptomics</td>\n",
       "      <td>https://journals.plos.org/ploscompbiol/article...</td>\n",
       "      <td>8.0</td>\n",
       "      <td>male</td>\n",
       "    </tr>\n",
       "    <tr>\n",
       "      <th>1</th>\n",
       "      <td>2</td>\n",
       "      <td>Baseline CD4+ T cell counts correlates with HI...</td>\n",
       "      <td>10.1371/journal.pcbi.1003830</td>\n",
       "      <td>2014</td>\n",
       "      <td>plos computational biology</td>\n",
       "      <td>0</td>\n",
       "      <td>Computational Biology &gt; Phylogeny</td>\n",
       "      <td>https://journals.plos.org/ploscompbiol/article...</td>\n",
       "      <td>9.0</td>\n",
       "      <td>male</td>\n",
       "    </tr>\n",
       "    <tr>\n",
       "      <th>2</th>\n",
       "      <td>3</td>\n",
       "      <td>Evolution of the F0F1 ATP Synthase Complex in ...</td>\n",
       "      <td>10.1371/journal.pcbi.1003821</td>\n",
       "      <td>2014</td>\n",
       "      <td>plos computational biology</td>\n",
       "      <td>8</td>\n",
       "      <td>Computational Biology &gt; Structure analysis</td>\n",
       "      <td>https://journals.plos.org/ploscompbiol/article...</td>\n",
       "      <td>2.0</td>\n",
       "      <td>female</td>\n",
       "    </tr>\n",
       "    <tr>\n",
       "      <th>3</th>\n",
       "      <td>4</td>\n",
       "      <td>Dynamic Modelling of Pathways to Cellular Sene...</td>\n",
       "      <td>10.1371/journal.pcbi.1003728</td>\n",
       "      <td>2014</td>\n",
       "      <td>plos computational biology</td>\n",
       "      <td>12</td>\n",
       "      <td>Computational Biology &gt; Phylogeny</td>\n",
       "      <td>https://journals.plos.org/ploscompbiol/article...</td>\n",
       "      <td>7.0</td>\n",
       "      <td>male</td>\n",
       "    </tr>\n",
       "    <tr>\n",
       "      <th>4</th>\n",
       "      <td>5</td>\n",
       "      <td>Unbiased Functional Clustering of Gene Variant...</td>\n",
       "      <td>10.1371/journal.pcbi.1003815</td>\n",
       "      <td>2014</td>\n",
       "      <td>plos computational biology</td>\n",
       "      <td>7</td>\n",
       "      <td>Omics &gt; Genomics &gt; Functional genomics</td>\n",
       "      <td>https://journals.plos.org/ploscompbiol/article...</td>\n",
       "      <td>3.0</td>\n",
       "      <td>male</td>\n",
       "    </tr>\n",
       "  </tbody>\n",
       "</table>\n",
       "</div>"
      ],
      "text/plain": [
       "   id                                              title  \\\n",
       "0   1  A peptide-based method for 13C Metabolic Flux ...   \n",
       "1   2  Baseline CD4+ T cell counts correlates with HI...   \n",
       "2   3  Evolution of the F0F1 ATP Synthase Complex in ...   \n",
       "3   4  Dynamic Modelling of Pathways to Cellular Sene...   \n",
       "4   5  Unbiased Functional Clustering of Gene Variant...   \n",
       "\n",
       "                            DOI  year                      source  citations  \\\n",
       "0  10.1371/journal.pcbi.1003827  2014  plos computational biology          7   \n",
       "1  10.1371/journal.pcbi.1003830  2014  plos computational biology          0   \n",
       "2  10.1371/journal.pcbi.1003821  2014  plos computational biology          8   \n",
       "3  10.1371/journal.pcbi.1003728  2014  plos computational biology         12   \n",
       "4  10.1371/journal.pcbi.1003815  2014  plos computational biology          7   \n",
       "\n",
       "                                 edamCategory  \\\n",
       "0          Omics > Genomics > Transcriptomics   \n",
       "1           Computational Biology > Phylogeny   \n",
       "2  Computational Biology > Structure analysis   \n",
       "3           Computational Biology > Phylogeny   \n",
       "4      Omics > Genomics > Functional genomics   \n",
       "\n",
       "                                                link  authors  \\\n",
       "0  https://journals.plos.org/ploscompbiol/article...      8.0   \n",
       "1  https://journals.plos.org/ploscompbiol/article...      9.0   \n",
       "2  https://journals.plos.org/ploscompbiol/article...      2.0   \n",
       "3  https://journals.plos.org/ploscompbiol/article...      7.0   \n",
       "4  https://journals.plos.org/ploscompbiol/article...      3.0   \n",
       "\n",
       "  gender_last_author  \n",
       "0               male  \n",
       "1               male  \n",
       "2             female  \n",
       "3               male  \n",
       "4               male  "
      ]
     },
     "execution_count": 272,
     "metadata": {},
     "output_type": "execute_result"
    }
   ],
   "source": [
    "papers.head()"
   ]
  },
  {
   "cell_type": "markdown",
   "metadata": {},
   "source": [
    "## Evolution of papers by year"
   ]
  },
  {
   "cell_type": "code",
   "execution_count": 273,
   "metadata": {},
   "outputs": [],
   "source": [
    "papers_by_year = papers.groupby('year').size()"
   ]
  },
  {
   "cell_type": "code",
   "execution_count": 274,
   "metadata": {},
   "outputs": [
    {
     "data": {
      "text/plain": [
       "<matplotlib.axes._subplots.AxesSubplot at 0x7efe1a2f08d0>"
      ]
     },
     "execution_count": 274,
     "metadata": {},
     "output_type": "execute_result"
    },
    {
     "data": {
      "image/png": "[encoded data removed]",
      "text/plain": [
       "<Figure size 720x432 with 1 Axes>"
      ]
     },
     "metadata": {
      "needs_background": "light"
     },
     "output_type": "display_data"
    }
   ],
   "source": [
    "plt.figure(figsize=(10,6))\n",
    "papers_by_year.plot(lw=5)"
   ]
  },
  {
   "cell_type": "markdown",
   "metadata": {},
   "source": [
    "## Evolution of average citations over years"
   ]
  },
  {
   "cell_type": "code",
   "execution_count": 275,
   "metadata": {},
   "outputs": [
    {
     "data": {
      "text/plain": [
       "count    36842.000000\n",
       "mean        33.426307\n",
       "std        130.840993\n",
       "min          0.000000\n",
       "25%          5.000000\n",
       "50%         13.000000\n",
       "75%         31.000000\n",
       "max       9753.000000\n",
       "Name: citations, dtype: float64"
      ]
     },
     "execution_count": 275,
     "metadata": {},
     "output_type": "execute_result"
    }
   ],
   "source": [
    "papers['citations'].describe()"
   ]
  },
  {
   "cell_type": "markdown",
   "metadata": {},
   "source": [
    "### Paper with max citation"
   ]
  },
  {
   "cell_type": "code",
   "execution_count": 276,
   "metadata": {},
   "outputs": [
    {
     "data": {
      "text/html": [
       "<div>\n",
       "<style scoped>\n",
       "    .dataframe tbody tr th:only-of-type {\n",
       "        vertical-align: middle;\n",
       "    }\n",
       "\n",
       "    .dataframe tbody tr th {\n",
       "        vertical-align: top;\n",
       "    }\n",
       "\n",
       "    .dataframe thead th {\n",
       "        text-align: right;\n",
       "    }\n",
       "</style>\n",
       "<table border=\"1\" class=\"dataframe\">\n",
       "  <thead>\n",
       "    <tr style=\"text-align: right;\">\n",
       "      <th></th>\n",
       "      <th>id</th>\n",
       "      <th>title</th>\n",
       "      <th>DOI</th>\n",
       "      <th>year</th>\n",
       "      <th>source</th>\n",
       "      <th>citations</th>\n",
       "      <th>edamCategory</th>\n",
       "      <th>link</th>\n",
       "      <th>authors</th>\n",
       "      <th>gender_last_author</th>\n",
       "    </tr>\n",
       "  </thead>\n",
       "  <tbody>\n",
       "    <tr>\n",
       "      <th>34840</th>\n",
       "      <td>34841</td>\n",
       "      <td>The Sequence Alignment/Map format and SAMtools</td>\n",
       "      <td>10.1093/bioinformatics/btp352</td>\n",
       "      <td>2009</td>\n",
       "      <td>oxford bioinformatics</td>\n",
       "      <td>9753</td>\n",
       "      <td>Omics &gt; Genomics &gt; Proteomics</td>\n",
       "      <td>https://academic.oup.com/bioinformatics/articl...</td>\n",
       "      <td>8.0</td>\n",
       "      <td>male</td>\n",
       "    </tr>\n",
       "  </tbody>\n",
       "</table>\n",
       "</div>"
      ],
      "text/plain": [
       "          id                                           title  \\\n",
       "34840  34841  The Sequence Alignment/Map format and SAMtools   \n",
       "\n",
       "                                 DOI  year                 source  citations  \\\n",
       "34840  10.1093/bioinformatics/btp352  2009  oxford bioinformatics       9753   \n",
       "\n",
       "                        edamCategory  \\\n",
       "34840  Omics > Genomics > Proteomics   \n",
       "\n",
       "                                                    link  authors  \\\n",
       "34840  https://academic.oup.com/bioinformatics/articl...      8.0   \n",
       "\n",
       "      gender_last_author  \n",
       "34840               male  "
      ]
     },
     "execution_count": 276,
     "metadata": {},
     "output_type": "execute_result"
    }
   ],
   "source": [
    "papers[papers['citations']==max(papers['citations'])].head()"
   ]
  },
  {
   "cell_type": "markdown",
   "metadata": {},
   "source": [
    "### Average citations over years"
   ]
  },
  {
   "cell_type": "code",
   "execution_count": 277,
   "metadata": {},
   "outputs": [],
   "source": [
    "avg_citations_by_year = papers.groupby('year').mean()['citations']"
   ]
  },
  {
   "cell_type": "code",
   "execution_count": 278,
   "metadata": {},
   "outputs": [
    {
     "data": {
      "text/plain": [
       "<matplotlib.axes._subplots.AxesSubplot at 0x7efe17fec160>"
      ]
     },
     "execution_count": 278,
     "metadata": {},
     "output_type": "execute_result"
    },
    {
     "data": {
      "image/png": "[encoded data removed]",
      "text/plain": [
       "<Figure size 720x432 with 1 Axes>"
      ]
     },
     "metadata": {
      "needs_background": "light"
     },
     "output_type": "display_data"
    }
   ],
   "source": [
    "plt.figure(figsize=(10,6))\n",
    "avg_citations_by_year.plot(lw=5)"
   ]
  },
  {
   "cell_type": "markdown",
   "metadata": {},
   "source": [
    "## Average authors over years"
   ]
  },
  {
   "cell_type": "code",
   "execution_count": 279,
   "metadata": {},
   "outputs": [
    {
     "data": {
      "text/plain": [
       "count    36842.000000\n",
       "mean         4.774659\n",
       "std          3.665950\n",
       "min          1.000000\n",
       "25%          3.000000\n",
       "50%          4.000000\n",
       "75%          6.000000\n",
       "max        130.000000\n",
       "Name: authors, dtype: float64"
      ]
     },
     "execution_count": 279,
     "metadata": {},
     "output_type": "execute_result"
    }
   ],
   "source": [
    "papers['authors'].describe()"
   ]
  },
  {
   "cell_type": "markdown",
   "metadata": {},
   "source": [
    "### Paper with max number of authors"
   ]
  },
  {
   "cell_type": "code",
   "execution_count": 280,
   "metadata": {},
   "outputs": [
    {
     "data": {
      "text/html": [
       "<div>\n",
       "<style scoped>\n",
       "    .dataframe tbody tr th:only-of-type {\n",
       "        vertical-align: middle;\n",
       "    }\n",
       "\n",
       "    .dataframe tbody tr th {\n",
       "        vertical-align: top;\n",
       "    }\n",
       "\n",
       "    .dataframe thead th {\n",
       "        text-align: right;\n",
       "    }\n",
       "</style>\n",
       "<table border=\"1\" class=\"dataframe\">\n",
       "  <thead>\n",
       "    <tr style=\"text-align: right;\">\n",
       "      <th></th>\n",
       "      <th>id</th>\n",
       "      <th>title</th>\n",
       "      <th>DOI</th>\n",
       "      <th>year</th>\n",
       "      <th>source</th>\n",
       "      <th>citations</th>\n",
       "      <th>edamCategory</th>\n",
       "      <th>link</th>\n",
       "      <th>authors</th>\n",
       "      <th>gender_last_author</th>\n",
       "    </tr>\n",
       "  </thead>\n",
       "  <tbody>\n",
       "    <tr>\n",
       "      <th>19896</th>\n",
       "      <td>19897</td>\n",
       "      <td>The H-Invitational Database (H-InvDB), a compr...</td>\n",
       "      <td>10.1093/nar/gkm999</td>\n",
       "      <td>2008</td>\n",
       "      <td>nucleic acids research</td>\n",
       "      <td>54</td>\n",
       "      <td>Computational Biology &gt; Sequence analysis</td>\n",
       "      <td>https://academic.oup.com/nar/article/36/suppl_...</td>\n",
       "      <td>130.0</td>\n",
       "      <td>male</td>\n",
       "    </tr>\n",
       "  </tbody>\n",
       "</table>\n",
       "</div>"
      ],
      "text/plain": [
       "          id                                              title  \\\n",
       "19896  19897  The H-Invitational Database (H-InvDB), a compr...   \n",
       "\n",
       "                      DOI  year                  source  citations  \\\n",
       "19896  10.1093/nar/gkm999  2008  nucleic acids research         54   \n",
       "\n",
       "                                    edamCategory  \\\n",
       "19896  Computational Biology > Sequence analysis   \n",
       "\n",
       "                                                    link  authors  \\\n",
       "19896  https://academic.oup.com/nar/article/36/suppl_...    130.0   \n",
       "\n",
       "      gender_last_author  \n",
       "19896               male  "
      ]
     },
     "execution_count": 280,
     "metadata": {},
     "output_type": "execute_result"
    }
   ],
   "source": [
    "papers[papers['authors']==max(papers['authors'])].head()"
   ]
  },
  {
   "cell_type": "markdown",
   "metadata": {},
   "source": [
    "### Average number of authors over years"
   ]
  },
  {
   "cell_type": "code",
   "execution_count": 281,
   "metadata": {},
   "outputs": [],
   "source": [
    "avg_authors_by_year = papers.groupby('year').mean()['authors']"
   ]
  },
  {
   "cell_type": "code",
   "execution_count": 282,
   "metadata": {},
   "outputs": [
    {
     "data": {
      "text/plain": [
       "<matplotlib.axes._subplots.AxesSubplot at 0x7efe19de1b00>"
      ]
     },
     "execution_count": 282,
     "metadata": {},
     "output_type": "execute_result"
    },
    {
     "data": {
      "image/png": "[encoded data removed]",
      "text/plain": [
       "<Figure size 720x432 with 1 Axes>"
      ]
     },
     "metadata": {
      "needs_background": "light"
     },
     "output_type": "display_data"
    }
   ],
   "source": [
    "plt.figure(figsize=(10,6))\n",
    "avg_authors_by_year.plot(lw=5)"
   ]
  },
  {
   "cell_type": "markdown",
   "metadata": {},
   "source": [
    "## Categories"
   ]
  },
  {
   "cell_type": "code",
   "execution_count": 283,
   "metadata": {},
   "outputs": [],
   "source": [
    "row_categories = papers['edamCategory']\n",
    "categories = []\n",
    "for row_category in row_categories:\n",
    "    for category in row_category.split('>'):\n",
    "        clean_category = category.strip()\n",
    "        exists_category_dict = False\n",
    "        for category_dict in categories:\n",
    "            if category_dict['category_name'] == clean_category:\n",
    "                category_dict['count'] += 1\n",
    "                exists_category_dict = True\n",
    "                break\n",
    "        if not exists_category_dict:\n",
    "            categories.append(\n",
    "                {\n",
    "                    'category_name': clean_category,\n",
    "                    'count': 1\n",
    "                }\n",
    "            )"
   ]
  },
  {
   "cell_type": "code",
   "execution_count": 284,
   "metadata": {},
   "outputs": [
    {
     "name": "stdout",
     "output_type": "stream",
     "text": [
      "There are 18 categories\n"
     ]
    },
    {
     "data": {
      "text/html": [
       "<div>\n",
       "<style scoped>\n",
       "    .dataframe tbody tr th:only-of-type {\n",
       "        vertical-align: middle;\n",
       "    }\n",
       "\n",
       "    .dataframe tbody tr th {\n",
       "        vertical-align: top;\n",
       "    }\n",
       "\n",
       "    .dataframe thead th {\n",
       "        text-align: right;\n",
       "    }\n",
       "</style>\n",
       "<table border=\"1\" class=\"dataframe\">\n",
       "  <thead>\n",
       "    <tr style=\"text-align: right;\">\n",
       "      <th></th>\n",
       "      <th>category_name</th>\n",
       "      <th>count</th>\n",
       "    </tr>\n",
       "  </thead>\n",
       "  <tbody>\n",
       "    <tr>\n",
       "      <th>3</th>\n",
       "      <td>Computational Biology</td>\n",
       "      <td>23329</td>\n",
       "    </tr>\n",
       "    <tr>\n",
       "      <th>0</th>\n",
       "      <td>Omics</td>\n",
       "      <td>12079</td>\n",
       "    </tr>\n",
       "    <tr>\n",
       "      <th>1</th>\n",
       "      <td>Genomics</td>\n",
       "      <td>12079</td>\n",
       "    </tr>\n",
       "    <tr>\n",
       "      <th>7</th>\n",
       "      <td>Nucleic acids</td>\n",
       "      <td>6389</td>\n",
       "    </tr>\n",
       "    <tr>\n",
       "      <th>6</th>\n",
       "      <td>Functional genomics</td>\n",
       "      <td>5102</td>\n",
       "    </tr>\n",
       "  </tbody>\n",
       "</table>\n",
       "</div>"
      ],
      "text/plain": [
       "           category_name  count\n",
       "3  Computational Biology  23329\n",
       "0                  Omics  12079\n",
       "1               Genomics  12079\n",
       "7          Nucleic acids   6389\n",
       "6    Functional genomics   5102"
      ]
     },
     "execution_count": 284,
     "metadata": {},
     "output_type": "execute_result"
    }
   ],
   "source": [
    "categories_df = pd.DataFrame(categories)\n",
    "total_categories = categories_df.shape[0]\n",
    "print(\"There are \" + str(total_categories) + \" categories\")\n",
    "categories_df.sort_values('count', inplace=True, ascending=False)\n",
    "categories_df.head()"
   ]
  },
  {
   "cell_type": "code",
   "execution_count": 285,
   "metadata": {},
   "outputs": [
    {
     "data": {
      "image/png": "[encoded data removed]",
      "text/plain": [
       "<Figure size 432x288 with 1 Axes>"
      ]
     },
     "metadata": {
      "needs_background": "light"
     },
     "output_type": "display_data"
    }
   ],
   "source": [
    "categories_df.plot.bar(x='category_name', y='count')\n",
    "plt.xticks(rotation=90)\n",
    "plt.xlabel(\"Category\")\n",
    "plt.ylabel(\"Count\")\n",
    "plt.show()"
   ]
  },
  {
   "cell_type": "markdown",
   "metadata": {},
   "source": [
    "## Source"
   ]
  },
  {
   "cell_type": "code",
   "execution_count": 286,
   "metadata": {},
   "outputs": [],
   "source": [
    "papers_by_source = papers.groupby('source').size().sort_values(ascending=False)"
   ]
  },
  {
   "cell_type": "code",
   "execution_count": 287,
   "metadata": {},
   "outputs": [
    {
     "data": {
      "text/plain": [
       "<matplotlib.axes._subplots.AxesSubplot at 0x7efe18177710>"
      ]
     },
     "execution_count": 287,
     "metadata": {},
     "output_type": "execute_result"
    },
    {
     "data": {
      "image/png": "[encoded data removed]",
      "text/plain": [
       "<Figure size 720x432 with 1 Axes>"
      ]
     },
     "metadata": {
      "needs_background": "light"
     },
     "output_type": "display_data"
    }
   ],
   "source": [
    "plt.figure(figsize=(10,6))\n",
    "papers_by_source.plot(kind='bar')"
   ]
  },
  {
   "cell_type": "markdown",
   "metadata": {},
   "source": [
    "# Authors"
   ]
  },
  {
   "cell_type": "code",
   "execution_count": 288,
   "metadata": {},
   "outputs": [
    {
     "name": "stdout",
     "output_type": "stream",
     "text": [
      "Total authors: 100791\n"
     ]
    }
   ],
   "source": [
    "print(\"Total authors: \" + str(authors.shape[0]))"
   ]
  },
  {
   "cell_type": "markdown",
   "metadata": {},
   "source": [
    "## Data structure"
   ]
  },
  {
   "cell_type": "code",
   "execution_count": 289,
   "metadata": {},
   "outputs": [
    {
     "data": {
      "text/html": [
       "<div>\n",
       "<style scoped>\n",
       "    .dataframe tbody tr th:only-of-type {\n",
       "        vertical-align: middle;\n",
       "    }\n",
       "\n",
       "    .dataframe tbody tr th {\n",
       "        vertical-align: top;\n",
       "    }\n",
       "\n",
       "    .dataframe thead th {\n",
       "        text-align: right;\n",
       "    }\n",
       "</style>\n",
       "<table border=\"1\" class=\"dataframe\">\n",
       "  <thead>\n",
       "    <tr style=\"text-align: right;\">\n",
       "      <th></th>\n",
       "      <th>id</th>\n",
       "      <th>name</th>\n",
       "      <th>gender</th>\n",
       "      <th>papers</th>\n",
       "      <th>total_citations</th>\n",
       "      <th>papers_as_first_author</th>\n",
       "      <th>papers_as_last_author</th>\n",
       "      <th>papers_with_citations</th>\n",
       "    </tr>\n",
       "  </thead>\n",
       "  <tbody>\n",
       "    <tr>\n",
       "      <th>0</th>\n",
       "      <td>1</td>\n",
       "      <td>Amit Ghosh</td>\n",
       "      <td>male</td>\n",
       "      <td>3</td>\n",
       "      <td>21</td>\n",
       "      <td>1</td>\n",
       "      <td>0</td>\n",
       "      <td>3</td>\n",
       "    </tr>\n",
       "    <tr>\n",
       "      <th>1</th>\n",
       "      <td>2</td>\n",
       "      <td>Jerome Nilmeier</td>\n",
       "      <td>male</td>\n",
       "      <td>1</td>\n",
       "      <td>7</td>\n",
       "      <td>0</td>\n",
       "      <td>0</td>\n",
       "      <td>1</td>\n",
       "    </tr>\n",
       "    <tr>\n",
       "      <th>2</th>\n",
       "      <td>3</td>\n",
       "      <td>Paul D Adams</td>\n",
       "      <td>male</td>\n",
       "      <td>3</td>\n",
       "      <td>92</td>\n",
       "      <td>0</td>\n",
       "      <td>0</td>\n",
       "      <td>3</td>\n",
       "    </tr>\n",
       "    <tr>\n",
       "      <th>3</th>\n",
       "      <td>4</td>\n",
       "      <td>Jay D Keasling</td>\n",
       "      <td>male</td>\n",
       "      <td>10</td>\n",
       "      <td>214</td>\n",
       "      <td>0</td>\n",
       "      <td>4</td>\n",
       "      <td>10</td>\n",
       "    </tr>\n",
       "    <tr>\n",
       "      <th>4</th>\n",
       "      <td>5</td>\n",
       "      <td>Aindrila Mukhopadhyay</td>\n",
       "      <td>female</td>\n",
       "      <td>6</td>\n",
       "      <td>59</td>\n",
       "      <td>0</td>\n",
       "      <td>1</td>\n",
       "      <td>5</td>\n",
       "    </tr>\n",
       "  </tbody>\n",
       "</table>\n",
       "</div>"
      ],
      "text/plain": [
       "   id                   name  gender  papers  total_citations  \\\n",
       "0   1             Amit Ghosh    male       3               21   \n",
       "1   2        Jerome Nilmeier    male       1                7   \n",
       "2   3           Paul D Adams    male       3               92   \n",
       "3   4         Jay D Keasling    male      10              214   \n",
       "4   5  Aindrila Mukhopadhyay  female       6               59   \n",
       "\n",
       "   papers_as_first_author  papers_as_last_author  papers_with_citations  \n",
       "0                       1                      0                      3  \n",
       "1                       0                      0                      1  \n",
       "2                       0                      0                      3  \n",
       "3                       0                      4                     10  \n",
       "4                       0                      1                      5  "
      ]
     },
     "execution_count": 289,
     "metadata": {},
     "output_type": "execute_result"
    }
   ],
   "source": [
    "authors.head()"
   ]
  },
  {
   "cell_type": "markdown",
   "metadata": {},
   "source": [
    "## Gender distribution "
   ]
  },
  {
   "cell_type": "code",
   "execution_count": 291,
   "metadata": {},
   "outputs": [
    {
     "data": {
      "text/plain": [
       "gender\n",
       "male      0.653918\n",
       "female    0.346082\n",
       "dtype: float64"
      ]
     },
     "execution_count": 291,
     "metadata": {},
     "output_type": "execute_result"
    }
   ],
   "source": [
    "authors_by_gender = authors.groupby('gender').size().sort_values(ascending=False)\n",
    "per_authors_by_gender = authors_by_gender/authors.shape[0]\n",
    "per_authors_by_gender"
   ]
  },
  {
   "cell_type": "code",
   "execution_count": 292,
   "metadata": {},
   "outputs": [
    {
     "data": {
      "text/plain": [
       "gender\n",
       "male      65909\n",
       "female    34882\n",
       "dtype: int64"
      ]
     },
     "execution_count": 292,
     "metadata": {},
     "output_type": "execute_result"
    }
   ],
   "source": [
    "authors_by_gender"
   ]
  },
  {
   "cell_type": "code",
   "execution_count": 293,
   "metadata": {},
   "outputs": [
    {
     "data": {
      "text/plain": [
       "<matplotlib.axes._subplots.AxesSubplot at 0x7efe18c373c8>"
      ]
     },
     "execution_count": 293,
     "metadata": {},
     "output_type": "execute_result"
    },
    {
     "data": {
      "image/png": "[encoded data removed]",
      "text/plain": [
       "<Figure size 432x288 with 1 Axes>"
      ]
     },
     "metadata": {
      "needs_background": "light"
     },
     "output_type": "display_data"
    }
   ],
   "source": [
    "per_authors_by_gender.plot.bar()"
   ]
  },
  {
   "cell_type": "markdown",
   "metadata": {},
   "source": [
    "## Papers"
   ]
  },
  {
   "cell_type": "markdown",
   "metadata": {},
   "source": [
    "### Citations per paper"
   ]
  },
  {
   "cell_type": "code",
   "execution_count": 294,
   "metadata": {},
   "outputs": [
    {
     "data": {
      "text/plain": [
       "count    100791.000000\n",
       "mean         68.891419\n",
       "std         282.991646\n",
       "min           0.000000\n",
       "25%           6.000000\n",
       "50%          19.000000\n",
       "75%          50.000000\n",
       "max       24962.000000\n",
       "Name: total_citations, dtype: float64"
      ]
     },
     "execution_count": 294,
     "metadata": {},
     "output_type": "execute_result"
    }
   ],
   "source": [
    "authors['total_citations'].describe()"
   ]
  },
  {
   "cell_type": "markdown",
   "metadata": {},
   "source": [
    "### Author with max number of citations"
   ]
  },
  {
   "cell_type": "code",
   "execution_count": 295,
   "metadata": {},
   "outputs": [
    {
     "data": {
      "text/html": [
       "<div>\n",
       "<style scoped>\n",
       "    .dataframe tbody tr th:only-of-type {\n",
       "        vertical-align: middle;\n",
       "    }\n",
       "\n",
       "    .dataframe tbody tr th {\n",
       "        vertical-align: top;\n",
       "    }\n",
       "\n",
       "    .dataframe thead th {\n",
       "        text-align: right;\n",
       "    }\n",
       "</style>\n",
       "<table border=\"1\" class=\"dataframe\">\n",
       "  <thead>\n",
       "    <tr style=\"text-align: right;\">\n",
       "      <th></th>\n",
       "      <th>id</th>\n",
       "      <th>name</th>\n",
       "      <th>gender</th>\n",
       "      <th>papers</th>\n",
       "      <th>total_citations</th>\n",
       "      <th>papers_as_first_author</th>\n",
       "      <th>papers_as_last_author</th>\n",
       "      <th>papers_with_citations</th>\n",
       "    </tr>\n",
       "  </thead>\n",
       "  <tbody>\n",
       "    <tr>\n",
       "      <th>7298</th>\n",
       "      <td>7299</td>\n",
       "      <td>Richard Durbin</td>\n",
       "      <td>male</td>\n",
       "      <td>21</td>\n",
       "      <td>24962</td>\n",
       "      <td>1</td>\n",
       "      <td>12</td>\n",
       "      <td>20</td>\n",
       "    </tr>\n",
       "  </tbody>\n",
       "</table>\n",
       "</div>"
      ],
      "text/plain": [
       "        id            name gender  papers  total_citations  \\\n",
       "7298  7299  Richard Durbin   male      21            24962   \n",
       "\n",
       "      papers_as_first_author  papers_as_last_author  papers_with_citations  \n",
       "7298                       1                     12                     20  "
      ]
     },
     "execution_count": 295,
     "metadata": {},
     "output_type": "execute_result"
    }
   ],
   "source": [
    "authors[authors['total_citations']==max(authors['total_citations'])]"
   ]
  },
  {
   "cell_type": "markdown",
   "metadata": {},
   "source": [
    "### Top-10 Most cited authors"
   ]
  },
  {
   "cell_type": "code",
   "execution_count": 296,
   "metadata": {},
   "outputs": [
    {
     "data": {
      "text/html": [
       "<div>\n",
       "<style scoped>\n",
       "    .dataframe tbody tr th:only-of-type {\n",
       "        vertical-align: middle;\n",
       "    }\n",
       "\n",
       "    .dataframe tbody tr th {\n",
       "        vertical-align: top;\n",
       "    }\n",
       "\n",
       "    .dataframe thead th {\n",
       "        text-align: right;\n",
       "    }\n",
       "</style>\n",
       "<table border=\"1\" class=\"dataframe\">\n",
       "  <thead>\n",
       "    <tr style=\"text-align: right;\">\n",
       "      <th></th>\n",
       "      <th>name</th>\n",
       "      <th>gender</th>\n",
       "      <th>total_citations</th>\n",
       "    </tr>\n",
       "  </thead>\n",
       "  <tbody>\n",
       "    <tr>\n",
       "      <th>7298</th>\n",
       "      <td>Richard Durbin</td>\n",
       "      <td>male</td>\n",
       "      <td>24962</td>\n",
       "    </tr>\n",
       "    <tr>\n",
       "      <th>119245</th>\n",
       "      <td>Goncalo R Abecasis</td>\n",
       "      <td>male</td>\n",
       "      <td>22031</td>\n",
       "    </tr>\n",
       "    <tr>\n",
       "      <th>16979</th>\n",
       "      <td>Alexandros Stamatakis</td>\n",
       "      <td>male</td>\n",
       "      <td>12752</td>\n",
       "    </tr>\n",
       "    <tr>\n",
       "      <th>3204</th>\n",
       "      <td>Peer Bork</td>\n",
       "      <td>male</td>\n",
       "      <td>12624</td>\n",
       "    </tr>\n",
       "    <tr>\n",
       "      <th>25815</th>\n",
       "      <td>Minoru Kanehisa</td>\n",
       "      <td>male</td>\n",
       "      <td>10150</td>\n",
       "    </tr>\n",
       "    <tr>\n",
       "      <th>51102</th>\n",
       "      <td>Jue Ruan</td>\n",
       "      <td>female</td>\n",
       "      <td>9984</td>\n",
       "    </tr>\n",
       "    <tr>\n",
       "      <th>21503</th>\n",
       "      <td>Nils Homer</td>\n",
       "      <td>male</td>\n",
       "      <td>9827</td>\n",
       "    </tr>\n",
       "    <tr>\n",
       "      <th>113603</th>\n",
       "      <td>Tim Fennell</td>\n",
       "      <td>male</td>\n",
       "      <td>9821</td>\n",
       "    </tr>\n",
       "    <tr>\n",
       "      <th>33544</th>\n",
       "      <td>Gabor Marth</td>\n",
       "      <td>male</td>\n",
       "      <td>9782</td>\n",
       "    </tr>\n",
       "    <tr>\n",
       "      <th>115239</th>\n",
       "      <td>Alec Wysoker</td>\n",
       "      <td>male</td>\n",
       "      <td>9753</td>\n",
       "    </tr>\n",
       "  </tbody>\n",
       "</table>\n",
       "</div>"
      ],
      "text/plain": [
       "                         name  gender  total_citations\n",
       "7298           Richard Durbin    male            24962\n",
       "119245     Goncalo R Abecasis    male            22031\n",
       "16979   Alexandros Stamatakis    male            12752\n",
       "3204                Peer Bork    male            12624\n",
       "25815         Minoru Kanehisa    male            10150\n",
       "51102                Jue Ruan  female             9984\n",
       "21503              Nils Homer    male             9827\n",
       "113603            Tim Fennell    male             9821\n",
       "33544             Gabor Marth    male             9782\n",
       "115239           Alec Wysoker    male             9753"
      ]
     },
     "execution_count": 296,
     "metadata": {},
     "output_type": "execute_result"
    }
   ],
   "source": [
    "authors.sort_values('total_citations', inplace=True, ascending=False)\n",
    "authors[['name','gender','total_citations']].head(10)"
   ]
  },
  {
   "cell_type": "markdown",
   "metadata": {},
   "source": [
    "#### Top-10 most cited female authors"
   ]
  },
  {
   "cell_type": "code",
   "execution_count": 297,
   "metadata": {},
   "outputs": [
    {
     "data": {
      "text/html": [
       "<div>\n",
       "<style scoped>\n",
       "    .dataframe tbody tr th:only-of-type {\n",
       "        vertical-align: middle;\n",
       "    }\n",
       "\n",
       "    .dataframe tbody tr th {\n",
       "        vertical-align: top;\n",
       "    }\n",
       "\n",
       "    .dataframe thead th {\n",
       "        text-align: right;\n",
       "    }\n",
       "</style>\n",
       "<table border=\"1\" class=\"dataframe\">\n",
       "  <thead>\n",
       "    <tr style=\"text-align: right;\">\n",
       "      <th></th>\n",
       "      <th>name</th>\n",
       "      <th>gender</th>\n",
       "      <th>total_citations</th>\n",
       "    </tr>\n",
       "  </thead>\n",
       "  <tbody>\n",
       "    <tr>\n",
       "      <th>51102</th>\n",
       "      <td>Jue Ruan</td>\n",
       "      <td>female</td>\n",
       "      <td>9984</td>\n",
       "    </tr>\n",
       "    <tr>\n",
       "      <th>76793</th>\n",
       "      <td>Miho Furumichi</td>\n",
       "      <td>female</td>\n",
       "      <td>5232</td>\n",
       "    </tr>\n",
       "    <tr>\n",
       "      <th>76794</th>\n",
       "      <td>Mao Tanabe</td>\n",
       "      <td>female</td>\n",
       "      <td>5232</td>\n",
       "    </tr>\n",
       "    <tr>\n",
       "      <th>21794</th>\n",
       "      <td>Fiona Cunningham</td>\n",
       "      <td>female</td>\n",
       "      <td>4685</td>\n",
       "    </tr>\n",
       "    <tr>\n",
       "      <th>84281</th>\n",
       "      <td>Narmada Thanki</td>\n",
       "      <td>female</td>\n",
       "      <td>4501</td>\n",
       "    </tr>\n",
       "    <tr>\n",
       "      <th>84270</th>\n",
       "      <td>Myra K Derbyshire</td>\n",
       "      <td>female</td>\n",
       "      <td>4446</td>\n",
       "    </tr>\n",
       "    <tr>\n",
       "      <th>84282</th>\n",
       "      <td>Roxanne A Yamashita</td>\n",
       "      <td>female</td>\n",
       "      <td>4446</td>\n",
       "    </tr>\n",
       "    <tr>\n",
       "      <th>84278</th>\n",
       "      <td>Gabriele H Marchler</td>\n",
       "      <td>female</td>\n",
       "      <td>4446</td>\n",
       "    </tr>\n",
       "    <tr>\n",
       "      <th>84272</th>\n",
       "      <td>Noreen R Gonzales</td>\n",
       "      <td>female</td>\n",
       "      <td>4446</td>\n",
       "    </tr>\n",
       "    <tr>\n",
       "      <th>72241</th>\n",
       "      <td>Donna R Maglott</td>\n",
       "      <td>female</td>\n",
       "      <td>4408</td>\n",
       "    </tr>\n",
       "  </tbody>\n",
       "</table>\n",
       "</div>"
      ],
      "text/plain": [
       "                      name  gender  total_citations\n",
       "51102             Jue Ruan  female             9984\n",
       "76793       Miho Furumichi  female             5232\n",
       "76794           Mao Tanabe  female             5232\n",
       "21794     Fiona Cunningham  female             4685\n",
       "84281       Narmada Thanki  female             4501\n",
       "84270    Myra K Derbyshire  female             4446\n",
       "84282  Roxanne A Yamashita  female             4446\n",
       "84278  Gabriele H Marchler  female             4446\n",
       "84272    Noreen R Gonzales  female             4446\n",
       "72241      Donna R Maglott  female             4408"
      ]
     },
     "execution_count": 297,
     "metadata": {},
     "output_type": "execute_result"
    }
   ],
   "source": [
    "authors.sort_values('total_citations', inplace=True, ascending=False)\n",
    "authors[authors['gender']=='female'][['name','gender','total_citations']].head(10)"
   ]
  },
  {
   "cell_type": "markdown",
   "metadata": {},
   "source": [
    "### Papers per author"
   ]
  },
  {
   "cell_type": "code",
   "execution_count": 298,
   "metadata": {},
   "outputs": [
    {
     "data": {
      "text/plain": [
       "count    100791.000000\n",
       "mean          1.744203\n",
       "std           2.037502\n",
       "min           1.000000\n",
       "25%           1.000000\n",
       "50%           1.000000\n",
       "75%           2.000000\n",
       "max          69.000000\n",
       "Name: papers, dtype: float64"
      ]
     },
     "execution_count": 298,
     "metadata": {},
     "output_type": "execute_result"
    }
   ],
   "source": [
    "authors['papers'].describe()"
   ]
  },
  {
   "cell_type": "markdown",
   "metadata": {},
   "source": [
    "### Top-10 Most productive author"
   ]
  },
  {
   "cell_type": "code",
   "execution_count": 299,
   "metadata": {},
   "outputs": [
    {
     "data": {
      "text/html": [
       "<div>\n",
       "<style scoped>\n",
       "    .dataframe tbody tr th:only-of-type {\n",
       "        vertical-align: middle;\n",
       "    }\n",
       "\n",
       "    .dataframe tbody tr th {\n",
       "        vertical-align: top;\n",
       "    }\n",
       "\n",
       "    .dataframe thead th {\n",
       "        text-align: right;\n",
       "    }\n",
       "</style>\n",
       "<table border=\"1\" class=\"dataframe\">\n",
       "  <thead>\n",
       "    <tr style=\"text-align: right;\">\n",
       "      <th></th>\n",
       "      <th>name</th>\n",
       "      <th>gender</th>\n",
       "      <th>papers</th>\n",
       "    </tr>\n",
       "  </thead>\n",
       "  <tbody>\n",
       "    <tr>\n",
       "      <th>3213</th>\n",
       "      <td>Janusz M Bujnicki</td>\n",
       "      <td>male</td>\n",
       "      <td>69</td>\n",
       "    </tr>\n",
       "    <tr>\n",
       "      <th>7970</th>\n",
       "      <td>Peter F Stadler</td>\n",
       "      <td>male</td>\n",
       "      <td>69</td>\n",
       "    </tr>\n",
       "    <tr>\n",
       "      <th>3204</th>\n",
       "      <td>Peer Bork</td>\n",
       "      <td>male</td>\n",
       "      <td>53</td>\n",
       "    </tr>\n",
       "    <tr>\n",
       "      <th>4050</th>\n",
       "      <td>Alfonso Valencia</td>\n",
       "      <td>male</td>\n",
       "      <td>51</td>\n",
       "    </tr>\n",
       "    <tr>\n",
       "      <th>1923</th>\n",
       "      <td>Jun Wang</td>\n",
       "      <td>male</td>\n",
       "      <td>48</td>\n",
       "    </tr>\n",
       "    <tr>\n",
       "      <th>265</th>\n",
       "      <td>Philip E Bourne</td>\n",
       "      <td>male</td>\n",
       "      <td>48</td>\n",
       "    </tr>\n",
       "    <tr>\n",
       "      <th>3380</th>\n",
       "      <td>Mark Gerstein</td>\n",
       "      <td>male</td>\n",
       "      <td>46</td>\n",
       "    </tr>\n",
       "    <tr>\n",
       "      <th>3087</th>\n",
       "      <td>Yan Zhang</td>\n",
       "      <td>male</td>\n",
       "      <td>45</td>\n",
       "    </tr>\n",
       "    <tr>\n",
       "      <th>67606</th>\n",
       "      <td>Christine Anne Orengo</td>\n",
       "      <td>female</td>\n",
       "      <td>44</td>\n",
       "    </tr>\n",
       "    <tr>\n",
       "      <th>9368</th>\n",
       "      <td>Rolf Backofen</td>\n",
       "      <td>male</td>\n",
       "      <td>41</td>\n",
       "    </tr>\n",
       "  </tbody>\n",
       "</table>\n",
       "</div>"
      ],
      "text/plain": [
       "                        name  gender  papers\n",
       "3213       Janusz M Bujnicki    male      69\n",
       "7970         Peter F Stadler    male      69\n",
       "3204               Peer Bork    male      53\n",
       "4050        Alfonso Valencia    male      51\n",
       "1923                Jun Wang    male      48\n",
       "265          Philip E Bourne    male      48\n",
       "3380           Mark Gerstein    male      46\n",
       "3087               Yan Zhang    male      45\n",
       "67606  Christine Anne Orengo  female      44\n",
       "9368           Rolf Backofen    male      41"
      ]
     },
     "execution_count": 299,
     "metadata": {},
     "output_type": "execute_result"
    }
   ],
   "source": [
    "authors.sort_values('papers', inplace=True, ascending=False)\n",
    "authors[['name','gender','papers']].head(10)"
   ]
  },
  {
   "cell_type": "markdown",
   "metadata": {},
   "source": [
    "#### Top-10 most productive female authors"
   ]
  },
  {
   "cell_type": "code",
   "execution_count": 300,
   "metadata": {},
   "outputs": [
    {
     "data": {
      "text/html": [
       "<div>\n",
       "<style scoped>\n",
       "    .dataframe tbody tr th:only-of-type {\n",
       "        vertical-align: middle;\n",
       "    }\n",
       "\n",
       "    .dataframe tbody tr th {\n",
       "        vertical-align: top;\n",
       "    }\n",
       "\n",
       "    .dataframe thead th {\n",
       "        text-align: right;\n",
       "    }\n",
       "</style>\n",
       "<table border=\"1\" class=\"dataframe\">\n",
       "  <thead>\n",
       "    <tr style=\"text-align: right;\">\n",
       "      <th></th>\n",
       "      <th>name</th>\n",
       "      <th>gender</th>\n",
       "      <th>papers</th>\n",
       "    </tr>\n",
       "  </thead>\n",
       "  <tbody>\n",
       "    <tr>\n",
       "      <th>67606</th>\n",
       "      <td>Christine Anne Orengo</td>\n",
       "      <td>female</td>\n",
       "      <td>44</td>\n",
       "    </tr>\n",
       "    <tr>\n",
       "      <th>763</th>\n",
       "      <td>Olga G Troyanskaya</td>\n",
       "      <td>female</td>\n",
       "      <td>35</td>\n",
       "    </tr>\n",
       "    <tr>\n",
       "      <th>17171</th>\n",
       "      <td>Rita Casadio</td>\n",
       "      <td>female</td>\n",
       "      <td>34</td>\n",
       "    </tr>\n",
       "    <tr>\n",
       "      <th>1829</th>\n",
       "      <td>Luonan Chen</td>\n",
       "      <td>female</td>\n",
       "      <td>32</td>\n",
       "    </tr>\n",
       "    <tr>\n",
       "      <th>62</th>\n",
       "      <td>Jin Wang</td>\n",
       "      <td>female</td>\n",
       "      <td>30</td>\n",
       "    </tr>\n",
       "    <tr>\n",
       "      <th>17135</th>\n",
       "      <td>Sophia Ananiadou</td>\n",
       "      <td>female</td>\n",
       "      <td>29</td>\n",
       "    </tr>\n",
       "    <tr>\n",
       "      <th>107</th>\n",
       "      <td>Ruth Nussinov</td>\n",
       "      <td>female</td>\n",
       "      <td>29</td>\n",
       "    </tr>\n",
       "    <tr>\n",
       "      <th>17500</th>\n",
       "      <td>Lin Liu</td>\n",
       "      <td>female</td>\n",
       "      <td>28</td>\n",
       "    </tr>\n",
       "    <tr>\n",
       "      <th>2421</th>\n",
       "      <td>Shoba Ranganathan</td>\n",
       "      <td>female</td>\n",
       "      <td>28</td>\n",
       "    </tr>\n",
       "    <tr>\n",
       "      <th>13405</th>\n",
       "      <td>Cathy H Wu</td>\n",
       "      <td>female</td>\n",
       "      <td>26</td>\n",
       "    </tr>\n",
       "  </tbody>\n",
       "</table>\n",
       "</div>"
      ],
      "text/plain": [
       "                        name  gender  papers\n",
       "67606  Christine Anne Orengo  female      44\n",
       "763       Olga G Troyanskaya  female      35\n",
       "17171           Rita Casadio  female      34\n",
       "1829             Luonan Chen  female      32\n",
       "62                  Jin Wang  female      30\n",
       "17135       Sophia Ananiadou  female      29\n",
       "107            Ruth Nussinov  female      29\n",
       "17500                Lin Liu  female      28\n",
       "2421       Shoba Ranganathan  female      28\n",
       "13405             Cathy H Wu  female      26"
      ]
     },
     "execution_count": 300,
     "metadata": {},
     "output_type": "execute_result"
    }
   ],
   "source": [
    "authors.sort_values('papers', inplace=True, ascending=False)\n",
    "authors[authors['gender']=='female'][['name','gender','papers']].head(10)"
   ]
  },
  {
   "cell_type": "markdown",
   "metadata": {},
   "source": [
    "### Papers as first author"
   ]
  },
  {
   "cell_type": "code",
   "execution_count": 301,
   "metadata": {},
   "outputs": [
    {
     "data": {
      "text/plain": [
       "count    100791.000000\n",
       "mean          0.307051\n",
       "std           0.637747\n",
       "min           0.000000\n",
       "25%           0.000000\n",
       "50%           0.000000\n",
       "75%           0.000000\n",
       "max          13.000000\n",
       "Name: papers_as_first_author, dtype: float64"
      ]
     },
     "execution_count": 301,
     "metadata": {},
     "output_type": "execute_result"
    }
   ],
   "source": [
    "authors['papers_as_first_author'].describe()"
   ]
  },
  {
   "cell_type": "markdown",
   "metadata": {},
   "source": [
    "### Top-10 authors that appeared as first author"
   ]
  },
  {
   "cell_type": "code",
   "execution_count": 302,
   "metadata": {},
   "outputs": [
    {
     "data": {
      "text/html": [
       "<div>\n",
       "<style scoped>\n",
       "    .dataframe tbody tr th:only-of-type {\n",
       "        vertical-align: middle;\n",
       "    }\n",
       "\n",
       "    .dataframe tbody tr th {\n",
       "        vertical-align: top;\n",
       "    }\n",
       "\n",
       "    .dataframe thead th {\n",
       "        text-align: right;\n",
       "    }\n",
       "</style>\n",
       "<table border=\"1\" class=\"dataframe\">\n",
       "  <thead>\n",
       "    <tr style=\"text-align: right;\">\n",
       "      <th></th>\n",
       "      <th>name</th>\n",
       "      <th>gender</th>\n",
       "      <th>papers</th>\n",
       "      <th>papers_as_first_author</th>\n",
       "    </tr>\n",
       "  </thead>\n",
       "  <tbody>\n",
       "    <tr>\n",
       "      <th>8645</th>\n",
       "      <td>Kai Wang</td>\n",
       "      <td>male</td>\n",
       "      <td>32</td>\n",
       "      <td>13</td>\n",
       "    </tr>\n",
       "    <tr>\n",
       "      <th>18426</th>\n",
       "      <td>Shuangge Ma</td>\n",
       "      <td>female</td>\n",
       "      <td>17</td>\n",
       "      <td>12</td>\n",
       "    </tr>\n",
       "    <tr>\n",
       "      <th>10750</th>\n",
       "      <td>Robert Hoehndorf</td>\n",
       "      <td>male</td>\n",
       "      <td>16</td>\n",
       "      <td>11</td>\n",
       "    </tr>\n",
       "    <tr>\n",
       "      <th>3087</th>\n",
       "      <td>Yan Zhang</td>\n",
       "      <td>male</td>\n",
       "      <td>45</td>\n",
       "      <td>10</td>\n",
       "    </tr>\n",
       "    <tr>\n",
       "      <th>19360</th>\n",
       "      <td>Stephen Winters-Hilt</td>\n",
       "      <td>male</td>\n",
       "      <td>17</td>\n",
       "      <td>10</td>\n",
       "    </tr>\n",
       "    <tr>\n",
       "      <th>15633</th>\n",
       "      <td>Richard Tzong-Han Tsai</td>\n",
       "      <td>male</td>\n",
       "      <td>11</td>\n",
       "      <td>9</td>\n",
       "    </tr>\n",
       "    <tr>\n",
       "      <th>17794</th>\n",
       "      <td>Castrense Savojardo</td>\n",
       "      <td>male</td>\n",
       "      <td>12</td>\n",
       "      <td>9</td>\n",
       "    </tr>\n",
       "    <tr>\n",
       "      <th>18876</th>\n",
       "      <td>Christina Backes</td>\n",
       "      <td>female</td>\n",
       "      <td>22</td>\n",
       "      <td>9</td>\n",
       "    </tr>\n",
       "    <tr>\n",
       "      <th>9282</th>\n",
       "      <td>Andrey A Ptitsyn</td>\n",
       "      <td>male</td>\n",
       "      <td>10</td>\n",
       "      <td>9</td>\n",
       "    </tr>\n",
       "    <tr>\n",
       "      <th>3201</th>\n",
       "      <td>Wei-Hua Chen</td>\n",
       "      <td>female</td>\n",
       "      <td>10</td>\n",
       "      <td>8</td>\n",
       "    </tr>\n",
       "  </tbody>\n",
       "</table>\n",
       "</div>"
      ],
      "text/plain": [
       "                         name  gender  papers  papers_as_first_author\n",
       "8645                 Kai Wang    male      32                      13\n",
       "18426             Shuangge Ma  female      17                      12\n",
       "10750        Robert Hoehndorf    male      16                      11\n",
       "3087                Yan Zhang    male      45                      10\n",
       "19360    Stephen Winters-Hilt    male      17                      10\n",
       "15633  Richard Tzong-Han Tsai    male      11                       9\n",
       "17794     Castrense Savojardo    male      12                       9\n",
       "18876        Christina Backes  female      22                       9\n",
       "9282         Andrey A Ptitsyn    male      10                       9\n",
       "3201             Wei-Hua Chen  female      10                       8"
      ]
     },
     "execution_count": 302,
     "metadata": {},
     "output_type": "execute_result"
    }
   ],
   "source": [
    "authors.sort_values('papers_as_first_author', inplace=True, ascending=False)\n",
    "authors[['name','gender','papers','papers_as_first_author']].head(10)"
   ]
  },
  {
   "cell_type": "markdown",
   "metadata": {},
   "source": [
    "#### Top-10 female authors that appeared as first author"
   ]
  },
  {
   "cell_type": "code",
   "execution_count": 303,
   "metadata": {},
   "outputs": [
    {
     "data": {
      "text/html": [
       "<div>\n",
       "<style scoped>\n",
       "    .dataframe tbody tr th:only-of-type {\n",
       "        vertical-align: middle;\n",
       "    }\n",
       "\n",
       "    .dataframe tbody tr th {\n",
       "        vertical-align: top;\n",
       "    }\n",
       "\n",
       "    .dataframe thead th {\n",
       "        text-align: right;\n",
       "    }\n",
       "</style>\n",
       "<table border=\"1\" class=\"dataframe\">\n",
       "  <thead>\n",
       "    <tr style=\"text-align: right;\">\n",
       "      <th></th>\n",
       "      <th>name</th>\n",
       "      <th>gender</th>\n",
       "      <th>papers</th>\n",
       "      <th>papers_as_first_author</th>\n",
       "    </tr>\n",
       "  </thead>\n",
       "  <tbody>\n",
       "    <tr>\n",
       "      <th>18426</th>\n",
       "      <td>Shuangge Ma</td>\n",
       "      <td>female</td>\n",
       "      <td>17</td>\n",
       "      <td>12</td>\n",
       "    </tr>\n",
       "    <tr>\n",
       "      <th>18876</th>\n",
       "      <td>Christina Backes</td>\n",
       "      <td>female</td>\n",
       "      <td>22</td>\n",
       "      <td>9</td>\n",
       "    </tr>\n",
       "    <tr>\n",
       "      <th>3201</th>\n",
       "      <td>Wei-Hua Chen</td>\n",
       "      <td>female</td>\n",
       "      <td>10</td>\n",
       "      <td>8</td>\n",
       "    </tr>\n",
       "    <tr>\n",
       "      <th>25946</th>\n",
       "      <td>Milana Frenkel-Morgenstern</td>\n",
       "      <td>female</td>\n",
       "      <td>8</td>\n",
       "      <td>7</td>\n",
       "    </tr>\n",
       "    <tr>\n",
       "      <th>78641</th>\n",
       "      <td>Agnieszka Kiliszek</td>\n",
       "      <td>female</td>\n",
       "      <td>7</td>\n",
       "      <td>7</td>\n",
       "    </tr>\n",
       "    <tr>\n",
       "      <th>84521</th>\n",
       "      <td>Cristina Aurrecoechea</td>\n",
       "      <td>female</td>\n",
       "      <td>9</td>\n",
       "      <td>7</td>\n",
       "    </tr>\n",
       "    <tr>\n",
       "      <th>24102</th>\n",
       "      <td>Monica Chagoyen</td>\n",
       "      <td>female</td>\n",
       "      <td>9</td>\n",
       "      <td>6</td>\n",
       "    </tr>\n",
       "    <tr>\n",
       "      <th>19405</th>\n",
       "      <td>Eva Freyhult</td>\n",
       "      <td>female</td>\n",
       "      <td>8</td>\n",
       "      <td>6</td>\n",
       "    </tr>\n",
       "    <tr>\n",
       "      <th>86019</th>\n",
       "      <td>Rachel M Smith</td>\n",
       "      <td>female</td>\n",
       "      <td>8</td>\n",
       "      <td>6</td>\n",
       "    </tr>\n",
       "    <tr>\n",
       "      <th>21533</th>\n",
       "      <td>Kaname Kojima</td>\n",
       "      <td>female</td>\n",
       "      <td>15</td>\n",
       "      <td>6</td>\n",
       "    </tr>\n",
       "  </tbody>\n",
       "</table>\n",
       "</div>"
      ],
      "text/plain": [
       "                             name  gender  papers  papers_as_first_author\n",
       "18426                 Shuangge Ma  female      17                      12\n",
       "18876            Christina Backes  female      22                       9\n",
       "3201                 Wei-Hua Chen  female      10                       8\n",
       "25946  Milana Frenkel-Morgenstern  female       8                       7\n",
       "78641          Agnieszka Kiliszek  female       7                       7\n",
       "84521       Cristina Aurrecoechea  female       9                       7\n",
       "24102             Monica Chagoyen  female       9                       6\n",
       "19405                Eva Freyhult  female       8                       6\n",
       "86019              Rachel M Smith  female       8                       6\n",
       "21533               Kaname Kojima  female      15                       6"
      ]
     },
     "execution_count": 303,
     "metadata": {},
     "output_type": "execute_result"
    }
   ],
   "source": [
    "authors.sort_values('papers_as_first_author', inplace=True, ascending=False)\n",
    "authors[authors['gender']=='female'][['name','gender','papers','papers_as_first_author']].head(10)"
   ]
  },
  {
   "cell_type": "markdown",
   "metadata": {},
   "source": [
    "### Papers as last author"
   ]
  },
  {
   "cell_type": "code",
   "execution_count": 304,
   "metadata": {},
   "outputs": [
    {
     "data": {
      "text/plain": [
       "count    100791.000000\n",
       "mean          0.319443\n",
       "std           1.166163\n",
       "min           0.000000\n",
       "25%           0.000000\n",
       "50%           0.000000\n",
       "75%           0.000000\n",
       "max          40.000000\n",
       "Name: papers_as_last_author, dtype: float64"
      ]
     },
     "execution_count": 304,
     "metadata": {},
     "output_type": "execute_result"
    }
   ],
   "source": [
    "authors['papers_as_last_author'].describe()"
   ]
  },
  {
   "cell_type": "markdown",
   "metadata": {},
   "source": [
    "### Top-10 authors that appeared as first author"
   ]
  },
  {
   "cell_type": "code",
   "execution_count": 305,
   "metadata": {},
   "outputs": [
    {
     "data": {
      "text/html": [
       "<div>\n",
       "<style scoped>\n",
       "    .dataframe tbody tr th:only-of-type {\n",
       "        vertical-align: middle;\n",
       "    }\n",
       "\n",
       "    .dataframe tbody tr th {\n",
       "        vertical-align: top;\n",
       "    }\n",
       "\n",
       "    .dataframe thead th {\n",
       "        text-align: right;\n",
       "    }\n",
       "</style>\n",
       "<table border=\"1\" class=\"dataframe\">\n",
       "  <thead>\n",
       "    <tr style=\"text-align: right;\">\n",
       "      <th></th>\n",
       "      <th>name</th>\n",
       "      <th>gender</th>\n",
       "      <th>papers</th>\n",
       "      <th>papers_as_last_author</th>\n",
       "    </tr>\n",
       "  </thead>\n",
       "  <tbody>\n",
       "    <tr>\n",
       "      <th>3380</th>\n",
       "      <td>Mark Gerstein</td>\n",
       "      <td>male</td>\n",
       "      <td>46</td>\n",
       "      <td>40</td>\n",
       "    </tr>\n",
       "    <tr>\n",
       "      <th>3213</th>\n",
       "      <td>Janusz M Bujnicki</td>\n",
       "      <td>male</td>\n",
       "      <td>69</td>\n",
       "      <td>38</td>\n",
       "    </tr>\n",
       "    <tr>\n",
       "      <th>120826</th>\n",
       "      <td>William Stafford Noble</td>\n",
       "      <td>male</td>\n",
       "      <td>40</td>\n",
       "      <td>32</td>\n",
       "    </tr>\n",
       "    <tr>\n",
       "      <th>709</th>\n",
       "      <td>Nick V Grishin</td>\n",
       "      <td>male</td>\n",
       "      <td>35</td>\n",
       "      <td>32</td>\n",
       "    </tr>\n",
       "    <tr>\n",
       "      <th>3204</th>\n",
       "      <td>Peer Bork</td>\n",
       "      <td>male</td>\n",
       "      <td>53</td>\n",
       "      <td>32</td>\n",
       "    </tr>\n",
       "    <tr>\n",
       "      <th>4116</th>\n",
       "      <td>Adam Godzik</td>\n",
       "      <td>male</td>\n",
       "      <td>40</td>\n",
       "      <td>31</td>\n",
       "    </tr>\n",
       "    <tr>\n",
       "      <th>763</th>\n",
       "      <td>Olga G Troyanskaya</td>\n",
       "      <td>female</td>\n",
       "      <td>35</td>\n",
       "      <td>31</td>\n",
       "    </tr>\n",
       "    <tr>\n",
       "      <th>14674</th>\n",
       "      <td>Edward R Dougherty</td>\n",
       "      <td>male</td>\n",
       "      <td>30</td>\n",
       "      <td>29</td>\n",
       "    </tr>\n",
       "    <tr>\n",
       "      <th>3994</th>\n",
       "      <td>David S Wishart</td>\n",
       "      <td>male</td>\n",
       "      <td>37</td>\n",
       "      <td>29</td>\n",
       "    </tr>\n",
       "    <tr>\n",
       "      <th>265</th>\n",
       "      <td>Philip E Bourne</td>\n",
       "      <td>male</td>\n",
       "      <td>48</td>\n",
       "      <td>28</td>\n",
       "    </tr>\n",
       "  </tbody>\n",
       "</table>\n",
       "</div>"
      ],
      "text/plain": [
       "                          name  gender  papers  papers_as_last_author\n",
       "3380             Mark Gerstein    male      46                     40\n",
       "3213         Janusz M Bujnicki    male      69                     38\n",
       "120826  William Stafford Noble    male      40                     32\n",
       "709             Nick V Grishin    male      35                     32\n",
       "3204                 Peer Bork    male      53                     32\n",
       "4116               Adam Godzik    male      40                     31\n",
       "763         Olga G Troyanskaya  female      35                     31\n",
       "14674       Edward R Dougherty    male      30                     29\n",
       "3994           David S Wishart    male      37                     29\n",
       "265            Philip E Bourne    male      48                     28"
      ]
     },
     "execution_count": 305,
     "metadata": {},
     "output_type": "execute_result"
    }
   ],
   "source": [
    "authors.sort_values('papers_as_last_author', inplace=True, ascending=False)\n",
    "authors[['name','gender','papers','papers_as_last_author']].head(10)"
   ]
  },
  {
   "cell_type": "markdown",
   "metadata": {},
   "source": [
    "#### Top-10 female authors that appeared as first author"
   ]
  },
  {
   "cell_type": "code",
   "execution_count": 306,
   "metadata": {},
   "outputs": [
    {
     "data": {
      "text/html": [
       "<div>\n",
       "<style scoped>\n",
       "    .dataframe tbody tr th:only-of-type {\n",
       "        vertical-align: middle;\n",
       "    }\n",
       "\n",
       "    .dataframe tbody tr th {\n",
       "        vertical-align: top;\n",
       "    }\n",
       "\n",
       "    .dataframe thead th {\n",
       "        text-align: right;\n",
       "    }\n",
       "</style>\n",
       "<table border=\"1\" class=\"dataframe\">\n",
       "  <thead>\n",
       "    <tr style=\"text-align: right;\">\n",
       "      <th></th>\n",
       "      <th>name</th>\n",
       "      <th>gender</th>\n",
       "      <th>papers</th>\n",
       "      <th>papers_as_last_author</th>\n",
       "    </tr>\n",
       "  </thead>\n",
       "  <tbody>\n",
       "    <tr>\n",
       "      <th>763</th>\n",
       "      <td>Olga G Troyanskaya</td>\n",
       "      <td>female</td>\n",
       "      <td>35</td>\n",
       "      <td>31</td>\n",
       "    </tr>\n",
       "    <tr>\n",
       "      <th>17171</th>\n",
       "      <td>Rita Casadio</td>\n",
       "      <td>female</td>\n",
       "      <td>34</td>\n",
       "      <td>28</td>\n",
       "    </tr>\n",
       "    <tr>\n",
       "      <th>67606</th>\n",
       "      <td>Christine Anne Orengo</td>\n",
       "      <td>female</td>\n",
       "      <td>44</td>\n",
       "      <td>27</td>\n",
       "    </tr>\n",
       "    <tr>\n",
       "      <th>17135</th>\n",
       "      <td>Sophia Ananiadou</td>\n",
       "      <td>female</td>\n",
       "      <td>29</td>\n",
       "      <td>23</td>\n",
       "    </tr>\n",
       "    <tr>\n",
       "      <th>2421</th>\n",
       "      <td>Shoba Ranganathan</td>\n",
       "      <td>female</td>\n",
       "      <td>28</td>\n",
       "      <td>23</td>\n",
       "    </tr>\n",
       "    <tr>\n",
       "      <th>1829</th>\n",
       "      <td>Luonan Chen</td>\n",
       "      <td>female</td>\n",
       "      <td>32</td>\n",
       "      <td>21</td>\n",
       "    </tr>\n",
       "    <tr>\n",
       "      <th>17301</th>\n",
       "      <td>Manuela Helmer-Citterich</td>\n",
       "      <td>female</td>\n",
       "      <td>26</td>\n",
       "      <td>19</td>\n",
       "    </tr>\n",
       "    <tr>\n",
       "      <th>338</th>\n",
       "      <td>Ivet Bahar</td>\n",
       "      <td>female</td>\n",
       "      <td>24</td>\n",
       "      <td>19</td>\n",
       "    </tr>\n",
       "    <tr>\n",
       "      <th>120804</th>\n",
       "      <td>Charlotte M Deane</td>\n",
       "      <td>female</td>\n",
       "      <td>26</td>\n",
       "      <td>19</td>\n",
       "    </tr>\n",
       "    <tr>\n",
       "      <th>2898</th>\n",
       "      <td>Jinn-Moon Yang</td>\n",
       "      <td>female</td>\n",
       "      <td>21</td>\n",
       "      <td>19</td>\n",
       "    </tr>\n",
       "  </tbody>\n",
       "</table>\n",
       "</div>"
      ],
      "text/plain": [
       "                            name  gender  papers  papers_as_last_author\n",
       "763           Olga G Troyanskaya  female      35                     31\n",
       "17171               Rita Casadio  female      34                     28\n",
       "67606      Christine Anne Orengo  female      44                     27\n",
       "17135           Sophia Ananiadou  female      29                     23\n",
       "2421           Shoba Ranganathan  female      28                     23\n",
       "1829                 Luonan Chen  female      32                     21\n",
       "17301   Manuela Helmer-Citterich  female      26                     19\n",
       "338                   Ivet Bahar  female      24                     19\n",
       "120804         Charlotte M Deane  female      26                     19\n",
       "2898              Jinn-Moon Yang  female      21                     19"
      ]
     },
     "execution_count": 306,
     "metadata": {},
     "output_type": "execute_result"
    }
   ],
   "source": [
    "authors.sort_values('papers_as_last_author', inplace=True, ascending=False)\n",
    "authors[authors['gender']=='female'][['name','gender','papers','papers_as_last_author']].head(10)"
   ]
  },
  {
   "cell_type": "markdown",
   "metadata": {},
   "source": [
    "## Papers without citations"
   ]
  },
  {
   "cell_type": "code",
   "execution_count": 307,
   "metadata": {},
   "outputs": [
    {
     "data": {
      "text/html": [
       "<div>\n",
       "<style scoped>\n",
       "    .dataframe tbody tr th:only-of-type {\n",
       "        vertical-align: middle;\n",
       "    }\n",
       "\n",
       "    .dataframe tbody tr th {\n",
       "        vertical-align: top;\n",
       "    }\n",
       "\n",
       "    .dataframe thead th {\n",
       "        text-align: right;\n",
       "    }\n",
       "</style>\n",
       "<table border=\"1\" class=\"dataframe\">\n",
       "  <thead>\n",
       "    <tr style=\"text-align: right;\">\n",
       "      <th></th>\n",
       "      <th>id</th>\n",
       "      <th>name</th>\n",
       "      <th>gender</th>\n",
       "      <th>papers</th>\n",
       "      <th>papers_without_citations</th>\n",
       "    </tr>\n",
       "  </thead>\n",
       "  <tbody>\n",
       "    <tr>\n",
       "      <th>3380</th>\n",
       "      <td>3381</td>\n",
       "      <td>Mark Gerstein</td>\n",
       "      <td>male</td>\n",
       "      <td>46</td>\n",
       "      <td>2</td>\n",
       "    </tr>\n",
       "    <tr>\n",
       "      <th>3213</th>\n",
       "      <td>3214</td>\n",
       "      <td>Janusz M Bujnicki</td>\n",
       "      <td>male</td>\n",
       "      <td>69</td>\n",
       "      <td>2</td>\n",
       "    </tr>\n",
       "    <tr>\n",
       "      <th>120826</th>\n",
       "      <td>120827</td>\n",
       "      <td>William Stafford Noble</td>\n",
       "      <td>male</td>\n",
       "      <td>40</td>\n",
       "      <td>3</td>\n",
       "    </tr>\n",
       "    <tr>\n",
       "      <th>709</th>\n",
       "      <td>710</td>\n",
       "      <td>Nick V Grishin</td>\n",
       "      <td>male</td>\n",
       "      <td>35</td>\n",
       "      <td>1</td>\n",
       "    </tr>\n",
       "    <tr>\n",
       "      <th>3204</th>\n",
       "      <td>3205</td>\n",
       "      <td>Peer Bork</td>\n",
       "      <td>male</td>\n",
       "      <td>53</td>\n",
       "      <td>2</td>\n",
       "    </tr>\n",
       "  </tbody>\n",
       "</table>\n",
       "</div>"
      ],
      "text/plain": [
       "            id                    name gender  papers  \\\n",
       "3380      3381           Mark Gerstein   male      46   \n",
       "3213      3214       Janusz M Bujnicki   male      69   \n",
       "120826  120827  William Stafford Noble   male      40   \n",
       "709        710          Nick V Grishin   male      35   \n",
       "3204      3205               Peer Bork   male      53   \n",
       "\n",
       "        papers_without_citations  \n",
       "3380                           2  \n",
       "3213                           2  \n",
       "120826                         3  \n",
       "709                            1  \n",
       "3204                           2  "
      ]
     },
     "execution_count": 307,
     "metadata": {},
     "output_type": "execute_result"
    }
   ],
   "source": [
    "authors['papers_without_citations'] = authors['papers'] - authors['papers_with_citations']\n",
    "authors[['id','name','gender','papers','papers_without_citations']].head()"
   ]
  },
  {
   "cell_type": "code",
   "execution_count": 308,
   "metadata": {},
   "outputs": [
    {
     "data": {
      "text/plain": [
       "count    100791.000000\n",
       "mean          0.115854\n",
       "std           0.349140\n",
       "min           0.000000\n",
       "25%           0.000000\n",
       "50%           0.000000\n",
       "75%           0.000000\n",
       "max           6.000000\n",
       "Name: papers_without_citations, dtype: float64"
      ]
     },
     "execution_count": 308,
     "metadata": {},
     "output_type": "execute_result"
    }
   ],
   "source": [
    "authors['papers_without_citations'].describe()"
   ]
  },
  {
   "cell_type": "markdown",
   "metadata": {},
   "source": [
    "# Authorship"
   ]
  },
  {
   "cell_type": "markdown",
   "metadata": {},
   "source": [
    "## Data structure"
   ]
  },
  {
   "cell_type": "code",
   "execution_count": 309,
   "metadata": {},
   "outputs": [
    {
     "data": {
      "text/html": [
       "<div>\n",
       "<style scoped>\n",
       "    .dataframe tbody tr th:only-of-type {\n",
       "        vertical-align: middle;\n",
       "    }\n",
       "\n",
       "    .dataframe tbody tr th {\n",
       "        vertical-align: top;\n",
       "    }\n",
       "\n",
       "    .dataframe thead th {\n",
       "        text-align: right;\n",
       "    }\n",
       "</style>\n",
       "<table border=\"1\" class=\"dataframe\">\n",
       "  <thead>\n",
       "    <tr style=\"text-align: right;\">\n",
       "      <th></th>\n",
       "      <th>id</th>\n",
       "      <th>title</th>\n",
       "      <th>doi</th>\n",
       "      <th>year</th>\n",
       "      <th>category</th>\n",
       "      <th>author</th>\n",
       "      <th>author_gender</th>\n",
       "      <th>author_position</th>\n",
       "    </tr>\n",
       "  </thead>\n",
       "  <tbody>\n",
       "    <tr>\n",
       "      <th>0</th>\n",
       "      <td>1</td>\n",
       "      <td>A peptide-based method for 13C Metabolic Flux ...</td>\n",
       "      <td>10.1371/journal.pcbi.1003827</td>\n",
       "      <td>2014</td>\n",
       "      <td>Omics &gt; Genomics &gt; Transcriptomics</td>\n",
       "      <td>Amit Ghosh</td>\n",
       "      <td>male</td>\n",
       "      <td>1</td>\n",
       "    </tr>\n",
       "    <tr>\n",
       "      <th>1</th>\n",
       "      <td>2</td>\n",
       "      <td>A peptide-based method for 13C Metabolic Flux ...</td>\n",
       "      <td>10.1371/journal.pcbi.1003827</td>\n",
       "      <td>2014</td>\n",
       "      <td>Omics &gt; Genomics &gt; Transcriptomics</td>\n",
       "      <td>Jerome Nilmeier</td>\n",
       "      <td>male</td>\n",
       "      <td>2</td>\n",
       "    </tr>\n",
       "    <tr>\n",
       "      <th>2</th>\n",
       "      <td>3</td>\n",
       "      <td>A peptide-based method for 13C Metabolic Flux ...</td>\n",
       "      <td>10.1371/journal.pcbi.1003827</td>\n",
       "      <td>2014</td>\n",
       "      <td>Omics &gt; Genomics &gt; Transcriptomics</td>\n",
       "      <td>Daniel B Weaver</td>\n",
       "      <td>male</td>\n",
       "      <td>3</td>\n",
       "    </tr>\n",
       "    <tr>\n",
       "      <th>3</th>\n",
       "      <td>4</td>\n",
       "      <td>A peptide-based method for 13C Metabolic Flux ...</td>\n",
       "      <td>10.1371/journal.pcbi.1003827</td>\n",
       "      <td>2014</td>\n",
       "      <td>Omics &gt; Genomics &gt; Transcriptomics</td>\n",
       "      <td>Paul D Adams</td>\n",
       "      <td>male</td>\n",
       "      <td>4</td>\n",
       "    </tr>\n",
       "    <tr>\n",
       "      <th>4</th>\n",
       "      <td>5</td>\n",
       "      <td>A peptide-based method for 13C Metabolic Flux ...</td>\n",
       "      <td>10.1371/journal.pcbi.1003827</td>\n",
       "      <td>2014</td>\n",
       "      <td>Omics &gt; Genomics &gt; Transcriptomics</td>\n",
       "      <td>Jay D Keasling</td>\n",
       "      <td>male</td>\n",
       "      <td>5</td>\n",
       "    </tr>\n",
       "  </tbody>\n",
       "</table>\n",
       "</div>"
      ],
      "text/plain": [
       "   id                                              title  \\\n",
       "0   1  A peptide-based method for 13C Metabolic Flux ...   \n",
       "1   2  A peptide-based method for 13C Metabolic Flux ...   \n",
       "2   3  A peptide-based method for 13C Metabolic Flux ...   \n",
       "3   4  A peptide-based method for 13C Metabolic Flux ...   \n",
       "4   5  A peptide-based method for 13C Metabolic Flux ...   \n",
       "\n",
       "                            doi  year                            category  \\\n",
       "0  10.1371/journal.pcbi.1003827  2014  Omics > Genomics > Transcriptomics   \n",
       "1  10.1371/journal.pcbi.1003827  2014  Omics > Genomics > Transcriptomics   \n",
       "2  10.1371/journal.pcbi.1003827  2014  Omics > Genomics > Transcriptomics   \n",
       "3  10.1371/journal.pcbi.1003827  2014  Omics > Genomics > Transcriptomics   \n",
       "4  10.1371/journal.pcbi.1003827  2014  Omics > Genomics > Transcriptomics   \n",
       "\n",
       "            author author_gender  author_position  \n",
       "0       Amit Ghosh          male                1  \n",
       "1  Jerome Nilmeier          male                2  \n",
       "2  Daniel B Weaver          male                3  \n",
       "3     Paul D Adams          male                4  \n",
       "4   Jay D Keasling          male                5  "
      ]
     },
     "execution_count": 309,
     "metadata": {},
     "output_type": "execute_result"
    }
   ],
   "source": [
    "papers_authors.head()"
   ]
  },
  {
   "cell_type": "code",
   "execution_count": 357,
   "metadata": {},
   "outputs": [
    {
     "data": {
      "text/html": [
       "<div>\n",
       "<style scoped>\n",
       "    .dataframe tbody tr th:only-of-type {\n",
       "        vertical-align: middle;\n",
       "    }\n",
       "\n",
       "    .dataframe tbody tr th {\n",
       "        vertical-align: top;\n",
       "    }\n",
       "\n",
       "    .dataframe thead th {\n",
       "        text-align: right;\n",
       "    }\n",
       "</style>\n",
       "<table border=\"1\" class=\"dataframe\">\n",
       "  <thead>\n",
       "    <tr style=\"text-align: right;\">\n",
       "      <th></th>\n",
       "      <th>title</th>\n",
       "      <th>author_gender</th>\n",
       "      <th>count_gender</th>\n",
       "    </tr>\n",
       "  </thead>\n",
       "  <tbody>\n",
       "    <tr>\n",
       "      <th>0</th>\n",
       "      <td>A peptide-based method for 13C Metabolic Flux ...</td>\n",
       "      <td>male</td>\n",
       "      <td>6</td>\n",
       "    </tr>\n",
       "    <tr>\n",
       "      <th>1</th>\n",
       "      <td>A peptide-based method for 13C Metabolic Flux ...</td>\n",
       "      <td>female</td>\n",
       "      <td>2</td>\n",
       "    </tr>\n",
       "    <tr>\n",
       "      <th>2</th>\n",
       "      <td>Baseline CD4+ T cell counts correlates with HI...</td>\n",
       "      <td>female</td>\n",
       "      <td>2</td>\n",
       "    </tr>\n",
       "    <tr>\n",
       "      <th>3</th>\n",
       "      <td>Baseline CD4+ T cell counts correlates with HI...</td>\n",
       "      <td>male</td>\n",
       "      <td>4</td>\n",
       "    </tr>\n",
       "    <tr>\n",
       "      <th>4</th>\n",
       "      <td>Evolution of the F0F1 ATP Synthase Complex in ...</td>\n",
       "      <td>female</td>\n",
       "      <td>2</td>\n",
       "    </tr>\n",
       "  </tbody>\n",
       "</table>\n",
       "</div>"
      ],
      "text/plain": [
       "                                               title author_gender  \\\n",
       "0  A peptide-based method for 13C Metabolic Flux ...          male   \n",
       "1  A peptide-based method for 13C Metabolic Flux ...        female   \n",
       "2  Baseline CD4+ T cell counts correlates with HI...        female   \n",
       "3  Baseline CD4+ T cell counts correlates with HI...          male   \n",
       "4  Evolution of the F0F1 ATP Synthase Complex in ...        female   \n",
       "\n",
       "   count_gender  \n",
       "0             6  \n",
       "1             2  \n",
       "2             2  \n",
       "3             4  \n",
       "4             2  "
      ]
     },
     "execution_count": 357,
     "metadata": {},
     "output_type": "execute_result"
    }
   ],
   "source": [
    "papers_grouped_by_title = papers_authors.drop(['id', 'doi', 'year', 'category', 'author', 'author_position'], axis=1).groupby(['title','author_gender'], sort=False, as_index=False)\n",
    "agg_papers_grouped_df = papers_grouped_by_title[['author_gender']].agg({'author_gender': {'count_gender': 'count'}})\n",
    "agg_papers_grouped_df.head()"
   ]
  },
  {
   "cell_type": "code",
   "execution_count": 358,
   "metadata": {},
   "outputs": [
    {
     "data": {
      "text/html": [
       "<div>\n",
       "<style scoped>\n",
       "    .dataframe tbody tr th:only-of-type {\n",
       "        vertical-align: middle;\n",
       "    }\n",
       "\n",
       "    .dataframe tbody tr th {\n",
       "        vertical-align: top;\n",
       "    }\n",
       "\n",
       "    .dataframe thead th {\n",
       "        text-align: right;\n",
       "    }\n",
       "</style>\n",
       "<table border=\"1\" class=\"dataframe\">\n",
       "  <thead>\n",
       "    <tr style=\"text-align: right;\">\n",
       "      <th>author_gender</th>\n",
       "      <th>female</th>\n",
       "      <th>male</th>\n",
       "    </tr>\n",
       "    <tr>\n",
       "      <th>title</th>\n",
       "      <th></th>\n",
       "      <th></th>\n",
       "    </tr>\n",
       "  </thead>\n",
       "  <tbody>\n",
       "    <tr>\n",
       "      <th>'Bois noir' phytoplasma induces significant reprogramming of the leaf transcriptome in the field grown grapevine</th>\n",
       "      <td>1.0</td>\n",
       "      <td>9.0</td>\n",
       "    </tr>\n",
       "    <tr>\n",
       "      <th>'Brukin2D': A 2D visualization and comparison tool for LC-MS data</th>\n",
       "      <td>2.0</td>\n",
       "      <td>6.0</td>\n",
       "    </tr>\n",
       "    <tr>\n",
       "      <th>'Evidence of an auxin signal pathway, microRNA167-ARF8-GH3, and its response to exogenous auxin in cultured rice cells'</th>\n",
       "      <td>2.0</td>\n",
       "      <td>0.0</td>\n",
       "    </tr>\n",
       "    <tr>\n",
       "      <th>'Genome design' model and multicellular complexity: Golden middle</th>\n",
       "      <td>0.0</td>\n",
       "      <td>3.0</td>\n",
       "    </tr>\n",
       "    <tr>\n",
       "      <th>'HypothesisFinder:' A Strategy for the Detection of Speculative Statements in Scientific Text</th>\n",
       "      <td>8.0</td>\n",
       "      <td>6.0</td>\n",
       "    </tr>\n",
       "  </tbody>\n",
       "</table>\n",
       "</div>"
      ],
      "text/plain": [
       "author_gender                                       female  male\n",
       "title                                                           \n",
       "'Bois noir' phytoplasma induces significant rep...     1.0   9.0\n",
       "'Brukin2D': A 2D visualization and comparison t...     2.0   6.0\n",
       "'Evidence of an auxin signal pathway, microRNA1...     2.0   0.0\n",
       "'Genome design' model and multicellular complex...     0.0   3.0\n",
       "'HypothesisFinder:' A Strategy for the Detectio...     8.0   6.0"
      ]
     },
     "execution_count": 358,
     "metadata": {},
     "output_type": "execute_result"
    }
   ],
   "source": [
    "papers_gender_dist = agg_papers_grouped_df.pivot(columns='author_gender', values='count_gender', index='title')\n",
    "papers_gender_dist = papers_gender_dist.fillna(0)\n",
    "papers_gender_dist.head()"
   ]
  },
  {
   "cell_type": "code",
   "execution_count": 359,
   "metadata": {},
   "outputs": [
    {
     "data": {
      "text/html": [
       "<div>\n",
       "<style scoped>\n",
       "    .dataframe tbody tr th:only-of-type {\n",
       "        vertical-align: middle;\n",
       "    }\n",
       "\n",
       "    .dataframe tbody tr th {\n",
       "        vertical-align: top;\n",
       "    }\n",
       "\n",
       "    .dataframe thead th {\n",
       "        text-align: right;\n",
       "    }\n",
       "</style>\n",
       "<table border=\"1\" class=\"dataframe\">\n",
       "  <thead>\n",
       "    <tr style=\"text-align: right;\">\n",
       "      <th>author_gender</th>\n",
       "      <th>female</th>\n",
       "      <th>male</th>\n",
       "      <th>most_female</th>\n",
       "      <th>most_male</th>\n",
       "      <th>equal_gender</th>\n",
       "      <th>only_male</th>\n",
       "      <th>only_female</th>\n",
       "    </tr>\n",
       "    <tr>\n",
       "      <th>title</th>\n",
       "      <th></th>\n",
       "      <th></th>\n",
       "      <th></th>\n",
       "      <th></th>\n",
       "      <th></th>\n",
       "      <th></th>\n",
       "      <th></th>\n",
       "    </tr>\n",
       "  </thead>\n",
       "  <tbody>\n",
       "    <tr>\n",
       "      <th>'Bois noir' phytoplasma induces significant reprogramming of the leaf transcriptome in the field grown grapevine</th>\n",
       "      <td>1.0</td>\n",
       "      <td>9.0</td>\n",
       "      <td>0</td>\n",
       "      <td>1</td>\n",
       "      <td>0</td>\n",
       "      <td>0</td>\n",
       "      <td>0</td>\n",
       "    </tr>\n",
       "    <tr>\n",
       "      <th>'Brukin2D': A 2D visualization and comparison tool for LC-MS data</th>\n",
       "      <td>2.0</td>\n",
       "      <td>6.0</td>\n",
       "      <td>0</td>\n",
       "      <td>1</td>\n",
       "      <td>0</td>\n",
       "      <td>0</td>\n",
       "      <td>0</td>\n",
       "    </tr>\n",
       "    <tr>\n",
       "      <th>'Evidence of an auxin signal pathway, microRNA167-ARF8-GH3, and its response to exogenous auxin in cultured rice cells'</th>\n",
       "      <td>2.0</td>\n",
       "      <td>0.0</td>\n",
       "      <td>1</td>\n",
       "      <td>0</td>\n",
       "      <td>0</td>\n",
       "      <td>0</td>\n",
       "      <td>1</td>\n",
       "    </tr>\n",
       "    <tr>\n",
       "      <th>'Genome design' model and multicellular complexity: Golden middle</th>\n",
       "      <td>0.0</td>\n",
       "      <td>3.0</td>\n",
       "      <td>0</td>\n",
       "      <td>1</td>\n",
       "      <td>0</td>\n",
       "      <td>1</td>\n",
       "      <td>0</td>\n",
       "    </tr>\n",
       "    <tr>\n",
       "      <th>'HypothesisFinder:' A Strategy for the Detection of Speculative Statements in Scientific Text</th>\n",
       "      <td>8.0</td>\n",
       "      <td>6.0</td>\n",
       "      <td>1</td>\n",
       "      <td>0</td>\n",
       "      <td>0</td>\n",
       "      <td>0</td>\n",
       "      <td>0</td>\n",
       "    </tr>\n",
       "  </tbody>\n",
       "</table>\n",
       "</div>"
      ],
      "text/plain": [
       "author_gender                                       female  male  most_female  \\\n",
       "title                                                                           \n",
       "'Bois noir' phytoplasma induces significant rep...     1.0   9.0            0   \n",
       "'Brukin2D': A 2D visualization and comparison t...     2.0   6.0            0   \n",
       "'Evidence of an auxin signal pathway, microRNA1...     2.0   0.0            1   \n",
       "'Genome design' model and multicellular complex...     0.0   3.0            0   \n",
       "'HypothesisFinder:' A Strategy for the Detectio...     8.0   6.0            1   \n",
       "\n",
       "author_gender                                       most_male  equal_gender  \\\n",
       "title                                                                         \n",
       "'Bois noir' phytoplasma induces significant rep...          1             0   \n",
       "'Brukin2D': A 2D visualization and comparison t...          1             0   \n",
       "'Evidence of an auxin signal pathway, microRNA1...          0             0   \n",
       "'Genome design' model and multicellular complex...          1             0   \n",
       "'HypothesisFinder:' A Strategy for the Detectio...          0             0   \n",
       "\n",
       "author_gender                                       only_male  only_female  \n",
       "title                                                                       \n",
       "'Bois noir' phytoplasma induces significant rep...          0            0  \n",
       "'Brukin2D': A 2D visualization and comparison t...          0            0  \n",
       "'Evidence of an auxin signal pathway, microRNA1...          0            1  \n",
       "'Genome design' model and multicellular complex...          1            0  \n",
       "'HypothesisFinder:' A Strategy for the Detectio...          0            0  "
      ]
     },
     "execution_count": 359,
     "metadata": {},
     "output_type": "execute_result"
    }
   ],
   "source": [
    "papers_gender_dist['most_female'] = np.where(papers_gender_dist['female']>papers_gender_dist['male'], 1, 0)\n",
    "papers_gender_dist['most_male'] = np.where(papers_gender_dist['male']>papers_gender_dist['female'], 1, 0)\n",
    "papers_gender_dist['equal_gender'] = np.where(papers_gender_dist['male']==papers_gender_dist['female'], 1, 0)\n",
    "papers_gender_dist['only_male'] = np.where(papers_gender_dist['female']==0, 1, 0)\n",
    "papers_gender_dist['only_female'] = np.where(papers_gender_dist['male']==0, 1, 0)\n",
    "papers_gender_dist.head()"
   ]
  },
  {
   "cell_type": "markdown",
   "metadata": {},
   "source": [
    "## Papers with mostly male authors"
   ]
  },
  {
   "cell_type": "code",
   "execution_count": 316,
   "metadata": {},
   "outputs": [
    {
     "name": "stdout",
     "output_type": "stream",
     "text": [
      "There are 21956(59.6%) papers which have mostly male authors\n"
     ]
    }
   ],
   "source": [
    "raw_num = papers_gender_dist['most_male'].sum()\n",
    "per_num = round(raw_num/papers_gender_dist.shape[0]*100,2)\n",
    "print('There are {}({}%) papers which have mostly male authors'.format(raw_num, per_num))"
   ]
  },
  {
   "cell_type": "markdown",
   "metadata": {},
   "source": [
    "## Papers with mostly female authors"
   ]
  },
  {
   "cell_type": "code",
   "execution_count": 317,
   "metadata": {},
   "outputs": [
    {
     "name": "stdout",
     "output_type": "stream",
     "text": [
      "There are 10540(28.61%) papers which have mostly female authors\n"
     ]
    }
   ],
   "source": [
    "raw_num = papers_gender_dist['most_female'].sum()\n",
    "per_num = round(raw_num/papers_gender_dist.shape[0]*100,2)\n",
    "print('There are {}({}%) papers which have mostly female authors'.format(raw_num, per_num))"
   ]
  },
  {
   "cell_type": "markdown",
   "metadata": {},
   "source": [
    "## Papers with only male authors"
   ]
  },
  {
   "cell_type": "code",
   "execution_count": 318,
   "metadata": {},
   "outputs": [
    {
     "name": "stdout",
     "output_type": "stream",
     "text": [
      "There are 12687(34.44%) papers which have only male authors\n"
     ]
    }
   ],
   "source": [
    "raw_num = papers_gender_dist['only_male'].sum()\n",
    "per_num = round(raw_num/papers_gender_dist.shape[0]*100,2)\n",
    "print('There are {}({}%) papers which have only male authors'.format(raw_num, per_num))"
   ]
  },
  {
   "cell_type": "markdown",
   "metadata": {},
   "source": [
    "## Papers with only female authors"
   ]
  },
  {
   "cell_type": "code",
   "execution_count": 319,
   "metadata": {},
   "outputs": [
    {
     "name": "stdout",
     "output_type": "stream",
     "text": [
      "There are 1442(3.91%) papers which have only female authors\n"
     ]
    }
   ],
   "source": [
    "raw_num = papers_gender_dist['only_female'].sum()\n",
    "per_num = round(raw_num/papers_gender_dist.shape[0]*100,2)\n",
    "print('There are {}({}%) papers which have only female authors'.format(raw_num, per_num))"
   ]
  },
  {
   "cell_type": "markdown",
   "metadata": {},
   "source": [
    "## Papers with equal number of male and female authors"
   ]
  },
  {
   "cell_type": "code",
   "execution_count": 320,
   "metadata": {},
   "outputs": [
    {
     "name": "stdout",
     "output_type": "stream",
     "text": [
      "There are 4346(11.8%) papers which have equal number of male and female authors\n"
     ]
    }
   ],
   "source": [
    "raw_num = papers_gender_dist['equal_gender'].sum()\n",
    "per_num = round(raw_num/papers_gender_dist.shape[0]*100,2)\n",
    "print('There are {}({}%) papers which have equal number of male and female authors'.format(raw_num, per_num))"
   ]
  },
  {
   "cell_type": "markdown",
   "metadata": {},
   "source": [
    "## Distribution of first author gender"
   ]
  },
  {
   "cell_type": "markdown",
   "metadata": {},
   "source": [
    "Only first authors with identified gender (male/female) are considered in the analysis. The total does not sum up 1 because there are first author with an unidentified gender."
   ]
  },
  {
   "cell_type": "code",
   "execution_count": 339,
   "metadata": {},
   "outputs": [
    {
     "data": {
      "text/plain": [
       "male      0.578090\n",
       "female    0.262689\n",
       "Name: author_gender, dtype: float64"
      ]
     },
     "execution_count": 339,
     "metadata": {},
     "output_type": "execute_result"
    }
   ],
   "source": [
    "papers_authors[papers_authors['author_position']==1].author_gender.value_counts()/papers.shape[0]"
   ]
  },
  {
   "cell_type": "markdown",
   "metadata": {},
   "source": [
    "## Number of papers with a woman as first author"
   ]
  },
  {
   "cell_type": "markdown",
   "metadata": {},
   "source": [
    "Only first authors with identified gender (male/female) are considered in the analysis."
   ]
  },
  {
   "cell_type": "code",
   "execution_count": 340,
   "metadata": {},
   "outputs": [
    {
     "name": "stdout",
     "output_type": "stream",
     "text": [
      "There are 9678(26.27%) papers which have a woman as the first author\n"
     ]
    }
   ],
   "source": [
    "raw_num = papers_authors[(papers_authors['author_gender']=='female')&(papers_authors['author_position']==1)].shape[0]\n",
    "per_num = round(raw_num/papers.shape[0]*100,2)\n",
    "print('There are {}({}%) papers which have a woman as the first author'.format(raw_num, per_num))"
   ]
  },
  {
   "cell_type": "markdown",
   "metadata": {},
   "source": [
    "## Number of papers with a man as first author"
   ]
  },
  {
   "cell_type": "markdown",
   "metadata": {},
   "source": [
    "Only first authors with identified gender (male/female) are considered in the analysis."
   ]
  },
  {
   "cell_type": "code",
   "execution_count": 341,
   "metadata": {},
   "outputs": [
    {
     "name": "stdout",
     "output_type": "stream",
     "text": [
      "There are 21298(57.81%) papers which have a man as the first author\n"
     ]
    }
   ],
   "source": [
    "raw_num = papers_authors[(papers_authors['author_gender']=='male')&(papers_authors['author_position']==1)].shape[0]\n",
    "per_num = round(raw_num/papers.shape[0]*100,2)\n",
    "print('There are {}({}%) papers which have a man as the first author'.format(raw_num, per_num))"
   ]
  },
  {
   "cell_type": "markdown",
   "metadata": {},
   "source": [
    "## Evolution of male and female authors by year"
   ]
  },
  {
   "cell_type": "code",
   "execution_count": 360,
   "metadata": {},
   "outputs": [],
   "source": [
    "papers_grouped_by_year = papers_authors.drop(['id', 'title', 'doi', 'category', 'author', 'author_position'], axis=1).\\\n",
    "    groupby(['year','author_gender'], as_index=False)\n",
    "agg_papers_grouped_df = papers_grouped_by_year[['author_gender']].agg({'author_gender': {'count_gender': 'count'}})"
   ]
  },
  {
   "cell_type": "code",
   "execution_count": 361,
   "metadata": {},
   "outputs": [
    {
     "data": {
      "text/html": [
       "<div>\n",
       "<style scoped>\n",
       "    .dataframe tbody tr th:only-of-type {\n",
       "        vertical-align: middle;\n",
       "    }\n",
       "\n",
       "    .dataframe tbody tr th {\n",
       "        vertical-align: top;\n",
       "    }\n",
       "\n",
       "    .dataframe thead th {\n",
       "        text-align: right;\n",
       "    }\n",
       "</style>\n",
       "<table border=\"1\" class=\"dataframe\">\n",
       "  <thead>\n",
       "    <tr style=\"text-align: right;\">\n",
       "      <th>author_gender</th>\n",
       "      <th>female</th>\n",
       "      <th>male</th>\n",
       "    </tr>\n",
       "    <tr>\n",
       "      <th>year</th>\n",
       "      <th></th>\n",
       "      <th></th>\n",
       "    </tr>\n",
       "  </thead>\n",
       "  <tbody>\n",
       "    <tr>\n",
       "      <th>2000</th>\n",
       "      <td>2</td>\n",
       "      <td>1</td>\n",
       "    </tr>\n",
       "    <tr>\n",
       "      <th>2001</th>\n",
       "      <td>1</td>\n",
       "      <td>1</td>\n",
       "    </tr>\n",
       "    <tr>\n",
       "      <th>2002</th>\n",
       "      <td>55</td>\n",
       "      <td>147</td>\n",
       "    </tr>\n",
       "    <tr>\n",
       "      <th>2003</th>\n",
       "      <td>100</td>\n",
       "      <td>274</td>\n",
       "    </tr>\n",
       "    <tr>\n",
       "      <th>2004</th>\n",
       "      <td>289</td>\n",
       "      <td>875</td>\n",
       "    </tr>\n",
       "  </tbody>\n",
       "</table>\n",
       "</div>"
      ],
      "text/plain": [
       "author_gender  female  male\n",
       "year                       \n",
       "2000                2     1\n",
       "2001                1     1\n",
       "2002               55   147\n",
       "2003              100   274\n",
       "2004              289   875"
      ]
     },
     "execution_count": 361,
     "metadata": {},
     "output_type": "execute_result"
    }
   ],
   "source": [
    "papers_gender_dist_by_year = agg_papers_grouped_df.pivot(columns='author_gender', values='count_gender', \n",
    "                                                         index='year')\n",
    "papers_gender_dist_by_year = papers_gender_dist_by_year.fillna(0)\n",
    "papers_gender_dist_by_year.head()"
   ]
  },
  {
   "cell_type": "code",
   "execution_count": 362,
   "metadata": {},
   "outputs": [
    {
     "data": {
      "image/png": "[encoded data removed]",
      "text/plain": [
       "<Figure size 864x576 with 1 Axes>"
      ]
     },
     "metadata": {
      "needs_background": "light"
     },
     "output_type": "display_data"
    }
   ],
   "source": [
    "papers_gender_dist_by_year.plot(lw=5)\n",
    "plt.gcf().set_size_inches(12, 8)"
   ]
  },
  {
   "cell_type": "markdown",
   "metadata": {},
   "source": [
    "## Position in papers of female authors"
   ]
  },
  {
   "cell_type": "code",
   "execution_count": 346,
   "metadata": {},
   "outputs": [
    {
     "data": {
      "text/html": [
       "<div>\n",
       "<style scoped>\n",
       "    .dataframe tbody tr th:only-of-type {\n",
       "        vertical-align: middle;\n",
       "    }\n",
       "\n",
       "    .dataframe tbody tr th {\n",
       "        vertical-align: top;\n",
       "    }\n",
       "\n",
       "    .dataframe thead th {\n",
       "        text-align: right;\n",
       "    }\n",
       "</style>\n",
       "<table border=\"1\" class=\"dataframe\">\n",
       "  <thead>\n",
       "    <tr style=\"text-align: right;\">\n",
       "      <th>author_position</th>\n",
       "      <th>1</th>\n",
       "      <th>2</th>\n",
       "      <th>3</th>\n",
       "      <th>4</th>\n",
       "      <th>5</th>\n",
       "      <th>6</th>\n",
       "      <th>7</th>\n",
       "      <th>8</th>\n",
       "      <th>9</th>\n",
       "      <th>10</th>\n",
       "      <th>...</th>\n",
       "      <th>92</th>\n",
       "      <th>93</th>\n",
       "      <th>95</th>\n",
       "      <th>103</th>\n",
       "      <th>107</th>\n",
       "      <th>117</th>\n",
       "      <th>118</th>\n",
       "      <th>120</th>\n",
       "      <th>126</th>\n",
       "      <th>129</th>\n",
       "    </tr>\n",
       "    <tr>\n",
       "      <th>author</th>\n",
       "      <th></th>\n",
       "      <th></th>\n",
       "      <th></th>\n",
       "      <th></th>\n",
       "      <th></th>\n",
       "      <th></th>\n",
       "      <th></th>\n",
       "      <th></th>\n",
       "      <th></th>\n",
       "      <th></th>\n",
       "      <th></th>\n",
       "      <th></th>\n",
       "      <th></th>\n",
       "      <th></th>\n",
       "      <th></th>\n",
       "      <th></th>\n",
       "      <th></th>\n",
       "      <th></th>\n",
       "      <th></th>\n",
       "      <th></th>\n",
       "      <th></th>\n",
       "    </tr>\n",
       "  </thead>\n",
       "  <tbody>\n",
       "    <tr>\n",
       "      <th>A A Fedorova</th>\n",
       "      <td>0.0</td>\n",
       "      <td>0.0</td>\n",
       "      <td>0.0</td>\n",
       "      <td>1.0</td>\n",
       "      <td>0.0</td>\n",
       "      <td>0.0</td>\n",
       "      <td>0.0</td>\n",
       "      <td>0.0</td>\n",
       "      <td>0.0</td>\n",
       "      <td>0.0</td>\n",
       "      <td>...</td>\n",
       "      <td>0.0</td>\n",
       "      <td>0.0</td>\n",
       "      <td>0.0</td>\n",
       "      <td>0.0</td>\n",
       "      <td>0.0</td>\n",
       "      <td>0.0</td>\n",
       "      <td>0.0</td>\n",
       "      <td>0.0</td>\n",
       "      <td>0.0</td>\n",
       "      <td>0.0</td>\n",
       "    </tr>\n",
       "    <tr>\n",
       "      <th>A Bendoraite</th>\n",
       "      <td>0.0</td>\n",
       "      <td>0.0</td>\n",
       "      <td>0.0</td>\n",
       "      <td>1.0</td>\n",
       "      <td>0.0</td>\n",
       "      <td>0.0</td>\n",
       "      <td>0.0</td>\n",
       "      <td>0.0</td>\n",
       "      <td>0.0</td>\n",
       "      <td>0.0</td>\n",
       "      <td>...</td>\n",
       "      <td>0.0</td>\n",
       "      <td>0.0</td>\n",
       "      <td>0.0</td>\n",
       "      <td>0.0</td>\n",
       "      <td>0.0</td>\n",
       "      <td>0.0</td>\n",
       "      <td>0.0</td>\n",
       "      <td>0.0</td>\n",
       "      <td>0.0</td>\n",
       "      <td>0.0</td>\n",
       "    </tr>\n",
       "    <tr>\n",
       "      <th>A K Shchyolkina</th>\n",
       "      <td>0.0</td>\n",
       "      <td>1.0</td>\n",
       "      <td>0.0</td>\n",
       "      <td>0.0</td>\n",
       "      <td>0.0</td>\n",
       "      <td>0.0</td>\n",
       "      <td>0.0</td>\n",
       "      <td>0.0</td>\n",
       "      <td>0.0</td>\n",
       "      <td>0.0</td>\n",
       "      <td>...</td>\n",
       "      <td>0.0</td>\n",
       "      <td>0.0</td>\n",
       "      <td>0.0</td>\n",
       "      <td>0.0</td>\n",
       "      <td>0.0</td>\n",
       "      <td>0.0</td>\n",
       "      <td>0.0</td>\n",
       "      <td>0.0</td>\n",
       "      <td>0.0</td>\n",
       "      <td>0.0</td>\n",
       "    </tr>\n",
       "    <tr>\n",
       "      <th>A V Lapuk</th>\n",
       "      <td>0.0</td>\n",
       "      <td>0.0</td>\n",
       "      <td>0.0</td>\n",
       "      <td>0.0</td>\n",
       "      <td>1.0</td>\n",
       "      <td>0.0</td>\n",
       "      <td>0.0</td>\n",
       "      <td>0.0</td>\n",
       "      <td>0.0</td>\n",
       "      <td>0.0</td>\n",
       "      <td>...</td>\n",
       "      <td>0.0</td>\n",
       "      <td>0.0</td>\n",
       "      <td>0.0</td>\n",
       "      <td>0.0</td>\n",
       "      <td>0.0</td>\n",
       "      <td>0.0</td>\n",
       "      <td>0.0</td>\n",
       "      <td>0.0</td>\n",
       "      <td>0.0</td>\n",
       "      <td>0.0</td>\n",
       "    </tr>\n",
       "    <tr>\n",
       "      <th>A-Lien Lu</th>\n",
       "      <td>0.0</td>\n",
       "      <td>0.0</td>\n",
       "      <td>0.0</td>\n",
       "      <td>0.0</td>\n",
       "      <td>0.0</td>\n",
       "      <td>0.0</td>\n",
       "      <td>2.0</td>\n",
       "      <td>0.0</td>\n",
       "      <td>0.0</td>\n",
       "      <td>0.0</td>\n",
       "      <td>...</td>\n",
       "      <td>0.0</td>\n",
       "      <td>0.0</td>\n",
       "      <td>0.0</td>\n",
       "      <td>0.0</td>\n",
       "      <td>0.0</td>\n",
       "      <td>0.0</td>\n",
       "      <td>0.0</td>\n",
       "      <td>0.0</td>\n",
       "      <td>0.0</td>\n",
       "      <td>0.0</td>\n",
       "    </tr>\n",
       "  </tbody>\n",
       "</table>\n",
       "<p>5 rows × 89 columns</p>\n",
       "</div>"
      ],
      "text/plain": [
       "author_position  1    2    3    4    5    6    7    8    9    10   ...  92   \\\n",
       "author                                                             ...        \n",
       "A A Fedorova     0.0  0.0  0.0  1.0  0.0  0.0  0.0  0.0  0.0  0.0  ...  0.0   \n",
       "A Bendoraite     0.0  0.0  0.0  1.0  0.0  0.0  0.0  0.0  0.0  0.0  ...  0.0   \n",
       "A K Shchyolkina  0.0  1.0  0.0  0.0  0.0  0.0  0.0  0.0  0.0  0.0  ...  0.0   \n",
       "A V Lapuk        0.0  0.0  0.0  0.0  1.0  0.0  0.0  0.0  0.0  0.0  ...  0.0   \n",
       "A-Lien Lu        0.0  0.0  0.0  0.0  0.0  0.0  2.0  0.0  0.0  0.0  ...  0.0   \n",
       "\n",
       "author_position  93   95   103  107  117  118  120  126  129  \n",
       "author                                                        \n",
       "A A Fedorova     0.0  0.0  0.0  0.0  0.0  0.0  0.0  0.0  0.0  \n",
       "A Bendoraite     0.0  0.0  0.0  0.0  0.0  0.0  0.0  0.0  0.0  \n",
       "A K Shchyolkina  0.0  0.0  0.0  0.0  0.0  0.0  0.0  0.0  0.0  \n",
       "A V Lapuk        0.0  0.0  0.0  0.0  0.0  0.0  0.0  0.0  0.0  \n",
       "A-Lien Lu        0.0  0.0  0.0  0.0  0.0  0.0  0.0  0.0  0.0  \n",
       "\n",
       "[5 rows x 89 columns]"
      ]
     },
     "execution_count": 346,
     "metadata": {},
     "output_type": "execute_result"
    }
   ],
   "source": [
    "# filter out male authors\n",
    "female_authors = papers_authors[papers_authors['author_gender']=='female']\n",
    "# drop unneccesary columns\n",
    "female_authors = female_authors.drop(['id', 'title', 'doi', 'year', 'category', 'author_gender'], axis=1)\n",
    "# group rows authors by author\n",
    "female_authors_grouped_by_position = female_authors.groupby(['author','author_position'], as_index=False)\n",
    "# compute frequency of positions\n",
    "agg_fa_grouped_df = female_authors_grouped_by_position[['author_position']].\\\n",
    "    agg({'author_position': {'count_position': 'count'}})\n",
    "# pivot table\n",
    "female_authors_pos = agg_fa_grouped_df.pivot(columns='author_position', values='count_position', index='author')\n",
    "# fill na values with zero\n",
    "female_authors_pos = female_authors_pos.fillna(0)\n",
    "female_authors_pos.head()"
   ]
  },
  {
   "cell_type": "code",
   "execution_count": 347,
   "metadata": {},
   "outputs": [],
   "source": [
    "female_authors_pos['freq_pos'] = female_authors_pos.idxmax(axis=1)  #.value_counts()[:10]"
   ]
  },
  {
   "cell_type": "code",
   "execution_count": 348,
   "metadata": {},
   "outputs": [
    {
     "data": {
      "text/html": [
       "<div>\n",
       "<style scoped>\n",
       "    .dataframe tbody tr th:only-of-type {\n",
       "        vertical-align: middle;\n",
       "    }\n",
       "\n",
       "    .dataframe tbody tr th {\n",
       "        vertical-align: top;\n",
       "    }\n",
       "\n",
       "    .dataframe thead th {\n",
       "        text-align: right;\n",
       "    }\n",
       "</style>\n",
       "<table border=\"1\" class=\"dataframe\">\n",
       "  <thead>\n",
       "    <tr style=\"text-align: right;\">\n",
       "      <th>author_position</th>\n",
       "      <th>1</th>\n",
       "      <th>2</th>\n",
       "      <th>3</th>\n",
       "      <th>4</th>\n",
       "      <th>5</th>\n",
       "      <th>6</th>\n",
       "      <th>7</th>\n",
       "      <th>8</th>\n",
       "      <th>9</th>\n",
       "      <th>10</th>\n",
       "      <th>...</th>\n",
       "      <th>93</th>\n",
       "      <th>95</th>\n",
       "      <th>103</th>\n",
       "      <th>107</th>\n",
       "      <th>117</th>\n",
       "      <th>118</th>\n",
       "      <th>120</th>\n",
       "      <th>126</th>\n",
       "      <th>129</th>\n",
       "      <th>freq_pos</th>\n",
       "    </tr>\n",
       "    <tr>\n",
       "      <th>author</th>\n",
       "      <th></th>\n",
       "      <th></th>\n",
       "      <th></th>\n",
       "      <th></th>\n",
       "      <th></th>\n",
       "      <th></th>\n",
       "      <th></th>\n",
       "      <th></th>\n",
       "      <th></th>\n",
       "      <th></th>\n",
       "      <th></th>\n",
       "      <th></th>\n",
       "      <th></th>\n",
       "      <th></th>\n",
       "      <th></th>\n",
       "      <th></th>\n",
       "      <th></th>\n",
       "      <th></th>\n",
       "      <th></th>\n",
       "      <th></th>\n",
       "      <th></th>\n",
       "    </tr>\n",
       "  </thead>\n",
       "  <tbody>\n",
       "    <tr>\n",
       "      <th>Aafke A van den Berg</th>\n",
       "      <td>1.0</td>\n",
       "      <td>0.0</td>\n",
       "      <td>0.0</td>\n",
       "      <td>0.0</td>\n",
       "      <td>0.0</td>\n",
       "      <td>0.0</td>\n",
       "      <td>0.0</td>\n",
       "      <td>0.0</td>\n",
       "      <td>0.0</td>\n",
       "      <td>0.0</td>\n",
       "      <td>...</td>\n",
       "      <td>0.0</td>\n",
       "      <td>0.0</td>\n",
       "      <td>0.0</td>\n",
       "      <td>0.0</td>\n",
       "      <td>0.0</td>\n",
       "      <td>0.0</td>\n",
       "      <td>0.0</td>\n",
       "      <td>0.0</td>\n",
       "      <td>0.0</td>\n",
       "      <td>1</td>\n",
       "    </tr>\n",
       "    <tr>\n",
       "      <th>Aafke W F Janssen</th>\n",
       "      <td>1.0</td>\n",
       "      <td>0.0</td>\n",
       "      <td>0.0</td>\n",
       "      <td>0.0</td>\n",
       "      <td>0.0</td>\n",
       "      <td>0.0</td>\n",
       "      <td>0.0</td>\n",
       "      <td>0.0</td>\n",
       "      <td>0.0</td>\n",
       "      <td>0.0</td>\n",
       "      <td>...</td>\n",
       "      <td>0.0</td>\n",
       "      <td>0.0</td>\n",
       "      <td>0.0</td>\n",
       "      <td>0.0</td>\n",
       "      <td>0.0</td>\n",
       "      <td>0.0</td>\n",
       "      <td>0.0</td>\n",
       "      <td>0.0</td>\n",
       "      <td>0.0</td>\n",
       "      <td>1</td>\n",
       "    </tr>\n",
       "    <tr>\n",
       "      <th>Aakrosh Ratan</th>\n",
       "      <td>2.0</td>\n",
       "      <td>1.0</td>\n",
       "      <td>0.0</td>\n",
       "      <td>0.0</td>\n",
       "      <td>1.0</td>\n",
       "      <td>0.0</td>\n",
       "      <td>0.0</td>\n",
       "      <td>1.0</td>\n",
       "      <td>0.0</td>\n",
       "      <td>0.0</td>\n",
       "      <td>...</td>\n",
       "      <td>0.0</td>\n",
       "      <td>0.0</td>\n",
       "      <td>0.0</td>\n",
       "      <td>0.0</td>\n",
       "      <td>0.0</td>\n",
       "      <td>0.0</td>\n",
       "      <td>0.0</td>\n",
       "      <td>0.0</td>\n",
       "      <td>0.0</td>\n",
       "      <td>1</td>\n",
       "    </tr>\n",
       "    <tr>\n",
       "      <th>Aamira Tariq</th>\n",
       "      <td>1.0</td>\n",
       "      <td>0.0</td>\n",
       "      <td>0.0</td>\n",
       "      <td>0.0</td>\n",
       "      <td>0.0</td>\n",
       "      <td>0.0</td>\n",
       "      <td>0.0</td>\n",
       "      <td>0.0</td>\n",
       "      <td>0.0</td>\n",
       "      <td>0.0</td>\n",
       "      <td>...</td>\n",
       "      <td>0.0</td>\n",
       "      <td>0.0</td>\n",
       "      <td>0.0</td>\n",
       "      <td>0.0</td>\n",
       "      <td>0.0</td>\n",
       "      <td>0.0</td>\n",
       "      <td>0.0</td>\n",
       "      <td>0.0</td>\n",
       "      <td>0.0</td>\n",
       "      <td>1</td>\n",
       "    </tr>\n",
       "    <tr>\n",
       "      <th>Aanchal Katoch</th>\n",
       "      <td>1.0</td>\n",
       "      <td>0.0</td>\n",
       "      <td>0.0</td>\n",
       "      <td>0.0</td>\n",
       "      <td>0.0</td>\n",
       "      <td>0.0</td>\n",
       "      <td>0.0</td>\n",
       "      <td>0.0</td>\n",
       "      <td>0.0</td>\n",
       "      <td>0.0</td>\n",
       "      <td>...</td>\n",
       "      <td>0.0</td>\n",
       "      <td>0.0</td>\n",
       "      <td>0.0</td>\n",
       "      <td>0.0</td>\n",
       "      <td>0.0</td>\n",
       "      <td>0.0</td>\n",
       "      <td>0.0</td>\n",
       "      <td>0.0</td>\n",
       "      <td>0.0</td>\n",
       "      <td>1</td>\n",
       "    </tr>\n",
       "    <tr>\n",
       "      <th>Aarti Garg</th>\n",
       "      <td>4.0</td>\n",
       "      <td>0.0</td>\n",
       "      <td>0.0</td>\n",
       "      <td>0.0</td>\n",
       "      <td>0.0</td>\n",
       "      <td>0.0</td>\n",
       "      <td>0.0</td>\n",
       "      <td>0.0</td>\n",
       "      <td>0.0</td>\n",
       "      <td>0.0</td>\n",
       "      <td>...</td>\n",
       "      <td>0.0</td>\n",
       "      <td>0.0</td>\n",
       "      <td>0.0</td>\n",
       "      <td>0.0</td>\n",
       "      <td>0.0</td>\n",
       "      <td>0.0</td>\n",
       "      <td>0.0</td>\n",
       "      <td>0.0</td>\n",
       "      <td>0.0</td>\n",
       "      <td>1</td>\n",
       "    </tr>\n",
       "    <tr>\n",
       "      <th>Aarti Sevilimedu</th>\n",
       "      <td>1.0</td>\n",
       "      <td>0.0</td>\n",
       "      <td>1.0</td>\n",
       "      <td>0.0</td>\n",
       "      <td>0.0</td>\n",
       "      <td>0.0</td>\n",
       "      <td>0.0</td>\n",
       "      <td>0.0</td>\n",
       "      <td>0.0</td>\n",
       "      <td>0.0</td>\n",
       "      <td>...</td>\n",
       "      <td>0.0</td>\n",
       "      <td>0.0</td>\n",
       "      <td>0.0</td>\n",
       "      <td>0.0</td>\n",
       "      <td>0.0</td>\n",
       "      <td>0.0</td>\n",
       "      <td>0.0</td>\n",
       "      <td>0.0</td>\n",
       "      <td>0.0</td>\n",
       "      <td>1</td>\n",
       "    </tr>\n",
       "    <tr>\n",
       "      <th>Abbey B Holt</th>\n",
       "      <td>1.0</td>\n",
       "      <td>0.0</td>\n",
       "      <td>0.0</td>\n",
       "      <td>0.0</td>\n",
       "      <td>0.0</td>\n",
       "      <td>0.0</td>\n",
       "      <td>0.0</td>\n",
       "      <td>0.0</td>\n",
       "      <td>0.0</td>\n",
       "      <td>0.0</td>\n",
       "      <td>...</td>\n",
       "      <td>0.0</td>\n",
       "      <td>0.0</td>\n",
       "      <td>0.0</td>\n",
       "      <td>0.0</td>\n",
       "      <td>0.0</td>\n",
       "      <td>0.0</td>\n",
       "      <td>0.0</td>\n",
       "      <td>0.0</td>\n",
       "      <td>0.0</td>\n",
       "      <td>1</td>\n",
       "    </tr>\n",
       "    <tr>\n",
       "      <th>Abha Singh Bais</th>\n",
       "      <td>1.0</td>\n",
       "      <td>0.0</td>\n",
       "      <td>0.0</td>\n",
       "      <td>0.0</td>\n",
       "      <td>0.0</td>\n",
       "      <td>0.0</td>\n",
       "      <td>0.0</td>\n",
       "      <td>0.0</td>\n",
       "      <td>0.0</td>\n",
       "      <td>0.0</td>\n",
       "      <td>...</td>\n",
       "      <td>0.0</td>\n",
       "      <td>0.0</td>\n",
       "      <td>0.0</td>\n",
       "      <td>0.0</td>\n",
       "      <td>0.0</td>\n",
       "      <td>0.0</td>\n",
       "      <td>0.0</td>\n",
       "      <td>0.0</td>\n",
       "      <td>0.0</td>\n",
       "      <td>1</td>\n",
       "    </tr>\n",
       "    <tr>\n",
       "      <th>Abibatou Mbodj</th>\n",
       "      <td>1.0</td>\n",
       "      <td>0.0</td>\n",
       "      <td>0.0</td>\n",
       "      <td>0.0</td>\n",
       "      <td>0.0</td>\n",
       "      <td>0.0</td>\n",
       "      <td>0.0</td>\n",
       "      <td>0.0</td>\n",
       "      <td>0.0</td>\n",
       "      <td>0.0</td>\n",
       "      <td>...</td>\n",
       "      <td>0.0</td>\n",
       "      <td>0.0</td>\n",
       "      <td>0.0</td>\n",
       "      <td>0.0</td>\n",
       "      <td>0.0</td>\n",
       "      <td>0.0</td>\n",
       "      <td>0.0</td>\n",
       "      <td>0.0</td>\n",
       "      <td>0.0</td>\n",
       "      <td>1</td>\n",
       "    </tr>\n",
       "  </tbody>\n",
       "</table>\n",
       "<p>10 rows × 90 columns</p>\n",
       "</div>"
      ],
      "text/plain": [
       "author_position         1    2    3    4    5    6    7    8    9   10  ...  \\\n",
       "author                                                                  ...   \n",
       "Aafke A van den Berg  1.0  0.0  0.0  0.0  0.0  0.0  0.0  0.0  0.0  0.0  ...   \n",
       "Aafke W F Janssen     1.0  0.0  0.0  0.0  0.0  0.0  0.0  0.0  0.0  0.0  ...   \n",
       "Aakrosh Ratan         2.0  1.0  0.0  0.0  1.0  0.0  0.0  1.0  0.0  0.0  ...   \n",
       "Aamira Tariq          1.0  0.0  0.0  0.0  0.0  0.0  0.0  0.0  0.0  0.0  ...   \n",
       "Aanchal Katoch        1.0  0.0  0.0  0.0  0.0  0.0  0.0  0.0  0.0  0.0  ...   \n",
       "Aarti Garg            4.0  0.0  0.0  0.0  0.0  0.0  0.0  0.0  0.0  0.0  ...   \n",
       "Aarti Sevilimedu      1.0  0.0  1.0  0.0  0.0  0.0  0.0  0.0  0.0  0.0  ...   \n",
       "Abbey B Holt          1.0  0.0  0.0  0.0  0.0  0.0  0.0  0.0  0.0  0.0  ...   \n",
       "Abha Singh Bais       1.0  0.0  0.0  0.0  0.0  0.0  0.0  0.0  0.0  0.0  ...   \n",
       "Abibatou Mbodj        1.0  0.0  0.0  0.0  0.0  0.0  0.0  0.0  0.0  0.0  ...   \n",
       "\n",
       "author_position        93   95  103  107  117  118  120  126  129  freq_pos  \n",
       "author                                                                       \n",
       "Aafke A van den Berg  0.0  0.0  0.0  0.0  0.0  0.0  0.0  0.0  0.0         1  \n",
       "Aafke W F Janssen     0.0  0.0  0.0  0.0  0.0  0.0  0.0  0.0  0.0         1  \n",
       "Aakrosh Ratan         0.0  0.0  0.0  0.0  0.0  0.0  0.0  0.0  0.0         1  \n",
       "Aamira Tariq          0.0  0.0  0.0  0.0  0.0  0.0  0.0  0.0  0.0         1  \n",
       "Aanchal Katoch        0.0  0.0  0.0  0.0  0.0  0.0  0.0  0.0  0.0         1  \n",
       "Aarti Garg            0.0  0.0  0.0  0.0  0.0  0.0  0.0  0.0  0.0         1  \n",
       "Aarti Sevilimedu      0.0  0.0  0.0  0.0  0.0  0.0  0.0  0.0  0.0         1  \n",
       "Abbey B Holt          0.0  0.0  0.0  0.0  0.0  0.0  0.0  0.0  0.0         1  \n",
       "Abha Singh Bais       0.0  0.0  0.0  0.0  0.0  0.0  0.0  0.0  0.0         1  \n",
       "Abibatou Mbodj        0.0  0.0  0.0  0.0  0.0  0.0  0.0  0.0  0.0         1  \n",
       "\n",
       "[10 rows x 90 columns]"
      ]
     },
     "execution_count": 348,
     "metadata": {},
     "output_type": "execute_result"
    }
   ],
   "source": [
    "female_authors_pos[female_authors_pos['freq_pos']==1].head(10)"
   ]
  },
  {
   "cell_type": "markdown",
   "metadata": {},
   "source": [
    "### Positions most frequently occuped by female authors in papers"
   ]
  },
  {
   "cell_type": "code",
   "execution_count": 349,
   "metadata": {},
   "outputs": [
    {
     "data": {
      "text/plain": [
       "1     7741\n",
       "2     6807\n",
       "3     5624\n",
       "4     4269\n",
       "5     2987\n",
       "6     2156\n",
       "7     1524\n",
       "8      978\n",
       "9      682\n",
       "10     473\n",
       "Name: freq_pos, dtype: int64"
      ]
     },
     "execution_count": 349,
     "metadata": {},
     "output_type": "execute_result"
    }
   ],
   "source": [
    "female_authors_pos['freq_pos'].value_counts()[:10]"
   ]
  },
  {
   "cell_type": "code",
   "execution_count": 353,
   "metadata": {},
   "outputs": [
    {
     "name": "stdout",
     "output_type": "stream",
     "text": [
      "There are 9678 (26.27%) papers led by a woman (only first authors with identified gender as considered in the analysis)\n",
      "In 8917 (92.14%) of this papers there are also men as co-authors\n"
     ]
    }
   ],
   "source": [
    "title_papers_led_female = papers_authors[(papers_authors['author_gender']=='female') & \\\n",
    "                                         (papers_authors['author_position']==1)]['title']\n",
    "papers_led_female = papers_authors[papers_authors['title'].isin(title_papers_led_female)]\n",
    "papers_led_female = papers_led_female.drop(['id', 'doi', 'year', 'category', 'author', 'author_position'], axis=1)\n",
    "papers_led_female_grouped_by_title = papers_led_female.groupby(['title','author_gender'], \\\n",
    "                                                               sort=False, as_index=False)\n",
    "agg_papers_grouped_lbf = papers_led_female_grouped_by_title[['author_gender']].\\\n",
    "    agg({'author_gender': {'count_gender': 'count'}})\n",
    "papers_led_female_df = agg_papers_grouped_lbf.pivot(columns='author_gender', values='count_gender', index='title') \n",
    "papers_led_female_df = papers_led_female_df.fillna(0)\n",
    "num_papers_led_by_woman = papers_led_female_df.shape[0]\n",
    "per_papers_led_by_woman = round(num_papers_led_by_woman/papers.shape[0]*100,2)\n",
    "print('There are {} ({}%) papers led by a woman (only first authors with '\n",
    "      'identified gender as considered in the analysis)'.format(num_papers_led_by_woman, per_papers_led_by_woman))\n",
    "num_papers_led_by_woman_men = papers_led_female_df[papers_led_female_df['male']>0].shape[0]\n",
    "per_papers_led_by_woman_men = round(num_papers_led_by_woman_men/num_papers_led_by_woman*100,2)\n",
    "print('In {} ({}%) of this papers there are also men as co-authors'.format(num_papers_led_by_woman_men, \\\n",
    "                                                                          per_papers_led_by_woman_men))"
   ]
  },
  {
   "cell_type": "markdown",
   "metadata": {},
   "source": [
    "## Citations by gender"
   ]
  },
  {
   "cell_type": "markdown",
   "metadata": {},
   "source": [
    "### Citations of papers with mostly female and male authors"
   ]
  },
  {
   "cell_type": "code",
   "execution_count": 363,
   "metadata": {},
   "outputs": [],
   "source": [
    "papers_with_most_females = papers_gender_dist[papers_gender_dist['most_female']==1].index.values\n",
    "c_mostly_female_authors = papers[papers['title'].isin(papers_with_most_females)]['citations']\n",
    "papers_with_most_male = papers_gender_dist[papers_gender_dist['most_male']==1].index.values\n",
    "c_mostly_male_authors = papers[papers['title'].isin(papers_with_most_male)]['citations']"
   ]
  },
  {
   "cell_type": "code",
   "execution_count": 364,
   "metadata": {},
   "outputs": [
    {
     "data": {
      "text/plain": [
       "count    10540.000000\n",
       "mean        30.656357\n",
       "std        126.424511\n",
       "min          0.000000\n",
       "25%          5.000000\n",
       "50%         13.000000\n",
       "75%         30.000000\n",
       "max       9753.000000\n",
       "Name: citations, dtype: float64"
      ]
     },
     "execution_count": 364,
     "metadata": {},
     "output_type": "execute_result"
    }
   ],
   "source": [
    "c_mostly_female_authors.describe()"
   ]
  },
  {
   "cell_type": "code",
   "execution_count": 365,
   "metadata": {},
   "outputs": [
    {
     "data": {
      "text/plain": [
       "count    21956.000000\n",
       "mean        35.227227\n",
       "std        139.904337\n",
       "min          0.000000\n",
       "25%          5.000000\n",
       "50%         13.000000\n",
       "75%         31.000000\n",
       "max       9254.000000\n",
       "Name: citations, dtype: float64"
      ]
     },
     "execution_count": 365,
     "metadata": {},
     "output_type": "execute_result"
    }
   ],
   "source": [
    "c_mostly_male_authors.describe()"
   ]
  },
  {
   "cell_type": "code",
   "execution_count": 366,
   "metadata": {},
   "outputs": [
    {
     "data": {
      "image/png": "[encoded data removed]",
      "text/plain": [
       "<Figure size 864x576 with 1 Axes>"
      ]
     },
     "metadata": {
      "needs_background": "light"
     },
     "output_type": "display_data"
    }
   ],
   "source": [
    "data_to_plot = [c_mostly_female_authors, c_mostly_male_authors]\n",
    "# Create a figure instance\n",
    "fig = plt.figure(1, figsize=(12, 8))\n",
    "# Create an axes instance\n",
    "ax = fig.add_subplot(111)\n",
    "ax.set_xticklabels(['Most female authors', 'Most male authors'])\n",
    "# Create the boxplot\n",
    "bp = ax.boxplot(data_to_plot, showfliers=False)"
   ]
  },
  {
   "cell_type": "markdown",
   "metadata": {},
   "source": [
    "#### Are the different statistically significant?"
   ]
  },
  {
   "cell_type": "code",
   "execution_count": 367,
   "metadata": {},
   "outputs": [
    {
     "name": "stdout",
     "output_type": "stream",
     "text": [
      "The difference is statistically significant, p-value: 0.004\n"
     ]
    }
   ],
   "source": [
    "ttest,pval = ttest_ind(c_mostly_female_authors,c_mostly_male_authors)\n",
    "if pval < 0.05:\n",
    "    print(\"The difference is statistically significant, p-value:\",round(pval,3))\n",
    "else:\n",
    "    print(\"The difference is not statistically significant, p-value:\",round(pval,3))"
   ]
  },
  {
   "cell_type": "markdown",
   "metadata": {},
   "source": [
    "### Citations of papers with only female and male authors"
   ]
  },
  {
   "cell_type": "code",
   "execution_count": 368,
   "metadata": {},
   "outputs": [],
   "source": [
    "papers_with_most_females = papers_gender_dist[papers_gender_dist['only_female']==1].index.values\n",
    "c_only_female_authors = papers[papers['title'].isin(papers_with_most_females)]['citations']\n",
    "papers_with_most_male = papers_gender_dist[papers_gender_dist['only_male']==1].index.values\n",
    "c_only_male_authors = papers[papers['title'].isin(papers_with_most_male)]['citations']"
   ]
  },
  {
   "cell_type": "code",
   "execution_count": 369,
   "metadata": {},
   "outputs": [
    {
     "data": {
      "text/plain": [
       "count    1442.000000\n",
       "mean       24.538141\n",
       "std        80.272499\n",
       "min         0.000000\n",
       "25%         3.250000\n",
       "50%        10.000000\n",
       "75%        25.000000\n",
       "max      2115.000000\n",
       "Name: citations, dtype: float64"
      ]
     },
     "execution_count": 369,
     "metadata": {},
     "output_type": "execute_result"
    }
   ],
   "source": [
    "c_only_female_authors.describe()"
   ]
  },
  {
   "cell_type": "code",
   "execution_count": 370,
   "metadata": {},
   "outputs": [
    {
     "data": {
      "text/plain": [
       "count    12687.000000\n",
       "mean        37.279656\n",
       "std        165.227185\n",
       "min          0.000000\n",
       "25%          5.000000\n",
       "50%         13.000000\n",
       "75%         32.000000\n",
       "max       9254.000000\n",
       "Name: citations, dtype: float64"
      ]
     },
     "execution_count": 370,
     "metadata": {},
     "output_type": "execute_result"
    }
   ],
   "source": [
    "c_only_male_authors.describe()"
   ]
  },
  {
   "cell_type": "code",
   "execution_count": 371,
   "metadata": {},
   "outputs": [
    {
     "data": {
      "image/png": "[encoded data removed]",
      "text/plain": [
       "<Figure size 864x576 with 1 Axes>"
      ]
     },
     "metadata": {
      "needs_background": "light"
     },
     "output_type": "display_data"
    }
   ],
   "source": [
    "data_to_plot = [c_only_female_authors, c_only_male_authors]\n",
    "# Create a figure instance\n",
    "fig = plt.figure(1, figsize=(12, 8))\n",
    "# Create an axes instance\n",
    "ax = fig.add_subplot(111)\n",
    "ax.set_xticklabels(['Only female authors', 'Only male authors'])\n",
    "# Create the boxplot\n",
    "bp = ax.boxplot(data_to_plot, showfliers=False)"
   ]
  },
  {
   "cell_type": "markdown",
   "metadata": {},
   "source": [
    "#### Are the different statistically significant?"
   ]
  },
  {
   "cell_type": "code",
   "execution_count": 372,
   "metadata": {},
   "outputs": [
    {
     "name": "stdout",
     "output_type": "stream",
     "text": [
      "The difference is statistically significant, p-value: 0.004\n"
     ]
    }
   ],
   "source": [
    "ttest,pval = ttest_ind(c_only_female_authors,c_only_male_authors)\n",
    "if pval < 0.05:\n",
    "    print(\"The difference is statistically significant, p-value:\",round(pval,3))\n",
    "else:\n",
    "    print(\"The difference is not statistically significant, p-value:\",round(pval,3))"
   ]
  },
  {
   "cell_type": "markdown",
   "metadata": {},
   "source": [
    "### Citations of papers led by female and male authors"
   ]
  },
  {
   "cell_type": "code",
   "execution_count": 373,
   "metadata": {},
   "outputs": [
    {
     "name": "stderr",
     "output_type": "stream",
     "text": [
      "/home/jorge/python_venvs/gender_identification/lib/python3.6/site-packages/pandas/core/groupby/generic.py:1315: FutureWarning: using a dict with renaming is deprecated and will be removed in a future version\n",
      "  return super(DataFrameGroupBy, self).aggregate(arg, *args, **kwargs)\n"
     ]
    }
   ],
   "source": [
    "# citations led by female authors\n",
    "c_led_female_authors = papers[papers['title'].isin(papers_led_female_df.index.values)]['citations']\n",
    "# citations led by male authors\n",
    "title_papers_led_male = papers_authors[(papers_authors['author_gender']=='male') & \\\n",
    "                                       (papers_authors['author_position']==1)]['title']\n",
    "papers_led_male = papers_authors[papers_authors['title'].isin(title_papers_led_male)]\n",
    "papers_led_male = papers_led_male.drop(['id', 'doi', 'year', 'category', 'author', 'author_position'], axis=1)\n",
    "papers_led_male_grouped_by_title = papers_led_male.groupby(['title','author_gender'], sort=False, as_index=False)\n",
    "agg_papers_grouped_lbm = papers_led_male_grouped_by_title[['author_gender']].\\\n",
    "    agg({'author_gender': {'count_gender': 'count'}})\n",
    "papers_led_male_df = agg_papers_grouped_lbm.pivot(columns='author_gender', values='count_gender', index='title')\n",
    "c_led_male_authors = papers[papers['title'].isin(papers_led_male_df.index.values)]['citations']"
   ]
  },
  {
   "cell_type": "code",
   "execution_count": 374,
   "metadata": {},
   "outputs": [
    {
     "data": {
      "text/plain": [
       "count    9678.000000\n",
       "mean       28.173280\n",
       "std        78.587522\n",
       "min         0.000000\n",
       "25%         5.000000\n",
       "50%        13.000000\n",
       "75%        29.000000\n",
       "max      2686.000000\n",
       "Name: citations, dtype: float64"
      ]
     },
     "execution_count": 374,
     "metadata": {},
     "output_type": "execute_result"
    }
   ],
   "source": [
    "c_led_female_authors.describe()"
   ]
  },
  {
   "cell_type": "code",
   "execution_count": 375,
   "metadata": {},
   "outputs": [
    {
     "data": {
      "text/plain": [
       "count    21298.000000\n",
       "mean        36.086957\n",
       "std        128.383329\n",
       "min          0.000000\n",
       "25%          5.000000\n",
       "50%         14.000000\n",
       "75%         32.000000\n",
       "max       8608.000000\n",
       "Name: citations, dtype: float64"
      ]
     },
     "execution_count": 375,
     "metadata": {},
     "output_type": "execute_result"
    }
   ],
   "source": [
    "c_led_male_authors.describe()"
   ]
  },
  {
   "cell_type": "code",
   "execution_count": 376,
   "metadata": {},
   "outputs": [
    {
     "data": {
      "image/png": "[encoded data removed]",
      "text/plain": [
       "<Figure size 864x576 with 1 Axes>"
      ]
     },
     "metadata": {
      "needs_background": "light"
     },
     "output_type": "display_data"
    }
   ],
   "source": [
    "data_to_plot = [c_led_female_authors, c_led_male_authors]\n",
    "# Create a figure instance\n",
    "fig = plt.figure(1, figsize=(12, 8))\n",
    "# Create an axes instance\n",
    "ax = fig.add_subplot(111)\n",
    "ax.set_xticklabels(['Led by female authors', 'Led by male authors'])\n",
    "# Create the boxplot\n",
    "bp = ax.boxplot(data_to_plot, showfliers=False)"
   ]
  },
  {
   "cell_type": "markdown",
   "metadata": {},
   "source": [
    "#### Are the different statistically significant?"
   ]
  },
  {
   "cell_type": "code",
   "execution_count": 383,
   "metadata": {},
   "outputs": [
    {
     "name": "stdout",
     "output_type": "stream",
     "text": [
      "The difference is statistically significant, p-value: 2.0937046366086256e-08\n"
     ]
    }
   ],
   "source": [
    "ttest,pval = ttest_ind(c_led_female_authors,c_led_male_authors)\n",
    "if pval < 0.05:\n",
    "    print(\"The difference is statistically significant, p-value:\", pval)\n",
    "else:\n",
    "    print(\"The difference is not statistically significant, p-value:\",round(pval,3))"
   ]
  },
  {
   "cell_type": "markdown",
   "metadata": {},
   "source": [
    "### Citations of papers with female and male authors as last authors"
   ]
  },
  {
   "cell_type": "code",
   "execution_count": 378,
   "metadata": {},
   "outputs": [],
   "source": [
    "citations_papers_female_author = papers[papers['gender_last_author']=='female']['citations']\n",
    "citations_papers_male_author = papers[papers['gender_last_author']=='male']['citations']"
   ]
  },
  {
   "cell_type": "code",
   "execution_count": 379,
   "metadata": {},
   "outputs": [
    {
     "data": {
      "text/plain": [
       "count    7896.000000\n",
       "mean       26.544453\n",
       "std        70.135201\n",
       "min         0.000000\n",
       "25%         4.000000\n",
       "50%        12.000000\n",
       "75%        27.000000\n",
       "max      2115.000000\n",
       "Name: citations, dtype: float64"
      ]
     },
     "execution_count": 379,
     "metadata": {},
     "output_type": "execute_result"
    }
   ],
   "source": [
    "citations_papers_female_author.describe()"
   ]
  },
  {
   "cell_type": "code",
   "execution_count": 380,
   "metadata": {},
   "outputs": [
    {
     "data": {
      "text/plain": [
       "count    28829.000000\n",
       "mean        35.361025\n",
       "std        143.206904\n",
       "min          0.000000\n",
       "25%          5.000000\n",
       "50%         13.000000\n",
       "75%         32.000000\n",
       "max       9753.000000\n",
       "Name: citations, dtype: float64"
      ]
     },
     "execution_count": 380,
     "metadata": {},
     "output_type": "execute_result"
    }
   ],
   "source": [
    "citations_papers_male_author.describe()"
   ]
  },
  {
   "cell_type": "code",
   "execution_count": 381,
   "metadata": {},
   "outputs": [
    {
     "data": {
      "image/png": "[encoded data removed]",
      "text/plain": [
       "<Figure size 864x576 with 1 Axes>"
      ]
     },
     "metadata": {
      "needs_background": "light"
     },
     "output_type": "display_data"
    }
   ],
   "source": [
    "data_to_plot = [citations_papers_female_author, citations_papers_male_author]\n",
    "# Create a figure instance\n",
    "fig = plt.figure(1, figsize=(12, 8))\n",
    "# Create an axes instance\n",
    "ax = fig.add_subplot(111)\n",
    "ax.set_xticklabels(['Female as last author', 'Male as last author'])\n",
    "# Create the boxplot\n",
    "bp = ax.boxplot(data_to_plot, showfliers=False)"
   ]
  },
  {
   "cell_type": "markdown",
   "metadata": {},
   "source": [
    "#### Are the different statistically significant?"
   ]
  },
  {
   "cell_type": "code",
   "execution_count": 382,
   "metadata": {},
   "outputs": [
    {
     "name": "stdout",
     "output_type": "stream",
     "text": [
      "The difference is statistically significant, p-value: 1.1690383524900284e-07\n"
     ]
    }
   ],
   "source": [
    "ttest,pval = ttest_ind(citations_papers_female_author, citations_papers_male_author)\n",
    "if pval < 0.05:\n",
    "    print(\"The difference is statistically significant, p-value:\",pval)\n",
    "else:\n",
    "    print(\"The difference is not statistically significant, p-value:\",round(pval,3))"
   ]
  },
  {
   "cell_type": "markdown",
   "metadata": {},
   "source": [
    "### Correlation between citations and gender distribution"
   ]
  },
  {
   "cell_type": "code",
   "execution_count": 392,
   "metadata": {},
   "outputs": [],
   "source": [
    "papers_gender_dist['gender_ratio'] = np.where(papers_gender_dist['male'] > 0, \n",
    "                                              papers_gender_dist['female']/papers_gender_dist['male'], \n",
    "                                              50)"
   ]
  },
  {
   "cell_type": "code",
   "execution_count": 393,
   "metadata": {},
   "outputs": [
    {
     "data": {
      "text/html": [
       "<div>\n",
       "<style scoped>\n",
       "    .dataframe tbody tr th:only-of-type {\n",
       "        vertical-align: middle;\n",
       "    }\n",
       "\n",
       "    .dataframe tbody tr th {\n",
       "        vertical-align: top;\n",
       "    }\n",
       "\n",
       "    .dataframe thead th {\n",
       "        text-align: right;\n",
       "    }\n",
       "</style>\n",
       "<table border=\"1\" class=\"dataframe\">\n",
       "  <thead>\n",
       "    <tr style=\"text-align: right;\">\n",
       "      <th>author_gender</th>\n",
       "      <th>female</th>\n",
       "      <th>male</th>\n",
       "      <th>most_female</th>\n",
       "      <th>most_male</th>\n",
       "      <th>equal_gender</th>\n",
       "      <th>only_male</th>\n",
       "      <th>only_female</th>\n",
       "      <th>gender_ratio</th>\n",
       "    </tr>\n",
       "    <tr>\n",
       "      <th>title</th>\n",
       "      <th></th>\n",
       "      <th></th>\n",
       "      <th></th>\n",
       "      <th></th>\n",
       "      <th></th>\n",
       "      <th></th>\n",
       "      <th></th>\n",
       "      <th></th>\n",
       "    </tr>\n",
       "  </thead>\n",
       "  <tbody>\n",
       "    <tr>\n",
       "      <th>'Bois noir' phytoplasma induces significant reprogramming of the leaf transcriptome in the field grown grapevine</th>\n",
       "      <td>1.0</td>\n",
       "      <td>9.0</td>\n",
       "      <td>0</td>\n",
       "      <td>1</td>\n",
       "      <td>0</td>\n",
       "      <td>0</td>\n",
       "      <td>0</td>\n",
       "      <td>0.111111</td>\n",
       "    </tr>\n",
       "    <tr>\n",
       "      <th>'Brukin2D': A 2D visualization and comparison tool for LC-MS data</th>\n",
       "      <td>2.0</td>\n",
       "      <td>6.0</td>\n",
       "      <td>0</td>\n",
       "      <td>1</td>\n",
       "      <td>0</td>\n",
       "      <td>0</td>\n",
       "      <td>0</td>\n",
       "      <td>0.333333</td>\n",
       "    </tr>\n",
       "    <tr>\n",
       "      <th>'Evidence of an auxin signal pathway, microRNA167-ARF8-GH3, and its response to exogenous auxin in cultured rice cells'</th>\n",
       "      <td>2.0</td>\n",
       "      <td>0.0</td>\n",
       "      <td>1</td>\n",
       "      <td>0</td>\n",
       "      <td>0</td>\n",
       "      <td>0</td>\n",
       "      <td>1</td>\n",
       "      <td>50.000000</td>\n",
       "    </tr>\n",
       "    <tr>\n",
       "      <th>'Genome design' model and multicellular complexity: Golden middle</th>\n",
       "      <td>0.0</td>\n",
       "      <td>3.0</td>\n",
       "      <td>0</td>\n",
       "      <td>1</td>\n",
       "      <td>0</td>\n",
       "      <td>1</td>\n",
       "      <td>0</td>\n",
       "      <td>0.000000</td>\n",
       "    </tr>\n",
       "    <tr>\n",
       "      <th>'HypothesisFinder:' A Strategy for the Detection of Speculative Statements in Scientific Text</th>\n",
       "      <td>8.0</td>\n",
       "      <td>6.0</td>\n",
       "      <td>1</td>\n",
       "      <td>0</td>\n",
       "      <td>0</td>\n",
       "      <td>0</td>\n",
       "      <td>0</td>\n",
       "      <td>1.333333</td>\n",
       "    </tr>\n",
       "  </tbody>\n",
       "</table>\n",
       "</div>"
      ],
      "text/plain": [
       "author_gender                                       female  male  most_female  \\\n",
       "title                                                                           \n",
       "'Bois noir' phytoplasma induces significant rep...     1.0   9.0            0   \n",
       "'Brukin2D': A 2D visualization and comparison t...     2.0   6.0            0   \n",
       "'Evidence of an auxin signal pathway, microRNA1...     2.0   0.0            1   \n",
       "'Genome design' model and multicellular complex...     0.0   3.0            0   \n",
       "'HypothesisFinder:' A Strategy for the Detectio...     8.0   6.0            1   \n",
       "\n",
       "author_gender                                       most_male  equal_gender  \\\n",
       "title                                                                         \n",
       "'Bois noir' phytoplasma induces significant rep...          1             0   \n",
       "'Brukin2D': A 2D visualization and comparison t...          1             0   \n",
       "'Evidence of an auxin signal pathway, microRNA1...          0             0   \n",
       "'Genome design' model and multicellular complex...          1             0   \n",
       "'HypothesisFinder:' A Strategy for the Detectio...          0             0   \n",
       "\n",
       "author_gender                                       only_male  only_female  \\\n",
       "title                                                                        \n",
       "'Bois noir' phytoplasma induces significant rep...          0            0   \n",
       "'Brukin2D': A 2D visualization and comparison t...          0            0   \n",
       "'Evidence of an auxin signal pathway, microRNA1...          0            1   \n",
       "'Genome design' model and multicellular complex...          1            0   \n",
       "'HypothesisFinder:' A Strategy for the Detectio...          0            0   \n",
       "\n",
       "author_gender                                       gender_ratio  \n",
       "title                                                             \n",
       "'Bois noir' phytoplasma induces significant rep...      0.111111  \n",
       "'Brukin2D': A 2D visualization and comparison t...      0.333333  \n",
       "'Evidence of an auxin signal pathway, microRNA1...     50.000000  \n",
       "'Genome design' model and multicellular complex...      0.000000  \n",
       "'HypothesisFinder:' A Strategy for the Detectio...      1.333333  "
      ]
     },
     "execution_count": 393,
     "metadata": {},
     "output_type": "execute_result"
    }
   ],
   "source": [
    "papers_gender_dist.head()"
   ]
  },
  {
   "cell_type": "code",
   "execution_count": 416,
   "metadata": {},
   "outputs": [],
   "source": [
    "papers_gdr = pd.DataFrame({'title': papers_gender_dist.index.values,\n",
    "                           'female': papers_gender_dist['female'],\n",
    "                           'male': papers_gender_dist['male'],\n",
    "                           'gender_ratio':papers_gender_dist['gender_ratio']},\n",
    "                          index=papers_gender_dist.index.values)"
   ]
  },
  {
   "cell_type": "code",
   "execution_count": 417,
   "metadata": {},
   "outputs": [
    {
     "data": {
      "text/html": [
       "<div>\n",
       "<style scoped>\n",
       "    .dataframe tbody tr th:only-of-type {\n",
       "        vertical-align: middle;\n",
       "    }\n",
       "\n",
       "    .dataframe tbody tr th {\n",
       "        vertical-align: top;\n",
       "    }\n",
       "\n",
       "    .dataframe thead th {\n",
       "        text-align: right;\n",
       "    }\n",
       "</style>\n",
       "<table border=\"1\" class=\"dataframe\">\n",
       "  <thead>\n",
       "    <tr style=\"text-align: right;\">\n",
       "      <th></th>\n",
       "      <th>title</th>\n",
       "      <th>female</th>\n",
       "      <th>male</th>\n",
       "      <th>gender_ratio</th>\n",
       "    </tr>\n",
       "  </thead>\n",
       "  <tbody>\n",
       "    <tr>\n",
       "      <th>'Bois noir' phytoplasma induces significant reprogramming of the leaf transcriptome in the field grown grapevine</th>\n",
       "      <td>'Bois noir' phytoplasma induces significant re...</td>\n",
       "      <td>1.0</td>\n",
       "      <td>9.0</td>\n",
       "      <td>0.111111</td>\n",
       "    </tr>\n",
       "    <tr>\n",
       "      <th>'Brukin2D': A 2D visualization and comparison tool for LC-MS data</th>\n",
       "      <td>'Brukin2D': A 2D visualization and comparison ...</td>\n",
       "      <td>2.0</td>\n",
       "      <td>6.0</td>\n",
       "      <td>0.333333</td>\n",
       "    </tr>\n",
       "    <tr>\n",
       "      <th>'Evidence of an auxin signal pathway, microRNA167-ARF8-GH3, and its response to exogenous auxin in cultured rice cells'</th>\n",
       "      <td>'Evidence of an auxin signal pathway, microRNA...</td>\n",
       "      <td>2.0</td>\n",
       "      <td>0.0</td>\n",
       "      <td>50.000000</td>\n",
       "    </tr>\n",
       "    <tr>\n",
       "      <th>'Genome design' model and multicellular complexity: Golden middle</th>\n",
       "      <td>'Genome design' model and multicellular comple...</td>\n",
       "      <td>0.0</td>\n",
       "      <td>3.0</td>\n",
       "      <td>0.000000</td>\n",
       "    </tr>\n",
       "    <tr>\n",
       "      <th>'HypothesisFinder:' A Strategy for the Detection of Speculative Statements in Scientific Text</th>\n",
       "      <td>'HypothesisFinder:' A Strategy for the Detecti...</td>\n",
       "      <td>8.0</td>\n",
       "      <td>6.0</td>\n",
       "      <td>1.333333</td>\n",
       "    </tr>\n",
       "  </tbody>\n",
       "</table>\n",
       "</div>"
      ],
      "text/plain": [
       "                                                                                                title  \\\n",
       "'Bois noir' phytoplasma induces significant rep...  'Bois noir' phytoplasma induces significant re...   \n",
       "'Brukin2D': A 2D visualization and comparison t...  'Brukin2D': A 2D visualization and comparison ...   \n",
       "'Evidence of an auxin signal pathway, microRNA1...  'Evidence of an auxin signal pathway, microRNA...   \n",
       "'Genome design' model and multicellular complex...  'Genome design' model and multicellular comple...   \n",
       "'HypothesisFinder:' A Strategy for the Detectio...  'HypothesisFinder:' A Strategy for the Detecti...   \n",
       "\n",
       "                                                    female  male  gender_ratio  \n",
       "'Bois noir' phytoplasma induces significant rep...     1.0   9.0      0.111111  \n",
       "'Brukin2D': A 2D visualization and comparison t...     2.0   6.0      0.333333  \n",
       "'Evidence of an auxin signal pathway, microRNA1...     2.0   0.0     50.000000  \n",
       "'Genome design' model and multicellular complex...     0.0   3.0      0.000000  \n",
       "'HypothesisFinder:' A Strategy for the Detectio...     8.0   6.0      1.333333  "
      ]
     },
     "execution_count": 417,
     "metadata": {},
     "output_type": "execute_result"
    }
   ],
   "source": [
    "papers_gdr.head()"
   ]
  },
  {
   "cell_type": "code",
   "execution_count": 423,
   "metadata": {},
   "outputs": [],
   "source": [
    "papers_cgd = papers[['title','citations']].merge(papers_gdr, left_on='title', right_on='title')"
   ]
  },
  {
   "cell_type": "code",
   "execution_count": 424,
   "metadata": {},
   "outputs": [
    {
     "data": {
      "text/html": [
       "<div>\n",
       "<style scoped>\n",
       "    .dataframe tbody tr th:only-of-type {\n",
       "        vertical-align: middle;\n",
       "    }\n",
       "\n",
       "    .dataframe tbody tr th {\n",
       "        vertical-align: top;\n",
       "    }\n",
       "\n",
       "    .dataframe thead th {\n",
       "        text-align: right;\n",
       "    }\n",
       "</style>\n",
       "<table border=\"1\" class=\"dataframe\">\n",
       "  <thead>\n",
       "    <tr style=\"text-align: right;\">\n",
       "      <th></th>\n",
       "      <th>title</th>\n",
       "      <th>citations</th>\n",
       "      <th>female</th>\n",
       "      <th>male</th>\n",
       "      <th>gender_ratio</th>\n",
       "    </tr>\n",
       "  </thead>\n",
       "  <tbody>\n",
       "    <tr>\n",
       "      <th>0</th>\n",
       "      <td>A peptide-based method for 13C Metabolic Flux ...</td>\n",
       "      <td>7</td>\n",
       "      <td>2.0</td>\n",
       "      <td>6.0</td>\n",
       "      <td>0.333333</td>\n",
       "    </tr>\n",
       "    <tr>\n",
       "      <th>1</th>\n",
       "      <td>Baseline CD4+ T cell counts correlates with HI...</td>\n",
       "      <td>0</td>\n",
       "      <td>2.0</td>\n",
       "      <td>4.0</td>\n",
       "      <td>0.500000</td>\n",
       "    </tr>\n",
       "    <tr>\n",
       "      <th>2</th>\n",
       "      <td>Evolution of the F0F1 ATP Synthase Complex in ...</td>\n",
       "      <td>8</td>\n",
       "      <td>2.0</td>\n",
       "      <td>0.0</td>\n",
       "      <td>50.000000</td>\n",
       "    </tr>\n",
       "    <tr>\n",
       "      <th>3</th>\n",
       "      <td>Dynamic Modelling of Pathways to Cellular Sene...</td>\n",
       "      <td>12</td>\n",
       "      <td>1.0</td>\n",
       "      <td>1.0</td>\n",
       "      <td>1.000000</td>\n",
       "    </tr>\n",
       "    <tr>\n",
       "      <th>4</th>\n",
       "      <td>Unbiased Functional Clustering of Gene Variant...</td>\n",
       "      <td>7</td>\n",
       "      <td>0.0</td>\n",
       "      <td>3.0</td>\n",
       "      <td>0.000000</td>\n",
       "    </tr>\n",
       "  </tbody>\n",
       "</table>\n",
       "</div>"
      ],
      "text/plain": [
       "                                               title  citations  female  male  \\\n",
       "0  A peptide-based method for 13C Metabolic Flux ...          7     2.0   6.0   \n",
       "1  Baseline CD4+ T cell counts correlates with HI...          0     2.0   4.0   \n",
       "2  Evolution of the F0F1 ATP Synthase Complex in ...          8     2.0   0.0   \n",
       "3  Dynamic Modelling of Pathways to Cellular Sene...         12     1.0   1.0   \n",
       "4  Unbiased Functional Clustering of Gene Variant...          7     0.0   3.0   \n",
       "\n",
       "   gender_ratio  \n",
       "0      0.333333  \n",
       "1      0.500000  \n",
       "2     50.000000  \n",
       "3      1.000000  \n",
       "4      0.000000  "
      ]
     },
     "execution_count": 424,
     "metadata": {},
     "output_type": "execute_result"
    }
   ],
   "source": [
    "papers_cgd.head()"
   ]
  },
  {
   "cell_type": "code",
   "execution_count": 429,
   "metadata": {},
   "outputs": [
    {
     "data": {
      "image/png": "[encoded data removed]",
      "text/plain": [
       "<Figure size 864x576 with 1 Axes>"
      ]
     },
     "metadata": {
      "needs_background": "light"
     },
     "output_type": "display_data"
    }
   ],
   "source": [
    "fig = plt.figure(1, figsize=(12, 8))\n",
    "plt.scatter(papers_cgd['gender_ratio'], papers_cgd['citations'], alpha=0.5)\n",
    "plt.ylabel('Citations')\n",
    "plt.xlabel('Gender Ratio')\n",
    "plt.show()"
   ]
  },
  {
   "cell_type": "code",
   "execution_count": 431,
   "metadata": {},
   "outputs": [
    {
     "name": "stdout",
     "output_type": "stream",
     "text": [
      "Pearsons correlation: -0.015\n"
     ]
    }
   ],
   "source": [
    "corr, _ = pearsonr(papers_cgd['gender_ratio'], papers_cgd['citations'])\n",
    "print('Pearsons correlation: %.3f' % corr)"
   ]
  },
  {
   "cell_type": "markdown",
   "metadata": {},
   "source": [
    "## Content by gender"
   ]
  },
  {
   "cell_type": "markdown",
   "metadata": {},
   "source": [
    "### Length of paper titles and gender"
   ]
  },
  {
   "cell_type": "code",
   "execution_count": 455,
   "metadata": {},
   "outputs": [],
   "source": [
    "def length_titles(gender_group):\n",
    "    lengths = papers[papers['title'].isin(papers_gender_dist[papers_gender_dist[gender_group]==1].index.values)]\\\n",
    "                    ['title'].map(lambda x: len(x))\n",
    "    return lengths"
   ]
  },
  {
   "cell_type": "markdown",
   "metadata": {},
   "source": [
    "#### Length of title in papers with most female authors vs most male authors"
   ]
  },
  {
   "cell_type": "code",
   "execution_count": 456,
   "metadata": {},
   "outputs": [],
   "source": [
    "title_mostly_female_authors = length_titles('most_female')\n",
    "title_mostly_male_authors = length_titles('most_male')"
   ]
  },
  {
   "cell_type": "code",
   "execution_count": 457,
   "metadata": {},
   "outputs": [
    {
     "data": {
      "text/plain": [
       "count    10540.000000\n",
       "mean        98.525617\n",
       "std         32.103492\n",
       "min         10.000000\n",
       "25%         76.000000\n",
       "50%         96.000000\n",
       "75%        118.000000\n",
       "max        271.000000\n",
       "Name: title, dtype: float64"
      ]
     },
     "execution_count": 457,
     "metadata": {},
     "output_type": "execute_result"
    }
   ],
   "source": [
    "title_mostly_female_authors.describe()"
   ]
  },
  {
   "cell_type": "code",
   "execution_count": 458,
   "metadata": {},
   "outputs": [
    {
     "data": {
      "text/plain": [
       "count    21956.000000\n",
       "mean        94.087220\n",
       "std         31.028586\n",
       "min         11.000000\n",
       "25%         72.000000\n",
       "50%         91.000000\n",
       "75%        113.000000\n",
       "max        273.000000\n",
       "Name: title, dtype: float64"
      ]
     },
     "execution_count": 458,
     "metadata": {},
     "output_type": "execute_result"
    }
   ],
   "source": [
    "title_mostly_male_authors.describe()"
   ]
  },
  {
   "cell_type": "code",
   "execution_count": 459,
   "metadata": {},
   "outputs": [
    {
     "data": {
      "image/png": "[encoded data removed]",
      "text/plain": [
       "<Figure size 864x576 with 1 Axes>"
      ]
     },
     "metadata": {},
     "output_type": "display_data"
    }
   ],
   "source": [
    "data_to_plot = [title_mostly_female_authors, title_mostly_male_authors]\n",
    "# Create a figure instance\n",
    "fig = plt.figure(1, figsize=(12, 8))\n",
    "# Create an axes instance\n",
    "ax = fig.add_subplot(111)\n",
    "ax.set_xticklabels(['Most female authors', 'Most male authors'])\n",
    "# Create the boxplot\n",
    "bp = ax.boxplot(data_to_plot, showfliers=False)"
   ]
  },
  {
   "cell_type": "markdown",
   "metadata": {},
   "source": [
    "#### Are the different statistically significant?"
   ]
  },
  {
   "cell_type": "code",
   "execution_count": 461,
   "metadata": {},
   "outputs": [
    {
     "name": "stdout",
     "output_type": "stream",
     "text": [
      "The difference is statistically significant, p-value: 9.059348654624269e-33\n"
     ]
    }
   ],
   "source": [
    "ttest,pval = ttest_ind(title_mostly_female_authors,title_mostly_male_authors)\n",
    "if pval < 0.05:\n",
    "    print(\"The difference is statistically significant, p-value:\", pval)\n",
    "else:\n",
    "    print(\"The difference is not statistically significant, p-value:\",round(pval,3))"
   ]
  },
  {
   "cell_type": "markdown",
   "metadata": {},
   "source": [
    "#### Length of title in papers with only female authors vs only male authors"
   ]
  },
  {
   "cell_type": "code",
   "execution_count": 463,
   "metadata": {},
   "outputs": [],
   "source": [
    "title_only_female_authors = length_titles('only_female')\n",
    "title_only_male_authors = length_titles('only_male')"
   ]
  },
  {
   "cell_type": "code",
   "execution_count": 464,
   "metadata": {},
   "outputs": [
    {
     "data": {
      "text/plain": [
       "count    1442.000000\n",
       "mean       97.625520\n",
       "std        31.303974\n",
       "min        21.000000\n",
       "25%        75.000000\n",
       "50%        95.000000\n",
       "75%       116.000000\n",
       "max       232.000000\n",
       "Name: title, dtype: float64"
      ]
     },
     "execution_count": 464,
     "metadata": {},
     "output_type": "execute_result"
    }
   ],
   "source": [
    "title_only_female_authors.describe()"
   ]
  },
  {
   "cell_type": "code",
   "execution_count": 465,
   "metadata": {},
   "outputs": [
    {
     "data": {
      "text/plain": [
       "count    12687.000000\n",
       "mean        91.163001\n",
       "std         30.064879\n",
       "min         11.000000\n",
       "25%         70.000000\n",
       "50%         88.000000\n",
       "75%        110.000000\n",
       "max        243.000000\n",
       "Name: title, dtype: float64"
      ]
     },
     "execution_count": 465,
     "metadata": {},
     "output_type": "execute_result"
    }
   ],
   "source": [
    "title_only_male_authors.describe()"
   ]
  },
  {
   "cell_type": "code",
   "execution_count": 466,
   "metadata": {},
   "outputs": [
    {
     "data": {
      "image/png": "[encoded data removed]",
      "text/plain": [
       "<Figure size 864x576 with 1 Axes>"
      ]
     },
     "metadata": {},
     "output_type": "display_data"
    }
   ],
   "source": [
    "data_to_plot = [title_only_female_authors, title_only_male_authors]\n",
    "# Create a figure instance\n",
    "fig = plt.figure(1, figsize=(12, 8))\n",
    "# Create an axes instance\n",
    "ax = fig.add_subplot(111)\n",
    "ax.set_xticklabels(['Only female authors', 'Only male authors'])\n",
    "# Create the boxplot\n",
    "bp = ax.boxplot(data_to_plot, showfliers=False)"
   ]
  },
  {
   "cell_type": "markdown",
   "metadata": {},
   "source": [
    "#### Are the different statistically significant?"
   ]
  },
  {
   "cell_type": "code",
   "execution_count": 468,
   "metadata": {},
   "outputs": [
    {
     "name": "stdout",
     "output_type": "stream",
     "text": [
      "The difference is statistically significant, p-value: 1.4303364367593483e-14\n"
     ]
    }
   ],
   "source": [
    "ttest,pval = ttest_ind(title_only_female_authors,title_only_male_authors)\n",
    "if pval < 0.05:\n",
    "    print(\"The difference is statistically significant, p-value:\", pval)\n",
    "else:\n",
    "    print(\"The difference is not statistically significant, p-value:\",round(pval,3))"
   ]
  }
 ],
 "metadata": {
  "kernelspec": {
   "display_name": "Python 3",
   "language": "python",
   "name": "python3"
  },
  "language_info": {
   "codemirror_mode": {
    "name": "ipython",
    "version": 3
   },
   "file_extension": ".py",
   "mimetype": "text/x-python",
   "name": "python",
   "nbconvert_exporter": "python",
   "pygments_lexer": "ipython3",
   "version": "3.6.7"
  }
 },
 "nbformat": 4,
 "nbformat_minor": 2
}
