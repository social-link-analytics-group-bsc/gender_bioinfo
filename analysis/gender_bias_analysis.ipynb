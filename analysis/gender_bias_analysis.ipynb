{
 "cells": [
  {
   "cell_type": "code",
   "execution_count": 1,
   "metadata": {},
   "outputs": [],
   "source": [
    "%matplotlib inline\n",
    "\n",
    "# Import libraries\n",
    "import os\n",
    "import pandas as pd\n",
    "import matplotlib.pyplot as plt\n",
    "import seaborn as sns\n",
    "import numpy as np\n",
    "\n",
    "os.chdir('..')\n",
    "\n",
    "from db_manager import DBManager\n",
    "\n",
    "plt.style.use('seaborn')"
   ]
  },
  {
   "cell_type": "code",
   "execution_count": 3,
   "metadata": {},
   "outputs": [],
   "source": [
    "# Save current dir in case it can be useful\n",
    "project_dir = os.getcwd()"
   ]
  },
  {
   "cell_type": "code",
   "execution_count": 22,
   "metadata": {},
   "outputs": [],
   "source": [
    "# Get data\n",
    "authors = pd.read_csv(project_dir + '/data/authors.csv')\n",
    "papers = pd.read_csv(project_dir + '/data/papers.csv')\n",
    "papers_authors = pd.read_csv(project_dir + '/data/papers_authors.csv')"
   ]
  },
  {
   "cell_type": "markdown",
   "metadata": {},
   "source": [
    "# Papers"
   ]
  },
  {
   "cell_type": "code",
   "execution_count": 23,
   "metadata": {},
   "outputs": [
    {
     "name": "stdout",
     "output_type": "stream",
     "text": [
      "Total papers: 38351\n"
     ]
    }
   ],
   "source": [
    "print(\"Total papers: \" + str(papers.shape[0]))"
   ]
  },
  {
   "cell_type": "code",
   "execution_count": 24,
   "metadata": {},
   "outputs": [
    {
     "data": {
      "text/html": [
       "<div>\n",
       "<style scoped>\n",
       "    .dataframe tbody tr th:only-of-type {\n",
       "        vertical-align: middle;\n",
       "    }\n",
       "\n",
       "    .dataframe tbody tr th {\n",
       "        vertical-align: top;\n",
       "    }\n",
       "\n",
       "    .dataframe thead th {\n",
       "        text-align: right;\n",
       "    }\n",
       "</style>\n",
       "<table border=\"1\" class=\"dataframe\">\n",
       "  <thead>\n",
       "    <tr style=\"text-align: right;\">\n",
       "      <th></th>\n",
       "      <th>id</th>\n",
       "      <th>title</th>\n",
       "      <th>DOI</th>\n",
       "      <th>year</th>\n",
       "      <th>source</th>\n",
       "      <th>citations</th>\n",
       "      <th>edamCategory</th>\n",
       "      <th>link</th>\n",
       "      <th>authors</th>\n",
       "    </tr>\n",
       "  </thead>\n",
       "  <tbody>\n",
       "    <tr>\n",
       "      <th>0</th>\n",
       "      <td>1</td>\n",
       "      <td>A peptide-based method for 13C Metabolic Flux ...</td>\n",
       "      <td>10.1371/journal.pcbi.1003827</td>\n",
       "      <td>2014</td>\n",
       "      <td>plos computational biology</td>\n",
       "      <td>7</td>\n",
       "      <td>Omics &gt; Genomics &gt; Transcriptomics</td>\n",
       "      <td>https://journals.plos.org/ploscompbiol/article...</td>\n",
       "      <td>8.0</td>\n",
       "    </tr>\n",
       "    <tr>\n",
       "      <th>1</th>\n",
       "      <td>2</td>\n",
       "      <td>Baseline CD4+ T cell counts correlates with HI...</td>\n",
       "      <td>10.1371/journal.pcbi.1003830</td>\n",
       "      <td>2014</td>\n",
       "      <td>plos computational biology</td>\n",
       "      <td>0</td>\n",
       "      <td>Computational Biology &gt; Phylogeny</td>\n",
       "      <td>https://journals.plos.org/ploscompbiol/article...</td>\n",
       "      <td>10.0</td>\n",
       "    </tr>\n",
       "    <tr>\n",
       "      <th>2</th>\n",
       "      <td>3</td>\n",
       "      <td>Evolution of the F0F1 ATP Synthase Complex in ...</td>\n",
       "      <td>10.1371/journal.pcbi.1003821</td>\n",
       "      <td>2014</td>\n",
       "      <td>plos computational biology</td>\n",
       "      <td>8</td>\n",
       "      <td>Computational Biology &gt; Structure analysis</td>\n",
       "      <td>https://journals.plos.org/ploscompbiol/article...</td>\n",
       "      <td>2.0</td>\n",
       "    </tr>\n",
       "    <tr>\n",
       "      <th>3</th>\n",
       "      <td>4</td>\n",
       "      <td>Dynamic Modelling of Pathways to Cellular Sene...</td>\n",
       "      <td>10.1371/journal.pcbi.1003728</td>\n",
       "      <td>2014</td>\n",
       "      <td>plos computational biology</td>\n",
       "      <td>12</td>\n",
       "      <td>Computational Biology &gt; Phylogeny</td>\n",
       "      <td>https://journals.plos.org/ploscompbiol/article...</td>\n",
       "      <td>7.0</td>\n",
       "    </tr>\n",
       "    <tr>\n",
       "      <th>4</th>\n",
       "      <td>5</td>\n",
       "      <td>Unbiased Functional Clustering of Gene Variant...</td>\n",
       "      <td>10.1371/journal.pcbi.1003815</td>\n",
       "      <td>2014</td>\n",
       "      <td>plos computational biology</td>\n",
       "      <td>7</td>\n",
       "      <td>Omics &gt; Genomics &gt; Functional genomics</td>\n",
       "      <td>https://journals.plos.org/ploscompbiol/article...</td>\n",
       "      <td>3.0</td>\n",
       "    </tr>\n",
       "  </tbody>\n",
       "</table>\n",
       "</div>"
      ],
      "text/plain": [
       "   id                                              title  \\\n",
       "0   1  A peptide-based method for 13C Metabolic Flux ...   \n",
       "1   2  Baseline CD4+ T cell counts correlates with HI...   \n",
       "2   3  Evolution of the F0F1 ATP Synthase Complex in ...   \n",
       "3   4  Dynamic Modelling of Pathways to Cellular Sene...   \n",
       "4   5  Unbiased Functional Clustering of Gene Variant...   \n",
       "\n",
       "                            DOI  year                      source  citations  \\\n",
       "0  10.1371/journal.pcbi.1003827  2014  plos computational biology          7   \n",
       "1  10.1371/journal.pcbi.1003830  2014  plos computational biology          0   \n",
       "2  10.1371/journal.pcbi.1003821  2014  plos computational biology          8   \n",
       "3  10.1371/journal.pcbi.1003728  2014  plos computational biology         12   \n",
       "4  10.1371/journal.pcbi.1003815  2014  plos computational biology          7   \n",
       "\n",
       "                                 edamCategory  \\\n",
       "0          Omics > Genomics > Transcriptomics   \n",
       "1           Computational Biology > Phylogeny   \n",
       "2  Computational Biology > Structure analysis   \n",
       "3           Computational Biology > Phylogeny   \n",
       "4      Omics > Genomics > Functional genomics   \n",
       "\n",
       "                                                link  authors  \n",
       "0  https://journals.plos.org/ploscompbiol/article...      8.0  \n",
       "1  https://journals.plos.org/ploscompbiol/article...     10.0  \n",
       "2  https://journals.plos.org/ploscompbiol/article...      2.0  \n",
       "3  https://journals.plos.org/ploscompbiol/article...      7.0  \n",
       "4  https://journals.plos.org/ploscompbiol/article...      3.0  "
      ]
     },
     "execution_count": 24,
     "metadata": {},
     "output_type": "execute_result"
    }
   ],
   "source": [
    "papers.head()"
   ]
  },
  {
   "cell_type": "markdown",
   "metadata": {},
   "source": [
    "### Papers without authors"
   ]
  },
  {
   "cell_type": "code",
   "execution_count": 37,
   "metadata": {},
   "outputs": [
    {
     "name": "stdout",
     "output_type": "stream",
     "text": [
      "Papers without authors 16\n"
     ]
    }
   ],
   "source": [
    "papers_without_authors = papers[papers['authors']==0]\n",
    "print(\"Papers without authors \" + str(papers_without_authors.shape[0]))\n",
    "#papers_without_authors.head()"
   ]
  },
  {
   "cell_type": "code",
   "execution_count": 38,
   "metadata": {},
   "outputs": [
    {
     "name": "stdout",
     "output_type": "stream",
     "text": [
      "Papers with authors 38335\n"
     ]
    }
   ],
   "source": [
    "papers = papers[papers['authors']!=0]\n",
    "print(\"Papers with authors \" + str(papers.shape[0]))"
   ]
  },
  {
   "cell_type": "markdown",
   "metadata": {},
   "source": [
    "## Evolution of papers by year"
   ]
  },
  {
   "cell_type": "code",
   "execution_count": 43,
   "metadata": {},
   "outputs": [],
   "source": [
    "papers_by_year = papers.groupby('year').size()"
   ]
  },
  {
   "cell_type": "code",
   "execution_count": 53,
   "metadata": {},
   "outputs": [
    {
     "data": {
      "text/plain": [
       "<matplotlib.axes._subplots.AxesSubplot at 0x7fc48b73e240>"
      ]
     },
     "execution_count": 53,
     "metadata": {},
     "output_type": "execute_result"
    },
    {
     "data": {
      "image/png": "[encoded data removed]",
      "text/plain": [
       "<Figure size 720x432 with 1 Axes>"
      ]
     },
     "metadata": {
      "needs_background": "light"
     },
     "output_type": "display_data"
    }
   ],
   "source": [
    "plt.figure(figsize=(10,6))\n",
    "papers_by_year.plot()"
   ]
  },
  {
   "cell_type": "markdown",
   "metadata": {},
   "source": [
    "## Evolution of average citations by year"
   ]
  },
  {
   "cell_type": "code",
   "execution_count": 78,
   "metadata": {},
   "outputs": [
    {
     "data": {
      "text/plain": [
       "count    38335.000000\n",
       "mean        34.062658\n",
       "std        154.072131\n",
       "min          0.000000\n",
       "25%          5.000000\n",
       "50%         13.000000\n",
       "75%         31.000000\n",
       "max      14513.000000\n",
       "Name: citations, dtype: float64"
      ]
     },
     "execution_count": 78,
     "metadata": {},
     "output_type": "execute_result"
    }
   ],
   "source": [
    "papers['citations'].describe()"
   ]
  },
  {
   "cell_type": "code",
   "execution_count": 69,
   "metadata": {},
   "outputs": [],
   "source": [
    "avg_citations_by_year = papers.groupby('year').mean()['citations']"
   ]
  },
  {
   "cell_type": "code",
   "execution_count": 68,
   "metadata": {},
   "outputs": [
    {
     "data": {
      "text/plain": [
       "<matplotlib.axes._subplots.AxesSubplot at 0x7fc490152a90>"
      ]
     },
     "execution_count": 68,
     "metadata": {},
     "output_type": "execute_result"
    },
    {
     "data": {
      "image/png": "[encoded data removed]",
      "text/plain": [
       "<Figure size 720x432 with 1 Axes>"
      ]
     },
     "metadata": {
      "needs_background": "light"
     },
     "output_type": "display_data"
    }
   ],
   "source": [
    "plt.figure(figsize=(10,6))\n",
    "avg_citations_by_year.plot()"
   ]
  },
  {
   "cell_type": "markdown",
   "metadata": {},
   "source": [
    "## Evolution of average authors by year"
   ]
  },
  {
   "cell_type": "code",
   "execution_count": 77,
   "metadata": {},
   "outputs": [
    {
     "data": {
      "text/plain": [
       "count    38329.000000\n",
       "mean         5.562603\n",
       "std          3.961211\n",
       "min          1.000000\n",
       "25%          3.000000\n",
       "50%          5.000000\n",
       "75%          7.000000\n",
       "max        138.000000\n",
       "Name: authors, dtype: float64"
      ]
     },
     "execution_count": 77,
     "metadata": {},
     "output_type": "execute_result"
    }
   ],
   "source": [
    "papers['authors'].describe()"
   ]
  },
  {
   "cell_type": "code",
   "execution_count": 71,
   "metadata": {},
   "outputs": [],
   "source": [
    "avg_authors_by_year = papers.groupby('year').mean()['authors']"
   ]
  },
  {
   "cell_type": "code",
   "execution_count": 72,
   "metadata": {},
   "outputs": [
    {
     "data": {
      "text/plain": [
       "<matplotlib.axes._subplots.AxesSubplot at 0x7fc48b0e67f0>"
      ]
     },
     "execution_count": 72,
     "metadata": {},
     "output_type": "execute_result"
    },
    {
     "data": {
      "image/png": "[encoded data removed]",
      "text/plain": [
       "<Figure size 720x432 with 1 Axes>"
      ]
     },
     "metadata": {
      "needs_background": "light"
     },
     "output_type": "display_data"
    }
   ],
   "source": [
    "plt.figure(figsize=(10,6))\n",
    "avg_authors_by_year.plot()"
   ]
  },
  {
   "cell_type": "markdown",
   "metadata": {},
   "source": [
    "## Categories"
   ]
  },
  {
   "cell_type": "code",
   "execution_count": 102,
   "metadata": {},
   "outputs": [],
   "source": [
    "row_categories = papers['edamCategory']\n",
    "categories = []\n",
    "for row_category in row_categories:\n",
    "    for category in row_category.split('>'):\n",
    "        clean_category = category.strip()\n",
    "        exists_category_dict = False\n",
    "        for category_dict in categories:\n",
    "            if category_dict['category_name'] == clean_category:\n",
    "                category_dict['count'] += 1\n",
    "                exists_category_dict = True\n",
    "                break\n",
    "        if not exists_category_dict:\n",
    "            categories.append(\n",
    "                {\n",
    "                    'category_name': clean_category,\n",
    "                    'count': 1\n",
    "                }\n",
    "            )"
   ]
  },
  {
   "cell_type": "code",
   "execution_count": 114,
   "metadata": {},
   "outputs": [
    {
     "name": "stdout",
     "output_type": "stream",
     "text": [
      "There are 18 categories\n"
     ]
    },
    {
     "data": {
      "text/html": [
       "<div>\n",
       "<style scoped>\n",
       "    .dataframe tbody tr th:only-of-type {\n",
       "        vertical-align: middle;\n",
       "    }\n",
       "\n",
       "    .dataframe tbody tr th {\n",
       "        vertical-align: top;\n",
       "    }\n",
       "\n",
       "    .dataframe thead th {\n",
       "        text-align: right;\n",
       "    }\n",
       "</style>\n",
       "<table border=\"1\" class=\"dataframe\">\n",
       "  <thead>\n",
       "    <tr style=\"text-align: right;\">\n",
       "      <th></th>\n",
       "      <th>category_name</th>\n",
       "      <th>count</th>\n",
       "    </tr>\n",
       "  </thead>\n",
       "  <tbody>\n",
       "    <tr>\n",
       "      <th>3</th>\n",
       "      <td>Computational Biology</td>\n",
       "      <td>24273</td>\n",
       "    </tr>\n",
       "    <tr>\n",
       "      <th>0</th>\n",
       "      <td>Omics</td>\n",
       "      <td>12567</td>\n",
       "    </tr>\n",
       "    <tr>\n",
       "      <th>1</th>\n",
       "      <td>Genomics</td>\n",
       "      <td>12567</td>\n",
       "    </tr>\n",
       "    <tr>\n",
       "      <th>7</th>\n",
       "      <td>Nucleic acids</td>\n",
       "      <td>6663</td>\n",
       "    </tr>\n",
       "    <tr>\n",
       "      <th>6</th>\n",
       "      <td>Functional genomics</td>\n",
       "      <td>5293</td>\n",
       "    </tr>\n",
       "  </tbody>\n",
       "</table>\n",
       "</div>"
      ],
      "text/plain": [
       "           category_name  count\n",
       "3  Computational Biology  24273\n",
       "0                  Omics  12567\n",
       "1               Genomics  12567\n",
       "7          Nucleic acids   6663\n",
       "6    Functional genomics   5293"
      ]
     },
     "execution_count": 114,
     "metadata": {},
     "output_type": "execute_result"
    }
   ],
   "source": [
    "categories_df = pd.DataFrame(categories)\n",
    "total_categories = categories_df.shape[0]\n",
    "print(\"There are \" + str(total_categories) + \" categories\")\n",
    "categories_df.sort_values('count', inplace=True, ascending=False)\n",
    "categories_df.head()"
   ]
  },
  {
   "cell_type": "code",
   "execution_count": 120,
   "metadata": {},
   "outputs": [
    {
     "data": {
      "image/png": "[encoded data removed]",
      "text/plain": [
       "<Figure size 432x288 with 1 Axes>"
      ]
     },
     "metadata": {
      "needs_background": "light"
     },
     "output_type": "display_data"
    }
   ],
   "source": [
    "categories_df.plot.bar(x='category_name', y='count')\n",
    "plt.xticks(rotation=90)\n",
    "plt.xlabel(\"Category\")\n",
    "plt.ylabel(\"Count\")\n",
    "plt.show()"
   ]
  },
  {
   "cell_type": "markdown",
   "metadata": {},
   "source": [
    "## Source"
   ]
  },
  {
   "cell_type": "code",
   "execution_count": 90,
   "metadata": {},
   "outputs": [],
   "source": [
    "papers_by_source = papers.groupby('source').size().sort_values(ascending=False)"
   ]
  },
  {
   "cell_type": "code",
   "execution_count": 91,
   "metadata": {},
   "outputs": [
    {
     "data": {
      "text/plain": [
       "<matplotlib.axes._subplots.AxesSubplot at 0x7fc4911fbf98>"
      ]
     },
     "execution_count": 91,
     "metadata": {},
     "output_type": "execute_result"
    },
    {
     "data": {
      "image/png": "[encoded data removed]",
      "text/plain": [
       "<Figure size 720x432 with 1 Axes>"
      ]
     },
     "metadata": {
      "needs_background": "light"
     },
     "output_type": "display_data"
    }
   ],
   "source": [
    "plt.figure(figsize=(10,6))\n",
    "papers_by_source.plot(kind='bar')"
   ]
  },
  {
   "cell_type": "markdown",
   "metadata": {},
   "source": [
    "# Authors"
   ]
  },
  {
   "cell_type": "code",
   "execution_count": 70,
   "metadata": {},
   "outputs": [
    {
     "name": "stdout",
     "output_type": "stream",
     "text": [
      "Total authors: 122963\n"
     ]
    }
   ],
   "source": [
    "print(\"Total authors: \" + str(authors.shape[0]))"
   ]
  },
  {
   "cell_type": "code",
   "execution_count": 121,
   "metadata": {},
   "outputs": [
    {
     "data": {
      "text/html": [
       "<div>\n",
       "<style scoped>\n",
       "    .dataframe tbody tr th:only-of-type {\n",
       "        vertical-align: middle;\n",
       "    }\n",
       "\n",
       "    .dataframe tbody tr th {\n",
       "        vertical-align: top;\n",
       "    }\n",
       "\n",
       "    .dataframe thead th {\n",
       "        text-align: right;\n",
       "    }\n",
       "</style>\n",
       "<table border=\"1\" class=\"dataframe\">\n",
       "  <thead>\n",
       "    <tr style=\"text-align: right;\">\n",
       "      <th></th>\n",
       "      <th>id</th>\n",
       "      <th>name</th>\n",
       "      <th>gender</th>\n",
       "      <th>papers</th>\n",
       "      <th>total_citations</th>\n",
       "      <th>papers_as_first_author</th>\n",
       "      <th>papers_with_citations</th>\n",
       "      <th>h-index</th>\n",
       "    </tr>\n",
       "  </thead>\n",
       "  <tbody>\n",
       "    <tr>\n",
       "      <th>0</th>\n",
       "      <td>1</td>\n",
       "      <td>Amit Ghosh</td>\n",
       "      <td>male</td>\n",
       "      <td>3</td>\n",
       "      <td>21</td>\n",
       "      <td>1</td>\n",
       "      <td>3</td>\n",
       "      <td>2</td>\n",
       "    </tr>\n",
       "    <tr>\n",
       "      <th>1</th>\n",
       "      <td>2</td>\n",
       "      <td>Jerome Nilmeier</td>\n",
       "      <td>male</td>\n",
       "      <td>1</td>\n",
       "      <td>7</td>\n",
       "      <td>0</td>\n",
       "      <td>1</td>\n",
       "      <td>1</td>\n",
       "    </tr>\n",
       "    <tr>\n",
       "      <th>2</th>\n",
       "      <td>3</td>\n",
       "      <td>Paul D Adams</td>\n",
       "      <td>male</td>\n",
       "      <td>3</td>\n",
       "      <td>92</td>\n",
       "      <td>0</td>\n",
       "      <td>3</td>\n",
       "      <td>3</td>\n",
       "    </tr>\n",
       "    <tr>\n",
       "      <th>3</th>\n",
       "      <td>4</td>\n",
       "      <td>Jay D Keasling</td>\n",
       "      <td>male</td>\n",
       "      <td>10</td>\n",
       "      <td>214</td>\n",
       "      <td>0</td>\n",
       "      <td>10</td>\n",
       "      <td>7</td>\n",
       "    </tr>\n",
       "    <tr>\n",
       "      <th>4</th>\n",
       "      <td>5</td>\n",
       "      <td>Aindrila Mukhopadhyay</td>\n",
       "      <td>female</td>\n",
       "      <td>6</td>\n",
       "      <td>59</td>\n",
       "      <td>0</td>\n",
       "      <td>5</td>\n",
       "      <td>4</td>\n",
       "    </tr>\n",
       "  </tbody>\n",
       "</table>\n",
       "</div>"
      ],
      "text/plain": [
       "   id                   name  gender  papers  total_citations  \\\n",
       "0   1             Amit Ghosh    male       3               21   \n",
       "1   2        Jerome Nilmeier    male       1                7   \n",
       "2   3           Paul D Adams    male       3               92   \n",
       "3   4         Jay D Keasling    male      10              214   \n",
       "4   5  Aindrila Mukhopadhyay  female       6               59   \n",
       "\n",
       "   papers_as_first_author  papers_with_citations  h-index  \n",
       "0                       1                      3        2  \n",
       "1                       0                      1        1  \n",
       "2                       0                      3        3  \n",
       "3                       0                     10        7  \n",
       "4                       0                      5        4  "
      ]
     },
     "execution_count": 121,
     "metadata": {},
     "output_type": "execute_result"
    }
   ],
   "source": [
    "authors.head()"
   ]
  },
  {
   "cell_type": "markdown",
   "metadata": {},
   "source": [
    "## Gender distribution "
   ]
  },
  {
   "cell_type": "code",
   "execution_count": 140,
   "metadata": {},
   "outputs": [
    {
     "data": {
      "text/plain": [
       "gender\n",
       "male         0.548490\n",
       "female       0.287225\n",
       "unknown      0.164277\n",
       "error_api    0.000008\n",
       "dtype: float64"
      ]
     },
     "execution_count": 140,
     "metadata": {},
     "output_type": "execute_result"
    }
   ],
   "source": [
    "authors_by_gender = authors.groupby('gender').size().sort_values(ascending=False)\n",
    "per_authors_by_gender = authors_by_gender/authors.shape[0]\n",
    "per_authors_by_gender"
   ]
  },
  {
   "cell_type": "code",
   "execution_count": 129,
   "metadata": {},
   "outputs": [
    {
     "data": {
      "text/plain": [
       "<matplotlib.axes._subplots.AxesSubplot at 0x7fc4893e2630>"
      ]
     },
     "execution_count": 129,
     "metadata": {},
     "output_type": "execute_result"
    },
    {
     "data": {
      "image/png": "[encoded data removed]",
      "text/plain": [
       "<Figure size 432x288 with 1 Axes>"
      ]
     },
     "metadata": {
      "needs_background": "light"
     },
     "output_type": "display_data"
    }
   ],
   "source": [
    "per_authors_by_gender.plot.bar()"
   ]
  },
  {
   "cell_type": "markdown",
   "metadata": {},
   "source": [
    "## Papers"
   ]
  },
  {
   "cell_type": "markdown",
   "metadata": {},
   "source": [
    "### Citations per paper"
   ]
  },
  {
   "cell_type": "code",
   "execution_count": 136,
   "metadata": {},
   "outputs": [
    {
     "data": {
      "text/plain": [
       "count    122963.000000\n",
       "mean         69.357839\n",
       "std         311.810533\n",
       "min           0.000000\n",
       "25%           6.000000\n",
       "50%          19.000000\n",
       "75%          49.000000\n",
       "max       24962.000000\n",
       "Name: total_citations, dtype: float64"
      ]
     },
     "execution_count": 136,
     "metadata": {},
     "output_type": "execute_result"
    }
   ],
   "source": [
    "authors['total_citations'].describe()"
   ]
  },
  {
   "cell_type": "markdown",
   "metadata": {},
   "source": [
    "### Top-10 Most cited author"
   ]
  },
  {
   "cell_type": "code",
   "execution_count": 149,
   "metadata": {},
   "outputs": [
    {
     "data": {
      "text/html": [
       "<div>\n",
       "<style scoped>\n",
       "    .dataframe tbody tr th:only-of-type {\n",
       "        vertical-align: middle;\n",
       "    }\n",
       "\n",
       "    .dataframe tbody tr th {\n",
       "        vertical-align: top;\n",
       "    }\n",
       "\n",
       "    .dataframe thead th {\n",
       "        text-align: right;\n",
       "    }\n",
       "</style>\n",
       "<table border=\"1\" class=\"dataframe\">\n",
       "  <thead>\n",
       "    <tr style=\"text-align: right;\">\n",
       "      <th></th>\n",
       "      <th>name</th>\n",
       "      <th>gender</th>\n",
       "      <th>total_citations</th>\n",
       "    </tr>\n",
       "  </thead>\n",
       "  <tbody>\n",
       "    <tr>\n",
       "      <th>7414</th>\n",
       "      <td>Richard Durbin</td>\n",
       "      <td>male</td>\n",
       "      <td>24962</td>\n",
       "    </tr>\n",
       "    <tr>\n",
       "      <th>26068</th>\n",
       "      <td>Heng Li</td>\n",
       "      <td>unknown</td>\n",
       "      <td>22523</td>\n",
       "    </tr>\n",
       "    <tr>\n",
       "      <th>96294</th>\n",
       "      <td>R Lopez</td>\n",
       "      <td>unknown</td>\n",
       "      <td>15715</td>\n",
       "    </tr>\n",
       "    <tr>\n",
       "      <th>87351</th>\n",
       "      <td>F Valentin</td>\n",
       "      <td>unknown</td>\n",
       "      <td>14613</td>\n",
       "    </tr>\n",
       "    <tr>\n",
       "      <th>115136</th>\n",
       "      <td>T J Gibson</td>\n",
       "      <td>unknown</td>\n",
       "      <td>14539</td>\n",
       "    </tr>\n",
       "    <tr>\n",
       "      <th>118421</th>\n",
       "      <td>J D Thompson</td>\n",
       "      <td>unknown</td>\n",
       "      <td>14518</td>\n",
       "    </tr>\n",
       "    <tr>\n",
       "      <th>118416</th>\n",
       "      <td>R Chenna</td>\n",
       "      <td>unknown</td>\n",
       "      <td>14513</td>\n",
       "    </tr>\n",
       "    <tr>\n",
       "      <th>118415</th>\n",
       "      <td>N P Brown</td>\n",
       "      <td>unknown</td>\n",
       "      <td>14513</td>\n",
       "    </tr>\n",
       "    <tr>\n",
       "      <th>118422</th>\n",
       "      <td>D G Higgins</td>\n",
       "      <td>unknown</td>\n",
       "      <td>14513</td>\n",
       "    </tr>\n",
       "    <tr>\n",
       "      <th>118420</th>\n",
       "      <td>A Wilm</td>\n",
       "      <td>unknown</td>\n",
       "      <td>14513</td>\n",
       "    </tr>\n",
       "  </tbody>\n",
       "</table>\n",
       "</div>"
      ],
      "text/plain": [
       "                  name   gender  total_citations\n",
       "7414    Richard Durbin     male            24962\n",
       "26068          Heng Li  unknown            22523\n",
       "96294          R Lopez  unknown            15715\n",
       "87351       F Valentin  unknown            14613\n",
       "115136      T J Gibson  unknown            14539\n",
       "118421    J D Thompson  unknown            14518\n",
       "118416        R Chenna  unknown            14513\n",
       "118415       N P Brown  unknown            14513\n",
       "118422     D G Higgins  unknown            14513\n",
       "118420          A Wilm  unknown            14513"
      ]
     },
     "execution_count": 149,
     "metadata": {},
     "output_type": "execute_result"
    }
   ],
   "source": [
    "authors.sort_values('total_citations', inplace=True, ascending=False)\n",
    "authors[['name','gender','total_citations']].head(10)"
   ]
  },
  {
   "cell_type": "markdown",
   "metadata": {},
   "source": [
    "### Papers per author"
   ]
  },
  {
   "cell_type": "code",
   "execution_count": 138,
   "metadata": {},
   "outputs": [
    {
     "data": {
      "text/plain": [
       "count    122963.000000\n",
       "mean          1.732098\n",
       "std           2.065762\n",
       "min           1.000000\n",
       "25%           1.000000\n",
       "50%           1.000000\n",
       "75%           2.000000\n",
       "max          69.000000\n",
       "Name: papers, dtype: float64"
      ]
     },
     "execution_count": 138,
     "metadata": {},
     "output_type": "execute_result"
    }
   ],
   "source": [
    "authors['papers'].describe()"
   ]
  },
  {
   "cell_type": "markdown",
   "metadata": {},
   "source": [
    "### Top-10 Most productive author"
   ]
  },
  {
   "cell_type": "code",
   "execution_count": 150,
   "metadata": {},
   "outputs": [
    {
     "data": {
      "text/html": [
       "<div>\n",
       "<style scoped>\n",
       "    .dataframe tbody tr th:only-of-type {\n",
       "        vertical-align: middle;\n",
       "    }\n",
       "\n",
       "    .dataframe tbody tr th {\n",
       "        vertical-align: top;\n",
       "    }\n",
       "\n",
       "    .dataframe thead th {\n",
       "        text-align: right;\n",
       "    }\n",
       "</style>\n",
       "<table border=\"1\" class=\"dataframe\">\n",
       "  <thead>\n",
       "    <tr style=\"text-align: right;\">\n",
       "      <th></th>\n",
       "      <th>name</th>\n",
       "      <th>gender</th>\n",
       "      <th>papers</th>\n",
       "    </tr>\n",
       "  </thead>\n",
       "  <tbody>\n",
       "    <tr>\n",
       "      <th>8093</th>\n",
       "      <td>Peter F Stadler</td>\n",
       "      <td>male</td>\n",
       "      <td>69</td>\n",
       "    </tr>\n",
       "    <tr>\n",
       "      <th>3250</th>\n",
       "      <td>Janusz M Bujnicki</td>\n",
       "      <td>male</td>\n",
       "      <td>68</td>\n",
       "    </tr>\n",
       "    <tr>\n",
       "      <th>1943</th>\n",
       "      <td>Wei Wang</td>\n",
       "      <td>unknown</td>\n",
       "      <td>62</td>\n",
       "    </tr>\n",
       "    <tr>\n",
       "      <th>3241</th>\n",
       "      <td>Peer Bork</td>\n",
       "      <td>male</td>\n",
       "      <td>53</td>\n",
       "    </tr>\n",
       "    <tr>\n",
       "      <th>4104</th>\n",
       "      <td>Alfonso Valencia</td>\n",
       "      <td>male</td>\n",
       "      <td>51</td>\n",
       "    </tr>\n",
       "    <tr>\n",
       "      <th>265</th>\n",
       "      <td>Philip E Bourne</td>\n",
       "      <td>male</td>\n",
       "      <td>48</td>\n",
       "    </tr>\n",
       "    <tr>\n",
       "      <th>1941</th>\n",
       "      <td>Jun Wang</td>\n",
       "      <td>male</td>\n",
       "      <td>48</td>\n",
       "    </tr>\n",
       "    <tr>\n",
       "      <th>23361</th>\n",
       "      <td>Wei Li</td>\n",
       "      <td>unknown</td>\n",
       "      <td>47</td>\n",
       "    </tr>\n",
       "    <tr>\n",
       "      <th>10014</th>\n",
       "      <td>Jing Wang</td>\n",
       "      <td>unknown</td>\n",
       "      <td>46</td>\n",
       "    </tr>\n",
       "    <tr>\n",
       "      <th>3420</th>\n",
       "      <td>Mark Gerstein</td>\n",
       "      <td>male</td>\n",
       "      <td>46</td>\n",
       "    </tr>\n",
       "  </tbody>\n",
       "</table>\n",
       "</div>"
      ],
      "text/plain": [
       "                    name   gender  papers\n",
       "8093     Peter F Stadler     male      69\n",
       "3250   Janusz M Bujnicki     male      68\n",
       "1943            Wei Wang  unknown      62\n",
       "3241           Peer Bork     male      53\n",
       "4104    Alfonso Valencia     male      51\n",
       "265      Philip E Bourne     male      48\n",
       "1941            Jun Wang     male      48\n",
       "23361             Wei Li  unknown      47\n",
       "10014          Jing Wang  unknown      46\n",
       "3420       Mark Gerstein     male      46"
      ]
     },
     "execution_count": 150,
     "metadata": {},
     "output_type": "execute_result"
    }
   ],
   "source": [
    "authors.sort_values('papers', inplace=True, ascending=False)\n",
    "authors[['name','gender','papers']].head(10)"
   ]
  },
  {
   "cell_type": "markdown",
   "metadata": {},
   "source": [
    "### H-Index"
   ]
  },
  {
   "cell_type": "code",
   "execution_count": 143,
   "metadata": {},
   "outputs": [
    {
     "data": {
      "text/plain": [
       "count    122963.000000\n",
       "mean          1.483625\n",
       "std           1.450438\n",
       "min           0.000000\n",
       "25%           1.000000\n",
       "50%           1.000000\n",
       "75%           2.000000\n",
       "max          32.000000\n",
       "Name: h-index, dtype: float64"
      ]
     },
     "execution_count": 143,
     "metadata": {},
     "output_type": "execute_result"
    }
   ],
   "source": [
    "authors['h-index'].describe()"
   ]
  },
  {
   "cell_type": "markdown",
   "metadata": {},
   "source": [
    "### Top-10 Most impactful author"
   ]
  },
  {
   "cell_type": "code",
   "execution_count": 155,
   "metadata": {},
   "outputs": [
    {
     "data": {
      "text/html": [
       "<div>\n",
       "<style scoped>\n",
       "    .dataframe tbody tr th:only-of-type {\n",
       "        vertical-align: middle;\n",
       "    }\n",
       "\n",
       "    .dataframe tbody tr th {\n",
       "        vertical-align: top;\n",
       "    }\n",
       "\n",
       "    .dataframe thead th {\n",
       "        text-align: right;\n",
       "    }\n",
       "</style>\n",
       "<table border=\"1\" class=\"dataframe\">\n",
       "  <thead>\n",
       "    <tr style=\"text-align: right;\">\n",
       "      <th></th>\n",
       "      <th>name</th>\n",
       "      <th>gender</th>\n",
       "      <th>papers</th>\n",
       "      <th>total_citations</th>\n",
       "      <th>h-index</th>\n",
       "    </tr>\n",
       "  </thead>\n",
       "  <tbody>\n",
       "    <tr>\n",
       "      <th>3241</th>\n",
       "      <td>Peer Bork</td>\n",
       "      <td>male</td>\n",
       "      <td>53</td>\n",
       "      <td>12624</td>\n",
       "      <td>32</td>\n",
       "    </tr>\n",
       "    <tr>\n",
       "      <th>8093</th>\n",
       "      <td>Peter F Stadler</td>\n",
       "      <td>male</td>\n",
       "      <td>69</td>\n",
       "      <td>3420</td>\n",
       "      <td>30</td>\n",
       "    </tr>\n",
       "    <tr>\n",
       "      <th>3420</th>\n",
       "      <td>Mark Gerstein</td>\n",
       "      <td>male</td>\n",
       "      <td>46</td>\n",
       "      <td>2202</td>\n",
       "      <td>25</td>\n",
       "    </tr>\n",
       "    <tr>\n",
       "      <th>26310</th>\n",
       "      <td>Minoru Kanehisa</td>\n",
       "      <td>male</td>\n",
       "      <td>31</td>\n",
       "      <td>10150</td>\n",
       "      <td>25</td>\n",
       "    </tr>\n",
       "    <tr>\n",
       "      <th>8765</th>\n",
       "      <td>Ewan Birney</td>\n",
       "      <td>male</td>\n",
       "      <td>32</td>\n",
       "      <td>7033</td>\n",
       "      <td>25</td>\n",
       "    </tr>\n",
       "    <tr>\n",
       "      <th>4047</th>\n",
       "      <td>David S Wishart</td>\n",
       "      <td>male</td>\n",
       "      <td>37</td>\n",
       "      <td>9711</td>\n",
       "      <td>25</td>\n",
       "    </tr>\n",
       "    <tr>\n",
       "      <th>265</th>\n",
       "      <td>Philip E Bourne</td>\n",
       "      <td>male</td>\n",
       "      <td>48</td>\n",
       "      <td>3171</td>\n",
       "      <td>25</td>\n",
       "    </tr>\n",
       "    <tr>\n",
       "      <th>122946</th>\n",
       "      <td>William Stafford Noble</td>\n",
       "      <td>male</td>\n",
       "      <td>40</td>\n",
       "      <td>4243</td>\n",
       "      <td>24</td>\n",
       "    </tr>\n",
       "    <tr>\n",
       "      <th>3250</th>\n",
       "      <td>Janusz M Bujnicki</td>\n",
       "      <td>male</td>\n",
       "      <td>68</td>\n",
       "      <td>2186</td>\n",
       "      <td>23</td>\n",
       "    </tr>\n",
       "    <tr>\n",
       "      <th>18169</th>\n",
       "      <td>Hsien-Da Huang</td>\n",
       "      <td>male</td>\n",
       "      <td>35</td>\n",
       "      <td>2813</td>\n",
       "      <td>23</td>\n",
       "    </tr>\n",
       "  </tbody>\n",
       "</table>\n",
       "</div>"
      ],
      "text/plain": [
       "                          name gender  papers  total_citations  h-index\n",
       "3241                 Peer Bork   male      53            12624       32\n",
       "8093           Peter F Stadler   male      69             3420       30\n",
       "3420             Mark Gerstein   male      46             2202       25\n",
       "26310          Minoru Kanehisa   male      31            10150       25\n",
       "8765               Ewan Birney   male      32             7033       25\n",
       "4047           David S Wishart   male      37             9711       25\n",
       "265            Philip E Bourne   male      48             3171       25\n",
       "122946  William Stafford Noble   male      40             4243       24\n",
       "3250         Janusz M Bujnicki   male      68             2186       23\n",
       "18169           Hsien-Da Huang   male      35             2813       23"
      ]
     },
     "execution_count": 155,
     "metadata": {},
     "output_type": "execute_result"
    }
   ],
   "source": [
    "authors.sort_values('h-index', inplace=True, ascending=False)\n",
    "authors[['name','gender','papers','total_citations','h-index']].head(10)"
   ]
  },
  {
   "cell_type": "markdown",
   "metadata": {},
   "source": [
    "### First author"
   ]
  },
  {
   "cell_type": "code",
   "execution_count": 156,
   "metadata": {},
   "outputs": [
    {
     "data": {
      "text/plain": [
       "count    122963.000000\n",
       "mean          0.310866\n",
       "std           0.656986\n",
       "min           0.000000\n",
       "25%           0.000000\n",
       "50%           0.000000\n",
       "75%           0.000000\n",
       "max          14.000000\n",
       "Name: papers_as_first_author, dtype: float64"
      ]
     },
     "execution_count": 156,
     "metadata": {},
     "output_type": "execute_result"
    }
   ],
   "source": [
    "authors['papers_as_first_author'].describe()"
   ]
  },
  {
   "cell_type": "markdown",
   "metadata": {},
   "source": [
    "### Top-10 authors that appeared as first author"
   ]
  },
  {
   "cell_type": "code",
   "execution_count": 157,
   "metadata": {},
   "outputs": [
    {
     "data": {
      "text/html": [
       "<div>\n",
       "<style scoped>\n",
       "    .dataframe tbody tr th:only-of-type {\n",
       "        vertical-align: middle;\n",
       "    }\n",
       "\n",
       "    .dataframe tbody tr th {\n",
       "        vertical-align: top;\n",
       "    }\n",
       "\n",
       "    .dataframe thead th {\n",
       "        text-align: right;\n",
       "    }\n",
       "</style>\n",
       "<table border=\"1\" class=\"dataframe\">\n",
       "  <thead>\n",
       "    <tr style=\"text-align: right;\">\n",
       "      <th></th>\n",
       "      <th>name</th>\n",
       "      <th>gender</th>\n",
       "      <th>papers</th>\n",
       "      <th>papers_as_first_author</th>\n",
       "    </tr>\n",
       "  </thead>\n",
       "  <tbody>\n",
       "    <tr>\n",
       "      <th>26068</th>\n",
       "      <td>Heng Li</td>\n",
       "      <td>unknown</td>\n",
       "      <td>19</td>\n",
       "      <td>14</td>\n",
       "    </tr>\n",
       "    <tr>\n",
       "      <th>8781</th>\n",
       "      <td>Kai Wang</td>\n",
       "      <td>male</td>\n",
       "      <td>32</td>\n",
       "      <td>13</td>\n",
       "    </tr>\n",
       "    <tr>\n",
       "      <th>18741</th>\n",
       "      <td>Shuangge Ma</td>\n",
       "      <td>female</td>\n",
       "      <td>17</td>\n",
       "      <td>12</td>\n",
       "    </tr>\n",
       "    <tr>\n",
       "      <th>18398</th>\n",
       "      <td>Yi Wang</td>\n",
       "      <td>unknown</td>\n",
       "      <td>22</td>\n",
       "      <td>12</td>\n",
       "    </tr>\n",
       "    <tr>\n",
       "      <th>16474</th>\n",
       "      <td>Bin Liu</td>\n",
       "      <td>unknown</td>\n",
       "      <td>21</td>\n",
       "      <td>11</td>\n",
       "    </tr>\n",
       "    <tr>\n",
       "      <th>10929</th>\n",
       "      <td>Robert Hoehndorf</td>\n",
       "      <td>male</td>\n",
       "      <td>16</td>\n",
       "      <td>11</td>\n",
       "    </tr>\n",
       "    <tr>\n",
       "      <th>1943</th>\n",
       "      <td>Wei Wang</td>\n",
       "      <td>unknown</td>\n",
       "      <td>62</td>\n",
       "      <td>11</td>\n",
       "    </tr>\n",
       "    <tr>\n",
       "      <th>15446</th>\n",
       "      <td>Junbai Wang</td>\n",
       "      <td>unknown</td>\n",
       "      <td>12</td>\n",
       "      <td>11</td>\n",
       "    </tr>\n",
       "    <tr>\n",
       "      <th>3123</th>\n",
       "      <td>Yan Zhang</td>\n",
       "      <td>male</td>\n",
       "      <td>45</td>\n",
       "      <td>10</td>\n",
       "    </tr>\n",
       "    <tr>\n",
       "      <th>5690</th>\n",
       "      <td>Zhiming Dai</td>\n",
       "      <td>unknown</td>\n",
       "      <td>13</td>\n",
       "      <td>10</td>\n",
       "    </tr>\n",
       "  </tbody>\n",
       "</table>\n",
       "</div>"
      ],
      "text/plain": [
       "                   name   gender  papers  papers_as_first_author\n",
       "26068           Heng Li  unknown      19                      14\n",
       "8781           Kai Wang     male      32                      13\n",
       "18741       Shuangge Ma   female      17                      12\n",
       "18398           Yi Wang  unknown      22                      12\n",
       "16474           Bin Liu  unknown      21                      11\n",
       "10929  Robert Hoehndorf     male      16                      11\n",
       "1943           Wei Wang  unknown      62                      11\n",
       "15446       Junbai Wang  unknown      12                      11\n",
       "3123          Yan Zhang     male      45                      10\n",
       "5690        Zhiming Dai  unknown      13                      10"
      ]
     },
     "execution_count": 157,
     "metadata": {},
     "output_type": "execute_result"
    }
   ],
   "source": [
    "authors.sort_values('papers_as_first_author', inplace=True, ascending=False)\n",
    "authors[['name','gender','papers','papers_as_first_author']].head(10)"
   ]
  }
 ],
 "metadata": {
  "kernelspec": {
   "display_name": "Python 3",
   "language": "python",
   "name": "python3"
  },
  "language_info": {
   "codemirror_mode": {
    "name": "ipython",
    "version": 3
   },
   "file_extension": ".py",
   "mimetype": "text/x-python",
   "name": "python",
   "nbconvert_exporter": "python",
   "pygments_lexer": "ipython3",
   "version": "3.6.7"
  }
 },
 "nbformat": 4,
 "nbformat_minor": 2
}
