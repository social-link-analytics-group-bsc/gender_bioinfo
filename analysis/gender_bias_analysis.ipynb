{
 "cells": [
  {
   "cell_type": "markdown",
   "metadata": {},
   "source": [
    "# Gender bias in Bioinformatics"
   ]
  },
  {
   "cell_type": "markdown",
   "metadata": {},
   "source": [
    "This notebook shows a series of analyses conducted to study gender bians in bioinformatics. By talking the case of studies of the five most important journals in the area (nucleids acid research, bmc genomics, bmc bioinformatics, oxford bioinformatics, plos computational biology) we analyze bias in the autorship of the papers."
   ]
  },
  {
   "cell_type": "code",
   "execution_count": 1,
   "metadata": {},
   "outputs": [],
   "source": [
    "%matplotlib inline\n",
    "\n",
    "# Import libraries\n",
    "import os\n",
    "import pandas as pd\n",
    "import matplotlib.pyplot as plt\n",
    "import seaborn as sns\n",
    "import numpy as np\n",
    "from scipy.stats import ttest_ind\n",
    "\n",
    "os.chdir('..')\n",
    "\n",
    "from db_manager import DBManager\n",
    "\n",
    "plt.style.use('seaborn')"
   ]
  },
  {
   "cell_type": "code",
   "execution_count": 2,
   "metadata": {},
   "outputs": [],
   "source": [
    "# Save current dir in case it can be useful\n",
    "project_dir = os.getcwd()"
   ]
  },
  {
   "cell_type": "markdown",
   "metadata": {},
   "source": [
    "# Data load"
   ]
  },
  {
   "cell_type": "code",
   "execution_count": 105,
   "metadata": {},
   "outputs": [],
   "source": [
    "papers = pd.read_csv(project_dir + '/data/papers.csv')\n",
    "authors = pd.read_csv(project_dir + '/data/authors.csv')\n",
    "papers_authors = pd.read_csv(project_dir + '/data/papers_authors.csv')"
   ]
  },
  {
   "cell_type": "code",
   "execution_count": 106,
   "metadata": {},
   "outputs": [
    {
     "name": "stdout",
     "output_type": "stream",
     "text": [
      "Raw data:\n",
      "- 38349  Papers\n",
      "- 120855 Authors\n",
      "- 213147 Paper-Authors\n"
     ]
    }
   ],
   "source": [
    "print(\"Raw data:\\n-\", papers.shape[0], \" Papers\\n-\", authors.shape[0], \"Authors\\n-\", papers_authors.shape[0], \n",
    "      \"Paper-Authors\")"
   ]
  },
  {
   "cell_type": "markdown",
   "metadata": {},
   "source": [
    "## Remove papers without authors"
   ]
  },
  {
   "cell_type": "code",
   "execution_count": 109,
   "metadata": {},
   "outputs": [
    {
     "name": "stdout",
     "output_type": "stream",
     "text": [
      "Papers without authors 1624 (most of these are papers whose authors have an unidentified gender)\n"
     ]
    }
   ],
   "source": [
    "papers_without_authors = papers[(papers['authors']==0)|(pd.isna(papers['authors']))]\n",
    "print(\"Papers without authors \" + str(papers_without_authors.shape[0]) + \" (most of these are papers \" \\\n",
    "      \"whose authors have an unidentified gender)\")"
   ]
  },
  {
   "cell_type": "code",
   "execution_count": 110,
   "metadata": {},
   "outputs": [
    {
     "name": "stdout",
     "output_type": "stream",
     "text": [
      "Papers with authors 36725\n"
     ]
    }
   ],
   "source": [
    "papers = papers[(papers['authors']!=0)&(pd.notnull(papers['authors']))]\n",
    "print(\"Papers with authors \" + str(papers.shape[0]))"
   ]
  },
  {
   "cell_type": "code",
   "execution_count": 111,
   "metadata": {},
   "outputs": [
    {
     "data": {
      "text/plain": [
       "213147"
      ]
     },
     "execution_count": 111,
     "metadata": {},
     "output_type": "execute_result"
    }
   ],
   "source": [
    "# Remove from papers authors dataset those papers without author\n",
    "papers_authors = papers_authors[~papers_authors['title'].isin(papers_without_authors)]\n",
    "papers_authors.shape[0]"
   ]
  },
  {
   "cell_type": "markdown",
   "metadata": {},
   "source": [
    "## Remove authors with unidentified gender"
   ]
  },
  {
   "cell_type": "code",
   "execution_count": 113,
   "metadata": {},
   "outputs": [
    {
     "name": "stdout",
     "output_type": "stream",
     "text": [
      "There are 20065 authors with unidentified gender\n"
     ]
    }
   ],
   "source": [
    "print(\"There are \" + str(authors[(authors['gender']!='male')&(authors['gender']!='female')].shape[0]) +\n",
    "      \" authors with unidentified gender\")"
   ]
  },
  {
   "cell_type": "markdown",
   "metadata": {},
   "source": [
    "### Filter out authors with unidentified gender"
   ]
  },
  {
   "cell_type": "code",
   "execution_count": 114,
   "metadata": {},
   "outputs": [
    {
     "data": {
      "text/plain": [
       "100790"
      ]
     },
     "execution_count": 114,
     "metadata": {},
     "output_type": "execute_result"
    }
   ],
   "source": [
    "authors = authors[(authors['gender']=='male')|(authors['gender']=='female')]\n",
    "authors.shape[0]"
   ]
  },
  {
   "cell_type": "code",
   "execution_count": 115,
   "metadata": {},
   "outputs": [
    {
     "data": {
      "text/plain": [
       "174615"
      ]
     },
     "execution_count": 115,
     "metadata": {},
     "output_type": "execute_result"
    }
   ],
   "source": [
    "# Remove rows that have author with unidentified gender\n",
    "papers_authors = papers_authors[(papers_authors['author_gender']=='male')|\n",
    "                                (papers_authors['author_gender']=='female')]\n",
    "papers_authors.shape[0]"
   ]
  },
  {
   "cell_type": "markdown",
   "metadata": {},
   "source": [
    "# Papers"
   ]
  },
  {
   "cell_type": "code",
   "execution_count": 116,
   "metadata": {},
   "outputs": [
    {
     "name": "stdout",
     "output_type": "stream",
     "text": [
      "Total papers: 36725\n"
     ]
    }
   ],
   "source": [
    "print(\"Total papers: \" + str(papers.shape[0]))"
   ]
  },
  {
   "cell_type": "markdown",
   "metadata": {},
   "source": [
    "## Data structure"
   ]
  },
  {
   "cell_type": "code",
   "execution_count": 117,
   "metadata": {},
   "outputs": [
    {
     "data": {
      "text/html": [
       "<div>\n",
       "<style scoped>\n",
       "    .dataframe tbody tr th:only-of-type {\n",
       "        vertical-align: middle;\n",
       "    }\n",
       "\n",
       "    .dataframe tbody tr th {\n",
       "        vertical-align: top;\n",
       "    }\n",
       "\n",
       "    .dataframe thead th {\n",
       "        text-align: right;\n",
       "    }\n",
       "</style>\n",
       "<table border=\"1\" class=\"dataframe\">\n",
       "  <thead>\n",
       "    <tr style=\"text-align: right;\">\n",
       "      <th></th>\n",
       "      <th>id</th>\n",
       "      <th>title</th>\n",
       "      <th>DOI</th>\n",
       "      <th>year</th>\n",
       "      <th>source</th>\n",
       "      <th>citations</th>\n",
       "      <th>edamCategory</th>\n",
       "      <th>link</th>\n",
       "      <th>authors</th>\n",
       "      <th>gender_last_author</th>\n",
       "    </tr>\n",
       "  </thead>\n",
       "  <tbody>\n",
       "    <tr>\n",
       "      <th>0</th>\n",
       "      <td>1</td>\n",
       "      <td>A peptide-based method for 13C Metabolic Flux ...</td>\n",
       "      <td>10.1371/journal.pcbi.1003827</td>\n",
       "      <td>2014</td>\n",
       "      <td>plos computational biology</td>\n",
       "      <td>7</td>\n",
       "      <td>Omics &gt; Genomics &gt; Transcriptomics</td>\n",
       "      <td>https://journals.plos.org/ploscompbiol/article...</td>\n",
       "      <td>8.0</td>\n",
       "      <td>male</td>\n",
       "    </tr>\n",
       "    <tr>\n",
       "      <th>1</th>\n",
       "      <td>2</td>\n",
       "      <td>Baseline CD4+ T cell counts correlates with HI...</td>\n",
       "      <td>10.1371/journal.pcbi.1003830</td>\n",
       "      <td>2014</td>\n",
       "      <td>plos computational biology</td>\n",
       "      <td>0</td>\n",
       "      <td>Computational Biology &gt; Phylogeny</td>\n",
       "      <td>https://journals.plos.org/ploscompbiol/article...</td>\n",
       "      <td>9.0</td>\n",
       "      <td>male</td>\n",
       "    </tr>\n",
       "    <tr>\n",
       "      <th>2</th>\n",
       "      <td>3</td>\n",
       "      <td>Evolution of the F0F1 ATP Synthase Complex in ...</td>\n",
       "      <td>10.1371/journal.pcbi.1003821</td>\n",
       "      <td>2014</td>\n",
       "      <td>plos computational biology</td>\n",
       "      <td>8</td>\n",
       "      <td>Computational Biology &gt; Structure analysis</td>\n",
       "      <td>https://journals.plos.org/ploscompbiol/article...</td>\n",
       "      <td>2.0</td>\n",
       "      <td>female</td>\n",
       "    </tr>\n",
       "    <tr>\n",
       "      <th>3</th>\n",
       "      <td>4</td>\n",
       "      <td>Dynamic Modelling of Pathways to Cellular Sene...</td>\n",
       "      <td>10.1371/journal.pcbi.1003728</td>\n",
       "      <td>2014</td>\n",
       "      <td>plos computational biology</td>\n",
       "      <td>12</td>\n",
       "      <td>Computational Biology &gt; Phylogeny</td>\n",
       "      <td>https://journals.plos.org/ploscompbiol/article...</td>\n",
       "      <td>7.0</td>\n",
       "      <td>male</td>\n",
       "    </tr>\n",
       "    <tr>\n",
       "      <th>4</th>\n",
       "      <td>5</td>\n",
       "      <td>Unbiased Functional Clustering of Gene Variant...</td>\n",
       "      <td>10.1371/journal.pcbi.1003815</td>\n",
       "      <td>2014</td>\n",
       "      <td>plos computational biology</td>\n",
       "      <td>7</td>\n",
       "      <td>Omics &gt; Genomics &gt; Functional genomics</td>\n",
       "      <td>https://journals.plos.org/ploscompbiol/article...</td>\n",
       "      <td>3.0</td>\n",
       "      <td>male</td>\n",
       "    </tr>\n",
       "  </tbody>\n",
       "</table>\n",
       "</div>"
      ],
      "text/plain": [
       "   id                                              title  \\\n",
       "0   1  A peptide-based method for 13C Metabolic Flux ...   \n",
       "1   2  Baseline CD4+ T cell counts correlates with HI...   \n",
       "2   3  Evolution of the F0F1 ATP Synthase Complex in ...   \n",
       "3   4  Dynamic Modelling of Pathways to Cellular Sene...   \n",
       "4   5  Unbiased Functional Clustering of Gene Variant...   \n",
       "\n",
       "                            DOI  year                      source  citations  \\\n",
       "0  10.1371/journal.pcbi.1003827  2014  plos computational biology          7   \n",
       "1  10.1371/journal.pcbi.1003830  2014  plos computational biology          0   \n",
       "2  10.1371/journal.pcbi.1003821  2014  plos computational biology          8   \n",
       "3  10.1371/journal.pcbi.1003728  2014  plos computational biology         12   \n",
       "4  10.1371/journal.pcbi.1003815  2014  plos computational biology          7   \n",
       "\n",
       "                                 edamCategory  \\\n",
       "0          Omics > Genomics > Transcriptomics   \n",
       "1           Computational Biology > Phylogeny   \n",
       "2  Computational Biology > Structure analysis   \n",
       "3           Computational Biology > Phylogeny   \n",
       "4      Omics > Genomics > Functional genomics   \n",
       "\n",
       "                                                link  authors  \\\n",
       "0  https://journals.plos.org/ploscompbiol/article...      8.0   \n",
       "1  https://journals.plos.org/ploscompbiol/article...      9.0   \n",
       "2  https://journals.plos.org/ploscompbiol/article...      2.0   \n",
       "3  https://journals.plos.org/ploscompbiol/article...      7.0   \n",
       "4  https://journals.plos.org/ploscompbiol/article...      3.0   \n",
       "\n",
       "  gender_last_author  \n",
       "0               male  \n",
       "1               male  \n",
       "2             female  \n",
       "3               male  \n",
       "4               male  "
      ]
     },
     "execution_count": 117,
     "metadata": {},
     "output_type": "execute_result"
    }
   ],
   "source": [
    "papers.head()"
   ]
  },
  {
   "cell_type": "markdown",
   "metadata": {},
   "source": [
    "## Evolution of papers by year"
   ]
  },
  {
   "cell_type": "code",
   "execution_count": 118,
   "metadata": {},
   "outputs": [],
   "source": [
    "papers_by_year = papers.groupby('year').size()"
   ]
  },
  {
   "cell_type": "code",
   "execution_count": 119,
   "metadata": {},
   "outputs": [
    {
     "data": {
      "text/plain": [
       "<matplotlib.axes._subplots.AxesSubplot at 0x7fa7fb55cb00>"
      ]
     },
     "execution_count": 119,
     "metadata": {},
     "output_type": "execute_result"
    },
    {
     "data": {
      "image/png": "[encoded data removed]",
      "text/plain": [
       "<Figure size 720x432 with 1 Axes>"
      ]
     },
     "metadata": {
      "needs_background": "light"
     },
     "output_type": "display_data"
    }
   ],
   "source": [
    "plt.figure(figsize=(10,6))\n",
    "papers_by_year.plot(lw=5)"
   ]
  },
  {
   "cell_type": "markdown",
   "metadata": {},
   "source": [
    "## Evolution of average citations over years"
   ]
  },
  {
   "cell_type": "code",
   "execution_count": 120,
   "metadata": {},
   "outputs": [
    {
     "data": {
      "text/plain": [
       "count    36725.000000\n",
       "mean        33.465432\n",
       "std        131.031926\n",
       "min          0.000000\n",
       "25%          5.000000\n",
       "50%         13.000000\n",
       "75%         31.000000\n",
       "max       9753.000000\n",
       "Name: citations, dtype: float64"
      ]
     },
     "execution_count": 120,
     "metadata": {},
     "output_type": "execute_result"
    }
   ],
   "source": [
    "papers['citations'].describe()"
   ]
  },
  {
   "cell_type": "markdown",
   "metadata": {},
   "source": [
    "### Paper with max citation"
   ]
  },
  {
   "cell_type": "code",
   "execution_count": 121,
   "metadata": {},
   "outputs": [
    {
     "data": {
      "text/html": [
       "<div>\n",
       "<style scoped>\n",
       "    .dataframe tbody tr th:only-of-type {\n",
       "        vertical-align: middle;\n",
       "    }\n",
       "\n",
       "    .dataframe tbody tr th {\n",
       "        vertical-align: top;\n",
       "    }\n",
       "\n",
       "    .dataframe thead th {\n",
       "        text-align: right;\n",
       "    }\n",
       "</style>\n",
       "<table border=\"1\" class=\"dataframe\">\n",
       "  <thead>\n",
       "    <tr style=\"text-align: right;\">\n",
       "      <th></th>\n",
       "      <th>id</th>\n",
       "      <th>title</th>\n",
       "      <th>DOI</th>\n",
       "      <th>year</th>\n",
       "      <th>source</th>\n",
       "      <th>citations</th>\n",
       "      <th>edamCategory</th>\n",
       "      <th>link</th>\n",
       "      <th>authors</th>\n",
       "      <th>gender_last_author</th>\n",
       "    </tr>\n",
       "  </thead>\n",
       "  <tbody>\n",
       "    <tr>\n",
       "      <th>34840</th>\n",
       "      <td>34841</td>\n",
       "      <td>The Sequence Alignment/Map format and SAMtools</td>\n",
       "      <td>10.1093/bioinformatics/btp352</td>\n",
       "      <td>2009</td>\n",
       "      <td>oxford bioinformatics</td>\n",
       "      <td>9753</td>\n",
       "      <td>Omics &gt; Genomics &gt; Proteomics</td>\n",
       "      <td>https://academic.oup.com/bioinformatics/articl...</td>\n",
       "      <td>8.0</td>\n",
       "      <td>male</td>\n",
       "    </tr>\n",
       "  </tbody>\n",
       "</table>\n",
       "</div>"
      ],
      "text/plain": [
       "          id                                           title  \\\n",
       "34840  34841  The Sequence Alignment/Map format and SAMtools   \n",
       "\n",
       "                                 DOI  year                 source  citations  \\\n",
       "34840  10.1093/bioinformatics/btp352  2009  oxford bioinformatics       9753   \n",
       "\n",
       "                        edamCategory  \\\n",
       "34840  Omics > Genomics > Proteomics   \n",
       "\n",
       "                                                    link  authors  \\\n",
       "34840  https://academic.oup.com/bioinformatics/articl...      8.0   \n",
       "\n",
       "      gender_last_author  \n",
       "34840               male  "
      ]
     },
     "execution_count": 121,
     "metadata": {},
     "output_type": "execute_result"
    }
   ],
   "source": [
    "papers[papers['citations']==max(papers['citations'])].head()"
   ]
  },
  {
   "cell_type": "markdown",
   "metadata": {},
   "source": [
    "### Average citations over years"
   ]
  },
  {
   "cell_type": "code",
   "execution_count": 122,
   "metadata": {},
   "outputs": [],
   "source": [
    "avg_citations_by_year = papers.groupby('year').mean()['citations']"
   ]
  },
  {
   "cell_type": "code",
   "execution_count": 123,
   "metadata": {},
   "outputs": [
    {
     "data": {
      "text/plain": [
       "<matplotlib.axes._subplots.AxesSubplot at 0x7fa7fdba73c8>"
      ]
     },
     "execution_count": 123,
     "metadata": {},
     "output_type": "execute_result"
    },
    {
     "data": {
      "image/png": "[encoded data removed]",
      "text/plain": [
       "<Figure size 720x432 with 1 Axes>"
      ]
     },
     "metadata": {
      "needs_background": "light"
     },
     "output_type": "display_data"
    }
   ],
   "source": [
    "plt.figure(figsize=(10,6))\n",
    "avg_citations_by_year.plot(lw=5)"
   ]
  },
  {
   "cell_type": "markdown",
   "metadata": {},
   "source": [
    "## Average authors over years"
   ]
  },
  {
   "cell_type": "code",
   "execution_count": 124,
   "metadata": {},
   "outputs": [
    {
     "data": {
      "text/plain": [
       "count    36725.000000\n",
       "mean         4.755916\n",
       "std          3.661517\n",
       "min          1.000000\n",
       "25%          3.000000\n",
       "50%          4.000000\n",
       "75%          6.000000\n",
       "max        130.000000\n",
       "Name: authors, dtype: float64"
      ]
     },
     "execution_count": 124,
     "metadata": {},
     "output_type": "execute_result"
    }
   ],
   "source": [
    "papers['authors'].describe()"
   ]
  },
  {
   "cell_type": "markdown",
   "metadata": {},
   "source": [
    "### Paper with max number of authors"
   ]
  },
  {
   "cell_type": "code",
   "execution_count": 125,
   "metadata": {},
   "outputs": [
    {
     "data": {
      "text/html": [
       "<div>\n",
       "<style scoped>\n",
       "    .dataframe tbody tr th:only-of-type {\n",
       "        vertical-align: middle;\n",
       "    }\n",
       "\n",
       "    .dataframe tbody tr th {\n",
       "        vertical-align: top;\n",
       "    }\n",
       "\n",
       "    .dataframe thead th {\n",
       "        text-align: right;\n",
       "    }\n",
       "</style>\n",
       "<table border=\"1\" class=\"dataframe\">\n",
       "  <thead>\n",
       "    <tr style=\"text-align: right;\">\n",
       "      <th></th>\n",
       "      <th>id</th>\n",
       "      <th>title</th>\n",
       "      <th>DOI</th>\n",
       "      <th>year</th>\n",
       "      <th>source</th>\n",
       "      <th>citations</th>\n",
       "      <th>edamCategory</th>\n",
       "      <th>link</th>\n",
       "      <th>authors</th>\n",
       "      <th>gender_last_author</th>\n",
       "    </tr>\n",
       "  </thead>\n",
       "  <tbody>\n",
       "    <tr>\n",
       "      <th>19896</th>\n",
       "      <td>19897</td>\n",
       "      <td>The H-Invitational Database (H-InvDB), a compr...</td>\n",
       "      <td>10.1093/nar/gkm999</td>\n",
       "      <td>2008</td>\n",
       "      <td>nucleic acids research</td>\n",
       "      <td>54</td>\n",
       "      <td>Computational Biology &gt; Sequence analysis</td>\n",
       "      <td>https://academic.oup.com/nar/article/36/suppl_...</td>\n",
       "      <td>130.0</td>\n",
       "      <td>male</td>\n",
       "    </tr>\n",
       "  </tbody>\n",
       "</table>\n",
       "</div>"
      ],
      "text/plain": [
       "          id                                              title  \\\n",
       "19896  19897  The H-Invitational Database (H-InvDB), a compr...   \n",
       "\n",
       "                      DOI  year                  source  citations  \\\n",
       "19896  10.1093/nar/gkm999  2008  nucleic acids research         54   \n",
       "\n",
       "                                    edamCategory  \\\n",
       "19896  Computational Biology > Sequence analysis   \n",
       "\n",
       "                                                    link  authors  \\\n",
       "19896  https://academic.oup.com/nar/article/36/suppl_...    130.0   \n",
       "\n",
       "      gender_last_author  \n",
       "19896               male  "
      ]
     },
     "execution_count": 125,
     "metadata": {},
     "output_type": "execute_result"
    }
   ],
   "source": [
    "papers[papers['authors']==max(papers['authors'])].head()"
   ]
  },
  {
   "cell_type": "markdown",
   "metadata": {},
   "source": [
    "### Average number of authors over years"
   ]
  },
  {
   "cell_type": "code",
   "execution_count": 126,
   "metadata": {},
   "outputs": [],
   "source": [
    "avg_authors_by_year = papers.groupby('year').mean()['authors']"
   ]
  },
  {
   "cell_type": "code",
   "execution_count": 127,
   "metadata": {},
   "outputs": [
    {
     "data": {
      "text/plain": [
       "<matplotlib.axes._subplots.AxesSubplot at 0x7fa7fc4f8940>"
      ]
     },
     "execution_count": 127,
     "metadata": {},
     "output_type": "execute_result"
    },
    {
     "data": {
      "image/png": "[encoded data removed]",
      "text/plain": [
       "<Figure size 720x432 with 1 Axes>"
      ]
     },
     "metadata": {
      "needs_background": "light"
     },
     "output_type": "display_data"
    }
   ],
   "source": [
    "plt.figure(figsize=(10,6))\n",
    "avg_authors_by_year.plot(lw=5)"
   ]
  },
  {
   "cell_type": "markdown",
   "metadata": {},
   "source": [
    "## Categories"
   ]
  },
  {
   "cell_type": "code",
   "execution_count": 128,
   "metadata": {},
   "outputs": [],
   "source": [
    "row_categories = papers['edamCategory']\n",
    "categories = []\n",
    "for row_category in row_categories:\n",
    "    for category in row_category.split('>'):\n",
    "        clean_category = category.strip()\n",
    "        exists_category_dict = False\n",
    "        for category_dict in categories:\n",
    "            if category_dict['category_name'] == clean_category:\n",
    "                category_dict['count'] += 1\n",
    "                exists_category_dict = True\n",
    "                break\n",
    "        if not exists_category_dict:\n",
    "            categories.append(\n",
    "                {\n",
    "                    'category_name': clean_category,\n",
    "                    'count': 1\n",
    "                }\n",
    "            )"
   ]
  },
  {
   "cell_type": "code",
   "execution_count": 129,
   "metadata": {},
   "outputs": [
    {
     "name": "stdout",
     "output_type": "stream",
     "text": [
      "There are 18 categories\n"
     ]
    },
    {
     "data": {
      "text/html": [
       "<div>\n",
       "<style scoped>\n",
       "    .dataframe tbody tr th:only-of-type {\n",
       "        vertical-align: middle;\n",
       "    }\n",
       "\n",
       "    .dataframe tbody tr th {\n",
       "        vertical-align: top;\n",
       "    }\n",
       "\n",
       "    .dataframe thead th {\n",
       "        text-align: right;\n",
       "    }\n",
       "</style>\n",
       "<table border=\"1\" class=\"dataframe\">\n",
       "  <thead>\n",
       "    <tr style=\"text-align: right;\">\n",
       "      <th></th>\n",
       "      <th>category_name</th>\n",
       "      <th>count</th>\n",
       "    </tr>\n",
       "  </thead>\n",
       "  <tbody>\n",
       "    <tr>\n",
       "      <th>3</th>\n",
       "      <td>Computational Biology</td>\n",
       "      <td>23253</td>\n",
       "    </tr>\n",
       "    <tr>\n",
       "      <th>0</th>\n",
       "      <td>Omics</td>\n",
       "      <td>12043</td>\n",
       "    </tr>\n",
       "    <tr>\n",
       "      <th>1</th>\n",
       "      <td>Genomics</td>\n",
       "      <td>12043</td>\n",
       "    </tr>\n",
       "    <tr>\n",
       "      <th>7</th>\n",
       "      <td>Nucleic acids</td>\n",
       "      <td>6375</td>\n",
       "    </tr>\n",
       "    <tr>\n",
       "      <th>6</th>\n",
       "      <td>Functional genomics</td>\n",
       "      <td>5088</td>\n",
       "    </tr>\n",
       "  </tbody>\n",
       "</table>\n",
       "</div>"
      ],
      "text/plain": [
       "           category_name  count\n",
       "3  Computational Biology  23253\n",
       "0                  Omics  12043\n",
       "1               Genomics  12043\n",
       "7          Nucleic acids   6375\n",
       "6    Functional genomics   5088"
      ]
     },
     "execution_count": 129,
     "metadata": {},
     "output_type": "execute_result"
    }
   ],
   "source": [
    "categories_df = pd.DataFrame(categories)\n",
    "total_categories = categories_df.shape[0]\n",
    "print(\"There are \" + str(total_categories) + \" categories\")\n",
    "categories_df.sort_values('count', inplace=True, ascending=False)\n",
    "categories_df.head()"
   ]
  },
  {
   "cell_type": "code",
   "execution_count": 20,
   "metadata": {},
   "outputs": [
    {
     "data": {
      "image/png": "[encoded data removed]",
      "text/plain": [
       "<Figure size 432x288 with 1 Axes>"
      ]
     },
     "metadata": {
      "needs_background": "light"
     },
     "output_type": "display_data"
    }
   ],
   "source": [
    "categories_df.plot.bar(x='category_name', y='count')\n",
    "plt.xticks(rotation=90)\n",
    "plt.xlabel(\"Category\")\n",
    "plt.ylabel(\"Count\")\n",
    "plt.show()"
   ]
  },
  {
   "cell_type": "markdown",
   "metadata": {},
   "source": [
    "## Source"
   ]
  },
  {
   "cell_type": "code",
   "execution_count": 130,
   "metadata": {},
   "outputs": [],
   "source": [
    "papers_by_source = papers.groupby('source').size().sort_values(ascending=False)"
   ]
  },
  {
   "cell_type": "code",
   "execution_count": 131,
   "metadata": {},
   "outputs": [
    {
     "data": {
      "text/plain": [
       "<matplotlib.axes._subplots.AxesSubplot at 0x7fa7fd53f9b0>"
      ]
     },
     "execution_count": 131,
     "metadata": {},
     "output_type": "execute_result"
    },
    {
     "data": {
      "image/png": "[encoded data removed]",
      "text/plain": [
       "<Figure size 720x432 with 1 Axes>"
      ]
     },
     "metadata": {
      "needs_background": "light"
     },
     "output_type": "display_data"
    }
   ],
   "source": [
    "plt.figure(figsize=(10,6))\n",
    "papers_by_source.plot(kind='bar')"
   ]
  },
  {
   "cell_type": "markdown",
   "metadata": {},
   "source": [
    "# Authors"
   ]
  },
  {
   "cell_type": "code",
   "execution_count": 132,
   "metadata": {},
   "outputs": [
    {
     "name": "stdout",
     "output_type": "stream",
     "text": [
      "Total authors: 100790\n"
     ]
    }
   ],
   "source": [
    "print(\"Total authors: \" + str(authors.shape[0]))"
   ]
  },
  {
   "cell_type": "markdown",
   "metadata": {},
   "source": [
    "## Data structure"
   ]
  },
  {
   "cell_type": "code",
   "execution_count": 133,
   "metadata": {},
   "outputs": [
    {
     "data": {
      "text/html": [
       "<div>\n",
       "<style scoped>\n",
       "    .dataframe tbody tr th:only-of-type {\n",
       "        vertical-align: middle;\n",
       "    }\n",
       "\n",
       "    .dataframe tbody tr th {\n",
       "        vertical-align: top;\n",
       "    }\n",
       "\n",
       "    .dataframe thead th {\n",
       "        text-align: right;\n",
       "    }\n",
       "</style>\n",
       "<table border=\"1\" class=\"dataframe\">\n",
       "  <thead>\n",
       "    <tr style=\"text-align: right;\">\n",
       "      <th></th>\n",
       "      <th>id</th>\n",
       "      <th>name</th>\n",
       "      <th>gender</th>\n",
       "      <th>papers</th>\n",
       "      <th>total_citations</th>\n",
       "      <th>papers_as_first_author</th>\n",
       "      <th>papers_as_last_author</th>\n",
       "      <th>papers_with_citations</th>\n",
       "      <th>h-index</th>\n",
       "    </tr>\n",
       "  </thead>\n",
       "  <tbody>\n",
       "    <tr>\n",
       "      <th>0</th>\n",
       "      <td>1</td>\n",
       "      <td>Amit Ghosh</td>\n",
       "      <td>male</td>\n",
       "      <td>3</td>\n",
       "      <td>21</td>\n",
       "      <td>1</td>\n",
       "      <td>0</td>\n",
       "      <td>3</td>\n",
       "      <td>2</td>\n",
       "    </tr>\n",
       "    <tr>\n",
       "      <th>1</th>\n",
       "      <td>2</td>\n",
       "      <td>Jerome Nilmeier</td>\n",
       "      <td>male</td>\n",
       "      <td>1</td>\n",
       "      <td>7</td>\n",
       "      <td>0</td>\n",
       "      <td>0</td>\n",
       "      <td>1</td>\n",
       "      <td>1</td>\n",
       "    </tr>\n",
       "    <tr>\n",
       "      <th>2</th>\n",
       "      <td>3</td>\n",
       "      <td>Paul D Adams</td>\n",
       "      <td>male</td>\n",
       "      <td>3</td>\n",
       "      <td>92</td>\n",
       "      <td>0</td>\n",
       "      <td>0</td>\n",
       "      <td>3</td>\n",
       "      <td>3</td>\n",
       "    </tr>\n",
       "    <tr>\n",
       "      <th>3</th>\n",
       "      <td>4</td>\n",
       "      <td>Jay D Keasling</td>\n",
       "      <td>male</td>\n",
       "      <td>10</td>\n",
       "      <td>214</td>\n",
       "      <td>0</td>\n",
       "      <td>1</td>\n",
       "      <td>10</td>\n",
       "      <td>7</td>\n",
       "    </tr>\n",
       "    <tr>\n",
       "      <th>4</th>\n",
       "      <td>5</td>\n",
       "      <td>Aindrila Mukhopadhyay</td>\n",
       "      <td>female</td>\n",
       "      <td>6</td>\n",
       "      <td>59</td>\n",
       "      <td>0</td>\n",
       "      <td>0</td>\n",
       "      <td>5</td>\n",
       "      <td>4</td>\n",
       "    </tr>\n",
       "  </tbody>\n",
       "</table>\n",
       "</div>"
      ],
      "text/plain": [
       "   id                   name  gender  papers  total_citations  \\\n",
       "0   1             Amit Ghosh    male       3               21   \n",
       "1   2        Jerome Nilmeier    male       1                7   \n",
       "2   3           Paul D Adams    male       3               92   \n",
       "3   4         Jay D Keasling    male      10              214   \n",
       "4   5  Aindrila Mukhopadhyay  female       6               59   \n",
       "\n",
       "   papers_as_first_author  papers_as_last_author  papers_with_citations  \\\n",
       "0                       1                      0                      3   \n",
       "1                       0                      0                      1   \n",
       "2                       0                      0                      3   \n",
       "3                       0                      1                     10   \n",
       "4                       0                      0                      5   \n",
       "\n",
       "   h-index  \n",
       "0        2  \n",
       "1        1  \n",
       "2        3  \n",
       "3        7  \n",
       "4        4  "
      ]
     },
     "execution_count": 133,
     "metadata": {},
     "output_type": "execute_result"
    }
   ],
   "source": [
    "authors.head()"
   ]
  },
  {
   "cell_type": "code",
   "execution_count": 148,
   "metadata": {},
   "outputs": [
    {
     "data": {
      "text/html": [
       "<div>\n",
       "<style scoped>\n",
       "    .dataframe tbody tr th:only-of-type {\n",
       "        vertical-align: middle;\n",
       "    }\n",
       "\n",
       "    .dataframe tbody tr th {\n",
       "        vertical-align: top;\n",
       "    }\n",
       "\n",
       "    .dataframe thead th {\n",
       "        text-align: right;\n",
       "    }\n",
       "</style>\n",
       "<table border=\"1\" class=\"dataframe\">\n",
       "  <thead>\n",
       "    <tr style=\"text-align: right;\">\n",
       "      <th></th>\n",
       "      <th>name</th>\n",
       "      <th>gender</th>\n",
       "      <th>papers</th>\n",
       "      <th>papers_as_first_author</th>\n",
       "    </tr>\n",
       "  </thead>\n",
       "  <tbody>\n",
       "    <tr>\n",
       "      <th>119245</th>\n",
       "      <td>Goncalo R Abecasis</td>\n",
       "      <td>male</td>\n",
       "      <td>6</td>\n",
       "      <td>22031</td>\n",
       "    </tr>\n",
       "    <tr>\n",
       "      <th>12428</th>\n",
       "      <td>Robert D Finn</td>\n",
       "      <td>male</td>\n",
       "      <td>27</td>\n",
       "      <td>6329</td>\n",
       "    </tr>\n",
       "    <tr>\n",
       "      <th>8836</th>\n",
       "      <td>Timothy L Bailey</td>\n",
       "      <td>male</td>\n",
       "      <td>40</td>\n",
       "      <td>5327</td>\n",
       "    </tr>\n",
       "    <tr>\n",
       "      <th>23237</th>\n",
       "      <td>Darren A Natale</td>\n",
       "      <td>male</td>\n",
       "      <td>12</td>\n",
       "      <td>4854</td>\n",
       "    </tr>\n",
       "    <tr>\n",
       "      <th>21791</th>\n",
       "      <td>William M McLaren</td>\n",
       "      <td>male</td>\n",
       "      <td>12</td>\n",
       "      <td>4661</td>\n",
       "    </tr>\n",
       "    <tr>\n",
       "      <th>67606</th>\n",
       "      <td>Christine Anne Orengo</td>\n",
       "      <td>female</td>\n",
       "      <td>44</td>\n",
       "      <td>4233</td>\n",
       "    </tr>\n",
       "    <tr>\n",
       "      <th>24701</th>\n",
       "      <td>Tatiana A Tatusova</td>\n",
       "      <td>female</td>\n",
       "      <td>18</td>\n",
       "      <td>4199</td>\n",
       "    </tr>\n",
       "    <tr>\n",
       "      <th>27989</th>\n",
       "      <td>Daniel G Barrell</td>\n",
       "      <td>male</td>\n",
       "      <td>9</td>\n",
       "      <td>4035</td>\n",
       "    </tr>\n",
       "    <tr>\n",
       "      <th>59782</th>\n",
       "      <td>Giulietta M Spudich</td>\n",
       "      <td>female</td>\n",
       "      <td>10</td>\n",
       "      <td>3946</td>\n",
       "    </tr>\n",
       "    <tr>\n",
       "      <th>9449</th>\n",
       "      <td>Tim J P Hubbard</td>\n",
       "      <td>male</td>\n",
       "      <td>17</td>\n",
       "      <td>3935</td>\n",
       "    </tr>\n",
       "  </tbody>\n",
       "</table>\n",
       "</div>"
      ],
      "text/plain": [
       "                         name  gender  papers  papers_as_first_author\n",
       "119245     Goncalo R Abecasis    male       6                   22031\n",
       "12428           Robert D Finn    male      27                    6329\n",
       "8836         Timothy L Bailey    male      40                    5327\n",
       "23237         Darren A Natale    male      12                    4854\n",
       "21791       William M McLaren    male      12                    4661\n",
       "67606   Christine Anne Orengo  female      44                    4233\n",
       "24701      Tatiana A Tatusova  female      18                    4199\n",
       "27989        Daniel G Barrell    male       9                    4035\n",
       "59782     Giulietta M Spudich  female      10                    3946\n",
       "9449          Tim J P Hubbard    male      17                    3935"
      ]
     },
     "execution_count": 148,
     "metadata": {},
     "output_type": "execute_result"
    }
   ],
   "source": [
    "authors.sort_values('papers_as_first_author', inplace=True, ascending=False)\n",
    "authors[['name','gender','papers','papers_as_first_author']].head(10)"
   ]
  },
  {
   "cell_type": "markdown",
   "metadata": {},
   "source": [
    "## Gender distribution "
   ]
  },
  {
   "cell_type": "code",
   "execution_count": 134,
   "metadata": {},
   "outputs": [
    {
     "data": {
      "text/plain": [
       "gender\n",
       "male      0.653924\n",
       "female    0.346076\n",
       "dtype: float64"
      ]
     },
     "execution_count": 134,
     "metadata": {},
     "output_type": "execute_result"
    }
   ],
   "source": [
    "authors_by_gender = authors.groupby('gender').size().sort_values(ascending=False)\n",
    "per_authors_by_gender = authors_by_gender/authors.shape[0]\n",
    "per_authors_by_gender"
   ]
  },
  {
   "cell_type": "code",
   "execution_count": 135,
   "metadata": {},
   "outputs": [
    {
     "data": {
      "text/plain": [
       "gender\n",
       "male      65909\n",
       "female    34881\n",
       "dtype: int64"
      ]
     },
     "execution_count": 135,
     "metadata": {},
     "output_type": "execute_result"
    }
   ],
   "source": [
    "authors_by_gender"
   ]
  },
  {
   "cell_type": "code",
   "execution_count": 136,
   "metadata": {},
   "outputs": [
    {
     "data": {
      "text/plain": [
       "<matplotlib.axes._subplots.AxesSubplot at 0x7fa7fc4594e0>"
      ]
     },
     "execution_count": 136,
     "metadata": {},
     "output_type": "execute_result"
    },
    {
     "data": {
      "image/png": "[encoded data removed]",
      "text/plain": [
       "<Figure size 432x288 with 1 Axes>"
      ]
     },
     "metadata": {
      "needs_background": "light"
     },
     "output_type": "display_data"
    }
   ],
   "source": [
    "per_authors_by_gender.plot.bar()"
   ]
  },
  {
   "cell_type": "markdown",
   "metadata": {},
   "source": [
    "## Papers"
   ]
  },
  {
   "cell_type": "markdown",
   "metadata": {},
   "source": [
    "### Citations per paper"
   ]
  },
  {
   "cell_type": "code",
   "execution_count": 137,
   "metadata": {},
   "outputs": [
    {
     "data": {
      "text/plain": [
       "count    100790.000000\n",
       "mean         68.890991\n",
       "std         282.993017\n",
       "min           0.000000\n",
       "25%           6.000000\n",
       "50%          19.000000\n",
       "75%          50.000000\n",
       "max       24962.000000\n",
       "Name: total_citations, dtype: float64"
      ]
     },
     "execution_count": 137,
     "metadata": {},
     "output_type": "execute_result"
    }
   ],
   "source": [
    "authors['total_citations'].describe()"
   ]
  },
  {
   "cell_type": "markdown",
   "metadata": {},
   "source": [
    "### Author with max number of citations"
   ]
  },
  {
   "cell_type": "code",
   "execution_count": 138,
   "metadata": {},
   "outputs": [
    {
     "data": {
      "text/html": [
       "<div>\n",
       "<style scoped>\n",
       "    .dataframe tbody tr th:only-of-type {\n",
       "        vertical-align: middle;\n",
       "    }\n",
       "\n",
       "    .dataframe tbody tr th {\n",
       "        vertical-align: top;\n",
       "    }\n",
       "\n",
       "    .dataframe thead th {\n",
       "        text-align: right;\n",
       "    }\n",
       "</style>\n",
       "<table border=\"1\" class=\"dataframe\">\n",
       "  <thead>\n",
       "    <tr style=\"text-align: right;\">\n",
       "      <th></th>\n",
       "      <th>id</th>\n",
       "      <th>name</th>\n",
       "      <th>gender</th>\n",
       "      <th>papers</th>\n",
       "      <th>total_citations</th>\n",
       "      <th>papers_as_first_author</th>\n",
       "      <th>papers_as_last_author</th>\n",
       "      <th>papers_with_citations</th>\n",
       "      <th>h-index</th>\n",
       "    </tr>\n",
       "  </thead>\n",
       "  <tbody>\n",
       "    <tr>\n",
       "      <th>7298</th>\n",
       "      <td>7299</td>\n",
       "      <td>Richard Durbin</td>\n",
       "      <td>male</td>\n",
       "      <td>21</td>\n",
       "      <td>24962</td>\n",
       "      <td>1</td>\n",
       "      <td>0</td>\n",
       "      <td>20</td>\n",
       "      <td>16</td>\n",
       "    </tr>\n",
       "  </tbody>\n",
       "</table>\n",
       "</div>"
      ],
      "text/plain": [
       "        id            name gender  papers  total_citations  \\\n",
       "7298  7299  Richard Durbin   male      21            24962   \n",
       "\n",
       "      papers_as_first_author  papers_as_last_author  papers_with_citations  \\\n",
       "7298                       1                      0                     20   \n",
       "\n",
       "      h-index  \n",
       "7298       16  "
      ]
     },
     "execution_count": 138,
     "metadata": {},
     "output_type": "execute_result"
    }
   ],
   "source": [
    "authors[authors['total_citations']==max(authors['total_citations'])]"
   ]
  },
  {
   "cell_type": "markdown",
   "metadata": {},
   "source": [
    "### Top-10 Most cited authors"
   ]
  },
  {
   "cell_type": "code",
   "execution_count": 139,
   "metadata": {},
   "outputs": [
    {
     "data": {
      "text/html": [
       "<div>\n",
       "<style scoped>\n",
       "    .dataframe tbody tr th:only-of-type {\n",
       "        vertical-align: middle;\n",
       "    }\n",
       "\n",
       "    .dataframe tbody tr th {\n",
       "        vertical-align: top;\n",
       "    }\n",
       "\n",
       "    .dataframe thead th {\n",
       "        text-align: right;\n",
       "    }\n",
       "</style>\n",
       "<table border=\"1\" class=\"dataframe\">\n",
       "  <thead>\n",
       "    <tr style=\"text-align: right;\">\n",
       "      <th></th>\n",
       "      <th>name</th>\n",
       "      <th>gender</th>\n",
       "      <th>total_citations</th>\n",
       "    </tr>\n",
       "  </thead>\n",
       "  <tbody>\n",
       "    <tr>\n",
       "      <th>7298</th>\n",
       "      <td>Richard Durbin</td>\n",
       "      <td>male</td>\n",
       "      <td>24962</td>\n",
       "    </tr>\n",
       "    <tr>\n",
       "      <th>119245</th>\n",
       "      <td>Goncalo R Abecasis</td>\n",
       "      <td>male</td>\n",
       "      <td>22031</td>\n",
       "    </tr>\n",
       "    <tr>\n",
       "      <th>16979</th>\n",
       "      <td>Alexandros Stamatakis</td>\n",
       "      <td>male</td>\n",
       "      <td>12752</td>\n",
       "    </tr>\n",
       "    <tr>\n",
       "      <th>3204</th>\n",
       "      <td>Peer Bork</td>\n",
       "      <td>male</td>\n",
       "      <td>12624</td>\n",
       "    </tr>\n",
       "    <tr>\n",
       "      <th>25815</th>\n",
       "      <td>Minoru Kanehisa</td>\n",
       "      <td>male</td>\n",
       "      <td>10150</td>\n",
       "    </tr>\n",
       "    <tr>\n",
       "      <th>51102</th>\n",
       "      <td>Jue Ruan</td>\n",
       "      <td>female</td>\n",
       "      <td>9984</td>\n",
       "    </tr>\n",
       "    <tr>\n",
       "      <th>21503</th>\n",
       "      <td>Nils Homer</td>\n",
       "      <td>male</td>\n",
       "      <td>9827</td>\n",
       "    </tr>\n",
       "    <tr>\n",
       "      <th>113603</th>\n",
       "      <td>Tim Fennell</td>\n",
       "      <td>male</td>\n",
       "      <td>9821</td>\n",
       "    </tr>\n",
       "    <tr>\n",
       "      <th>33544</th>\n",
       "      <td>Gabor Marth</td>\n",
       "      <td>male</td>\n",
       "      <td>9782</td>\n",
       "    </tr>\n",
       "    <tr>\n",
       "      <th>115238</th>\n",
       "      <td>Bob Handsaker</td>\n",
       "      <td>male</td>\n",
       "      <td>9753</td>\n",
       "    </tr>\n",
       "  </tbody>\n",
       "</table>\n",
       "</div>"
      ],
      "text/plain": [
       "                         name  gender  total_citations\n",
       "7298           Richard Durbin    male            24962\n",
       "119245     Goncalo R Abecasis    male            22031\n",
       "16979   Alexandros Stamatakis    male            12752\n",
       "3204                Peer Bork    male            12624\n",
       "25815         Minoru Kanehisa    male            10150\n",
       "51102                Jue Ruan  female             9984\n",
       "21503              Nils Homer    male             9827\n",
       "113603            Tim Fennell    male             9821\n",
       "33544             Gabor Marth    male             9782\n",
       "115238          Bob Handsaker    male             9753"
      ]
     },
     "execution_count": 139,
     "metadata": {},
     "output_type": "execute_result"
    }
   ],
   "source": [
    "authors.sort_values('total_citations', inplace=True, ascending=False)\n",
    "authors[['name','gender','total_citations']].head(10)"
   ]
  },
  {
   "cell_type": "markdown",
   "metadata": {},
   "source": [
    "#### Top-10 most cited female authors"
   ]
  },
  {
   "cell_type": "code",
   "execution_count": 35,
   "metadata": {},
   "outputs": [
    {
     "data": {
      "text/html": [
       "<div>\n",
       "<style scoped>\n",
       "    .dataframe tbody tr th:only-of-type {\n",
       "        vertical-align: middle;\n",
       "    }\n",
       "\n",
       "    .dataframe tbody tr th {\n",
       "        vertical-align: top;\n",
       "    }\n",
       "\n",
       "    .dataframe thead th {\n",
       "        text-align: right;\n",
       "    }\n",
       "</style>\n",
       "<table border=\"1\" class=\"dataframe\">\n",
       "  <thead>\n",
       "    <tr style=\"text-align: right;\">\n",
       "      <th></th>\n",
       "      <th>name</th>\n",
       "      <th>gender</th>\n",
       "      <th>total_citations</th>\n",
       "    </tr>\n",
       "  </thead>\n",
       "  <tbody>\n",
       "    <tr>\n",
       "      <th>51102</th>\n",
       "      <td>Jue Ruan</td>\n",
       "      <td>female</td>\n",
       "      <td>9984</td>\n",
       "    </tr>\n",
       "    <tr>\n",
       "      <th>76793</th>\n",
       "      <td>Miho Furumichi</td>\n",
       "      <td>female</td>\n",
       "      <td>5232</td>\n",
       "    </tr>\n",
       "    <tr>\n",
       "      <th>76794</th>\n",
       "      <td>Mao Tanabe</td>\n",
       "      <td>female</td>\n",
       "      <td>5232</td>\n",
       "    </tr>\n",
       "    <tr>\n",
       "      <th>21794</th>\n",
       "      <td>Fiona Cunningham</td>\n",
       "      <td>female</td>\n",
       "      <td>4685</td>\n",
       "    </tr>\n",
       "    <tr>\n",
       "      <th>84281</th>\n",
       "      <td>Narmada Thanki</td>\n",
       "      <td>female</td>\n",
       "      <td>4501</td>\n",
       "    </tr>\n",
       "    <tr>\n",
       "      <th>84270</th>\n",
       "      <td>Myra K Derbyshire</td>\n",
       "      <td>female</td>\n",
       "      <td>4446</td>\n",
       "    </tr>\n",
       "    <tr>\n",
       "      <th>84278</th>\n",
       "      <td>Gabriele H Marchler</td>\n",
       "      <td>female</td>\n",
       "      <td>4446</td>\n",
       "    </tr>\n",
       "    <tr>\n",
       "      <th>84282</th>\n",
       "      <td>Roxanne A Yamashita</td>\n",
       "      <td>female</td>\n",
       "      <td>4446</td>\n",
       "    </tr>\n",
       "    <tr>\n",
       "      <th>84272</th>\n",
       "      <td>Noreen R Gonzales</td>\n",
       "      <td>female</td>\n",
       "      <td>4446</td>\n",
       "    </tr>\n",
       "    <tr>\n",
       "      <th>72241</th>\n",
       "      <td>Donna R Maglott</td>\n",
       "      <td>female</td>\n",
       "      <td>4408</td>\n",
       "    </tr>\n",
       "  </tbody>\n",
       "</table>\n",
       "</div>"
      ],
      "text/plain": [
       "                      name  gender  total_citations\n",
       "51102             Jue Ruan  female             9984\n",
       "76793       Miho Furumichi  female             5232\n",
       "76794           Mao Tanabe  female             5232\n",
       "21794     Fiona Cunningham  female             4685\n",
       "84281       Narmada Thanki  female             4501\n",
       "84270    Myra K Derbyshire  female             4446\n",
       "84278  Gabriele H Marchler  female             4446\n",
       "84282  Roxanne A Yamashita  female             4446\n",
       "84272    Noreen R Gonzales  female             4446\n",
       "72241      Donna R Maglott  female             4408"
      ]
     },
     "execution_count": 35,
     "metadata": {},
     "output_type": "execute_result"
    }
   ],
   "source": [
    "authors.sort_values('total_citations', inplace=True, ascending=False)\n",
    "authors[authors['gender']=='female'][['name','gender','total_citations']].head(10)"
   ]
  },
  {
   "cell_type": "markdown",
   "metadata": {},
   "source": [
    "### Papers per author"
   ]
  },
  {
   "cell_type": "code",
   "execution_count": 140,
   "metadata": {},
   "outputs": [
    {
     "data": {
      "text/plain": [
       "count    100790.000000\n",
       "mean          1.744181\n",
       "std           2.037485\n",
       "min           1.000000\n",
       "25%           1.000000\n",
       "50%           1.000000\n",
       "75%           2.000000\n",
       "max          69.000000\n",
       "Name: papers, dtype: float64"
      ]
     },
     "execution_count": 140,
     "metadata": {},
     "output_type": "execute_result"
    }
   ],
   "source": [
    "authors['papers'].describe()"
   ]
  },
  {
   "cell_type": "markdown",
   "metadata": {},
   "source": [
    "### Top-10 Most productive author"
   ]
  },
  {
   "cell_type": "code",
   "execution_count": 141,
   "metadata": {},
   "outputs": [
    {
     "data": {
      "text/html": [
       "<div>\n",
       "<style scoped>\n",
       "    .dataframe tbody tr th:only-of-type {\n",
       "        vertical-align: middle;\n",
       "    }\n",
       "\n",
       "    .dataframe tbody tr th {\n",
       "        vertical-align: top;\n",
       "    }\n",
       "\n",
       "    .dataframe thead th {\n",
       "        text-align: right;\n",
       "    }\n",
       "</style>\n",
       "<table border=\"1\" class=\"dataframe\">\n",
       "  <thead>\n",
       "    <tr style=\"text-align: right;\">\n",
       "      <th></th>\n",
       "      <th>name</th>\n",
       "      <th>gender</th>\n",
       "      <th>papers</th>\n",
       "    </tr>\n",
       "  </thead>\n",
       "  <tbody>\n",
       "    <tr>\n",
       "      <th>3213</th>\n",
       "      <td>Janusz M Bujnicki</td>\n",
       "      <td>male</td>\n",
       "      <td>69</td>\n",
       "    </tr>\n",
       "    <tr>\n",
       "      <th>7970</th>\n",
       "      <td>Peter F Stadler</td>\n",
       "      <td>male</td>\n",
       "      <td>69</td>\n",
       "    </tr>\n",
       "    <tr>\n",
       "      <th>3204</th>\n",
       "      <td>Peer Bork</td>\n",
       "      <td>male</td>\n",
       "      <td>53</td>\n",
       "    </tr>\n",
       "    <tr>\n",
       "      <th>4050</th>\n",
       "      <td>Alfonso Valencia</td>\n",
       "      <td>male</td>\n",
       "      <td>51</td>\n",
       "    </tr>\n",
       "    <tr>\n",
       "      <th>1923</th>\n",
       "      <td>Jun Wang</td>\n",
       "      <td>male</td>\n",
       "      <td>48</td>\n",
       "    </tr>\n",
       "    <tr>\n",
       "      <th>265</th>\n",
       "      <td>Philip E Bourne</td>\n",
       "      <td>male</td>\n",
       "      <td>48</td>\n",
       "    </tr>\n",
       "    <tr>\n",
       "      <th>3380</th>\n",
       "      <td>Mark Gerstein</td>\n",
       "      <td>male</td>\n",
       "      <td>46</td>\n",
       "    </tr>\n",
       "    <tr>\n",
       "      <th>3087</th>\n",
       "      <td>Yan Zhang</td>\n",
       "      <td>male</td>\n",
       "      <td>45</td>\n",
       "    </tr>\n",
       "    <tr>\n",
       "      <th>67606</th>\n",
       "      <td>Christine Anne Orengo</td>\n",
       "      <td>female</td>\n",
       "      <td>44</td>\n",
       "    </tr>\n",
       "    <tr>\n",
       "      <th>9368</th>\n",
       "      <td>Rolf Backofen</td>\n",
       "      <td>male</td>\n",
       "      <td>41</td>\n",
       "    </tr>\n",
       "  </tbody>\n",
       "</table>\n",
       "</div>"
      ],
      "text/plain": [
       "                        name  gender  papers\n",
       "3213       Janusz M Bujnicki    male      69\n",
       "7970         Peter F Stadler    male      69\n",
       "3204               Peer Bork    male      53\n",
       "4050        Alfonso Valencia    male      51\n",
       "1923                Jun Wang    male      48\n",
       "265          Philip E Bourne    male      48\n",
       "3380           Mark Gerstein    male      46\n",
       "3087               Yan Zhang    male      45\n",
       "67606  Christine Anne Orengo  female      44\n",
       "9368           Rolf Backofen    male      41"
      ]
     },
     "execution_count": 141,
     "metadata": {},
     "output_type": "execute_result"
    }
   ],
   "source": [
    "authors.sort_values('papers', inplace=True, ascending=False)\n",
    "authors[['name','gender','papers']].head(10)"
   ]
  },
  {
   "cell_type": "markdown",
   "metadata": {},
   "source": [
    "#### Top-10 most productive female authors"
   ]
  },
  {
   "cell_type": "code",
   "execution_count": 142,
   "metadata": {},
   "outputs": [
    {
     "data": {
      "text/html": [
       "<div>\n",
       "<style scoped>\n",
       "    .dataframe tbody tr th:only-of-type {\n",
       "        vertical-align: middle;\n",
       "    }\n",
       "\n",
       "    .dataframe tbody tr th {\n",
       "        vertical-align: top;\n",
       "    }\n",
       "\n",
       "    .dataframe thead th {\n",
       "        text-align: right;\n",
       "    }\n",
       "</style>\n",
       "<table border=\"1\" class=\"dataframe\">\n",
       "  <thead>\n",
       "    <tr style=\"text-align: right;\">\n",
       "      <th></th>\n",
       "      <th>name</th>\n",
       "      <th>gender</th>\n",
       "      <th>papers</th>\n",
       "    </tr>\n",
       "  </thead>\n",
       "  <tbody>\n",
       "    <tr>\n",
       "      <th>67606</th>\n",
       "      <td>Christine Anne Orengo</td>\n",
       "      <td>female</td>\n",
       "      <td>44</td>\n",
       "    </tr>\n",
       "    <tr>\n",
       "      <th>763</th>\n",
       "      <td>Olga G Troyanskaya</td>\n",
       "      <td>female</td>\n",
       "      <td>35</td>\n",
       "    </tr>\n",
       "    <tr>\n",
       "      <th>17171</th>\n",
       "      <td>Rita Casadio</td>\n",
       "      <td>female</td>\n",
       "      <td>34</td>\n",
       "    </tr>\n",
       "    <tr>\n",
       "      <th>1829</th>\n",
       "      <td>Luonan Chen</td>\n",
       "      <td>female</td>\n",
       "      <td>32</td>\n",
       "    </tr>\n",
       "    <tr>\n",
       "      <th>62</th>\n",
       "      <td>Jin Wang</td>\n",
       "      <td>female</td>\n",
       "      <td>30</td>\n",
       "    </tr>\n",
       "    <tr>\n",
       "      <th>17135</th>\n",
       "      <td>Sophia Ananiadou</td>\n",
       "      <td>female</td>\n",
       "      <td>29</td>\n",
       "    </tr>\n",
       "    <tr>\n",
       "      <th>107</th>\n",
       "      <td>Ruth Nussinov</td>\n",
       "      <td>female</td>\n",
       "      <td>29</td>\n",
       "    </tr>\n",
       "    <tr>\n",
       "      <th>17500</th>\n",
       "      <td>Lin Liu</td>\n",
       "      <td>female</td>\n",
       "      <td>28</td>\n",
       "    </tr>\n",
       "    <tr>\n",
       "      <th>2421</th>\n",
       "      <td>Shoba Ranganathan</td>\n",
       "      <td>female</td>\n",
       "      <td>28</td>\n",
       "    </tr>\n",
       "    <tr>\n",
       "      <th>13405</th>\n",
       "      <td>Cathy H Wu</td>\n",
       "      <td>female</td>\n",
       "      <td>26</td>\n",
       "    </tr>\n",
       "  </tbody>\n",
       "</table>\n",
       "</div>"
      ],
      "text/plain": [
       "                        name  gender  papers\n",
       "67606  Christine Anne Orengo  female      44\n",
       "763       Olga G Troyanskaya  female      35\n",
       "17171           Rita Casadio  female      34\n",
       "1829             Luonan Chen  female      32\n",
       "62                  Jin Wang  female      30\n",
       "17135       Sophia Ananiadou  female      29\n",
       "107            Ruth Nussinov  female      29\n",
       "17500                Lin Liu  female      28\n",
       "2421       Shoba Ranganathan  female      28\n",
       "13405             Cathy H Wu  female      26"
      ]
     },
     "execution_count": 142,
     "metadata": {},
     "output_type": "execute_result"
    }
   ],
   "source": [
    "authors.sort_values('papers', inplace=True, ascending=False)\n",
    "authors[authors['gender']=='female'][['name','gender','papers']].head(10)"
   ]
  },
  {
   "cell_type": "markdown",
   "metadata": {},
   "source": [
    "### H-Index"
   ]
  },
  {
   "cell_type": "markdown",
   "metadata": {},
   "source": [
    "The **`h-index`** is computed based <u>only</u> on the papers available of the dataset"
   ]
  },
  {
   "cell_type": "code",
   "execution_count": 143,
   "metadata": {},
   "outputs": [
    {
     "data": {
      "text/plain": [
       "count    100790.000000\n",
       "mean          1.486874\n",
       "std           1.443448\n",
       "min           0.000000\n",
       "25%           1.000000\n",
       "50%           1.000000\n",
       "75%           2.000000\n",
       "max          32.000000\n",
       "Name: h-index, dtype: float64"
      ]
     },
     "execution_count": 143,
     "metadata": {},
     "output_type": "execute_result"
    }
   ],
   "source": [
    "authors['h-index'].describe()"
   ]
  },
  {
   "cell_type": "markdown",
   "metadata": {},
   "source": [
    "### Top-10 most impactful author"
   ]
  },
  {
   "cell_type": "code",
   "execution_count": 144,
   "metadata": {},
   "outputs": [
    {
     "data": {
      "text/html": [
       "<div>\n",
       "<style scoped>\n",
       "    .dataframe tbody tr th:only-of-type {\n",
       "        vertical-align: middle;\n",
       "    }\n",
       "\n",
       "    .dataframe tbody tr th {\n",
       "        vertical-align: top;\n",
       "    }\n",
       "\n",
       "    .dataframe thead th {\n",
       "        text-align: right;\n",
       "    }\n",
       "</style>\n",
       "<table border=\"1\" class=\"dataframe\">\n",
       "  <thead>\n",
       "    <tr style=\"text-align: right;\">\n",
       "      <th></th>\n",
       "      <th>name</th>\n",
       "      <th>gender</th>\n",
       "      <th>papers</th>\n",
       "      <th>total_citations</th>\n",
       "      <th>h-index</th>\n",
       "    </tr>\n",
       "  </thead>\n",
       "  <tbody>\n",
       "    <tr>\n",
       "      <th>3204</th>\n",
       "      <td>Peer Bork</td>\n",
       "      <td>male</td>\n",
       "      <td>53</td>\n",
       "      <td>12624</td>\n",
       "      <td>32</td>\n",
       "    </tr>\n",
       "    <tr>\n",
       "      <th>7970</th>\n",
       "      <td>Peter F Stadler</td>\n",
       "      <td>male</td>\n",
       "      <td>69</td>\n",
       "      <td>3420</td>\n",
       "      <td>30</td>\n",
       "    </tr>\n",
       "    <tr>\n",
       "      <th>25815</th>\n",
       "      <td>Minoru Kanehisa</td>\n",
       "      <td>male</td>\n",
       "      <td>31</td>\n",
       "      <td>10150</td>\n",
       "      <td>25</td>\n",
       "    </tr>\n",
       "    <tr>\n",
       "      <th>265</th>\n",
       "      <td>Philip E Bourne</td>\n",
       "      <td>male</td>\n",
       "      <td>48</td>\n",
       "      <td>3171</td>\n",
       "      <td>25</td>\n",
       "    </tr>\n",
       "    <tr>\n",
       "      <th>3380</th>\n",
       "      <td>Mark Gerstein</td>\n",
       "      <td>male</td>\n",
       "      <td>46</td>\n",
       "      <td>2202</td>\n",
       "      <td>25</td>\n",
       "    </tr>\n",
       "    <tr>\n",
       "      <th>8629</th>\n",
       "      <td>Ewan Birney</td>\n",
       "      <td>male</td>\n",
       "      <td>32</td>\n",
       "      <td>7033</td>\n",
       "      <td>25</td>\n",
       "    </tr>\n",
       "    <tr>\n",
       "      <th>3994</th>\n",
       "      <td>David S Wishart</td>\n",
       "      <td>male</td>\n",
       "      <td>37</td>\n",
       "      <td>9711</td>\n",
       "      <td>25</td>\n",
       "    </tr>\n",
       "    <tr>\n",
       "      <th>120826</th>\n",
       "      <td>William Stafford Noble</td>\n",
       "      <td>male</td>\n",
       "      <td>40</td>\n",
       "      <td>4243</td>\n",
       "      <td>24</td>\n",
       "    </tr>\n",
       "    <tr>\n",
       "      <th>3213</th>\n",
       "      <td>Janusz M Bujnicki</td>\n",
       "      <td>male</td>\n",
       "      <td>69</td>\n",
       "      <td>2193</td>\n",
       "      <td>23</td>\n",
       "    </tr>\n",
       "    <tr>\n",
       "      <th>2643</th>\n",
       "      <td>Alex Bateman</td>\n",
       "      <td>male</td>\n",
       "      <td>34</td>\n",
       "      <td>7283</td>\n",
       "      <td>23</td>\n",
       "    </tr>\n",
       "  </tbody>\n",
       "</table>\n",
       "</div>"
      ],
      "text/plain": [
       "                          name gender  papers  total_citations  h-index\n",
       "3204                 Peer Bork   male      53            12624       32\n",
       "7970           Peter F Stadler   male      69             3420       30\n",
       "25815          Minoru Kanehisa   male      31            10150       25\n",
       "265            Philip E Bourne   male      48             3171       25\n",
       "3380             Mark Gerstein   male      46             2202       25\n",
       "8629               Ewan Birney   male      32             7033       25\n",
       "3994           David S Wishart   male      37             9711       25\n",
       "120826  William Stafford Noble   male      40             4243       24\n",
       "3213         Janusz M Bujnicki   male      69             2193       23\n",
       "2643              Alex Bateman   male      34             7283       23"
      ]
     },
     "execution_count": 144,
     "metadata": {},
     "output_type": "execute_result"
    }
   ],
   "source": [
    "authors.sort_values('h-index', inplace=True, ascending=False)\n",
    "authors[['name','gender','papers','total_citations','h-index']].head(10)"
   ]
  },
  {
   "cell_type": "markdown",
   "metadata": {},
   "source": [
    "#### Top-10 most impacful female authors"
   ]
  },
  {
   "cell_type": "code",
   "execution_count": 145,
   "metadata": {},
   "outputs": [
    {
     "data": {
      "text/html": [
       "<div>\n",
       "<style scoped>\n",
       "    .dataframe tbody tr th:only-of-type {\n",
       "        vertical-align: middle;\n",
       "    }\n",
       "\n",
       "    .dataframe tbody tr th {\n",
       "        vertical-align: top;\n",
       "    }\n",
       "\n",
       "    .dataframe thead th {\n",
       "        text-align: right;\n",
       "    }\n",
       "</style>\n",
       "<table border=\"1\" class=\"dataframe\">\n",
       "  <thead>\n",
       "    <tr style=\"text-align: right;\">\n",
       "      <th></th>\n",
       "      <th>name</th>\n",
       "      <th>gender</th>\n",
       "      <th>papers</th>\n",
       "      <th>total_citations</th>\n",
       "      <th>h-index</th>\n",
       "    </tr>\n",
       "  </thead>\n",
       "  <tbody>\n",
       "    <tr>\n",
       "      <th>763</th>\n",
       "      <td>Olga G Troyanskaya</td>\n",
       "      <td>female</td>\n",
       "      <td>35</td>\n",
       "      <td>1473</td>\n",
       "      <td>20</td>\n",
       "    </tr>\n",
       "    <tr>\n",
       "      <th>20017</th>\n",
       "      <td>Helen Parkinson</td>\n",
       "      <td>female</td>\n",
       "      <td>23</td>\n",
       "      <td>2892</td>\n",
       "      <td>18</td>\n",
       "    </tr>\n",
       "    <tr>\n",
       "      <th>17135</th>\n",
       "      <td>Sophia Ananiadou</td>\n",
       "      <td>female</td>\n",
       "      <td>29</td>\n",
       "      <td>754</td>\n",
       "      <td>18</td>\n",
       "    </tr>\n",
       "    <tr>\n",
       "      <th>107</th>\n",
       "      <td>Ruth Nussinov</td>\n",
       "      <td>female</td>\n",
       "      <td>29</td>\n",
       "      <td>1656</td>\n",
       "      <td>17</td>\n",
       "    </tr>\n",
       "    <tr>\n",
       "      <th>1829</th>\n",
       "      <td>Luonan Chen</td>\n",
       "      <td>female</td>\n",
       "      <td>32</td>\n",
       "      <td>976</td>\n",
       "      <td>17</td>\n",
       "    </tr>\n",
       "    <tr>\n",
       "      <th>13405</th>\n",
       "      <td>Cathy H Wu</td>\n",
       "      <td>female</td>\n",
       "      <td>26</td>\n",
       "      <td>3676</td>\n",
       "      <td>17</td>\n",
       "    </tr>\n",
       "    <tr>\n",
       "      <th>67606</th>\n",
       "      <td>Christine Anne Orengo</td>\n",
       "      <td>female</td>\n",
       "      <td>44</td>\n",
       "      <td>4233</td>\n",
       "      <td>16</td>\n",
       "    </tr>\n",
       "    <tr>\n",
       "      <th>18627</th>\n",
       "      <td>Drena Dobbs</td>\n",
       "      <td>female</td>\n",
       "      <td>17</td>\n",
       "      <td>1008</td>\n",
       "      <td>16</td>\n",
       "    </tr>\n",
       "    <tr>\n",
       "      <th>2231</th>\n",
       "      <td>Janet M Thornton</td>\n",
       "      <td>female</td>\n",
       "      <td>23</td>\n",
       "      <td>1516</td>\n",
       "      <td>16</td>\n",
       "    </tr>\n",
       "    <tr>\n",
       "      <th>338</th>\n",
       "      <td>Ivet Bahar</td>\n",
       "      <td>female</td>\n",
       "      <td>24</td>\n",
       "      <td>1097</td>\n",
       "      <td>16</td>\n",
       "    </tr>\n",
       "  </tbody>\n",
       "</table>\n",
       "</div>"
      ],
      "text/plain": [
       "                        name  gender  papers  total_citations  h-index\n",
       "763       Olga G Troyanskaya  female      35             1473       20\n",
       "20017        Helen Parkinson  female      23             2892       18\n",
       "17135       Sophia Ananiadou  female      29              754       18\n",
       "107            Ruth Nussinov  female      29             1656       17\n",
       "1829             Luonan Chen  female      32              976       17\n",
       "13405             Cathy H Wu  female      26             3676       17\n",
       "67606  Christine Anne Orengo  female      44             4233       16\n",
       "18627            Drena Dobbs  female      17             1008       16\n",
       "2231        Janet M Thornton  female      23             1516       16\n",
       "338               Ivet Bahar  female      24             1097       16"
      ]
     },
     "execution_count": 145,
     "metadata": {},
     "output_type": "execute_result"
    }
   ],
   "source": [
    "authors.sort_values('h-index', inplace=True, ascending=False)\n",
    "authors[authors['gender']=='female'][['name','gender','papers','total_citations','h-index']].head(10)"
   ]
  },
  {
   "cell_type": "markdown",
   "metadata": {},
   "source": [
    "### Papers as first author"
   ]
  },
  {
   "cell_type": "code",
   "execution_count": 146,
   "metadata": {},
   "outputs": [
    {
     "data": {
      "text/plain": [
       "count    100790.000000\n",
       "mean          4.608086\n",
       "std         101.942500\n",
       "min           0.000000\n",
       "25%           0.000000\n",
       "50%           0.000000\n",
       "75%           1.000000\n",
       "max       22031.000000\n",
       "Name: papers_as_first_author, dtype: float64"
      ]
     },
     "execution_count": 146,
     "metadata": {},
     "output_type": "execute_result"
    }
   ],
   "source": [
    "authors['papers_as_first_author'].describe()"
   ]
  },
  {
   "cell_type": "markdown",
   "metadata": {},
   "source": [
    "### Top-10 authors that appeared as first author"
   ]
  },
  {
   "cell_type": "code",
   "execution_count": 147,
   "metadata": {},
   "outputs": [
    {
     "data": {
      "text/html": [
       "<div>\n",
       "<style scoped>\n",
       "    .dataframe tbody tr th:only-of-type {\n",
       "        vertical-align: middle;\n",
       "    }\n",
       "\n",
       "    .dataframe tbody tr th {\n",
       "        vertical-align: top;\n",
       "    }\n",
       "\n",
       "    .dataframe thead th {\n",
       "        text-align: right;\n",
       "    }\n",
       "</style>\n",
       "<table border=\"1\" class=\"dataframe\">\n",
       "  <thead>\n",
       "    <tr style=\"text-align: right;\">\n",
       "      <th></th>\n",
       "      <th>name</th>\n",
       "      <th>gender</th>\n",
       "      <th>papers</th>\n",
       "      <th>papers_as_first_author</th>\n",
       "    </tr>\n",
       "  </thead>\n",
       "  <tbody>\n",
       "    <tr>\n",
       "      <th>119245</th>\n",
       "      <td>Goncalo R Abecasis</td>\n",
       "      <td>male</td>\n",
       "      <td>6</td>\n",
       "      <td>22031</td>\n",
       "    </tr>\n",
       "    <tr>\n",
       "      <th>12428</th>\n",
       "      <td>Robert D Finn</td>\n",
       "      <td>male</td>\n",
       "      <td>27</td>\n",
       "      <td>6329</td>\n",
       "    </tr>\n",
       "    <tr>\n",
       "      <th>8836</th>\n",
       "      <td>Timothy L Bailey</td>\n",
       "      <td>male</td>\n",
       "      <td>40</td>\n",
       "      <td>5327</td>\n",
       "    </tr>\n",
       "    <tr>\n",
       "      <th>23237</th>\n",
       "      <td>Darren A Natale</td>\n",
       "      <td>male</td>\n",
       "      <td>12</td>\n",
       "      <td>4854</td>\n",
       "    </tr>\n",
       "    <tr>\n",
       "      <th>21791</th>\n",
       "      <td>William M McLaren</td>\n",
       "      <td>male</td>\n",
       "      <td>12</td>\n",
       "      <td>4661</td>\n",
       "    </tr>\n",
       "    <tr>\n",
       "      <th>67606</th>\n",
       "      <td>Christine Anne Orengo</td>\n",
       "      <td>female</td>\n",
       "      <td>44</td>\n",
       "      <td>4233</td>\n",
       "    </tr>\n",
       "    <tr>\n",
       "      <th>24701</th>\n",
       "      <td>Tatiana A Tatusova</td>\n",
       "      <td>female</td>\n",
       "      <td>18</td>\n",
       "      <td>4199</td>\n",
       "    </tr>\n",
       "    <tr>\n",
       "      <th>27989</th>\n",
       "      <td>Daniel G Barrell</td>\n",
       "      <td>male</td>\n",
       "      <td>9</td>\n",
       "      <td>4035</td>\n",
       "    </tr>\n",
       "    <tr>\n",
       "      <th>59782</th>\n",
       "      <td>Giulietta M Spudich</td>\n",
       "      <td>female</td>\n",
       "      <td>10</td>\n",
       "      <td>3946</td>\n",
       "    </tr>\n",
       "    <tr>\n",
       "      <th>9449</th>\n",
       "      <td>Tim J P Hubbard</td>\n",
       "      <td>male</td>\n",
       "      <td>17</td>\n",
       "      <td>3935</td>\n",
       "    </tr>\n",
       "  </tbody>\n",
       "</table>\n",
       "</div>"
      ],
      "text/plain": [
       "                         name  gender  papers  papers_as_first_author\n",
       "119245     Goncalo R Abecasis    male       6                   22031\n",
       "12428           Robert D Finn    male      27                    6329\n",
       "8836         Timothy L Bailey    male      40                    5327\n",
       "23237         Darren A Natale    male      12                    4854\n",
       "21791       William M McLaren    male      12                    4661\n",
       "67606   Christine Anne Orengo  female      44                    4233\n",
       "24701      Tatiana A Tatusova  female      18                    4199\n",
       "27989        Daniel G Barrell    male       9                    4035\n",
       "59782     Giulietta M Spudich  female      10                    3946\n",
       "9449          Tim J P Hubbard    male      17                    3935"
      ]
     },
     "execution_count": 147,
     "metadata": {},
     "output_type": "execute_result"
    }
   ],
   "source": [
    "authors.sort_values('papers_as_first_author', inplace=True, ascending=False)\n",
    "authors[['name','gender','papers','papers_as_first_author']].head(10)"
   ]
  },
  {
   "cell_type": "markdown",
   "metadata": {},
   "source": [
    "#### Top-10 female authors that appeared as first author"
   ]
  },
  {
   "cell_type": "code",
   "execution_count": 45,
   "metadata": {},
   "outputs": [
    {
     "data": {
      "text/html": [
       "<div>\n",
       "<style scoped>\n",
       "    .dataframe tbody tr th:only-of-type {\n",
       "        vertical-align: middle;\n",
       "    }\n",
       "\n",
       "    .dataframe tbody tr th {\n",
       "        vertical-align: top;\n",
       "    }\n",
       "\n",
       "    .dataframe thead th {\n",
       "        text-align: right;\n",
       "    }\n",
       "</style>\n",
       "<table border=\"1\" class=\"dataframe\">\n",
       "  <thead>\n",
       "    <tr style=\"text-align: right;\">\n",
       "      <th></th>\n",
       "      <th>name</th>\n",
       "      <th>gender</th>\n",
       "      <th>papers</th>\n",
       "      <th>papers_as_first_author</th>\n",
       "    </tr>\n",
       "  </thead>\n",
       "  <tbody>\n",
       "    <tr>\n",
       "      <th>67606</th>\n",
       "      <td>Christine Anne Orengo</td>\n",
       "      <td>female</td>\n",
       "      <td>44</td>\n",
       "      <td>4233</td>\n",
       "    </tr>\n",
       "    <tr>\n",
       "      <th>24701</th>\n",
       "      <td>Tatiana A Tatusova</td>\n",
       "      <td>female</td>\n",
       "      <td>18</td>\n",
       "      <td>4199</td>\n",
       "    </tr>\n",
       "    <tr>\n",
       "      <th>59782</th>\n",
       "      <td>Giulietta M Spudich</td>\n",
       "      <td>female</td>\n",
       "      <td>10</td>\n",
       "      <td>3946</td>\n",
       "    </tr>\n",
       "    <tr>\n",
       "      <th>38621</th>\n",
       "      <td>Jennifer L Harrow</td>\n",
       "      <td>female</td>\n",
       "      <td>13</td>\n",
       "      <td>3126</td>\n",
       "    </tr>\n",
       "    <tr>\n",
       "      <th>101697</th>\n",
       "      <td>Louise C Daugherty</td>\n",
       "      <td>female</td>\n",
       "      <td>5</td>\n",
       "      <td>2711</td>\n",
       "    </tr>\n",
       "    <tr>\n",
       "      <th>84901</th>\n",
       "      <td>Brooke L Rhead</td>\n",
       "      <td>female</td>\n",
       "      <td>10</td>\n",
       "      <td>2700</td>\n",
       "    </tr>\n",
       "    <tr>\n",
       "      <th>104439</th>\n",
       "      <td>Charlotte G Cole</td>\n",
       "      <td>female</td>\n",
       "      <td>4</td>\n",
       "      <td>2496</td>\n",
       "    </tr>\n",
       "    <tr>\n",
       "      <th>22799</th>\n",
       "      <td>Artemis G Hatzigeorgiou</td>\n",
       "      <td>female</td>\n",
       "      <td>16</td>\n",
       "      <td>2360</td>\n",
       "    </tr>\n",
       "    <tr>\n",
       "      <th>9769</th>\n",
       "      <td>Melissa S Cline</td>\n",
       "      <td>female</td>\n",
       "      <td>11</td>\n",
       "      <td>2290</td>\n",
       "    </tr>\n",
       "    <tr>\n",
       "      <th>81677</th>\n",
       "      <td>Belinda M Giardine</td>\n",
       "      <td>female</td>\n",
       "      <td>6</td>\n",
       "      <td>2178</td>\n",
       "    </tr>\n",
       "  </tbody>\n",
       "</table>\n",
       "</div>"
      ],
      "text/plain": [
       "                           name  gender  papers  papers_as_first_author\n",
       "67606     Christine Anne Orengo  female      44                    4233\n",
       "24701        Tatiana A Tatusova  female      18                    4199\n",
       "59782       Giulietta M Spudich  female      10                    3946\n",
       "38621         Jennifer L Harrow  female      13                    3126\n",
       "101697       Louise C Daugherty  female       5                    2711\n",
       "84901            Brooke L Rhead  female      10                    2700\n",
       "104439         Charlotte G Cole  female       4                    2496\n",
       "22799   Artemis G Hatzigeorgiou  female      16                    2360\n",
       "9769            Melissa S Cline  female      11                    2290\n",
       "81677        Belinda M Giardine  female       6                    2178"
      ]
     },
     "execution_count": 45,
     "metadata": {},
     "output_type": "execute_result"
    }
   ],
   "source": [
    "authors.sort_values('papers_as_first_author', inplace=True, ascending=False)\n",
    "authors[authors['gender']=='female'][['name','gender','papers','papers_as_first_author']].head(10)"
   ]
  },
  {
   "cell_type": "markdown",
   "metadata": {},
   "source": [
    "### Papers as last author"
   ]
  },
  {
   "cell_type": "code",
   "execution_count": 46,
   "metadata": {},
   "outputs": [
    {
     "data": {
      "text/plain": [
       "count    100790.000000\n",
       "mean          0.074363\n",
       "std           0.431288\n",
       "min           0.000000\n",
       "25%           0.000000\n",
       "50%           0.000000\n",
       "75%           0.000000\n",
       "max          20.000000\n",
       "Name: papers_as_last_author, dtype: float64"
      ]
     },
     "execution_count": 46,
     "metadata": {},
     "output_type": "execute_result"
    }
   ],
   "source": [
    "authors['papers_as_last_author'].describe()"
   ]
  },
  {
   "cell_type": "markdown",
   "metadata": {},
   "source": [
    "### Top-10 authors that appeared as first author"
   ]
  },
  {
   "cell_type": "code",
   "execution_count": 47,
   "metadata": {},
   "outputs": [
    {
     "data": {
      "text/html": [
       "<div>\n",
       "<style scoped>\n",
       "    .dataframe tbody tr th:only-of-type {\n",
       "        vertical-align: middle;\n",
       "    }\n",
       "\n",
       "    .dataframe tbody tr th {\n",
       "        vertical-align: top;\n",
       "    }\n",
       "\n",
       "    .dataframe thead th {\n",
       "        text-align: right;\n",
       "    }\n",
       "</style>\n",
       "<table border=\"1\" class=\"dataframe\">\n",
       "  <thead>\n",
       "    <tr style=\"text-align: right;\">\n",
       "      <th></th>\n",
       "      <th>name</th>\n",
       "      <th>gender</th>\n",
       "      <th>papers</th>\n",
       "      <th>papers_as_last_author</th>\n",
       "    </tr>\n",
       "  </thead>\n",
       "  <tbody>\n",
       "    <tr>\n",
       "      <th>265</th>\n",
       "      <td>Philip E Bourne</td>\n",
       "      <td>male</td>\n",
       "      <td>48</td>\n",
       "      <td>20</td>\n",
       "    </tr>\n",
       "    <tr>\n",
       "      <th>6591</th>\n",
       "      <td>Mark B Gerstein</td>\n",
       "      <td>male</td>\n",
       "      <td>22</td>\n",
       "      <td>14</td>\n",
       "    </tr>\n",
       "    <tr>\n",
       "      <th>763</th>\n",
       "      <td>Olga G Troyanskaya</td>\n",
       "      <td>female</td>\n",
       "      <td>35</td>\n",
       "      <td>12</td>\n",
       "    </tr>\n",
       "    <tr>\n",
       "      <th>17135</th>\n",
       "      <td>Sophia Ananiadou</td>\n",
       "      <td>female</td>\n",
       "      <td>29</td>\n",
       "      <td>11</td>\n",
       "    </tr>\n",
       "    <tr>\n",
       "      <th>155</th>\n",
       "      <td>Alan S Perelson</td>\n",
       "      <td>male</td>\n",
       "      <td>18</td>\n",
       "      <td>11</td>\n",
       "    </tr>\n",
       "    <tr>\n",
       "      <th>1437</th>\n",
       "      <td>Eugene I Shakhnovich</td>\n",
       "      <td>male</td>\n",
       "      <td>17</td>\n",
       "      <td>11</td>\n",
       "    </tr>\n",
       "    <tr>\n",
       "      <th>62</th>\n",
       "      <td>Jin Wang</td>\n",
       "      <td>female</td>\n",
       "      <td>30</td>\n",
       "      <td>10</td>\n",
       "    </tr>\n",
       "    <tr>\n",
       "      <th>2421</th>\n",
       "      <td>Shoba Ranganathan</td>\n",
       "      <td>female</td>\n",
       "      <td>28</td>\n",
       "      <td>10</td>\n",
       "    </tr>\n",
       "    <tr>\n",
       "      <th>7447</th>\n",
       "      <td>David T Jones</td>\n",
       "      <td>male</td>\n",
       "      <td>22</td>\n",
       "      <td>10</td>\n",
       "    </tr>\n",
       "    <tr>\n",
       "      <th>398</th>\n",
       "      <td>Ned S Wingreen</td>\n",
       "      <td>male</td>\n",
       "      <td>12</td>\n",
       "      <td>10</td>\n",
       "    </tr>\n",
       "  </tbody>\n",
       "</table>\n",
       "</div>"
      ],
      "text/plain": [
       "                       name  gender  papers  papers_as_last_author\n",
       "265         Philip E Bourne    male      48                     20\n",
       "6591        Mark B Gerstein    male      22                     14\n",
       "763      Olga G Troyanskaya  female      35                     12\n",
       "17135      Sophia Ananiadou  female      29                     11\n",
       "155         Alan S Perelson    male      18                     11\n",
       "1437   Eugene I Shakhnovich    male      17                     11\n",
       "62                 Jin Wang  female      30                     10\n",
       "2421      Shoba Ranganathan  female      28                     10\n",
       "7447          David T Jones    male      22                     10\n",
       "398          Ned S Wingreen    male      12                     10"
      ]
     },
     "execution_count": 47,
     "metadata": {},
     "output_type": "execute_result"
    }
   ],
   "source": [
    "authors.sort_values('papers_as_last_author', inplace=True, ascending=False)\n",
    "authors[['name','gender','papers','papers_as_last_author']].head(10)"
   ]
  },
  {
   "cell_type": "markdown",
   "metadata": {},
   "source": [
    "#### Top-10 female authors that appeared as first author"
   ]
  },
  {
   "cell_type": "code",
   "execution_count": 48,
   "metadata": {},
   "outputs": [
    {
     "data": {
      "text/html": [
       "<div>\n",
       "<style scoped>\n",
       "    .dataframe tbody tr th:only-of-type {\n",
       "        vertical-align: middle;\n",
       "    }\n",
       "\n",
       "    .dataframe tbody tr th {\n",
       "        vertical-align: top;\n",
       "    }\n",
       "\n",
       "    .dataframe thead th {\n",
       "        text-align: right;\n",
       "    }\n",
       "</style>\n",
       "<table border=\"1\" class=\"dataframe\">\n",
       "  <thead>\n",
       "    <tr style=\"text-align: right;\">\n",
       "      <th></th>\n",
       "      <th>name</th>\n",
       "      <th>gender</th>\n",
       "      <th>papers</th>\n",
       "      <th>papers_as_last_author</th>\n",
       "    </tr>\n",
       "  </thead>\n",
       "  <tbody>\n",
       "    <tr>\n",
       "      <th>763</th>\n",
       "      <td>Olga G Troyanskaya</td>\n",
       "      <td>female</td>\n",
       "      <td>35</td>\n",
       "      <td>12</td>\n",
       "    </tr>\n",
       "    <tr>\n",
       "      <th>17135</th>\n",
       "      <td>Sophia Ananiadou</td>\n",
       "      <td>female</td>\n",
       "      <td>29</td>\n",
       "      <td>11</td>\n",
       "    </tr>\n",
       "    <tr>\n",
       "      <th>62</th>\n",
       "      <td>Jin Wang</td>\n",
       "      <td>female</td>\n",
       "      <td>30</td>\n",
       "      <td>10</td>\n",
       "    </tr>\n",
       "    <tr>\n",
       "      <th>2421</th>\n",
       "      <td>Shoba Ranganathan</td>\n",
       "      <td>female</td>\n",
       "      <td>28</td>\n",
       "      <td>10</td>\n",
       "    </tr>\n",
       "    <tr>\n",
       "      <th>5018</th>\n",
       "      <td>Lauren Ancel Meyers</td>\n",
       "      <td>female</td>\n",
       "      <td>10</td>\n",
       "      <td>9</td>\n",
       "    </tr>\n",
       "    <tr>\n",
       "      <th>1696</th>\n",
       "      <td>Paulien Hogeweg</td>\n",
       "      <td>female</td>\n",
       "      <td>11</td>\n",
       "      <td>8</td>\n",
       "    </tr>\n",
       "    <tr>\n",
       "      <th>338</th>\n",
       "      <td>Ivet Bahar</td>\n",
       "      <td>female</td>\n",
       "      <td>24</td>\n",
       "      <td>8</td>\n",
       "    </tr>\n",
       "    <tr>\n",
       "      <th>3982</th>\n",
       "      <td>Teresa M Przytycka</td>\n",
       "      <td>female</td>\n",
       "      <td>23</td>\n",
       "      <td>8</td>\n",
       "    </tr>\n",
       "    <tr>\n",
       "      <th>3367</th>\n",
       "      <td>Kim T Blackwell</td>\n",
       "      <td>female</td>\n",
       "      <td>8</td>\n",
       "      <td>7</td>\n",
       "    </tr>\n",
       "    <tr>\n",
       "      <th>901</th>\n",
       "      <td>Becca Asquith</td>\n",
       "      <td>female</td>\n",
       "      <td>7</td>\n",
       "      <td>7</td>\n",
       "    </tr>\n",
       "  </tbody>\n",
       "</table>\n",
       "</div>"
      ],
      "text/plain": [
       "                      name  gender  papers  papers_as_last_author\n",
       "763     Olga G Troyanskaya  female      35                     12\n",
       "17135     Sophia Ananiadou  female      29                     11\n",
       "62                Jin Wang  female      30                     10\n",
       "2421     Shoba Ranganathan  female      28                     10\n",
       "5018   Lauren Ancel Meyers  female      10                      9\n",
       "1696       Paulien Hogeweg  female      11                      8\n",
       "338             Ivet Bahar  female      24                      8\n",
       "3982    Teresa M Przytycka  female      23                      8\n",
       "3367       Kim T Blackwell  female       8                      7\n",
       "901          Becca Asquith  female       7                      7"
      ]
     },
     "execution_count": 48,
     "metadata": {},
     "output_type": "execute_result"
    }
   ],
   "source": [
    "authors.sort_values('papers_as_last_author', inplace=True, ascending=False)\n",
    "authors[authors['gender']=='female'][['name','gender','papers','papers_as_last_author']].head(10)"
   ]
  },
  {
   "cell_type": "markdown",
   "metadata": {},
   "source": [
    "## Papers without citations"
   ]
  },
  {
   "cell_type": "code",
   "execution_count": 49,
   "metadata": {},
   "outputs": [
    {
     "data": {
      "text/html": [
       "<div>\n",
       "<style scoped>\n",
       "    .dataframe tbody tr th:only-of-type {\n",
       "        vertical-align: middle;\n",
       "    }\n",
       "\n",
       "    .dataframe tbody tr th {\n",
       "        vertical-align: top;\n",
       "    }\n",
       "\n",
       "    .dataframe thead th {\n",
       "        text-align: right;\n",
       "    }\n",
       "</style>\n",
       "<table border=\"1\" class=\"dataframe\">\n",
       "  <thead>\n",
       "    <tr style=\"text-align: right;\">\n",
       "      <th></th>\n",
       "      <th>id</th>\n",
       "      <th>name</th>\n",
       "      <th>gender</th>\n",
       "      <th>papers</th>\n",
       "      <th>papers_without_citations</th>\n",
       "    </tr>\n",
       "  </thead>\n",
       "  <tbody>\n",
       "    <tr>\n",
       "      <th>265</th>\n",
       "      <td>266</td>\n",
       "      <td>Philip E Bourne</td>\n",
       "      <td>male</td>\n",
       "      <td>48</td>\n",
       "      <td>1</td>\n",
       "    </tr>\n",
       "    <tr>\n",
       "      <th>6591</th>\n",
       "      <td>6592</td>\n",
       "      <td>Mark B Gerstein</td>\n",
       "      <td>male</td>\n",
       "      <td>22</td>\n",
       "      <td>1</td>\n",
       "    </tr>\n",
       "    <tr>\n",
       "      <th>763</th>\n",
       "      <td>764</td>\n",
       "      <td>Olga G Troyanskaya</td>\n",
       "      <td>female</td>\n",
       "      <td>35</td>\n",
       "      <td>0</td>\n",
       "    </tr>\n",
       "    <tr>\n",
       "      <th>17135</th>\n",
       "      <td>17136</td>\n",
       "      <td>Sophia Ananiadou</td>\n",
       "      <td>female</td>\n",
       "      <td>29</td>\n",
       "      <td>2</td>\n",
       "    </tr>\n",
       "    <tr>\n",
       "      <th>155</th>\n",
       "      <td>156</td>\n",
       "      <td>Alan S Perelson</td>\n",
       "      <td>male</td>\n",
       "      <td>18</td>\n",
       "      <td>1</td>\n",
       "    </tr>\n",
       "  </tbody>\n",
       "</table>\n",
       "</div>"
      ],
      "text/plain": [
       "          id                name  gender  papers  papers_without_citations\n",
       "265      266     Philip E Bourne    male      48                         1\n",
       "6591    6592     Mark B Gerstein    male      22                         1\n",
       "763      764  Olga G Troyanskaya  female      35                         0\n",
       "17135  17136    Sophia Ananiadou  female      29                         2\n",
       "155      156     Alan S Perelson    male      18                         1"
      ]
     },
     "execution_count": 49,
     "metadata": {},
     "output_type": "execute_result"
    }
   ],
   "source": [
    "authors['papers_without_citations'] = authors['papers'] - authors['papers_with_citations']\n",
    "authors[['id','name','gender','papers','papers_without_citations']].head()"
   ]
  },
  {
   "cell_type": "code",
   "execution_count": 50,
   "metadata": {},
   "outputs": [
    {
     "data": {
      "text/plain": [
       "count    100790.000000\n",
       "mean          0.115865\n",
       "std           0.349181\n",
       "min           0.000000\n",
       "25%           0.000000\n",
       "50%           0.000000\n",
       "75%           0.000000\n",
       "max           6.000000\n",
       "Name: papers_without_citations, dtype: float64"
      ]
     },
     "execution_count": 50,
     "metadata": {},
     "output_type": "execute_result"
    }
   ],
   "source": [
    "authors['papers_without_citations'].describe()"
   ]
  },
  {
   "cell_type": "markdown",
   "metadata": {},
   "source": [
    "# Authorship"
   ]
  },
  {
   "cell_type": "markdown",
   "metadata": {},
   "source": [
    "## Data structure"
   ]
  },
  {
   "cell_type": "code",
   "execution_count": 52,
   "metadata": {},
   "outputs": [
    {
     "data": {
      "text/html": [
       "<div>\n",
       "<style scoped>\n",
       "    .dataframe tbody tr th:only-of-type {\n",
       "        vertical-align: middle;\n",
       "    }\n",
       "\n",
       "    .dataframe tbody tr th {\n",
       "        vertical-align: top;\n",
       "    }\n",
       "\n",
       "    .dataframe thead th {\n",
       "        text-align: right;\n",
       "    }\n",
       "</style>\n",
       "<table border=\"1\" class=\"dataframe\">\n",
       "  <thead>\n",
       "    <tr style=\"text-align: right;\">\n",
       "      <th></th>\n",
       "      <th>id</th>\n",
       "      <th>title</th>\n",
       "      <th>doi</th>\n",
       "      <th>year</th>\n",
       "      <th>category</th>\n",
       "      <th>author</th>\n",
       "      <th>author_gender</th>\n",
       "      <th>author_position</th>\n",
       "    </tr>\n",
       "  </thead>\n",
       "  <tbody>\n",
       "    <tr>\n",
       "      <th>0</th>\n",
       "      <td>1</td>\n",
       "      <td>A peptide-based method for 13C Metabolic Flux ...</td>\n",
       "      <td>10.1371/journal.pcbi.1003827</td>\n",
       "      <td>2014</td>\n",
       "      <td>Omics &gt; Genomics &gt; Transcriptomics</td>\n",
       "      <td>Amit Ghosh</td>\n",
       "      <td>male</td>\n",
       "      <td>1</td>\n",
       "    </tr>\n",
       "    <tr>\n",
       "      <th>1</th>\n",
       "      <td>2</td>\n",
       "      <td>A peptide-based method for 13C Metabolic Flux ...</td>\n",
       "      <td>10.1371/journal.pcbi.1003827</td>\n",
       "      <td>2014</td>\n",
       "      <td>Omics &gt; Genomics &gt; Transcriptomics</td>\n",
       "      <td>Jerome Nilmeier</td>\n",
       "      <td>male</td>\n",
       "      <td>2</td>\n",
       "    </tr>\n",
       "    <tr>\n",
       "      <th>2</th>\n",
       "      <td>3</td>\n",
       "      <td>A peptide-based method for 13C Metabolic Flux ...</td>\n",
       "      <td>10.1371/journal.pcbi.1003827</td>\n",
       "      <td>2014</td>\n",
       "      <td>Omics &gt; Genomics &gt; Transcriptomics</td>\n",
       "      <td>Paul D Adams</td>\n",
       "      <td>male</td>\n",
       "      <td>4</td>\n",
       "    </tr>\n",
       "    <tr>\n",
       "      <th>3</th>\n",
       "      <td>4</td>\n",
       "      <td>A peptide-based method for 13C Metabolic Flux ...</td>\n",
       "      <td>10.1371/journal.pcbi.1003827</td>\n",
       "      <td>2014</td>\n",
       "      <td>Omics &gt; Genomics &gt; Transcriptomics</td>\n",
       "      <td>Jay D Keasling</td>\n",
       "      <td>male</td>\n",
       "      <td>5</td>\n",
       "    </tr>\n",
       "    <tr>\n",
       "      <th>4</th>\n",
       "      <td>5</td>\n",
       "      <td>A peptide-based method for 13C Metabolic Flux ...</td>\n",
       "      <td>10.1371/journal.pcbi.1003827</td>\n",
       "      <td>2014</td>\n",
       "      <td>Omics &gt; Genomics &gt; Transcriptomics</td>\n",
       "      <td>Aindrila Mukhopadhyay</td>\n",
       "      <td>female</td>\n",
       "      <td>6</td>\n",
       "    </tr>\n",
       "  </tbody>\n",
       "</table>\n",
       "</div>"
      ],
      "text/plain": [
       "   id                                              title  \\\n",
       "0   1  A peptide-based method for 13C Metabolic Flux ...   \n",
       "1   2  A peptide-based method for 13C Metabolic Flux ...   \n",
       "2   3  A peptide-based method for 13C Metabolic Flux ...   \n",
       "3   4  A peptide-based method for 13C Metabolic Flux ...   \n",
       "4   5  A peptide-based method for 13C Metabolic Flux ...   \n",
       "\n",
       "                            doi  year                            category  \\\n",
       "0  10.1371/journal.pcbi.1003827  2014  Omics > Genomics > Transcriptomics   \n",
       "1  10.1371/journal.pcbi.1003827  2014  Omics > Genomics > Transcriptomics   \n",
       "2  10.1371/journal.pcbi.1003827  2014  Omics > Genomics > Transcriptomics   \n",
       "3  10.1371/journal.pcbi.1003827  2014  Omics > Genomics > Transcriptomics   \n",
       "4  10.1371/journal.pcbi.1003827  2014  Omics > Genomics > Transcriptomics   \n",
       "\n",
       "                  author author_gender  author_position  \n",
       "0             Amit Ghosh          male                1  \n",
       "1        Jerome Nilmeier          male                2  \n",
       "2           Paul D Adams          male                4  \n",
       "3         Jay D Keasling          male                5  \n",
       "4  Aindrila Mukhopadhyay        female                6  "
      ]
     },
     "execution_count": 52,
     "metadata": {},
     "output_type": "execute_result"
    }
   ],
   "source": [
    "papers_authors.head()"
   ]
  },
  {
   "cell_type": "code",
   "execution_count": 53,
   "metadata": {},
   "outputs": [
    {
     "name": "stderr",
     "output_type": "stream",
     "text": [
      "/home/jorge/python_venvs/gender_identification/lib/python3.6/site-packages/pandas/core/groupby/generic.py:1315: FutureWarning: using a dict with renaming is deprecated and will be removed in a future version\n",
      "  return super(DataFrameGroupBy, self).aggregate(arg, *args, **kwargs)\n"
     ]
    },
    {
     "data": {
      "text/html": [
       "<div>\n",
       "<style scoped>\n",
       "    .dataframe tbody tr th:only-of-type {\n",
       "        vertical-align: middle;\n",
       "    }\n",
       "\n",
       "    .dataframe tbody tr th {\n",
       "        vertical-align: top;\n",
       "    }\n",
       "\n",
       "    .dataframe thead th {\n",
       "        text-align: right;\n",
       "    }\n",
       "</style>\n",
       "<table border=\"1\" class=\"dataframe\">\n",
       "  <thead>\n",
       "    <tr style=\"text-align: right;\">\n",
       "      <th></th>\n",
       "      <th>title</th>\n",
       "      <th>author_gender</th>\n",
       "      <th>count_gender</th>\n",
       "    </tr>\n",
       "  </thead>\n",
       "  <tbody>\n",
       "    <tr>\n",
       "      <th>0</th>\n",
       "      <td>A peptide-based method for 13C Metabolic Flux ...</td>\n",
       "      <td>male</td>\n",
       "      <td>6</td>\n",
       "    </tr>\n",
       "    <tr>\n",
       "      <th>1</th>\n",
       "      <td>A peptide-based method for 13C Metabolic Flux ...</td>\n",
       "      <td>female</td>\n",
       "      <td>2</td>\n",
       "    </tr>\n",
       "    <tr>\n",
       "      <th>2</th>\n",
       "      <td>Baseline CD4+ T cell counts correlates with HI...</td>\n",
       "      <td>female</td>\n",
       "      <td>2</td>\n",
       "    </tr>\n",
       "    <tr>\n",
       "      <th>3</th>\n",
       "      <td>Baseline CD4+ T cell counts correlates with HI...</td>\n",
       "      <td>unknown</td>\n",
       "      <td>4</td>\n",
       "    </tr>\n",
       "    <tr>\n",
       "      <th>4</th>\n",
       "      <td>Baseline CD4+ T cell counts correlates with HI...</td>\n",
       "      <td>male</td>\n",
       "      <td>2</td>\n",
       "    </tr>\n",
       "  </tbody>\n",
       "</table>\n",
       "</div>"
      ],
      "text/plain": [
       "                                               title author_gender  \\\n",
       "0  A peptide-based method for 13C Metabolic Flux ...          male   \n",
       "1  A peptide-based method for 13C Metabolic Flux ...        female   \n",
       "2  Baseline CD4+ T cell counts correlates with HI...        female   \n",
       "3  Baseline CD4+ T cell counts correlates with HI...       unknown   \n",
       "4  Baseline CD4+ T cell counts correlates with HI...          male   \n",
       "\n",
       "   count_gender  \n",
       "0             6  \n",
       "1             2  \n",
       "2             2  \n",
       "3             4  \n",
       "4             2  "
      ]
     },
     "execution_count": 53,
     "metadata": {},
     "output_type": "execute_result"
    }
   ],
   "source": [
    "papers_grouped_by_title = papers_authors.drop(['id', 'doi', 'year', 'category', 'author', 'author_position'], axis=1).groupby(['title','author_gender'], sort=False, as_index=False)\n",
    "agg_papers_grouped_df = papers_grouped_by_title[['author_gender']].agg({'author_gender': {'count_gender': 'count'}})\n",
    "agg_papers_grouped_df.head()"
   ]
  },
  {
   "cell_type": "code",
   "execution_count": 55,
   "metadata": {},
   "outputs": [
    {
     "data": {
      "text/html": [
       "<div>\n",
       "<style scoped>\n",
       "    .dataframe tbody tr th:only-of-type {\n",
       "        vertical-align: middle;\n",
       "    }\n",
       "\n",
       "    .dataframe tbody tr th {\n",
       "        vertical-align: top;\n",
       "    }\n",
       "\n",
       "    .dataframe thead th {\n",
       "        text-align: right;\n",
       "    }\n",
       "</style>\n",
       "<table border=\"1\" class=\"dataframe\">\n",
       "  <thead>\n",
       "    <tr style=\"text-align: right;\">\n",
       "      <th>author_gender</th>\n",
       "      <th>female</th>\n",
       "      <th>male</th>\n",
       "    </tr>\n",
       "    <tr>\n",
       "      <th>title</th>\n",
       "      <th></th>\n",
       "      <th></th>\n",
       "    </tr>\n",
       "  </thead>\n",
       "  <tbody>\n",
       "    <tr>\n",
       "      <th>'Bois noir' phytoplasma induces significant reprogramming of the leaf transcriptome in the field grown grapevine</th>\n",
       "      <td>3.0</td>\n",
       "      <td>1.0</td>\n",
       "    </tr>\n",
       "    <tr>\n",
       "      <th>'Brukin2D': A 2D visualization and comparison tool for LC-MS data</th>\n",
       "      <td>1.0</td>\n",
       "      <td>1.0</td>\n",
       "    </tr>\n",
       "    <tr>\n",
       "      <th>'Double water exclusion': A hypothesis refining the O-ring theory for the hot spots at protein interfaces</th>\n",
       "      <td>0.0</td>\n",
       "      <td>0.0</td>\n",
       "    </tr>\n",
       "    <tr>\n",
       "      <th>'Evidence of an auxin signal pathway, microRNA167-ARF8-GH3, and its response to exogenous auxin in cultured rice cells'</th>\n",
       "      <td>1.0</td>\n",
       "      <td>0.0</td>\n",
       "    </tr>\n",
       "    <tr>\n",
       "      <th>'Genome design' model and multicellular complexity: Golden middle</th>\n",
       "      <td>0.0</td>\n",
       "      <td>3.0</td>\n",
       "    </tr>\n",
       "  </tbody>\n",
       "</table>\n",
       "</div>"
      ],
      "text/plain": [
       "author_gender                                       female  male\n",
       "title                                                           \n",
       "'Bois noir' phytoplasma induces significant rep...     3.0   1.0\n",
       "'Brukin2D': A 2D visualization and comparison t...     1.0   1.0\n",
       "'Double water exclusion': A hypothesis refining...     0.0   0.0\n",
       "'Evidence of an auxin signal pathway, microRNA1...     1.0   0.0\n",
       "'Genome design' model and multicellular complex...     0.0   3.0"
      ]
     },
     "execution_count": 55,
     "metadata": {},
     "output_type": "execute_result"
    }
   ],
   "source": [
    "papers_gender_dist = agg_papers_grouped_df.pivot(columns='author_gender', values='count_gender', index='title')\n",
    "papers_gender_dist = papers_gender_dist.drop(['mostly_female', 'mostly_male', 'unknown', 'error_api'], axis=1)\n",
    "papers_gender_dist = papers_gender_dist.fillna(0)\n",
    "papers_gender_dist.head()"
   ]
  },
  {
   "cell_type": "code",
   "execution_count": 56,
   "metadata": {},
   "outputs": [
    {
     "data": {
      "text/html": [
       "<div>\n",
       "<style scoped>\n",
       "    .dataframe tbody tr th:only-of-type {\n",
       "        vertical-align: middle;\n",
       "    }\n",
       "\n",
       "    .dataframe tbody tr th {\n",
       "        vertical-align: top;\n",
       "    }\n",
       "\n",
       "    .dataframe thead th {\n",
       "        text-align: right;\n",
       "    }\n",
       "</style>\n",
       "<table border=\"1\" class=\"dataframe\">\n",
       "  <thead>\n",
       "    <tr style=\"text-align: right;\">\n",
       "      <th>author_gender</th>\n",
       "      <th>female</th>\n",
       "      <th>male</th>\n",
       "      <th>most_female</th>\n",
       "      <th>most_male</th>\n",
       "      <th>equal_gender</th>\n",
       "      <th>only_male</th>\n",
       "      <th>only_female</th>\n",
       "    </tr>\n",
       "    <tr>\n",
       "      <th>title</th>\n",
       "      <th></th>\n",
       "      <th></th>\n",
       "      <th></th>\n",
       "      <th></th>\n",
       "      <th></th>\n",
       "      <th></th>\n",
       "      <th></th>\n",
       "    </tr>\n",
       "  </thead>\n",
       "  <tbody>\n",
       "    <tr>\n",
       "      <th>'Bois noir' phytoplasma induces significant reprogramming of the leaf transcriptome in the field grown grapevine</th>\n",
       "      <td>3.0</td>\n",
       "      <td>1.0</td>\n",
       "      <td>1</td>\n",
       "      <td>0</td>\n",
       "      <td>0</td>\n",
       "      <td>0</td>\n",
       "      <td>0</td>\n",
       "    </tr>\n",
       "    <tr>\n",
       "      <th>'Brukin2D': A 2D visualization and comparison tool for LC-MS data</th>\n",
       "      <td>1.0</td>\n",
       "      <td>1.0</td>\n",
       "      <td>0</td>\n",
       "      <td>0</td>\n",
       "      <td>1</td>\n",
       "      <td>0</td>\n",
       "      <td>0</td>\n",
       "    </tr>\n",
       "    <tr>\n",
       "      <th>'Double water exclusion': A hypothesis refining the O-ring theory for the hot spots at protein interfaces</th>\n",
       "      <td>0.0</td>\n",
       "      <td>0.0</td>\n",
       "      <td>0</td>\n",
       "      <td>0</td>\n",
       "      <td>1</td>\n",
       "      <td>1</td>\n",
       "      <td>1</td>\n",
       "    </tr>\n",
       "    <tr>\n",
       "      <th>'Evidence of an auxin signal pathway, microRNA167-ARF8-GH3, and its response to exogenous auxin in cultured rice cells'</th>\n",
       "      <td>1.0</td>\n",
       "      <td>0.0</td>\n",
       "      <td>1</td>\n",
       "      <td>0</td>\n",
       "      <td>0</td>\n",
       "      <td>0</td>\n",
       "      <td>1</td>\n",
       "    </tr>\n",
       "    <tr>\n",
       "      <th>'Genome design' model and multicellular complexity: Golden middle</th>\n",
       "      <td>0.0</td>\n",
       "      <td>3.0</td>\n",
       "      <td>0</td>\n",
       "      <td>1</td>\n",
       "      <td>0</td>\n",
       "      <td>1</td>\n",
       "      <td>0</td>\n",
       "    </tr>\n",
       "  </tbody>\n",
       "</table>\n",
       "</div>"
      ],
      "text/plain": [
       "author_gender                                       female  male  most_female  \\\n",
       "title                                                                           \n",
       "'Bois noir' phytoplasma induces significant rep...     3.0   1.0            1   \n",
       "'Brukin2D': A 2D visualization and comparison t...     1.0   1.0            0   \n",
       "'Double water exclusion': A hypothesis refining...     0.0   0.0            0   \n",
       "'Evidence of an auxin signal pathway, microRNA1...     1.0   0.0            1   \n",
       "'Genome design' model and multicellular complex...     0.0   3.0            0   \n",
       "\n",
       "author_gender                                       most_male  equal_gender  \\\n",
       "title                                                                         \n",
       "'Bois noir' phytoplasma induces significant rep...          0             0   \n",
       "'Brukin2D': A 2D visualization and comparison t...          0             1   \n",
       "'Double water exclusion': A hypothesis refining...          0             1   \n",
       "'Evidence of an auxin signal pathway, microRNA1...          0             0   \n",
       "'Genome design' model and multicellular complex...          1             0   \n",
       "\n",
       "author_gender                                       only_male  only_female  \n",
       "title                                                                       \n",
       "'Bois noir' phytoplasma induces significant rep...          0            0  \n",
       "'Brukin2D': A 2D visualization and comparison t...          0            0  \n",
       "'Double water exclusion': A hypothesis refining...          1            1  \n",
       "'Evidence of an auxin signal pathway, microRNA1...          0            1  \n",
       "'Genome design' model and multicellular complex...          1            0  "
      ]
     },
     "execution_count": 56,
     "metadata": {},
     "output_type": "execute_result"
    }
   ],
   "source": [
    "papers_gender_dist['most_female'] = np.where(papers_gender_dist['female']>papers_gender_dist['male'], 1, 0)\n",
    "papers_gender_dist['most_male'] = np.where(papers_gender_dist['male']>papers_gender_dist['female'], 1, 0)\n",
    "papers_gender_dist['equal_gender'] = np.where(papers_gender_dist['male']==papers_gender_dist['female'], 1, 0)\n",
    "papers_gender_dist['only_male'] = np.where(papers_gender_dist['female']==0, 1, 0)\n",
    "papers_gender_dist['only_female'] = np.where(papers_gender_dist['male']==0, 1, 0)\n",
    "papers_gender_dist.head()"
   ]
  },
  {
   "cell_type": "markdown",
   "metadata": {},
   "source": [
    "## Papers with mostly male authors"
   ]
  },
  {
   "cell_type": "code",
   "execution_count": 404,
   "metadata": {},
   "outputs": [
    {
     "name": "stdout",
     "output_type": "stream",
     "text": [
      "There are 12870(56.23%) papers which have mostly male authors\n"
     ]
    }
   ],
   "source": [
    "raw_num = papers_gender_dist['most_male'].sum()\n",
    "per_num = round(raw_num/papers_gender_dist.shape[0]*100,2)\n",
    "print('There are {}({}%) papers which have mostly male authors'.format(raw_num, per_num))"
   ]
  },
  {
   "cell_type": "markdown",
   "metadata": {},
   "source": [
    "## Papers with mostly female authors"
   ]
  },
  {
   "cell_type": "code",
   "execution_count": 405,
   "metadata": {},
   "outputs": [
    {
     "name": "stdout",
     "output_type": "stream",
     "text": [
      "There are 6411(28.01%) papers which have mostly female authors\n"
     ]
    }
   ],
   "source": [
    "raw_num = papers_gender_dist['most_female'].sum()\n",
    "per_num = round(raw_num/papers_gender_dist.shape[0]*100,2)\n",
    "print('There are {}({}%) papers which have mostly female authors'.format(raw_num, per_num))"
   ]
  },
  {
   "cell_type": "markdown",
   "metadata": {},
   "source": [
    "## Papers with only male authors"
   ]
  },
  {
   "cell_type": "code",
   "execution_count": 406,
   "metadata": {},
   "outputs": [
    {
     "name": "stdout",
     "output_type": "stream",
     "text": [
      "There are 8453(36.93%) papers which have only male authors\n"
     ]
    }
   ],
   "source": [
    "raw_num = papers_gender_dist['only_male'].sum()\n",
    "per_num = round(raw_num/papers_gender_dist.shape[0]*100,2)\n",
    "print('There are {}({}%) papers which have only male authors'.format(raw_num, per_num))"
   ]
  },
  {
   "cell_type": "markdown",
   "metadata": {},
   "source": [
    "## Papers with only female authors"
   ]
  },
  {
   "cell_type": "code",
   "execution_count": 407,
   "metadata": {},
   "outputs": [
    {
     "name": "stdout",
     "output_type": "stream",
     "text": [
      "There are 1916(8.37%) papers which have only female authors\n"
     ]
    }
   ],
   "source": [
    "raw_num = papers_gender_dist['only_female'].sum()\n",
    "per_num = round(raw_num/papers_gender_dist.shape[0]*100,2)\n",
    "print('There are {}({}%) papers which have only female authors'.format(raw_num, per_num))"
   ]
  },
  {
   "cell_type": "markdown",
   "metadata": {},
   "source": [
    "## Papers with equal number of male and female authors"
   ]
  },
  {
   "cell_type": "code",
   "execution_count": 408,
   "metadata": {},
   "outputs": [
    {
     "name": "stdout",
     "output_type": "stream",
     "text": [
      "There are 3607(15.76%) papers which have equal number of male and female authors\n"
     ]
    }
   ],
   "source": [
    "raw_num = papers_gender_dist['equal_gender'].sum()\n",
    "per_num = round(raw_num/papers_gender_dist.shape[0]*100,2)\n",
    "print('There are {}({}%) papers which have equal number of male and female authors'.format(raw_num, per_num))"
   ]
  },
  {
   "cell_type": "markdown",
   "metadata": {},
   "source": [
    "## Distribution of first author genders"
   ]
  },
  {
   "cell_type": "code",
   "execution_count": 353,
   "metadata": {},
   "outputs": [
    {
     "data": {
      "text/plain": [
       "male             0.543017\n",
       "female           0.248161\n",
       "unknown          0.190040\n",
       "mostly_male      0.004383\n",
       "mostly_female    0.002191\n",
       "Name: author_gender, dtype: float64"
      ]
     },
     "execution_count": 353,
     "metadata": {},
     "output_type": "execute_result"
    }
   ],
   "source": [
    "papers_authors[papers_authors['author_position']==1].author_gender.value_counts()/papers.shape[0]"
   ]
  },
  {
   "cell_type": "markdown",
   "metadata": {},
   "source": [
    "## Number of papers with a woman as first author"
   ]
  },
  {
   "cell_type": "code",
   "execution_count": 354,
   "metadata": {},
   "outputs": [
    {
     "name": "stdout",
     "output_type": "stream",
     "text": [
      "There are 9513(24.82%) papers which have a woman as the first author\n"
     ]
    }
   ],
   "source": [
    "raw_num = papers_authors[(papers_authors['author_gender']=='female')&(papers_authors['author_position']==1)].shape[0]\n",
    "per_num = round(raw_num/papers.shape[0]*100,2)\n",
    "print('There are {}({}%) papers which have a woman as the first author'.format(raw_num, per_num))"
   ]
  },
  {
   "cell_type": "markdown",
   "metadata": {},
   "source": [
    "## Number of papers with a man as first author"
   ]
  },
  {
   "cell_type": "code",
   "execution_count": 355,
   "metadata": {},
   "outputs": [
    {
     "name": "stdout",
     "output_type": "stream",
     "text": [
      "There are 20816(54.3%) papers which have a man as the first author\n"
     ]
    }
   ],
   "source": [
    "raw_num = papers_authors[(papers_authors['author_gender']=='male')&(papers_authors['author_position']==1)].shape[0]\n",
    "per_num = round(raw_num/papers.shape[0]*100,2)\n",
    "print('There are {}({}%) papers which have a man as the first author'.format(raw_num, per_num))"
   ]
  },
  {
   "cell_type": "markdown",
   "metadata": {},
   "source": [
    "## Evolution of male and female authors by year"
   ]
  },
  {
   "cell_type": "code",
   "execution_count": 356,
   "metadata": {},
   "outputs": [],
   "source": [
    "papers_grouped_by_year = papers_authors.drop(['id', 'title', 'doi', 'category', 'author', 'author_position'], axis=1).\\\n",
    "    groupby(['year','author_gender'], as_index=False)\n",
    "agg_papers_grouped_df = papers_grouped_by_year[['author_gender']].agg({'author_gender': {'count_gender': 'count'}})"
   ]
  },
  {
   "cell_type": "code",
   "execution_count": 357,
   "metadata": {},
   "outputs": [
    {
     "data": {
      "text/html": [
       "<div>\n",
       "<style scoped>\n",
       "    .dataframe tbody tr th:only-of-type {\n",
       "        vertical-align: middle;\n",
       "    }\n",
       "\n",
       "    .dataframe tbody tr th {\n",
       "        vertical-align: top;\n",
       "    }\n",
       "\n",
       "    .dataframe thead th {\n",
       "        text-align: right;\n",
       "    }\n",
       "</style>\n",
       "<table border=\"1\" class=\"dataframe\">\n",
       "  <thead>\n",
       "    <tr style=\"text-align: right;\">\n",
       "      <th>author_gender</th>\n",
       "      <th>female</th>\n",
       "      <th>male</th>\n",
       "    </tr>\n",
       "    <tr>\n",
       "      <th>year</th>\n",
       "      <th></th>\n",
       "      <th></th>\n",
       "    </tr>\n",
       "  </thead>\n",
       "  <tbody>\n",
       "    <tr>\n",
       "      <th>2000</th>\n",
       "      <td>2.0</td>\n",
       "      <td>1.0</td>\n",
       "    </tr>\n",
       "    <tr>\n",
       "      <th>2001</th>\n",
       "      <td>1.0</td>\n",
       "      <td>1.0</td>\n",
       "    </tr>\n",
       "    <tr>\n",
       "      <th>2002</th>\n",
       "      <td>53.0</td>\n",
       "      <td>142.0</td>\n",
       "    </tr>\n",
       "    <tr>\n",
       "      <th>2003</th>\n",
       "      <td>98.0</td>\n",
       "      <td>266.0</td>\n",
       "    </tr>\n",
       "    <tr>\n",
       "      <th>2004</th>\n",
       "      <td>281.0</td>\n",
       "      <td>843.0</td>\n",
       "    </tr>\n",
       "  </tbody>\n",
       "</table>\n",
       "</div>"
      ],
      "text/plain": [
       "author_gender  female   male\n",
       "year                        \n",
       "2000              2.0    1.0\n",
       "2001              1.0    1.0\n",
       "2002             53.0  142.0\n",
       "2003             98.0  266.0\n",
       "2004            281.0  843.0"
      ]
     },
     "execution_count": 357,
     "metadata": {},
     "output_type": "execute_result"
    }
   ],
   "source": [
    "papers_gender_dist = agg_papers_grouped_df.pivot(columns='author_gender', values='count_gender', index='year')\n",
    "papers_gender_dist = papers_gender_dist.drop(['error_api', 'mostly_female', 'mostly_male', 'unknown'], axis=1)\n",
    "papers_gender_dist = papers_gender_dist.fillna(0)\n",
    "papers_gender_dist.head()"
   ]
  },
  {
   "cell_type": "code",
   "execution_count": 358,
   "metadata": {},
   "outputs": [
    {
     "data": {
      "image/png": "[encoded data removed]",
      "text/plain": [
       "<Figure size 864x576 with 1 Axes>"
      ]
     },
     "metadata": {
      "needs_background": "light"
     },
     "output_type": "display_data"
    }
   ],
   "source": [
    "papers_gender_dist.plot(lw=5)\n",
    "plt.gcf().set_size_inches(12, 8)"
   ]
  },
  {
   "cell_type": "markdown",
   "metadata": {},
   "source": [
    "## Position in papers of female authors"
   ]
  },
  {
   "cell_type": "code",
   "execution_count": 359,
   "metadata": {},
   "outputs": [
    {
     "data": {
      "text/html": [
       "<div>\n",
       "<style scoped>\n",
       "    .dataframe tbody tr th:only-of-type {\n",
       "        vertical-align: middle;\n",
       "    }\n",
       "\n",
       "    .dataframe tbody tr th {\n",
       "        vertical-align: top;\n",
       "    }\n",
       "\n",
       "    .dataframe thead th {\n",
       "        text-align: right;\n",
       "    }\n",
       "</style>\n",
       "<table border=\"1\" class=\"dataframe\">\n",
       "  <thead>\n",
       "    <tr style=\"text-align: right;\">\n",
       "      <th>author_position</th>\n",
       "      <th>1</th>\n",
       "      <th>2</th>\n",
       "      <th>3</th>\n",
       "      <th>4</th>\n",
       "      <th>5</th>\n",
       "      <th>6</th>\n",
       "      <th>7</th>\n",
       "      <th>8</th>\n",
       "      <th>9</th>\n",
       "      <th>10</th>\n",
       "      <th>...</th>\n",
       "      <th>92</th>\n",
       "      <th>93</th>\n",
       "      <th>95</th>\n",
       "      <th>103</th>\n",
       "      <th>107</th>\n",
       "      <th>117</th>\n",
       "      <th>118</th>\n",
       "      <th>120</th>\n",
       "      <th>126</th>\n",
       "      <th>129</th>\n",
       "    </tr>\n",
       "    <tr>\n",
       "      <th>author</th>\n",
       "      <th></th>\n",
       "      <th></th>\n",
       "      <th></th>\n",
       "      <th></th>\n",
       "      <th></th>\n",
       "      <th></th>\n",
       "      <th></th>\n",
       "      <th></th>\n",
       "      <th></th>\n",
       "      <th></th>\n",
       "      <th></th>\n",
       "      <th></th>\n",
       "      <th></th>\n",
       "      <th></th>\n",
       "      <th></th>\n",
       "      <th></th>\n",
       "      <th></th>\n",
       "      <th></th>\n",
       "      <th></th>\n",
       "      <th></th>\n",
       "      <th></th>\n",
       "    </tr>\n",
       "  </thead>\n",
       "  <tbody>\n",
       "    <tr>\n",
       "      <th>A A Fedorova</th>\n",
       "      <td>0.0</td>\n",
       "      <td>0.0</td>\n",
       "      <td>0.0</td>\n",
       "      <td>1.0</td>\n",
       "      <td>0.0</td>\n",
       "      <td>0.0</td>\n",
       "      <td>0.0</td>\n",
       "      <td>0.0</td>\n",
       "      <td>0.0</td>\n",
       "      <td>0.0</td>\n",
       "      <td>...</td>\n",
       "      <td>0.0</td>\n",
       "      <td>0.0</td>\n",
       "      <td>0.0</td>\n",
       "      <td>0.0</td>\n",
       "      <td>0.0</td>\n",
       "      <td>0.0</td>\n",
       "      <td>0.0</td>\n",
       "      <td>0.0</td>\n",
       "      <td>0.0</td>\n",
       "      <td>0.0</td>\n",
       "    </tr>\n",
       "    <tr>\n",
       "      <th>A Bendoraite</th>\n",
       "      <td>0.0</td>\n",
       "      <td>0.0</td>\n",
       "      <td>0.0</td>\n",
       "      <td>1.0</td>\n",
       "      <td>0.0</td>\n",
       "      <td>0.0</td>\n",
       "      <td>0.0</td>\n",
       "      <td>0.0</td>\n",
       "      <td>0.0</td>\n",
       "      <td>0.0</td>\n",
       "      <td>...</td>\n",
       "      <td>0.0</td>\n",
       "      <td>0.0</td>\n",
       "      <td>0.0</td>\n",
       "      <td>0.0</td>\n",
       "      <td>0.0</td>\n",
       "      <td>0.0</td>\n",
       "      <td>0.0</td>\n",
       "      <td>0.0</td>\n",
       "      <td>0.0</td>\n",
       "      <td>0.0</td>\n",
       "    </tr>\n",
       "    <tr>\n",
       "      <th>A K Shchyolkina</th>\n",
       "      <td>0.0</td>\n",
       "      <td>1.0</td>\n",
       "      <td>0.0</td>\n",
       "      <td>0.0</td>\n",
       "      <td>0.0</td>\n",
       "      <td>0.0</td>\n",
       "      <td>0.0</td>\n",
       "      <td>0.0</td>\n",
       "      <td>0.0</td>\n",
       "      <td>0.0</td>\n",
       "      <td>...</td>\n",
       "      <td>0.0</td>\n",
       "      <td>0.0</td>\n",
       "      <td>0.0</td>\n",
       "      <td>0.0</td>\n",
       "      <td>0.0</td>\n",
       "      <td>0.0</td>\n",
       "      <td>0.0</td>\n",
       "      <td>0.0</td>\n",
       "      <td>0.0</td>\n",
       "      <td>0.0</td>\n",
       "    </tr>\n",
       "    <tr>\n",
       "      <th>A V Lapuk</th>\n",
       "      <td>0.0</td>\n",
       "      <td>0.0</td>\n",
       "      <td>0.0</td>\n",
       "      <td>0.0</td>\n",
       "      <td>1.0</td>\n",
       "      <td>0.0</td>\n",
       "      <td>0.0</td>\n",
       "      <td>0.0</td>\n",
       "      <td>0.0</td>\n",
       "      <td>0.0</td>\n",
       "      <td>...</td>\n",
       "      <td>0.0</td>\n",
       "      <td>0.0</td>\n",
       "      <td>0.0</td>\n",
       "      <td>0.0</td>\n",
       "      <td>0.0</td>\n",
       "      <td>0.0</td>\n",
       "      <td>0.0</td>\n",
       "      <td>0.0</td>\n",
       "      <td>0.0</td>\n",
       "      <td>0.0</td>\n",
       "    </tr>\n",
       "    <tr>\n",
       "      <th>A-Lien Lu</th>\n",
       "      <td>0.0</td>\n",
       "      <td>0.0</td>\n",
       "      <td>0.0</td>\n",
       "      <td>0.0</td>\n",
       "      <td>0.0</td>\n",
       "      <td>0.0</td>\n",
       "      <td>2.0</td>\n",
       "      <td>0.0</td>\n",
       "      <td>0.0</td>\n",
       "      <td>0.0</td>\n",
       "      <td>...</td>\n",
       "      <td>0.0</td>\n",
       "      <td>0.0</td>\n",
       "      <td>0.0</td>\n",
       "      <td>0.0</td>\n",
       "      <td>0.0</td>\n",
       "      <td>0.0</td>\n",
       "      <td>0.0</td>\n",
       "      <td>0.0</td>\n",
       "      <td>0.0</td>\n",
       "      <td>0.0</td>\n",
       "    </tr>\n",
       "  </tbody>\n",
       "</table>\n",
       "<p>5 rows × 89 columns</p>\n",
       "</div>"
      ],
      "text/plain": [
       "author_position  1    2    3    4    5    6    7    8    9    10   ...  92   \\\n",
       "author                                                             ...        \n",
       "A A Fedorova     0.0  0.0  0.0  1.0  0.0  0.0  0.0  0.0  0.0  0.0  ...  0.0   \n",
       "A Bendoraite     0.0  0.0  0.0  1.0  0.0  0.0  0.0  0.0  0.0  0.0  ...  0.0   \n",
       "A K Shchyolkina  0.0  1.0  0.0  0.0  0.0  0.0  0.0  0.0  0.0  0.0  ...  0.0   \n",
       "A V Lapuk        0.0  0.0  0.0  0.0  1.0  0.0  0.0  0.0  0.0  0.0  ...  0.0   \n",
       "A-Lien Lu        0.0  0.0  0.0  0.0  0.0  0.0  2.0  0.0  0.0  0.0  ...  0.0   \n",
       "\n",
       "author_position  93   95   103  107  117  118  120  126  129  \n",
       "author                                                        \n",
       "A A Fedorova     0.0  0.0  0.0  0.0  0.0  0.0  0.0  0.0  0.0  \n",
       "A Bendoraite     0.0  0.0  0.0  0.0  0.0  0.0  0.0  0.0  0.0  \n",
       "A K Shchyolkina  0.0  0.0  0.0  0.0  0.0  0.0  0.0  0.0  0.0  \n",
       "A V Lapuk        0.0  0.0  0.0  0.0  0.0  0.0  0.0  0.0  0.0  \n",
       "A-Lien Lu        0.0  0.0  0.0  0.0  0.0  0.0  0.0  0.0  0.0  \n",
       "\n",
       "[5 rows x 89 columns]"
      ]
     },
     "execution_count": 359,
     "metadata": {},
     "output_type": "execute_result"
    }
   ],
   "source": [
    "# filter out male authors\n",
    "female_authors = papers_authors[papers_authors['author_gender']=='female']\n",
    "# drop unneccesary columns\n",
    "female_authors = female_authors.drop(['id', 'title', 'doi', 'year', 'category', 'author_gender'], axis=1)\n",
    "# group rows authors by author\n",
    "female_authors_grouped_by_position = female_authors.groupby(['author','author_position'], as_index=False)\n",
    "# compute frequency of positions\n",
    "agg_fa_grouped_df = female_authors_grouped_by_position[['author_position']].\\\n",
    "    agg({'author_position': {'count_position': 'count'}})\n",
    "# pivot table\n",
    "female_authors_pos = agg_fa_grouped_df.pivot(columns='author_position', values='count_position', index='author')\n",
    "# fill na values with zero\n",
    "female_authors_pos = female_authors_pos.fillna(0)\n",
    "female_authors_pos.head()"
   ]
  },
  {
   "cell_type": "code",
   "execution_count": 360,
   "metadata": {},
   "outputs": [],
   "source": [
    "female_authors_pos['freq_pos'] = female_authors_pos.idxmax(axis=1)  #.value_counts()[:10]"
   ]
  },
  {
   "cell_type": "code",
   "execution_count": 361,
   "metadata": {},
   "outputs": [
    {
     "data": {
      "text/html": [
       "<div>\n",
       "<style scoped>\n",
       "    .dataframe tbody tr th:only-of-type {\n",
       "        vertical-align: middle;\n",
       "    }\n",
       "\n",
       "    .dataframe tbody tr th {\n",
       "        vertical-align: top;\n",
       "    }\n",
       "\n",
       "    .dataframe thead th {\n",
       "        text-align: right;\n",
       "    }\n",
       "</style>\n",
       "<table border=\"1\" class=\"dataframe\">\n",
       "  <thead>\n",
       "    <tr style=\"text-align: right;\">\n",
       "      <th>author_position</th>\n",
       "      <th>1</th>\n",
       "      <th>2</th>\n",
       "      <th>3</th>\n",
       "      <th>4</th>\n",
       "      <th>5</th>\n",
       "      <th>6</th>\n",
       "      <th>7</th>\n",
       "      <th>8</th>\n",
       "      <th>9</th>\n",
       "      <th>10</th>\n",
       "      <th>...</th>\n",
       "      <th>93</th>\n",
       "      <th>95</th>\n",
       "      <th>103</th>\n",
       "      <th>107</th>\n",
       "      <th>117</th>\n",
       "      <th>118</th>\n",
       "      <th>120</th>\n",
       "      <th>126</th>\n",
       "      <th>129</th>\n",
       "      <th>freq_pos</th>\n",
       "    </tr>\n",
       "    <tr>\n",
       "      <th>author</th>\n",
       "      <th></th>\n",
       "      <th></th>\n",
       "      <th></th>\n",
       "      <th></th>\n",
       "      <th></th>\n",
       "      <th></th>\n",
       "      <th></th>\n",
       "      <th></th>\n",
       "      <th></th>\n",
       "      <th></th>\n",
       "      <th></th>\n",
       "      <th></th>\n",
       "      <th></th>\n",
       "      <th></th>\n",
       "      <th></th>\n",
       "      <th></th>\n",
       "      <th></th>\n",
       "      <th></th>\n",
       "      <th></th>\n",
       "      <th></th>\n",
       "      <th></th>\n",
       "    </tr>\n",
       "  </thead>\n",
       "  <tbody>\n",
       "    <tr>\n",
       "      <th>Aafke A van den Berg</th>\n",
       "      <td>1.0</td>\n",
       "      <td>0.0</td>\n",
       "      <td>0.0</td>\n",
       "      <td>0.0</td>\n",
       "      <td>0.0</td>\n",
       "      <td>0.0</td>\n",
       "      <td>0.0</td>\n",
       "      <td>0.0</td>\n",
       "      <td>0.0</td>\n",
       "      <td>0.0</td>\n",
       "      <td>...</td>\n",
       "      <td>0.0</td>\n",
       "      <td>0.0</td>\n",
       "      <td>0.0</td>\n",
       "      <td>0.0</td>\n",
       "      <td>0.0</td>\n",
       "      <td>0.0</td>\n",
       "      <td>0.0</td>\n",
       "      <td>0.0</td>\n",
       "      <td>0.0</td>\n",
       "      <td>1</td>\n",
       "    </tr>\n",
       "    <tr>\n",
       "      <th>Aafke W F Janssen</th>\n",
       "      <td>1.0</td>\n",
       "      <td>0.0</td>\n",
       "      <td>0.0</td>\n",
       "      <td>0.0</td>\n",
       "      <td>0.0</td>\n",
       "      <td>0.0</td>\n",
       "      <td>0.0</td>\n",
       "      <td>0.0</td>\n",
       "      <td>0.0</td>\n",
       "      <td>0.0</td>\n",
       "      <td>...</td>\n",
       "      <td>0.0</td>\n",
       "      <td>0.0</td>\n",
       "      <td>0.0</td>\n",
       "      <td>0.0</td>\n",
       "      <td>0.0</td>\n",
       "      <td>0.0</td>\n",
       "      <td>0.0</td>\n",
       "      <td>0.0</td>\n",
       "      <td>0.0</td>\n",
       "      <td>1</td>\n",
       "    </tr>\n",
       "    <tr>\n",
       "      <th>Aakrosh Ratan</th>\n",
       "      <td>2.0</td>\n",
       "      <td>1.0</td>\n",
       "      <td>0.0</td>\n",
       "      <td>0.0</td>\n",
       "      <td>1.0</td>\n",
       "      <td>0.0</td>\n",
       "      <td>0.0</td>\n",
       "      <td>1.0</td>\n",
       "      <td>0.0</td>\n",
       "      <td>0.0</td>\n",
       "      <td>...</td>\n",
       "      <td>0.0</td>\n",
       "      <td>0.0</td>\n",
       "      <td>0.0</td>\n",
       "      <td>0.0</td>\n",
       "      <td>0.0</td>\n",
       "      <td>0.0</td>\n",
       "      <td>0.0</td>\n",
       "      <td>0.0</td>\n",
       "      <td>0.0</td>\n",
       "      <td>1</td>\n",
       "    </tr>\n",
       "    <tr>\n",
       "      <th>Aamira Tariq</th>\n",
       "      <td>1.0</td>\n",
       "      <td>0.0</td>\n",
       "      <td>0.0</td>\n",
       "      <td>0.0</td>\n",
       "      <td>0.0</td>\n",
       "      <td>0.0</td>\n",
       "      <td>0.0</td>\n",
       "      <td>0.0</td>\n",
       "      <td>0.0</td>\n",
       "      <td>0.0</td>\n",
       "      <td>...</td>\n",
       "      <td>0.0</td>\n",
       "      <td>0.0</td>\n",
       "      <td>0.0</td>\n",
       "      <td>0.0</td>\n",
       "      <td>0.0</td>\n",
       "      <td>0.0</td>\n",
       "      <td>0.0</td>\n",
       "      <td>0.0</td>\n",
       "      <td>0.0</td>\n",
       "      <td>1</td>\n",
       "    </tr>\n",
       "    <tr>\n",
       "      <th>Aanchal Katoch</th>\n",
       "      <td>1.0</td>\n",
       "      <td>0.0</td>\n",
       "      <td>0.0</td>\n",
       "      <td>0.0</td>\n",
       "      <td>0.0</td>\n",
       "      <td>0.0</td>\n",
       "      <td>0.0</td>\n",
       "      <td>0.0</td>\n",
       "      <td>0.0</td>\n",
       "      <td>0.0</td>\n",
       "      <td>...</td>\n",
       "      <td>0.0</td>\n",
       "      <td>0.0</td>\n",
       "      <td>0.0</td>\n",
       "      <td>0.0</td>\n",
       "      <td>0.0</td>\n",
       "      <td>0.0</td>\n",
       "      <td>0.0</td>\n",
       "      <td>0.0</td>\n",
       "      <td>0.0</td>\n",
       "      <td>1</td>\n",
       "    </tr>\n",
       "    <tr>\n",
       "      <th>Aarti Garg</th>\n",
       "      <td>4.0</td>\n",
       "      <td>0.0</td>\n",
       "      <td>0.0</td>\n",
       "      <td>0.0</td>\n",
       "      <td>0.0</td>\n",
       "      <td>0.0</td>\n",
       "      <td>0.0</td>\n",
       "      <td>0.0</td>\n",
       "      <td>0.0</td>\n",
       "      <td>0.0</td>\n",
       "      <td>...</td>\n",
       "      <td>0.0</td>\n",
       "      <td>0.0</td>\n",
       "      <td>0.0</td>\n",
       "      <td>0.0</td>\n",
       "      <td>0.0</td>\n",
       "      <td>0.0</td>\n",
       "      <td>0.0</td>\n",
       "      <td>0.0</td>\n",
       "      <td>0.0</td>\n",
       "      <td>1</td>\n",
       "    </tr>\n",
       "    <tr>\n",
       "      <th>Aarti Sevilimedu</th>\n",
       "      <td>1.0</td>\n",
       "      <td>0.0</td>\n",
       "      <td>1.0</td>\n",
       "      <td>0.0</td>\n",
       "      <td>0.0</td>\n",
       "      <td>0.0</td>\n",
       "      <td>0.0</td>\n",
       "      <td>0.0</td>\n",
       "      <td>0.0</td>\n",
       "      <td>0.0</td>\n",
       "      <td>...</td>\n",
       "      <td>0.0</td>\n",
       "      <td>0.0</td>\n",
       "      <td>0.0</td>\n",
       "      <td>0.0</td>\n",
       "      <td>0.0</td>\n",
       "      <td>0.0</td>\n",
       "      <td>0.0</td>\n",
       "      <td>0.0</td>\n",
       "      <td>0.0</td>\n",
       "      <td>1</td>\n",
       "    </tr>\n",
       "    <tr>\n",
       "      <th>Abbey B Holt</th>\n",
       "      <td>1.0</td>\n",
       "      <td>0.0</td>\n",
       "      <td>0.0</td>\n",
       "      <td>0.0</td>\n",
       "      <td>0.0</td>\n",
       "      <td>0.0</td>\n",
       "      <td>0.0</td>\n",
       "      <td>0.0</td>\n",
       "      <td>0.0</td>\n",
       "      <td>0.0</td>\n",
       "      <td>...</td>\n",
       "      <td>0.0</td>\n",
       "      <td>0.0</td>\n",
       "      <td>0.0</td>\n",
       "      <td>0.0</td>\n",
       "      <td>0.0</td>\n",
       "      <td>0.0</td>\n",
       "      <td>0.0</td>\n",
       "      <td>0.0</td>\n",
       "      <td>0.0</td>\n",
       "      <td>1</td>\n",
       "    </tr>\n",
       "    <tr>\n",
       "      <th>Abha Singh Bais</th>\n",
       "      <td>1.0</td>\n",
       "      <td>0.0</td>\n",
       "      <td>0.0</td>\n",
       "      <td>0.0</td>\n",
       "      <td>0.0</td>\n",
       "      <td>0.0</td>\n",
       "      <td>0.0</td>\n",
       "      <td>0.0</td>\n",
       "      <td>0.0</td>\n",
       "      <td>0.0</td>\n",
       "      <td>...</td>\n",
       "      <td>0.0</td>\n",
       "      <td>0.0</td>\n",
       "      <td>0.0</td>\n",
       "      <td>0.0</td>\n",
       "      <td>0.0</td>\n",
       "      <td>0.0</td>\n",
       "      <td>0.0</td>\n",
       "      <td>0.0</td>\n",
       "      <td>0.0</td>\n",
       "      <td>1</td>\n",
       "    </tr>\n",
       "    <tr>\n",
       "      <th>Abibatou Mbodj</th>\n",
       "      <td>1.0</td>\n",
       "      <td>0.0</td>\n",
       "      <td>0.0</td>\n",
       "      <td>0.0</td>\n",
       "      <td>0.0</td>\n",
       "      <td>0.0</td>\n",
       "      <td>0.0</td>\n",
       "      <td>0.0</td>\n",
       "      <td>0.0</td>\n",
       "      <td>0.0</td>\n",
       "      <td>...</td>\n",
       "      <td>0.0</td>\n",
       "      <td>0.0</td>\n",
       "      <td>0.0</td>\n",
       "      <td>0.0</td>\n",
       "      <td>0.0</td>\n",
       "      <td>0.0</td>\n",
       "      <td>0.0</td>\n",
       "      <td>0.0</td>\n",
       "      <td>0.0</td>\n",
       "      <td>1</td>\n",
       "    </tr>\n",
       "  </tbody>\n",
       "</table>\n",
       "<p>10 rows × 90 columns</p>\n",
       "</div>"
      ],
      "text/plain": [
       "author_position         1    2    3    4    5    6    7    8    9   10  ...  \\\n",
       "author                                                                  ...   \n",
       "Aafke A van den Berg  1.0  0.0  0.0  0.0  0.0  0.0  0.0  0.0  0.0  0.0  ...   \n",
       "Aafke W F Janssen     1.0  0.0  0.0  0.0  0.0  0.0  0.0  0.0  0.0  0.0  ...   \n",
       "Aakrosh Ratan         2.0  1.0  0.0  0.0  1.0  0.0  0.0  1.0  0.0  0.0  ...   \n",
       "Aamira Tariq          1.0  0.0  0.0  0.0  0.0  0.0  0.0  0.0  0.0  0.0  ...   \n",
       "Aanchal Katoch        1.0  0.0  0.0  0.0  0.0  0.0  0.0  0.0  0.0  0.0  ...   \n",
       "Aarti Garg            4.0  0.0  0.0  0.0  0.0  0.0  0.0  0.0  0.0  0.0  ...   \n",
       "Aarti Sevilimedu      1.0  0.0  1.0  0.0  0.0  0.0  0.0  0.0  0.0  0.0  ...   \n",
       "Abbey B Holt          1.0  0.0  0.0  0.0  0.0  0.0  0.0  0.0  0.0  0.0  ...   \n",
       "Abha Singh Bais       1.0  0.0  0.0  0.0  0.0  0.0  0.0  0.0  0.0  0.0  ...   \n",
       "Abibatou Mbodj        1.0  0.0  0.0  0.0  0.0  0.0  0.0  0.0  0.0  0.0  ...   \n",
       "\n",
       "author_position        93   95  103  107  117  118  120  126  129  freq_pos  \n",
       "author                                                                       \n",
       "Aafke A van den Berg  0.0  0.0  0.0  0.0  0.0  0.0  0.0  0.0  0.0         1  \n",
       "Aafke W F Janssen     0.0  0.0  0.0  0.0  0.0  0.0  0.0  0.0  0.0         1  \n",
       "Aakrosh Ratan         0.0  0.0  0.0  0.0  0.0  0.0  0.0  0.0  0.0         1  \n",
       "Aamira Tariq          0.0  0.0  0.0  0.0  0.0  0.0  0.0  0.0  0.0         1  \n",
       "Aanchal Katoch        0.0  0.0  0.0  0.0  0.0  0.0  0.0  0.0  0.0         1  \n",
       "Aarti Garg            0.0  0.0  0.0  0.0  0.0  0.0  0.0  0.0  0.0         1  \n",
       "Aarti Sevilimedu      0.0  0.0  0.0  0.0  0.0  0.0  0.0  0.0  0.0         1  \n",
       "Abbey B Holt          0.0  0.0  0.0  0.0  0.0  0.0  0.0  0.0  0.0         1  \n",
       "Abha Singh Bais       0.0  0.0  0.0  0.0  0.0  0.0  0.0  0.0  0.0         1  \n",
       "Abibatou Mbodj        0.0  0.0  0.0  0.0  0.0  0.0  0.0  0.0  0.0         1  \n",
       "\n",
       "[10 rows x 90 columns]"
      ]
     },
     "execution_count": 361,
     "metadata": {},
     "output_type": "execute_result"
    }
   ],
   "source": [
    "female_authors_pos[female_authors_pos['freq_pos']==1].head(10)"
   ]
  },
  {
   "cell_type": "markdown",
   "metadata": {},
   "source": [
    "### Positions most frequently occuped by female authors in papres"
   ]
  },
  {
   "cell_type": "code",
   "execution_count": 362,
   "metadata": {},
   "outputs": [
    {
     "data": {
      "text/plain": [
       "1     7656\n",
       "2     6749\n",
       "3     5581\n",
       "4     4244\n",
       "5     2972\n",
       "6     2155\n",
       "7     1514\n",
       "8      984\n",
       "9      680\n",
       "10     477\n",
       "Name: freq_pos, dtype: int64"
      ]
     },
     "execution_count": 362,
     "metadata": {},
     "output_type": "execute_result"
    }
   ],
   "source": [
    "female_authors_pos['freq_pos'].value_counts()[:10]"
   ]
  },
  {
   "cell_type": "code",
   "execution_count": 363,
   "metadata": {},
   "outputs": [
    {
     "name": "stdout",
     "output_type": "stream",
     "text": [
      "There are 9513 (24.82%) papers led by a woman\n",
      "In 8706 (91.52%) of this papers there are also men as co-authors\n"
     ]
    }
   ],
   "source": [
    "title_papers_led_female = papers_authors[(papers_authors['author_gender']=='female') & \\\n",
    "                                         (papers_authors['author_position']==1)]['title']\n",
    "papers_led_female = papers_authors[papers_authors['title'].isin(title_papers_led_female)]\n",
    "papers_led_female = papers_led_female.drop(['id', 'doi', 'year', 'category', 'author', 'author_position'], axis=1)\n",
    "papers_led_female_grouped_by_title = papers_led_female.groupby(['title','author_gender'], \\\n",
    "                                                               sort=False, as_index=False)\n",
    "agg_papers_grouped_lbf = papers_led_female_grouped_by_title[['author_gender']].\\\n",
    "    agg({'author_gender': {'count_gender': 'count'}})\n",
    "papers_led_female_df = agg_papers_grouped_lbf.pivot(columns='author_gender', values='count_gender', index='title') \n",
    "papers_led_female_df = papers_led_female_df.drop(['error_api', 'mostly_female', 'mostly_male'], axis=1)\n",
    "papers_led_female_df = papers_led_female_df.fillna(0)\n",
    "num_papers_led_by_woman = papers_led_female_df.shape[0]\n",
    "per_papers_led_by_woman = round(num_papers_led_by_woman/papers.shape[0]*100,2)\n",
    "print('There are {} ({}%) papers led by a woman'.format(num_papers_led_by_woman, per_papers_led_by_woman))\n",
    "num_papers_led_by_woman_men = papers_led_female_df[papers_led_female_df['male']>0].shape[0]\n",
    "per_papers_led_by_woman_men = round(num_papers_led_by_woman_men/num_papers_led_by_woman*100,2)\n",
    "print('In {} ({}%) of this papers there are also men as co-authors'.format(num_papers_led_by_woman_men, \\\n",
    "                                                                          per_papers_led_by_woman_men))"
   ]
  },
  {
   "cell_type": "markdown",
   "metadata": {},
   "source": [
    "## Citations by gender"
   ]
  },
  {
   "cell_type": "markdown",
   "metadata": {},
   "source": [
    "### Citations of papers with mostly female and male authors"
   ]
  },
  {
   "cell_type": "code",
   "execution_count": 532,
   "metadata": {},
   "outputs": [],
   "source": [
    "papers_with_most_females = papers_gender_dist[papers_gender_dist['most_female']==1].index.values\n",
    "c_mostly_female_authors = papers[papers['title'].isin(papers_with_most_females)]['citations']\n",
    "papers_with_most_male = papers_gender_dist[papers_gender_dist['most_male']==1].index.values\n",
    "c_mostly_male_authors = papers[papers['title'].isin(papers_with_most_male)]['citations']"
   ]
  },
  {
   "cell_type": "code",
   "execution_count": 533,
   "metadata": {},
   "outputs": [
    {
     "data": {
      "text/plain": [
       "count    6411.000000\n",
       "mean       26.008891\n",
       "std        72.203477\n",
       "min         0.000000\n",
       "25%         4.000000\n",
       "50%        12.000000\n",
       "75%        28.000000\n",
       "max      2406.000000\n",
       "Name: citations, dtype: float64"
      ]
     },
     "execution_count": 533,
     "metadata": {},
     "output_type": "execute_result"
    }
   ],
   "source": [
    "c_mostly_female_authors.describe()"
   ]
  },
  {
   "cell_type": "code",
   "execution_count": 534,
   "metadata": {},
   "outputs": [
    {
     "data": {
      "text/plain": [
       "count    12870.000000\n",
       "mean        27.649650\n",
       "std         77.241824\n",
       "min          0.000000\n",
       "25%          4.000000\n",
       "50%         12.000000\n",
       "75%         29.000000\n",
       "max       3212.000000\n",
       "Name: citations, dtype: float64"
      ]
     },
     "execution_count": 534,
     "metadata": {},
     "output_type": "execute_result"
    }
   ],
   "source": [
    "c_mostly_male_authors.describe()"
   ]
  },
  {
   "cell_type": "code",
   "execution_count": 537,
   "metadata": {},
   "outputs": [
    {
     "data": {
      "image/png": "[encoded data removed]",
      "text/plain": [
       "<Figure size 864x576 with 1 Axes>"
      ]
     },
     "metadata": {
      "needs_background": "light"
     },
     "output_type": "display_data"
    }
   ],
   "source": [
    "data_to_plot = [c_mostly_female_authors, c_mostly_male_authors]\n",
    "# Create a figure instance\n",
    "fig = plt.figure(1, figsize=(12, 8))\n",
    "# Create an axes instance\n",
    "ax = fig.add_subplot(111)\n",
    "ax.set_xticklabels(['Most female authors', 'Most male authors'])\n",
    "# Create the boxplot\n",
    "bp = ax.boxplot(data_to_plot, showfliers=False)"
   ]
  },
  {
   "cell_type": "markdown",
   "metadata": {},
   "source": [
    "#### Are the different statistically significant?"
   ]
  },
  {
   "cell_type": "code",
   "execution_count": 549,
   "metadata": {},
   "outputs": [
    {
     "name": "stdout",
     "output_type": "stream",
     "text": [
      "The difference is not statistically significant, p-value: 0.156\n"
     ]
    }
   ],
   "source": [
    "ttest,pval = ttest_ind(c_mostly_female_authors,c_mostly_male_authors)\n",
    "if pval < 0.05:\n",
    "    print(\"The difference is statistically significant, p-value:\",round(pval,3))\n",
    "else:\n",
    "    print(\"The difference is not statistically significant, p-value:\",round(pval,3))"
   ]
  },
  {
   "cell_type": "markdown",
   "metadata": {},
   "source": [
    "### Citations of papers with only female and male authors"
   ]
  },
  {
   "cell_type": "code",
   "execution_count": 538,
   "metadata": {},
   "outputs": [],
   "source": [
    "papers_with_most_females = papers_gender_dist[papers_gender_dist['only_female']==1].index.values\n",
    "c_only_female_authors = papers[papers['title'].isin(papers_with_most_females)]['citations']\n",
    "papers_with_most_male = papers_gender_dist[papers_gender_dist['only_male']==1].index.values\n",
    "c_only_male_authors = papers[papers['title'].isin(papers_with_most_male)]['citations']"
   ]
  },
  {
   "cell_type": "code",
   "execution_count": 540,
   "metadata": {},
   "outputs": [
    {
     "data": {
      "text/plain": [
       "count    1916.000000\n",
       "mean       20.803236\n",
       "std        65.790850\n",
       "min         0.000000\n",
       "25%         3.000000\n",
       "50%         9.000000\n",
       "75%        23.000000\n",
       "max      2006.000000\n",
       "Name: citations, dtype: float64"
      ]
     },
     "execution_count": 540,
     "metadata": {},
     "output_type": "execute_result"
    }
   ],
   "source": [
    "c_only_female_authors.describe()"
   ]
  },
  {
   "cell_type": "code",
   "execution_count": 541,
   "metadata": {},
   "outputs": [
    {
     "data": {
      "text/plain": [
       "count    8453.000000\n",
       "mean       27.821602\n",
       "std        82.839307\n",
       "min         0.000000\n",
       "25%         4.000000\n",
       "50%        12.000000\n",
       "75%        29.000000\n",
       "max      3212.000000\n",
       "Name: citations, dtype: float64"
      ]
     },
     "execution_count": 541,
     "metadata": {},
     "output_type": "execute_result"
    }
   ],
   "source": [
    "c_only_male_authors.describe()"
   ]
  },
  {
   "cell_type": "code",
   "execution_count": 539,
   "metadata": {},
   "outputs": [
    {
     "data": {
      "image/png": "[encoded data removed]",
      "text/plain": [
       "<Figure size 864x576 with 1 Axes>"
      ]
     },
     "metadata": {
      "needs_background": "light"
     },
     "output_type": "display_data"
    }
   ],
   "source": [
    "data_to_plot = [c_only_female_authors, c_only_male_authors]\n",
    "# Create a figure instance\n",
    "fig = plt.figure(1, figsize=(12, 8))\n",
    "# Create an axes instance\n",
    "ax = fig.add_subplot(111)\n",
    "ax.set_xticklabels(['Only female authors', 'Only male authors'])\n",
    "# Create the boxplot\n",
    "bp = ax.boxplot(data_to_plot, showfliers=False)"
   ]
  },
  {
   "cell_type": "markdown",
   "metadata": {},
   "source": [
    "#### Are the different statistically significant?"
   ]
  },
  {
   "cell_type": "code",
   "execution_count": 550,
   "metadata": {},
   "outputs": [
    {
     "name": "stdout",
     "output_type": "stream",
     "text": [
      "The difference is statistically significant, p-value: 0.001\n"
     ]
    }
   ],
   "source": [
    "ttest,pval = ttest_ind(c_only_female_authors,c_only_male_authors)\n",
    "if pval < 0.05:\n",
    "    print(\"The difference is statistically significant, p-value:\",round(pval,3))\n",
    "else:\n",
    "    print(\"The difference is not statistically significant, p-value:\",round(pval,3))"
   ]
  },
  {
   "cell_type": "markdown",
   "metadata": {},
   "source": [
    "### Citations of papers led by female and male authors"
   ]
  },
  {
   "cell_type": "code",
   "execution_count": 558,
   "metadata": {},
   "outputs": [],
   "source": [
    "# citations led by female authors\n",
    "c_led_female_authors = papers[papers['title'].isin(papers_led_female_df.index.values)]['citations']\n",
    "# citations led by male authors\n",
    "title_papers_led_male = papers_authors[(papers_authors['author_gender']=='male') & \\\n",
    "                                       (papers_authors['author_position']==1)]['title']\n",
    "papers_led_male = papers_authors[papers_authors['title'].isin(title_papers_led_male)]\n",
    "papers_led_male = papers_led_male.drop(['id', 'doi', 'year', 'category', 'author', 'author_position'], axis=1)\n",
    "papers_led_male_grouped_by_title = papers_led_male.groupby(['title','author_gender'], sort=False, as_index=False)\n",
    "agg_papers_grouped_lbm = papers_led_male_grouped_by_title[['author_gender']].\\\n",
    "    agg({'author_gender': {'count_gender': 'count'}})\n",
    "papers_led_male_df = agg_papers_grouped_lbm.pivot(columns='author_gender', values='count_gender', index='title')\n",
    "c_led_male_authors = papers[papers['title'].isin(papers_led_male_df.index.values)]['citations']"
   ]
  },
  {
   "cell_type": "code",
   "execution_count": 559,
   "metadata": {},
   "outputs": [
    {
     "data": {
      "text/plain": [
       "count    9513.000000\n",
       "mean       27.985388\n",
       "std        78.463576\n",
       "min         0.000000\n",
       "25%         4.000000\n",
       "50%        12.000000\n",
       "75%        29.000000\n",
       "max      2686.000000\n",
       "Name: citations, dtype: float64"
      ]
     },
     "execution_count": 559,
     "metadata": {},
     "output_type": "execute_result"
    }
   ],
   "source": [
    "c_led_female_authors.describe()"
   ]
  },
  {
   "cell_type": "code",
   "execution_count": 560,
   "metadata": {},
   "outputs": [
    {
     "data": {
      "text/plain": [
       "count    12364.000000\n",
       "mean        30.306859\n",
       "std         93.288278\n",
       "min          0.000000\n",
       "25%          4.000000\n",
       "50%         13.000000\n",
       "75%         30.000000\n",
       "max       3212.000000\n",
       "Name: citations, dtype: float64"
      ]
     },
     "execution_count": 560,
     "metadata": {},
     "output_type": "execute_result"
    }
   ],
   "source": [
    "c_led_male_authors.describe()"
   ]
  },
  {
   "cell_type": "code",
   "execution_count": 561,
   "metadata": {},
   "outputs": [
    {
     "data": {
      "image/png": "[encoded data removed]",
      "text/plain": [
       "<Figure size 864x576 with 1 Axes>"
      ]
     },
     "metadata": {
      "needs_background": "light"
     },
     "output_type": "display_data"
    }
   ],
   "source": [
    "data_to_plot = [c_led_female_authors, c_led_male_authors]\n",
    "# Create a figure instance\n",
    "fig = plt.figure(1, figsize=(12, 8))\n",
    "# Create an axes instance\n",
    "ax = fig.add_subplot(111)\n",
    "ax.set_xticklabels(['Led by female authors', 'Led by male authors'])\n",
    "# Create the boxplot\n",
    "bp = ax.boxplot(data_to_plot, showfliers=False)"
   ]
  },
  {
   "cell_type": "markdown",
   "metadata": {},
   "source": [
    "#### Are the different statistically significant?"
   ]
  },
  {
   "cell_type": "code",
   "execution_count": 562,
   "metadata": {},
   "outputs": [
    {
     "name": "stdout",
     "output_type": "stream",
     "text": [
      "The difference is not statistically significant, p-value: 0.051\n"
     ]
    }
   ],
   "source": [
    "ttest,pval = ttest_ind(c_led_female_authors,c_led_male_authors)\n",
    "if pval < 0.05:\n",
    "    print(\"The difference is statistically significant, p-value:\",round(pval,3))\n",
    "else:\n",
    "    print(\"The difference is not statistically significant, p-value:\",round(pval,3))"
   ]
  },
  {
   "cell_type": "markdown",
   "metadata": {},
   "source": [
    "### Citations of papers with female and male authors as last authors"
   ]
  },
  {
   "cell_type": "code",
   "execution_count": 576,
   "metadata": {},
   "outputs": [],
   "source": [
    "citations_papers_female_author = papers[papers['gender_last_author']=='female']['citations']\n",
    "citations_papers_male_author = papers[papers['gender_last_author']=='male']['citations']"
   ]
  },
  {
   "cell_type": "code",
   "execution_count": 577,
   "metadata": {},
   "outputs": [
    {
     "data": {
      "text/plain": [
       "count    6680.000000\n",
       "mean       26.902096\n",
       "std        72.256484\n",
       "min         0.000000\n",
       "25%         4.000000\n",
       "50%        12.000000\n",
       "75%        27.000000\n",
       "max      2115.000000\n",
       "Name: citations, dtype: float64"
      ]
     },
     "execution_count": 577,
     "metadata": {},
     "output_type": "execute_result"
    }
   ],
   "source": [
    "citations_papers_female_author.describe()"
   ]
  },
  {
   "cell_type": "code",
   "execution_count": 578,
   "metadata": {},
   "outputs": [
    {
     "data": {
      "text/plain": [
       "count    25902.000000\n",
       "mean        35.978843\n",
       "std        148.681350\n",
       "min          0.000000\n",
       "25%          5.000000\n",
       "50%         14.000000\n",
       "75%         32.000000\n",
       "max       9753.000000\n",
       "Name: citations, dtype: float64"
      ]
     },
     "execution_count": 578,
     "metadata": {},
     "output_type": "execute_result"
    }
   ],
   "source": [
    "citations_papers_male_author.describe()"
   ]
  },
  {
   "cell_type": "code",
   "execution_count": 579,
   "metadata": {},
   "outputs": [
    {
     "data": {
      "image/png": "[encoded data removed]",
      "text/plain": [
       "<Figure size 864x576 with 1 Axes>"
      ]
     },
     "metadata": {
      "needs_background": "light"
     },
     "output_type": "display_data"
    }
   ],
   "source": [
    "data_to_plot = [citations_papers_female_author, citations_papers_male_author]\n",
    "# Create a figure instance\n",
    "fig = plt.figure(1, figsize=(12, 8))\n",
    "# Create an axes instance\n",
    "ax = fig.add_subplot(111)\n",
    "ax.set_xticklabels(['Female as last author', 'Male as last author'])\n",
    "# Create the boxplot\n",
    "bp = ax.boxplot(data_to_plot, showfliers=False)"
   ]
  },
  {
   "cell_type": "markdown",
   "metadata": {},
   "source": [
    "#### Are the different statistically significant?"
   ]
  },
  {
   "cell_type": "code",
   "execution_count": 583,
   "metadata": {},
   "outputs": [
    {
     "name": "stdout",
     "output_type": "stream",
     "text": [
      "The difference is statistically significant, p-value: 1.2772595621891377e-06\n"
     ]
    }
   ],
   "source": [
    "ttest,pval = ttest_ind(citations_papers_female_author, citations_papers_male_author)\n",
    "if pval < 0.05:\n",
    "    print(\"The difference is statistically significant, p-value:\",pval)\n",
    "else:\n",
    "    print(\"The difference is not statistically significant, p-value:\",round(pval,3))"
   ]
  },
  {
   "cell_type": "markdown",
   "metadata": {},
   "source": [
    "### Correlation between citations and gender distribution"
   ]
  },
  {
   "cell_type": "code",
   "execution_count": 586,
   "metadata": {},
   "outputs": [],
   "source": [
    "papers_gender_dist['gender_ratio'] = papers_gender_dist['female']/papers_gender_dist['male']"
   ]
  },
  {
   "cell_type": "code",
   "execution_count": 599,
   "metadata": {},
   "outputs": [
    {
     "data": {
      "text/plain": [
       "38350"
      ]
     },
     "execution_count": 599,
     "metadata": {},
     "output_type": "execute_result"
    }
   ],
   "source": [
    "papers.shape[0]"
   ]
  },
  {
   "cell_type": "code",
   "execution_count": 600,
   "metadata": {},
   "outputs": [
    {
     "data": {
      "text/plain": [
       "22888"
      ]
     },
     "execution_count": 600,
     "metadata": {},
     "output_type": "execute_result"
    }
   ],
   "source": [
    "papers_gender_dist.shape[0]"
   ]
  },
  {
   "cell_type": "code",
   "execution_count": 598,
   "metadata": {},
   "outputs": [
    {
     "ename": "ValueError",
     "evalue": "Shape of passed values is (22888, 2), indices imply (38350, 2)",
     "output_type": "error",
     "traceback": [
      "\u001b[0;31m---------------------------------------------------------------------------\u001b[0m",
      "\u001b[0;31mValueError\u001b[0m                                Traceback (most recent call last)",
      "\u001b[0;32m~/python_venvs/gender_identification/lib/python3.6/site-packages/pandas/core/internals/managers.py\u001b[0m in \u001b[0;36mcreate_block_manager_from_arrays\u001b[0;34m(arrays, names, axes)\u001b[0m\n\u001b[1;32m   1666\u001b[0m         \u001b[0mblocks\u001b[0m \u001b[0;34m=\u001b[0m \u001b[0mform_blocks\u001b[0m\u001b[0;34m(\u001b[0m\u001b[0marrays\u001b[0m\u001b[0;34m,\u001b[0m \u001b[0mnames\u001b[0m\u001b[0;34m,\u001b[0m \u001b[0maxes\u001b[0m\u001b[0;34m)\u001b[0m\u001b[0;34m\u001b[0m\u001b[0;34m\u001b[0m\u001b[0m\n\u001b[0;32m-> 1667\u001b[0;31m         \u001b[0mmgr\u001b[0m \u001b[0;34m=\u001b[0m \u001b[0mBlockManager\u001b[0m\u001b[0;34m(\u001b[0m\u001b[0mblocks\u001b[0m\u001b[0;34m,\u001b[0m \u001b[0maxes\u001b[0m\u001b[0;34m)\u001b[0m\u001b[0;34m\u001b[0m\u001b[0;34m\u001b[0m\u001b[0m\n\u001b[0m\u001b[1;32m   1668\u001b[0m         \u001b[0mmgr\u001b[0m\u001b[0;34m.\u001b[0m\u001b[0m_consolidate_inplace\u001b[0m\u001b[0;34m(\u001b[0m\u001b[0;34m)\u001b[0m\u001b[0;34m\u001b[0m\u001b[0;34m\u001b[0m\u001b[0m\n",
      "\u001b[0;32m~/python_venvs/gender_identification/lib/python3.6/site-packages/pandas/core/internals/managers.py\u001b[0m in \u001b[0;36m__init__\u001b[0;34m(self, blocks, axes, do_integrity_check)\u001b[0m\n\u001b[1;32m    113\u001b[0m         \u001b[0;32mif\u001b[0m \u001b[0mdo_integrity_check\u001b[0m\u001b[0;34m:\u001b[0m\u001b[0;34m\u001b[0m\u001b[0;34m\u001b[0m\u001b[0m\n\u001b[0;32m--> 114\u001b[0;31m             \u001b[0mself\u001b[0m\u001b[0;34m.\u001b[0m\u001b[0m_verify_integrity\u001b[0m\u001b[0;34m(\u001b[0m\u001b[0;34m)\u001b[0m\u001b[0;34m\u001b[0m\u001b[0;34m\u001b[0m\u001b[0m\n\u001b[0m\u001b[1;32m    115\u001b[0m \u001b[0;34m\u001b[0m\u001b[0m\n",
      "\u001b[0;32m~/python_venvs/gender_identification/lib/python3.6/site-packages/pandas/core/internals/managers.py\u001b[0m in \u001b[0;36m_verify_integrity\u001b[0;34m(self)\u001b[0m\n\u001b[1;32m    310\u001b[0m             \u001b[0;32mif\u001b[0m \u001b[0mblock\u001b[0m\u001b[0;34m.\u001b[0m\u001b[0m_verify_integrity\u001b[0m \u001b[0;32mand\u001b[0m \u001b[0mblock\u001b[0m\u001b[0;34m.\u001b[0m\u001b[0mshape\u001b[0m\u001b[0;34m[\u001b[0m\u001b[0;36m1\u001b[0m\u001b[0;34m:\u001b[0m\u001b[0;34m]\u001b[0m \u001b[0;34m!=\u001b[0m \u001b[0mmgr_shape\u001b[0m\u001b[0;34m[\u001b[0m\u001b[0;36m1\u001b[0m\u001b[0;34m:\u001b[0m\u001b[0;34m]\u001b[0m\u001b[0;34m:\u001b[0m\u001b[0;34m\u001b[0m\u001b[0;34m\u001b[0m\u001b[0m\n\u001b[0;32m--> 311\u001b[0;31m                 \u001b[0mconstruction_error\u001b[0m\u001b[0;34m(\u001b[0m\u001b[0mtot_items\u001b[0m\u001b[0;34m,\u001b[0m \u001b[0mblock\u001b[0m\u001b[0;34m.\u001b[0m\u001b[0mshape\u001b[0m\u001b[0;34m[\u001b[0m\u001b[0;36m1\u001b[0m\u001b[0;34m:\u001b[0m\u001b[0;34m]\u001b[0m\u001b[0;34m,\u001b[0m \u001b[0mself\u001b[0m\u001b[0;34m.\u001b[0m\u001b[0maxes\u001b[0m\u001b[0;34m)\u001b[0m\u001b[0;34m\u001b[0m\u001b[0;34m\u001b[0m\u001b[0m\n\u001b[0m\u001b[1;32m    312\u001b[0m         \u001b[0;32mif\u001b[0m \u001b[0mlen\u001b[0m\u001b[0;34m(\u001b[0m\u001b[0mself\u001b[0m\u001b[0;34m.\u001b[0m\u001b[0mitems\u001b[0m\u001b[0;34m)\u001b[0m \u001b[0;34m!=\u001b[0m \u001b[0mtot_items\u001b[0m\u001b[0;34m:\u001b[0m\u001b[0;34m\u001b[0m\u001b[0;34m\u001b[0m\u001b[0m\n",
      "\u001b[0;32m~/python_venvs/gender_identification/lib/python3.6/site-packages/pandas/core/internals/managers.py\u001b[0m in \u001b[0;36mconstruction_error\u001b[0;34m(tot_items, block_shape, axes, e)\u001b[0m\n\u001b[1;32m   1690\u001b[0m     raise ValueError(\"Shape of passed values is {0}, indices imply {1}\".format(\n\u001b[0;32m-> 1691\u001b[0;31m         passed, implied))\n\u001b[0m\u001b[1;32m   1692\u001b[0m \u001b[0;34m\u001b[0m\u001b[0m\n",
      "\u001b[0;31mValueError\u001b[0m: Shape of passed values is (22888, 2), indices imply (38350, 2)",
      "\nDuring handling of the above exception, another exception occurred:\n",
      "\u001b[0;31mValueError\u001b[0m                                Traceback (most recent call last)",
      "\u001b[0;32m<ipython-input-598-8fe0c4690478>\u001b[0m in \u001b[0;36m<module>\u001b[0;34m\u001b[0m\n\u001b[1;32m      1\u001b[0m papers_gdr = pd.DataFrame({'title': papers_gender_dist.index.values, \n\u001b[1;32m      2\u001b[0m                            'gender_ratio':papers_gender_dist['gender_ratio']},\n\u001b[0;32m----> 3\u001b[0;31m                          index=papers.index.values)\n\u001b[0m",
      "\u001b[0;32m~/python_venvs/gender_identification/lib/python3.6/site-packages/pandas/core/frame.py\u001b[0m in \u001b[0;36m__init__\u001b[0;34m(self, data, index, columns, dtype, copy)\u001b[0m\n\u001b[1;32m    390\u001b[0m                                  dtype=dtype, copy=copy)\n\u001b[1;32m    391\u001b[0m         \u001b[0;32melif\u001b[0m \u001b[0misinstance\u001b[0m\u001b[0;34m(\u001b[0m\u001b[0mdata\u001b[0m\u001b[0;34m,\u001b[0m \u001b[0mdict\u001b[0m\u001b[0;34m)\u001b[0m\u001b[0;34m:\u001b[0m\u001b[0;34m\u001b[0m\u001b[0;34m\u001b[0m\u001b[0m\n\u001b[0;32m--> 392\u001b[0;31m             \u001b[0mmgr\u001b[0m \u001b[0;34m=\u001b[0m \u001b[0minit_dict\u001b[0m\u001b[0;34m(\u001b[0m\u001b[0mdata\u001b[0m\u001b[0;34m,\u001b[0m \u001b[0mindex\u001b[0m\u001b[0;34m,\u001b[0m \u001b[0mcolumns\u001b[0m\u001b[0;34m,\u001b[0m \u001b[0mdtype\u001b[0m\u001b[0;34m=\u001b[0m\u001b[0mdtype\u001b[0m\u001b[0;34m)\u001b[0m\u001b[0;34m\u001b[0m\u001b[0;34m\u001b[0m\u001b[0m\n\u001b[0m\u001b[1;32m    393\u001b[0m         \u001b[0;32melif\u001b[0m \u001b[0misinstance\u001b[0m\u001b[0;34m(\u001b[0m\u001b[0mdata\u001b[0m\u001b[0;34m,\u001b[0m \u001b[0mma\u001b[0m\u001b[0;34m.\u001b[0m\u001b[0mMaskedArray\u001b[0m\u001b[0;34m)\u001b[0m\u001b[0;34m:\u001b[0m\u001b[0;34m\u001b[0m\u001b[0;34m\u001b[0m\u001b[0m\n\u001b[1;32m    394\u001b[0m             \u001b[0;32mimport\u001b[0m \u001b[0mnumpy\u001b[0m\u001b[0;34m.\u001b[0m\u001b[0mma\u001b[0m\u001b[0;34m.\u001b[0m\u001b[0mmrecords\u001b[0m \u001b[0;32mas\u001b[0m \u001b[0mmrecords\u001b[0m\u001b[0;34m\u001b[0m\u001b[0;34m\u001b[0m\u001b[0m\n",
      "\u001b[0;32m~/python_venvs/gender_identification/lib/python3.6/site-packages/pandas/core/internals/construction.py\u001b[0m in \u001b[0;36minit_dict\u001b[0;34m(data, index, columns, dtype)\u001b[0m\n\u001b[1;32m    210\u001b[0m         \u001b[0marrays\u001b[0m \u001b[0;34m=\u001b[0m \u001b[0;34m[\u001b[0m\u001b[0mdata\u001b[0m\u001b[0;34m[\u001b[0m\u001b[0mk\u001b[0m\u001b[0;34m]\u001b[0m \u001b[0;32mfor\u001b[0m \u001b[0mk\u001b[0m \u001b[0;32min\u001b[0m \u001b[0mkeys\u001b[0m\u001b[0;34m]\u001b[0m\u001b[0;34m\u001b[0m\u001b[0;34m\u001b[0m\u001b[0m\n\u001b[1;32m    211\u001b[0m \u001b[0;34m\u001b[0m\u001b[0m\n\u001b[0;32m--> 212\u001b[0;31m     \u001b[0;32mreturn\u001b[0m \u001b[0marrays_to_mgr\u001b[0m\u001b[0;34m(\u001b[0m\u001b[0marrays\u001b[0m\u001b[0;34m,\u001b[0m \u001b[0mdata_names\u001b[0m\u001b[0;34m,\u001b[0m \u001b[0mindex\u001b[0m\u001b[0;34m,\u001b[0m \u001b[0mcolumns\u001b[0m\u001b[0;34m,\u001b[0m \u001b[0mdtype\u001b[0m\u001b[0;34m=\u001b[0m\u001b[0mdtype\u001b[0m\u001b[0;34m)\u001b[0m\u001b[0;34m\u001b[0m\u001b[0;34m\u001b[0m\u001b[0m\n\u001b[0m\u001b[1;32m    213\u001b[0m \u001b[0;34m\u001b[0m\u001b[0m\n\u001b[1;32m    214\u001b[0m \u001b[0;34m\u001b[0m\u001b[0m\n",
      "\u001b[0;32m~/python_venvs/gender_identification/lib/python3.6/site-packages/pandas/core/internals/construction.py\u001b[0m in \u001b[0;36marrays_to_mgr\u001b[0;34m(arrays, arr_names, index, columns, dtype)\u001b[0m\n\u001b[1;32m     59\u001b[0m     \u001b[0maxes\u001b[0m \u001b[0;34m=\u001b[0m \u001b[0;34m[\u001b[0m\u001b[0mensure_index\u001b[0m\u001b[0;34m(\u001b[0m\u001b[0mcolumns\u001b[0m\u001b[0;34m)\u001b[0m\u001b[0;34m,\u001b[0m \u001b[0mindex\u001b[0m\u001b[0;34m]\u001b[0m\u001b[0;34m\u001b[0m\u001b[0;34m\u001b[0m\u001b[0m\n\u001b[1;32m     60\u001b[0m \u001b[0;34m\u001b[0m\u001b[0m\n\u001b[0;32m---> 61\u001b[0;31m     \u001b[0;32mreturn\u001b[0m \u001b[0mcreate_block_manager_from_arrays\u001b[0m\u001b[0;34m(\u001b[0m\u001b[0marrays\u001b[0m\u001b[0;34m,\u001b[0m \u001b[0marr_names\u001b[0m\u001b[0;34m,\u001b[0m \u001b[0maxes\u001b[0m\u001b[0;34m)\u001b[0m\u001b[0;34m\u001b[0m\u001b[0;34m\u001b[0m\u001b[0m\n\u001b[0m\u001b[1;32m     62\u001b[0m \u001b[0;34m\u001b[0m\u001b[0m\n\u001b[1;32m     63\u001b[0m \u001b[0;34m\u001b[0m\u001b[0m\n",
      "\u001b[0;32m~/python_venvs/gender_identification/lib/python3.6/site-packages/pandas/core/internals/managers.py\u001b[0m in \u001b[0;36mcreate_block_manager_from_arrays\u001b[0;34m(arrays, names, axes)\u001b[0m\n\u001b[1;32m   1669\u001b[0m         \u001b[0;32mreturn\u001b[0m \u001b[0mmgr\u001b[0m\u001b[0;34m\u001b[0m\u001b[0;34m\u001b[0m\u001b[0m\n\u001b[1;32m   1670\u001b[0m     \u001b[0;32mexcept\u001b[0m \u001b[0mValueError\u001b[0m \u001b[0;32mas\u001b[0m \u001b[0me\u001b[0m\u001b[0;34m:\u001b[0m\u001b[0;34m\u001b[0m\u001b[0;34m\u001b[0m\u001b[0m\n\u001b[0;32m-> 1671\u001b[0;31m         \u001b[0mconstruction_error\u001b[0m\u001b[0;34m(\u001b[0m\u001b[0mlen\u001b[0m\u001b[0;34m(\u001b[0m\u001b[0marrays\u001b[0m\u001b[0;34m)\u001b[0m\u001b[0;34m,\u001b[0m \u001b[0marrays\u001b[0m\u001b[0;34m[\u001b[0m\u001b[0;36m0\u001b[0m\u001b[0;34m]\u001b[0m\u001b[0;34m.\u001b[0m\u001b[0mshape\u001b[0m\u001b[0;34m,\u001b[0m \u001b[0maxes\u001b[0m\u001b[0;34m,\u001b[0m \u001b[0me\u001b[0m\u001b[0;34m)\u001b[0m\u001b[0;34m\u001b[0m\u001b[0;34m\u001b[0m\u001b[0m\n\u001b[0m\u001b[1;32m   1672\u001b[0m \u001b[0;34m\u001b[0m\u001b[0m\n\u001b[1;32m   1673\u001b[0m \u001b[0;34m\u001b[0m\u001b[0m\n",
      "\u001b[0;32m~/python_venvs/gender_identification/lib/python3.6/site-packages/pandas/core/internals/managers.py\u001b[0m in \u001b[0;36mconstruction_error\u001b[0;34m(tot_items, block_shape, axes, e)\u001b[0m\n\u001b[1;32m   1689\u001b[0m         \u001b[0;32mraise\u001b[0m \u001b[0mValueError\u001b[0m\u001b[0;34m(\u001b[0m\u001b[0;34m\"Empty data passed with indices specified.\"\u001b[0m\u001b[0;34m)\u001b[0m\u001b[0;34m\u001b[0m\u001b[0;34m\u001b[0m\u001b[0m\n\u001b[1;32m   1690\u001b[0m     raise ValueError(\"Shape of passed values is {0}, indices imply {1}\".format(\n\u001b[0;32m-> 1691\u001b[0;31m         passed, implied))\n\u001b[0m\u001b[1;32m   1692\u001b[0m \u001b[0;34m\u001b[0m\u001b[0m\n\u001b[1;32m   1693\u001b[0m \u001b[0;34m\u001b[0m\u001b[0m\n",
      "\u001b[0;31mValueError\u001b[0m: Shape of passed values is (22888, 2), indices imply (38350, 2)"
     ]
    }
   ],
   "source": [
    "papers_gdr = pd.DataFrame({'title': papers_gender_dist.index.values, \n",
    "                           'gender_ratio':papers_gender_dist['gender_ratio']},\n",
    "                         index=papers.index.values)"
   ]
  },
  {
   "cell_type": "code",
   "execution_count": 596,
   "metadata": {},
   "outputs": [
    {
     "data": {
      "text/html": [
       "<div>\n",
       "<style scoped>\n",
       "    .dataframe tbody tr th:only-of-type {\n",
       "        vertical-align: middle;\n",
       "    }\n",
       "\n",
       "    .dataframe tbody tr th {\n",
       "        vertical-align: top;\n",
       "    }\n",
       "\n",
       "    .dataframe thead th {\n",
       "        text-align: right;\n",
       "    }\n",
       "</style>\n",
       "<table border=\"1\" class=\"dataframe\">\n",
       "  <thead>\n",
       "    <tr style=\"text-align: right;\">\n",
       "      <th></th>\n",
       "      <th>title</th>\n",
       "      <th>gender_ratio</th>\n",
       "    </tr>\n",
       "    <tr>\n",
       "      <th>title</th>\n",
       "      <th></th>\n",
       "      <th></th>\n",
       "    </tr>\n",
       "  </thead>\n",
       "  <tbody>\n",
       "    <tr>\n",
       "      <th>'Bois noir' phytoplasma induces significant reprogramming of the leaf transcriptome in the field grown grapevine</th>\n",
       "      <td>'Bois noir' phytoplasma induces significant re...</td>\n",
       "      <td>1.500000</td>\n",
       "    </tr>\n",
       "    <tr>\n",
       "      <th>'Brukin2D': A 2D visualization and comparison tool for LC-MS data</th>\n",
       "      <td>'Brukin2D': A 2D visualization and comparison ...</td>\n",
       "      <td>0.166667</td>\n",
       "    </tr>\n",
       "    <tr>\n",
       "      <th>'HypothesisFinder:' A Strategy for the Detection of Speculative Statements in Scientific Text</th>\n",
       "      <td>'HypothesisFinder:' A Strategy for the Detecti...</td>\n",
       "      <td>1.000000</td>\n",
       "    </tr>\n",
       "    <tr>\n",
       "      <th>'In-line attack' conformational effect plays a modest role in an enzyme-catalyzed RNA cleavage: A free energy simulation study</th>\n",
       "      <td>'In-line attack' conformational effect plays a...</td>\n",
       "      <td>NaN</td>\n",
       "    </tr>\n",
       "    <tr>\n",
       "      <th>'PACLIMS': A component LIM system for high-throughput functional genomic analysis</th>\n",
       "      <td>'PACLIMS': A component LIM system for high-thr...</td>\n",
       "      <td>2.000000</td>\n",
       "    </tr>\n",
       "  </tbody>\n",
       "</table>\n",
       "</div>"
      ],
      "text/plain": [
       "                                                                                                title  \\\n",
       "title                                                                                                   \n",
       "'Bois noir' phytoplasma induces significant rep...  'Bois noir' phytoplasma induces significant re...   \n",
       "'Brukin2D': A 2D visualization and comparison t...  'Brukin2D': A 2D visualization and comparison ...   \n",
       "'HypothesisFinder:' A Strategy for the Detectio...  'HypothesisFinder:' A Strategy for the Detecti...   \n",
       "'In-line attack' conformational effect plays a ...  'In-line attack' conformational effect plays a...   \n",
       "'PACLIMS': A component LIM system for high-thro...  'PACLIMS': A component LIM system for high-thr...   \n",
       "\n",
       "                                                    gender_ratio  \n",
       "title                                                             \n",
       "'Bois noir' phytoplasma induces significant rep...      1.500000  \n",
       "'Brukin2D': A 2D visualization and comparison t...      0.166667  \n",
       "'HypothesisFinder:' A Strategy for the Detectio...      1.000000  \n",
       "'In-line attack' conformational effect plays a ...           NaN  \n",
       "'PACLIMS': A component LIM system for high-thro...      2.000000  "
      ]
     },
     "execution_count": 596,
     "metadata": {},
     "output_type": "execute_result"
    }
   ],
   "source": [
    "papers_gdr.head()"
   ]
  },
  {
   "cell_type": "code",
   "execution_count": null,
   "metadata": {},
   "outputs": [],
   "source": [
    "plt.scatter(papers_gender_dist['gender_ratio'], papers_gender_dist['citations'], s=area, c=colors, alpha=0.5)"
   ]
  }
 ],
 "metadata": {
  "kernelspec": {
   "display_name": "Python 3",
   "language": "python",
   "name": "python3"
  },
  "language_info": {
   "codemirror_mode": {
    "name": "ipython",
    "version": 3
   },
   "file_extension": ".py",
   "mimetype": "text/x-python",
   "name": "python",
   "nbconvert_exporter": "python",
   "pygments_lexer": "ipython3",
   "version": "3.6.7"
  }
 },
 "nbformat": 4,
 "nbformat_minor": 2
}
