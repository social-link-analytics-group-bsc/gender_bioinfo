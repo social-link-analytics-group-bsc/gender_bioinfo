{
 "cells": [
  {
   "cell_type": "markdown",
   "metadata": {},
   "source": [
    "# Gender bias in Bioinformatics"
   ]
  },
  {
   "cell_type": "markdown",
   "metadata": {},
   "source": [
    "This notebook shows a series of analyses conducted to study gender bians in bioinformatics. By talking the case of studies of the five most important journals in the area (nucleids acid research, bmc genomics, bmc bioinformatics, oxford bioinformatics, plos computational biology) we analyze bias in the autorship of the papers."
   ]
  },
  {
   "cell_type": "code",
   "execution_count": 1,
   "metadata": {},
   "outputs": [],
   "source": [
    "%matplotlib inline\n",
    "\n",
    "# Import libraries\n",
    "import os\n",
    "import pandas as pd\n",
    "import matplotlib.pyplot as plt\n",
    "import seaborn as sns\n",
    "import numpy as np\n",
    "\n",
    "os.chdir('..')\n",
    "\n",
    "from db_manager import DBManager\n",
    "\n",
    "plt.style.use('seaborn')"
   ]
  },
  {
   "cell_type": "code",
   "execution_count": 2,
   "metadata": {},
   "outputs": [],
   "source": [
    "# Save current dir in case it can be useful\n",
    "project_dir = os.getcwd()"
   ]
  },
  {
   "cell_type": "markdown",
   "metadata": {},
   "source": [
    "# Papers"
   ]
  },
  {
   "cell_type": "code",
   "execution_count": 279,
   "metadata": {},
   "outputs": [],
   "source": [
    "# Get data\n",
    "papers = pd.read_csv(project_dir + '/data/papers.csv')"
   ]
  },
  {
   "cell_type": "code",
   "execution_count": 280,
   "metadata": {},
   "outputs": [
    {
     "name": "stdout",
     "output_type": "stream",
     "text": [
      "Total papers: 38351\n"
     ]
    }
   ],
   "source": [
    "print(\"Total papers: \" + str(papers.shape[0]))"
   ]
  },
  {
   "cell_type": "markdown",
   "metadata": {},
   "source": [
    "## Data structure"
   ]
  },
  {
   "cell_type": "code",
   "execution_count": 127,
   "metadata": {},
   "outputs": [
    {
     "data": {
      "text/html": [
       "<div>\n",
       "<style scoped>\n",
       "    .dataframe tbody tr th:only-of-type {\n",
       "        vertical-align: middle;\n",
       "    }\n",
       "\n",
       "    .dataframe tbody tr th {\n",
       "        vertical-align: top;\n",
       "    }\n",
       "\n",
       "    .dataframe thead th {\n",
       "        text-align: right;\n",
       "    }\n",
       "</style>\n",
       "<table border=\"1\" class=\"dataframe\">\n",
       "  <thead>\n",
       "    <tr style=\"text-align: right;\">\n",
       "      <th></th>\n",
       "      <th>id</th>\n",
       "      <th>title</th>\n",
       "      <th>DOI</th>\n",
       "      <th>year</th>\n",
       "      <th>source</th>\n",
       "      <th>citations</th>\n",
       "      <th>edamCategory</th>\n",
       "      <th>link</th>\n",
       "      <th>authors</th>\n",
       "    </tr>\n",
       "  </thead>\n",
       "  <tbody>\n",
       "    <tr>\n",
       "      <th>0</th>\n",
       "      <td>1</td>\n",
       "      <td>A peptide-based method for 13C Metabolic Flux ...</td>\n",
       "      <td>10.1371/journal.pcbi.1003827</td>\n",
       "      <td>2014</td>\n",
       "      <td>plos computational biology</td>\n",
       "      <td>7</td>\n",
       "      <td>Omics &gt; Genomics &gt; Transcriptomics</td>\n",
       "      <td>https://journals.plos.org/ploscompbiol/article...</td>\n",
       "      <td>8.0</td>\n",
       "    </tr>\n",
       "    <tr>\n",
       "      <th>1</th>\n",
       "      <td>2</td>\n",
       "      <td>Baseline CD4+ T cell counts correlates with HI...</td>\n",
       "      <td>10.1371/journal.pcbi.1003830</td>\n",
       "      <td>2014</td>\n",
       "      <td>plos computational biology</td>\n",
       "      <td>0</td>\n",
       "      <td>Computational Biology &gt; Phylogeny</td>\n",
       "      <td>https://journals.plos.org/ploscompbiol/article...</td>\n",
       "      <td>10.0</td>\n",
       "    </tr>\n",
       "    <tr>\n",
       "      <th>2</th>\n",
       "      <td>3</td>\n",
       "      <td>Evolution of the F0F1 ATP Synthase Complex in ...</td>\n",
       "      <td>10.1371/journal.pcbi.1003821</td>\n",
       "      <td>2014</td>\n",
       "      <td>plos computational biology</td>\n",
       "      <td>8</td>\n",
       "      <td>Computational Biology &gt; Structure analysis</td>\n",
       "      <td>https://journals.plos.org/ploscompbiol/article...</td>\n",
       "      <td>2.0</td>\n",
       "    </tr>\n",
       "    <tr>\n",
       "      <th>3</th>\n",
       "      <td>4</td>\n",
       "      <td>Dynamic Modelling of Pathways to Cellular Sene...</td>\n",
       "      <td>10.1371/journal.pcbi.1003728</td>\n",
       "      <td>2014</td>\n",
       "      <td>plos computational biology</td>\n",
       "      <td>12</td>\n",
       "      <td>Computational Biology &gt; Phylogeny</td>\n",
       "      <td>https://journals.plos.org/ploscompbiol/article...</td>\n",
       "      <td>7.0</td>\n",
       "    </tr>\n",
       "    <tr>\n",
       "      <th>4</th>\n",
       "      <td>5</td>\n",
       "      <td>Unbiased Functional Clustering of Gene Variant...</td>\n",
       "      <td>10.1371/journal.pcbi.1003815</td>\n",
       "      <td>2014</td>\n",
       "      <td>plos computational biology</td>\n",
       "      <td>7</td>\n",
       "      <td>Omics &gt; Genomics &gt; Functional genomics</td>\n",
       "      <td>https://journals.plos.org/ploscompbiol/article...</td>\n",
       "      <td>3.0</td>\n",
       "    </tr>\n",
       "  </tbody>\n",
       "</table>\n",
       "</div>"
      ],
      "text/plain": [
       "   id                                              title  \\\n",
       "0   1  A peptide-based method for 13C Metabolic Flux ...   \n",
       "1   2  Baseline CD4+ T cell counts correlates with HI...   \n",
       "2   3  Evolution of the F0F1 ATP Synthase Complex in ...   \n",
       "3   4  Dynamic Modelling of Pathways to Cellular Sene...   \n",
       "4   5  Unbiased Functional Clustering of Gene Variant...   \n",
       "\n",
       "                            DOI  year                      source  citations  \\\n",
       "0  10.1371/journal.pcbi.1003827  2014  plos computational biology          7   \n",
       "1  10.1371/journal.pcbi.1003830  2014  plos computational biology          0   \n",
       "2  10.1371/journal.pcbi.1003821  2014  plos computational biology          8   \n",
       "3  10.1371/journal.pcbi.1003728  2014  plos computational biology         12   \n",
       "4  10.1371/journal.pcbi.1003815  2014  plos computational biology          7   \n",
       "\n",
       "                                 edamCategory  \\\n",
       "0          Omics > Genomics > Transcriptomics   \n",
       "1           Computational Biology > Phylogeny   \n",
       "2  Computational Biology > Structure analysis   \n",
       "3           Computational Biology > Phylogeny   \n",
       "4      Omics > Genomics > Functional genomics   \n",
       "\n",
       "                                                link  authors  \n",
       "0  https://journals.plos.org/ploscompbiol/article...      8.0  \n",
       "1  https://journals.plos.org/ploscompbiol/article...     10.0  \n",
       "2  https://journals.plos.org/ploscompbiol/article...      2.0  \n",
       "3  https://journals.plos.org/ploscompbiol/article...      7.0  \n",
       "4  https://journals.plos.org/ploscompbiol/article...      3.0  "
      ]
     },
     "execution_count": 127,
     "metadata": {},
     "output_type": "execute_result"
    }
   ],
   "source": [
    "papers.head()"
   ]
  },
  {
   "cell_type": "markdown",
   "metadata": {},
   "source": [
    "### Papers without authors"
   ]
  },
  {
   "cell_type": "code",
   "execution_count": 282,
   "metadata": {},
   "outputs": [
    {
     "name": "stdout",
     "output_type": "stream",
     "text": [
      "Papers without authors 16\n"
     ]
    },
    {
     "data": {
      "text/html": [
       "<div>\n",
       "<style scoped>\n",
       "    .dataframe tbody tr th:only-of-type {\n",
       "        vertical-align: middle;\n",
       "    }\n",
       "\n",
       "    .dataframe tbody tr th {\n",
       "        vertical-align: top;\n",
       "    }\n",
       "\n",
       "    .dataframe thead th {\n",
       "        text-align: right;\n",
       "    }\n",
       "</style>\n",
       "<table border=\"1\" class=\"dataframe\">\n",
       "  <thead>\n",
       "    <tr style=\"text-align: right;\">\n",
       "      <th></th>\n",
       "      <th>id</th>\n",
       "      <th>title</th>\n",
       "      <th>DOI</th>\n",
       "      <th>year</th>\n",
       "      <th>source</th>\n",
       "      <th>citations</th>\n",
       "      <th>edamCategory</th>\n",
       "      <th>link</th>\n",
       "      <th>authors</th>\n",
       "    </tr>\n",
       "  </thead>\n",
       "  <tbody>\n",
       "    <tr>\n",
       "      <th>2285</th>\n",
       "      <td>2286</td>\n",
       "      <td>The gene ontology's reference genome project: ...</td>\n",
       "      <td>10.1371/journal.pcbi.1000431</td>\n",
       "      <td>2009</td>\n",
       "      <td>plos computational biology</td>\n",
       "      <td>59</td>\n",
       "      <td>Computational Biology &gt; Molecular genetics</td>\n",
       "      <td>https://journals.plos.org/ploscompbiol/article...</td>\n",
       "      <td>0.0</td>\n",
       "    </tr>\n",
       "    <tr>\n",
       "      <th>19923</th>\n",
       "      <td>19924</td>\n",
       "      <td>The Universal Protein resource (UniProt)</td>\n",
       "      <td>10.1093/nar/gkm895</td>\n",
       "      <td>2008</td>\n",
       "      <td>nucleic acids research</td>\n",
       "      <td>601</td>\n",
       "      <td>Computational Biology &gt; Molecular interactions...</td>\n",
       "      <td>https://academic.oup.com/nar/article/36/suppl_...</td>\n",
       "      <td>0.0</td>\n",
       "    </tr>\n",
       "    <tr>\n",
       "      <th>22017</th>\n",
       "      <td>22018</td>\n",
       "      <td>Reorganizing the protein space at the Universa...</td>\n",
       "      <td>10.1093/nar/gkr981</td>\n",
       "      <td>2012</td>\n",
       "      <td>nucleic acids research</td>\n",
       "      <td>925</td>\n",
       "      <td>Computational Biology &gt; Structure analysis</td>\n",
       "      <td>https://academic.oup.com/nar/article/40/D1/D71...</td>\n",
       "      <td>0.0</td>\n",
       "    </tr>\n",
       "    <tr>\n",
       "      <th>23117</th>\n",
       "      <td>23118</td>\n",
       "      <td>The Universal Protein Resource (UniProt)</td>\n",
       "      <td>10.1093/nar/gkl929</td>\n",
       "      <td>2007</td>\n",
       "      <td>nucleic acids research</td>\n",
       "      <td>364</td>\n",
       "      <td>Computational Biology &gt; Phylogeny</td>\n",
       "      <td>https://academic.oup.com/nar/article/35/suppl_...</td>\n",
       "      <td>0.0</td>\n",
       "    </tr>\n",
       "    <tr>\n",
       "      <th>23536</th>\n",
       "      <td>23537</td>\n",
       "      <td>The universal protein resource (UniProt) in 2010</td>\n",
       "      <td>10.1093/nar/gkp846</td>\n",
       "      <td>2009</td>\n",
       "      <td>nucleic acids research</td>\n",
       "      <td>50</td>\n",
       "      <td>Computational Biology &gt; Sequence analysis</td>\n",
       "      <td>https://academic.oup.com/nar/article/38/suppl_...</td>\n",
       "      <td>0.0</td>\n",
       "    </tr>\n",
       "  </tbody>\n",
       "</table>\n",
       "</div>"
      ],
      "text/plain": [
       "          id                                              title  \\\n",
       "2285    2286  The gene ontology's reference genome project: ...   \n",
       "19923  19924           The Universal Protein resource (UniProt)   \n",
       "22017  22018  Reorganizing the protein space at the Universa...   \n",
       "23117  23118           The Universal Protein Resource (UniProt)   \n",
       "23536  23537   The universal protein resource (UniProt) in 2010   \n",
       "\n",
       "                                DOI  year                      source  \\\n",
       "2285   10.1371/journal.pcbi.1000431  2009  plos computational biology   \n",
       "19923            10.1093/nar/gkm895  2008      nucleic acids research   \n",
       "22017            10.1093/nar/gkr981  2012      nucleic acids research   \n",
       "23117            10.1093/nar/gkl929  2007      nucleic acids research   \n",
       "23536            10.1093/nar/gkp846  2009      nucleic acids research   \n",
       "\n",
       "       citations                                       edamCategory  \\\n",
       "2285          59         Computational Biology > Molecular genetics   \n",
       "19923        601  Computational Biology > Molecular interactions...   \n",
       "22017        925         Computational Biology > Structure analysis   \n",
       "23117        364                  Computational Biology > Phylogeny   \n",
       "23536         50          Computational Biology > Sequence analysis   \n",
       "\n",
       "                                                    link  authors  \n",
       "2285   https://journals.plos.org/ploscompbiol/article...      0.0  \n",
       "19923  https://academic.oup.com/nar/article/36/suppl_...      0.0  \n",
       "22017  https://academic.oup.com/nar/article/40/D1/D71...      0.0  \n",
       "23117  https://academic.oup.com/nar/article/35/suppl_...      0.0  \n",
       "23536  https://academic.oup.com/nar/article/38/suppl_...      0.0  "
      ]
     },
     "execution_count": 282,
     "metadata": {},
     "output_type": "execute_result"
    }
   ],
   "source": [
    "papers_without_authors = papers[papers['authors']==0]\n",
    "print(\"Papers without authors \" + str(papers_without_authors.shape[0]))\n",
    "papers_without_authors.head()"
   ]
  },
  {
   "cell_type": "code",
   "execution_count": 129,
   "metadata": {},
   "outputs": [
    {
     "name": "stdout",
     "output_type": "stream",
     "text": [
      "Papers with authors 38335\n"
     ]
    }
   ],
   "source": [
    "papers = papers[papers['authors']!=0]\n",
    "print(\"Papers with authors \" + str(papers.shape[0]))"
   ]
  },
  {
   "cell_type": "markdown",
   "metadata": {},
   "source": [
    "## Evolution of papers by year"
   ]
  },
  {
   "cell_type": "code",
   "execution_count": 130,
   "metadata": {},
   "outputs": [],
   "source": [
    "papers_by_year = papers.groupby('year').size()"
   ]
  },
  {
   "cell_type": "code",
   "execution_count": 131,
   "metadata": {},
   "outputs": [
    {
     "data": {
      "text/plain": [
       "<matplotlib.axes._subplots.AxesSubplot at 0x7f8e5e6b6e10>"
      ]
     },
     "execution_count": 131,
     "metadata": {},
     "output_type": "execute_result"
    },
    {
     "data": {
      "image/png": "[encoded data removed]",
      "text/plain": [
       "<Figure size 720x432 with 1 Axes>"
      ]
     },
     "metadata": {
      "needs_background": "light"
     },
     "output_type": "display_data"
    }
   ],
   "source": [
    "plt.figure(figsize=(10,6))\n",
    "papers_by_year.plot(lw=5)"
   ]
  },
  {
   "cell_type": "markdown",
   "metadata": {},
   "source": [
    "## Evolution of average citations over years"
   ]
  },
  {
   "cell_type": "code",
   "execution_count": 132,
   "metadata": {},
   "outputs": [
    {
     "data": {
      "text/plain": [
       "count    38335.000000\n",
       "mean        34.062658\n",
       "std        154.072131\n",
       "min          0.000000\n",
       "25%          5.000000\n",
       "50%         13.000000\n",
       "75%         31.000000\n",
       "max      14513.000000\n",
       "Name: citations, dtype: float64"
      ]
     },
     "execution_count": 132,
     "metadata": {},
     "output_type": "execute_result"
    }
   ],
   "source": [
    "papers['citations'].describe()"
   ]
  },
  {
   "cell_type": "markdown",
   "metadata": {},
   "source": [
    "### Paper with max citation"
   ]
  },
  {
   "cell_type": "code",
   "execution_count": 284,
   "metadata": {},
   "outputs": [
    {
     "data": {
      "text/html": [
       "<div>\n",
       "<style scoped>\n",
       "    .dataframe tbody tr th:only-of-type {\n",
       "        vertical-align: middle;\n",
       "    }\n",
       "\n",
       "    .dataframe tbody tr th {\n",
       "        vertical-align: top;\n",
       "    }\n",
       "\n",
       "    .dataframe thead th {\n",
       "        text-align: right;\n",
       "    }\n",
       "</style>\n",
       "<table border=\"1\" class=\"dataframe\">\n",
       "  <thead>\n",
       "    <tr style=\"text-align: right;\">\n",
       "      <th></th>\n",
       "      <th>id</th>\n",
       "      <th>title</th>\n",
       "      <th>DOI</th>\n",
       "      <th>year</th>\n",
       "      <th>source</th>\n",
       "      <th>citations</th>\n",
       "      <th>edamCategory</th>\n",
       "      <th>link</th>\n",
       "      <th>authors</th>\n",
       "    </tr>\n",
       "  </thead>\n",
       "  <tbody>\n",
       "    <tr>\n",
       "      <th>35746</th>\n",
       "      <td>35747</td>\n",
       "      <td>Clustal W and Clustal X version 2.0</td>\n",
       "      <td>10.1093/bioinformatics/btm404</td>\n",
       "      <td>2007</td>\n",
       "      <td>oxford bioinformatics</td>\n",
       "      <td>14513</td>\n",
       "      <td>Computational Biology &gt; Molecular genetics</td>\n",
       "      <td>https://academic.oup.com/bioinformatics/articl...</td>\n",
       "      <td>13.0</td>\n",
       "    </tr>\n",
       "  </tbody>\n",
       "</table>\n",
       "</div>"
      ],
      "text/plain": [
       "          id                                title  \\\n",
       "35746  35747  Clustal W and Clustal X version 2.0   \n",
       "\n",
       "                                 DOI  year                 source  citations  \\\n",
       "35746  10.1093/bioinformatics/btm404  2007  oxford bioinformatics      14513   \n",
       "\n",
       "                                     edamCategory  \\\n",
       "35746  Computational Biology > Molecular genetics   \n",
       "\n",
       "                                                    link  authors  \n",
       "35746  https://academic.oup.com/bioinformatics/articl...     13.0  "
      ]
     },
     "execution_count": 284,
     "metadata": {},
     "output_type": "execute_result"
    }
   ],
   "source": [
    "papers[papers['citations']==max(papers['citations'])].head()"
   ]
  },
  {
   "cell_type": "markdown",
   "metadata": {},
   "source": [
    "### Average citations by year"
   ]
  },
  {
   "cell_type": "code",
   "execution_count": 133,
   "metadata": {},
   "outputs": [],
   "source": [
    "avg_citations_by_year = papers.groupby('year').mean()['citations']"
   ]
  },
  {
   "cell_type": "code",
   "execution_count": 134,
   "metadata": {},
   "outputs": [
    {
     "data": {
      "text/plain": [
       "<matplotlib.axes._subplots.AxesSubplot at 0x7f8e597331d0>"
      ]
     },
     "execution_count": 134,
     "metadata": {},
     "output_type": "execute_result"
    },
    {
     "data": {
      "image/png": "[encoded data removed]",
      "text/plain": [
       "<Figure size 720x432 with 1 Axes>"
      ]
     },
     "metadata": {
      "needs_background": "light"
     },
     "output_type": "display_data"
    }
   ],
   "source": [
    "plt.figure(figsize=(10,6))\n",
    "avg_citations_by_year.plot(lw=5)"
   ]
  },
  {
   "cell_type": "markdown",
   "metadata": {},
   "source": [
    "## Evolution of average authors over years"
   ]
  },
  {
   "cell_type": "code",
   "execution_count": 135,
   "metadata": {},
   "outputs": [
    {
     "data": {
      "text/plain": [
       "count    38329.000000\n",
       "mean         5.562603\n",
       "std          3.961211\n",
       "min          1.000000\n",
       "25%          3.000000\n",
       "50%          5.000000\n",
       "75%          7.000000\n",
       "max        138.000000\n",
       "Name: authors, dtype: float64"
      ]
     },
     "execution_count": 135,
     "metadata": {},
     "output_type": "execute_result"
    }
   ],
   "source": [
    "papers['authors'].describe()"
   ]
  },
  {
   "cell_type": "markdown",
   "metadata": {},
   "source": [
    "### Paper with max number of authors"
   ]
  },
  {
   "cell_type": "code",
   "execution_count": 283,
   "metadata": {},
   "outputs": [
    {
     "data": {
      "text/html": [
       "<div>\n",
       "<style scoped>\n",
       "    .dataframe tbody tr th:only-of-type {\n",
       "        vertical-align: middle;\n",
       "    }\n",
       "\n",
       "    .dataframe tbody tr th {\n",
       "        vertical-align: top;\n",
       "    }\n",
       "\n",
       "    .dataframe thead th {\n",
       "        text-align: right;\n",
       "    }\n",
       "</style>\n",
       "<table border=\"1\" class=\"dataframe\">\n",
       "  <thead>\n",
       "    <tr style=\"text-align: right;\">\n",
       "      <th></th>\n",
       "      <th>id</th>\n",
       "      <th>title</th>\n",
       "      <th>DOI</th>\n",
       "      <th>year</th>\n",
       "      <th>source</th>\n",
       "      <th>citations</th>\n",
       "      <th>edamCategory</th>\n",
       "      <th>link</th>\n",
       "      <th>authors</th>\n",
       "    </tr>\n",
       "  </thead>\n",
       "  <tbody>\n",
       "    <tr>\n",
       "      <th>19897</th>\n",
       "      <td>19898</td>\n",
       "      <td>The H-Invitational Database (H-InvDB), a compr...</td>\n",
       "      <td>10.1093/nar/gkm999</td>\n",
       "      <td>2008</td>\n",
       "      <td>nucleic acids research</td>\n",
       "      <td>54</td>\n",
       "      <td>Computational Biology &gt; Sequence analysis</td>\n",
       "      <td>https://academic.oup.com/nar/article/36/suppl_...</td>\n",
       "      <td>138.0</td>\n",
       "    </tr>\n",
       "  </tbody>\n",
       "</table>\n",
       "</div>"
      ],
      "text/plain": [
       "          id                                              title  \\\n",
       "19897  19898  The H-Invitational Database (H-InvDB), a compr...   \n",
       "\n",
       "                      DOI  year                  source  citations  \\\n",
       "19897  10.1093/nar/gkm999  2008  nucleic acids research         54   \n",
       "\n",
       "                                    edamCategory  \\\n",
       "19897  Computational Biology > Sequence analysis   \n",
       "\n",
       "                                                    link  authors  \n",
       "19897  https://academic.oup.com/nar/article/36/suppl_...    138.0  "
      ]
     },
     "execution_count": 283,
     "metadata": {},
     "output_type": "execute_result"
    }
   ],
   "source": [
    "papers[papers['authors']==max(papers['authors'])].head()"
   ]
  },
  {
   "cell_type": "markdown",
   "metadata": {},
   "source": [
    "### Average number of authors by year"
   ]
  },
  {
   "cell_type": "code",
   "execution_count": 136,
   "metadata": {},
   "outputs": [],
   "source": [
    "avg_authors_by_year = papers.groupby('year').mean()['authors']"
   ]
  },
  {
   "cell_type": "code",
   "execution_count": 137,
   "metadata": {},
   "outputs": [
    {
     "data": {
      "text/plain": [
       "<matplotlib.axes._subplots.AxesSubplot at 0x7f8e5ee09400>"
      ]
     },
     "execution_count": 137,
     "metadata": {},
     "output_type": "execute_result"
    },
    {
     "data": {
      "image/png": "[encoded data removed]",
      "text/plain": [
       "<Figure size 720x432 with 1 Axes>"
      ]
     },
     "metadata": {
      "needs_background": "light"
     },
     "output_type": "display_data"
    }
   ],
   "source": [
    "plt.figure(figsize=(10,6))\n",
    "avg_authors_by_year.plot(lw=5)"
   ]
  },
  {
   "cell_type": "markdown",
   "metadata": {},
   "source": [
    "## Categories"
   ]
  },
  {
   "cell_type": "code",
   "execution_count": 102,
   "metadata": {},
   "outputs": [],
   "source": [
    "row_categories = papers['edamCategory']\n",
    "categories = []\n",
    "for row_category in row_categories:\n",
    "    for category in row_category.split('>'):\n",
    "        clean_category = category.strip()\n",
    "        exists_category_dict = False\n",
    "        for category_dict in categories:\n",
    "            if category_dict['category_name'] == clean_category:\n",
    "                category_dict['count'] += 1\n",
    "                exists_category_dict = True\n",
    "                break\n",
    "        if not exists_category_dict:\n",
    "            categories.append(\n",
    "                {\n",
    "                    'category_name': clean_category,\n",
    "                    'count': 1\n",
    "                }\n",
    "            )"
   ]
  },
  {
   "cell_type": "code",
   "execution_count": 114,
   "metadata": {},
   "outputs": [
    {
     "name": "stdout",
     "output_type": "stream",
     "text": [
      "There are 18 categories\n"
     ]
    },
    {
     "data": {
      "text/html": [
       "<div>\n",
       "<style scoped>\n",
       "    .dataframe tbody tr th:only-of-type {\n",
       "        vertical-align: middle;\n",
       "    }\n",
       "\n",
       "    .dataframe tbody tr th {\n",
       "        vertical-align: top;\n",
       "    }\n",
       "\n",
       "    .dataframe thead th {\n",
       "        text-align: right;\n",
       "    }\n",
       "</style>\n",
       "<table border=\"1\" class=\"dataframe\">\n",
       "  <thead>\n",
       "    <tr style=\"text-align: right;\">\n",
       "      <th></th>\n",
       "      <th>category_name</th>\n",
       "      <th>count</th>\n",
       "    </tr>\n",
       "  </thead>\n",
       "  <tbody>\n",
       "    <tr>\n",
       "      <th>3</th>\n",
       "      <td>Computational Biology</td>\n",
       "      <td>24273</td>\n",
       "    </tr>\n",
       "    <tr>\n",
       "      <th>0</th>\n",
       "      <td>Omics</td>\n",
       "      <td>12567</td>\n",
       "    </tr>\n",
       "    <tr>\n",
       "      <th>1</th>\n",
       "      <td>Genomics</td>\n",
       "      <td>12567</td>\n",
       "    </tr>\n",
       "    <tr>\n",
       "      <th>7</th>\n",
       "      <td>Nucleic acids</td>\n",
       "      <td>6663</td>\n",
       "    </tr>\n",
       "    <tr>\n",
       "      <th>6</th>\n",
       "      <td>Functional genomics</td>\n",
       "      <td>5293</td>\n",
       "    </tr>\n",
       "  </tbody>\n",
       "</table>\n",
       "</div>"
      ],
      "text/plain": [
       "           category_name  count\n",
       "3  Computational Biology  24273\n",
       "0                  Omics  12567\n",
       "1               Genomics  12567\n",
       "7          Nucleic acids   6663\n",
       "6    Functional genomics   5293"
      ]
     },
     "execution_count": 114,
     "metadata": {},
     "output_type": "execute_result"
    }
   ],
   "source": [
    "categories_df = pd.DataFrame(categories)\n",
    "total_categories = categories_df.shape[0]\n",
    "print(\"There are \" + str(total_categories) + \" categories\")\n",
    "categories_df.sort_values('count', inplace=True, ascending=False)\n",
    "categories_df.head()"
   ]
  },
  {
   "cell_type": "code",
   "execution_count": 120,
   "metadata": {},
   "outputs": [
    {
     "data": {
      "image/png": "[encoded data removed]",
      "text/plain": [
       "<Figure size 432x288 with 1 Axes>"
      ]
     },
     "metadata": {
      "needs_background": "light"
     },
     "output_type": "display_data"
    }
   ],
   "source": [
    "categories_df.plot.bar(x='category_name', y='count')\n",
    "plt.xticks(rotation=90)\n",
    "plt.xlabel(\"Category\")\n",
    "plt.ylabel(\"Count\")\n",
    "plt.show()"
   ]
  },
  {
   "cell_type": "markdown",
   "metadata": {},
   "source": [
    "## Source"
   ]
  },
  {
   "cell_type": "code",
   "execution_count": 90,
   "metadata": {},
   "outputs": [],
   "source": [
    "papers_by_source = papers.groupby('source').size().sort_values(ascending=False)"
   ]
  },
  {
   "cell_type": "code",
   "execution_count": 91,
   "metadata": {},
   "outputs": [
    {
     "data": {
      "text/plain": [
       "<matplotlib.axes._subplots.AxesSubplot at 0x7fc4911fbf98>"
      ]
     },
     "execution_count": 91,
     "metadata": {},
     "output_type": "execute_result"
    },
    {
     "data": {
      "image/png": "[encoded data removed]",
      "text/plain": [
       "<Figure size 720x432 with 1 Axes>"
      ]
     },
     "metadata": {
      "needs_background": "light"
     },
     "output_type": "display_data"
    }
   ],
   "source": [
    "plt.figure(figsize=(10,6))\n",
    "papers_by_source.plot(kind='bar')"
   ]
  },
  {
   "cell_type": "markdown",
   "metadata": {},
   "source": [
    "# Authors"
   ]
  },
  {
   "cell_type": "code",
   "execution_count": 249,
   "metadata": {},
   "outputs": [],
   "source": [
    "# Get data\n",
    "authors = pd.read_csv(project_dir + '/data/authors.csv')"
   ]
  },
  {
   "cell_type": "code",
   "execution_count": 70,
   "metadata": {},
   "outputs": [
    {
     "name": "stdout",
     "output_type": "stream",
     "text": [
      "Total authors: 122963\n"
     ]
    }
   ],
   "source": [
    "print(\"Total authors: \" + str(authors.shape[0]))"
   ]
  },
  {
   "cell_type": "markdown",
   "metadata": {},
   "source": [
    "## Data structure"
   ]
  },
  {
   "cell_type": "code",
   "execution_count": 121,
   "metadata": {},
   "outputs": [
    {
     "data": {
      "text/html": [
       "<div>\n",
       "<style scoped>\n",
       "    .dataframe tbody tr th:only-of-type {\n",
       "        vertical-align: middle;\n",
       "    }\n",
       "\n",
       "    .dataframe tbody tr th {\n",
       "        vertical-align: top;\n",
       "    }\n",
       "\n",
       "    .dataframe thead th {\n",
       "        text-align: right;\n",
       "    }\n",
       "</style>\n",
       "<table border=\"1\" class=\"dataframe\">\n",
       "  <thead>\n",
       "    <tr style=\"text-align: right;\">\n",
       "      <th></th>\n",
       "      <th>id</th>\n",
       "      <th>name</th>\n",
       "      <th>gender</th>\n",
       "      <th>papers</th>\n",
       "      <th>total_citations</th>\n",
       "      <th>papers_as_first_author</th>\n",
       "      <th>papers_with_citations</th>\n",
       "      <th>h-index</th>\n",
       "    </tr>\n",
       "  </thead>\n",
       "  <tbody>\n",
       "    <tr>\n",
       "      <th>0</th>\n",
       "      <td>1</td>\n",
       "      <td>Amit Ghosh</td>\n",
       "      <td>male</td>\n",
       "      <td>3</td>\n",
       "      <td>21</td>\n",
       "      <td>1</td>\n",
       "      <td>3</td>\n",
       "      <td>2</td>\n",
       "    </tr>\n",
       "    <tr>\n",
       "      <th>1</th>\n",
       "      <td>2</td>\n",
       "      <td>Jerome Nilmeier</td>\n",
       "      <td>male</td>\n",
       "      <td>1</td>\n",
       "      <td>7</td>\n",
       "      <td>0</td>\n",
       "      <td>1</td>\n",
       "      <td>1</td>\n",
       "    </tr>\n",
       "    <tr>\n",
       "      <th>2</th>\n",
       "      <td>3</td>\n",
       "      <td>Paul D Adams</td>\n",
       "      <td>male</td>\n",
       "      <td>3</td>\n",
       "      <td>92</td>\n",
       "      <td>0</td>\n",
       "      <td>3</td>\n",
       "      <td>3</td>\n",
       "    </tr>\n",
       "    <tr>\n",
       "      <th>3</th>\n",
       "      <td>4</td>\n",
       "      <td>Jay D Keasling</td>\n",
       "      <td>male</td>\n",
       "      <td>10</td>\n",
       "      <td>214</td>\n",
       "      <td>0</td>\n",
       "      <td>10</td>\n",
       "      <td>7</td>\n",
       "    </tr>\n",
       "    <tr>\n",
       "      <th>4</th>\n",
       "      <td>5</td>\n",
       "      <td>Aindrila Mukhopadhyay</td>\n",
       "      <td>female</td>\n",
       "      <td>6</td>\n",
       "      <td>59</td>\n",
       "      <td>0</td>\n",
       "      <td>5</td>\n",
       "      <td>4</td>\n",
       "    </tr>\n",
       "  </tbody>\n",
       "</table>\n",
       "</div>"
      ],
      "text/plain": [
       "   id                   name  gender  papers  total_citations  \\\n",
       "0   1             Amit Ghosh    male       3               21   \n",
       "1   2        Jerome Nilmeier    male       1                7   \n",
       "2   3           Paul D Adams    male       3               92   \n",
       "3   4         Jay D Keasling    male      10              214   \n",
       "4   5  Aindrila Mukhopadhyay  female       6               59   \n",
       "\n",
       "   papers_as_first_author  papers_with_citations  h-index  \n",
       "0                       1                      3        2  \n",
       "1                       0                      1        1  \n",
       "2                       0                      3        3  \n",
       "3                       0                     10        7  \n",
       "4                       0                      5        4  "
      ]
     },
     "execution_count": 121,
     "metadata": {},
     "output_type": "execute_result"
    }
   ],
   "source": [
    "authors.head()"
   ]
  },
  {
   "cell_type": "markdown",
   "metadata": {},
   "source": [
    "## Gender distribution "
   ]
  },
  {
   "cell_type": "code",
   "execution_count": 251,
   "metadata": {},
   "outputs": [
    {
     "data": {
      "text/plain": [
       "gender\n",
       "male         0.548490\n",
       "female       0.287225\n",
       "unknown      0.164277\n",
       "error_api    0.000008\n",
       "dtype: float64"
      ]
     },
     "execution_count": 251,
     "metadata": {},
     "output_type": "execute_result"
    }
   ],
   "source": [
    "authors_by_gender = authors.groupby('gender').size().sort_values(ascending=False)\n",
    "per_authors_by_gender = authors_by_gender/authors.shape[0]\n",
    "per_authors_by_gender"
   ]
  },
  {
   "cell_type": "code",
   "execution_count": 252,
   "metadata": {},
   "outputs": [
    {
     "data": {
      "text/plain": [
       "gender\n",
       "male         67444\n",
       "female       35318\n",
       "unknown      20200\n",
       "error_api        1\n",
       "dtype: int64"
      ]
     },
     "execution_count": 252,
     "metadata": {},
     "output_type": "execute_result"
    }
   ],
   "source": [
    "authors_by_gender"
   ]
  },
  {
   "cell_type": "code",
   "execution_count": 129,
   "metadata": {},
   "outputs": [
    {
     "data": {
      "text/plain": [
       "<matplotlib.axes._subplots.AxesSubplot at 0x7fc4893e2630>"
      ]
     },
     "execution_count": 129,
     "metadata": {},
     "output_type": "execute_result"
    },
    {
     "data": {
      "image/png": "[encoded data removed]",
      "text/plain": [
       "<Figure size 432x288 with 1 Axes>"
      ]
     },
     "metadata": {
      "needs_background": "light"
     },
     "output_type": "display_data"
    }
   ],
   "source": [
    "per_authors_by_gender.plot.bar()"
   ]
  },
  {
   "cell_type": "markdown",
   "metadata": {},
   "source": [
    "## Papers"
   ]
  },
  {
   "cell_type": "markdown",
   "metadata": {},
   "source": [
    "### Citations per paper"
   ]
  },
  {
   "cell_type": "code",
   "execution_count": 136,
   "metadata": {},
   "outputs": [
    {
     "data": {
      "text/plain": [
       "count    122963.000000\n",
       "mean         69.357839\n",
       "std         311.810533\n",
       "min           0.000000\n",
       "25%           6.000000\n",
       "50%          19.000000\n",
       "75%          49.000000\n",
       "max       24962.000000\n",
       "Name: total_citations, dtype: float64"
      ]
     },
     "execution_count": 136,
     "metadata": {},
     "output_type": "execute_result"
    }
   ],
   "source": [
    "authors['total_citations'].describe()"
   ]
  },
  {
   "cell_type": "markdown",
   "metadata": {},
   "source": [
    "### Author with max number of citations"
   ]
  },
  {
   "cell_type": "code",
   "execution_count": 285,
   "metadata": {},
   "outputs": [
    {
     "data": {
      "text/html": [
       "<div>\n",
       "<style scoped>\n",
       "    .dataframe tbody tr th:only-of-type {\n",
       "        vertical-align: middle;\n",
       "    }\n",
       "\n",
       "    .dataframe tbody tr th {\n",
       "        vertical-align: top;\n",
       "    }\n",
       "\n",
       "    .dataframe thead th {\n",
       "        text-align: right;\n",
       "    }\n",
       "</style>\n",
       "<table border=\"1\" class=\"dataframe\">\n",
       "  <thead>\n",
       "    <tr style=\"text-align: right;\">\n",
       "      <th></th>\n",
       "      <th>id</th>\n",
       "      <th>name</th>\n",
       "      <th>gender</th>\n",
       "      <th>papers</th>\n",
       "      <th>total_citations</th>\n",
       "      <th>papers_as_first_author</th>\n",
       "      <th>papers_with_citations</th>\n",
       "      <th>h-index</th>\n",
       "    </tr>\n",
       "  </thead>\n",
       "  <tbody>\n",
       "    <tr>\n",
       "      <th>7414</th>\n",
       "      <td>7415</td>\n",
       "      <td>Richard Durbin</td>\n",
       "      <td>male</td>\n",
       "      <td>21</td>\n",
       "      <td>24962</td>\n",
       "      <td>1</td>\n",
       "      <td>20</td>\n",
       "      <td>16</td>\n",
       "    </tr>\n",
       "  </tbody>\n",
       "</table>\n",
       "</div>"
      ],
      "text/plain": [
       "        id            name gender  papers  total_citations  \\\n",
       "7414  7415  Richard Durbin   male      21            24962   \n",
       "\n",
       "      papers_as_first_author  papers_with_citations  h-index  \n",
       "7414                       1                     20       16  "
      ]
     },
     "execution_count": 285,
     "metadata": {},
     "output_type": "execute_result"
    }
   ],
   "source": [
    "authors[authors['total_citations']==max(authors['total_citations'])]"
   ]
  },
  {
   "cell_type": "markdown",
   "metadata": {},
   "source": [
    "### Top-10 Most cited authors"
   ]
  },
  {
   "cell_type": "code",
   "execution_count": 149,
   "metadata": {},
   "outputs": [
    {
     "data": {
      "text/html": [
       "<div>\n",
       "<style scoped>\n",
       "    .dataframe tbody tr th:only-of-type {\n",
       "        vertical-align: middle;\n",
       "    }\n",
       "\n",
       "    .dataframe tbody tr th {\n",
       "        vertical-align: top;\n",
       "    }\n",
       "\n",
       "    .dataframe thead th {\n",
       "        text-align: right;\n",
       "    }\n",
       "</style>\n",
       "<table border=\"1\" class=\"dataframe\">\n",
       "  <thead>\n",
       "    <tr style=\"text-align: right;\">\n",
       "      <th></th>\n",
       "      <th>name</th>\n",
       "      <th>gender</th>\n",
       "      <th>total_citations</th>\n",
       "    </tr>\n",
       "  </thead>\n",
       "  <tbody>\n",
       "    <tr>\n",
       "      <th>7414</th>\n",
       "      <td>Richard Durbin</td>\n",
       "      <td>male</td>\n",
       "      <td>24962</td>\n",
       "    </tr>\n",
       "    <tr>\n",
       "      <th>26068</th>\n",
       "      <td>Heng Li</td>\n",
       "      <td>unknown</td>\n",
       "      <td>22523</td>\n",
       "    </tr>\n",
       "    <tr>\n",
       "      <th>96294</th>\n",
       "      <td>R Lopez</td>\n",
       "      <td>unknown</td>\n",
       "      <td>15715</td>\n",
       "    </tr>\n",
       "    <tr>\n",
       "      <th>87351</th>\n",
       "      <td>F Valentin</td>\n",
       "      <td>unknown</td>\n",
       "      <td>14613</td>\n",
       "    </tr>\n",
       "    <tr>\n",
       "      <th>115136</th>\n",
       "      <td>T J Gibson</td>\n",
       "      <td>unknown</td>\n",
       "      <td>14539</td>\n",
       "    </tr>\n",
       "    <tr>\n",
       "      <th>118421</th>\n",
       "      <td>J D Thompson</td>\n",
       "      <td>unknown</td>\n",
       "      <td>14518</td>\n",
       "    </tr>\n",
       "    <tr>\n",
       "      <th>118416</th>\n",
       "      <td>R Chenna</td>\n",
       "      <td>unknown</td>\n",
       "      <td>14513</td>\n",
       "    </tr>\n",
       "    <tr>\n",
       "      <th>118415</th>\n",
       "      <td>N P Brown</td>\n",
       "      <td>unknown</td>\n",
       "      <td>14513</td>\n",
       "    </tr>\n",
       "    <tr>\n",
       "      <th>118422</th>\n",
       "      <td>D G Higgins</td>\n",
       "      <td>unknown</td>\n",
       "      <td>14513</td>\n",
       "    </tr>\n",
       "    <tr>\n",
       "      <th>118420</th>\n",
       "      <td>A Wilm</td>\n",
       "      <td>unknown</td>\n",
       "      <td>14513</td>\n",
       "    </tr>\n",
       "  </tbody>\n",
       "</table>\n",
       "</div>"
      ],
      "text/plain": [
       "                  name   gender  total_citations\n",
       "7414    Richard Durbin     male            24962\n",
       "26068          Heng Li  unknown            22523\n",
       "96294          R Lopez  unknown            15715\n",
       "87351       F Valentin  unknown            14613\n",
       "115136      T J Gibson  unknown            14539\n",
       "118421    J D Thompson  unknown            14518\n",
       "118416        R Chenna  unknown            14513\n",
       "118415       N P Brown  unknown            14513\n",
       "118422     D G Higgins  unknown            14513\n",
       "118420          A Wilm  unknown            14513"
      ]
     },
     "execution_count": 149,
     "metadata": {},
     "output_type": "execute_result"
    }
   ],
   "source": [
    "authors.sort_values('total_citations', inplace=True, ascending=False)\n",
    "authors[['name','gender','total_citations']].head(10)"
   ]
  },
  {
   "cell_type": "markdown",
   "metadata": {},
   "source": [
    "#### Top-10 most cited female authors"
   ]
  },
  {
   "cell_type": "code",
   "execution_count": 162,
   "metadata": {},
   "outputs": [
    {
     "data": {
      "text/html": [
       "<div>\n",
       "<style scoped>\n",
       "    .dataframe tbody tr th:only-of-type {\n",
       "        vertical-align: middle;\n",
       "    }\n",
       "\n",
       "    .dataframe tbody tr th {\n",
       "        vertical-align: top;\n",
       "    }\n",
       "\n",
       "    .dataframe thead th {\n",
       "        text-align: right;\n",
       "    }\n",
       "</style>\n",
       "<table border=\"1\" class=\"dataframe\">\n",
       "  <thead>\n",
       "    <tr style=\"text-align: right;\">\n",
       "      <th></th>\n",
       "      <th>name</th>\n",
       "      <th>gender</th>\n",
       "      <th>total_citations</th>\n",
       "    </tr>\n",
       "  </thead>\n",
       "  <tbody>\n",
       "    <tr>\n",
       "      <th>52115</th>\n",
       "      <td>Jue Ruan</td>\n",
       "      <td>female</td>\n",
       "      <td>9984</td>\n",
       "    </tr>\n",
       "    <tr>\n",
       "      <th>78212</th>\n",
       "      <td>Mao Tanabe</td>\n",
       "      <td>female</td>\n",
       "      <td>5232</td>\n",
       "    </tr>\n",
       "    <tr>\n",
       "      <th>78211</th>\n",
       "      <td>Miho Furumichi</td>\n",
       "      <td>female</td>\n",
       "      <td>5232</td>\n",
       "    </tr>\n",
       "    <tr>\n",
       "      <th>22187</th>\n",
       "      <td>Fiona Cunningham</td>\n",
       "      <td>female</td>\n",
       "      <td>4685</td>\n",
       "    </tr>\n",
       "    <tr>\n",
       "      <th>85803</th>\n",
       "      <td>Narmada Thanki</td>\n",
       "      <td>female</td>\n",
       "      <td>4501</td>\n",
       "    </tr>\n",
       "    <tr>\n",
       "      <th>85793</th>\n",
       "      <td>Noreen R Gonzales</td>\n",
       "      <td>female</td>\n",
       "      <td>4446</td>\n",
       "    </tr>\n",
       "    <tr>\n",
       "      <th>85804</th>\n",
       "      <td>Roxanne A Yamashita</td>\n",
       "      <td>female</td>\n",
       "      <td>4446</td>\n",
       "    </tr>\n",
       "    <tr>\n",
       "      <th>85791</th>\n",
       "      <td>Myra K Derbyshire</td>\n",
       "      <td>female</td>\n",
       "      <td>4446</td>\n",
       "    </tr>\n",
       "    <tr>\n",
       "      <th>85800</th>\n",
       "      <td>Gabriele H Marchler</td>\n",
       "      <td>female</td>\n",
       "      <td>4446</td>\n",
       "    </tr>\n",
       "    <tr>\n",
       "      <th>73603</th>\n",
       "      <td>Donna R Maglott</td>\n",
       "      <td>female</td>\n",
       "      <td>4408</td>\n",
       "    </tr>\n",
       "  </tbody>\n",
       "</table>\n",
       "</div>"
      ],
      "text/plain": [
       "                      name  gender  total_citations\n",
       "52115             Jue Ruan  female             9984\n",
       "78212           Mao Tanabe  female             5232\n",
       "78211       Miho Furumichi  female             5232\n",
       "22187     Fiona Cunningham  female             4685\n",
       "85803       Narmada Thanki  female             4501\n",
       "85793    Noreen R Gonzales  female             4446\n",
       "85804  Roxanne A Yamashita  female             4446\n",
       "85791    Myra K Derbyshire  female             4446\n",
       "85800  Gabriele H Marchler  female             4446\n",
       "73603      Donna R Maglott  female             4408"
      ]
     },
     "execution_count": 162,
     "metadata": {},
     "output_type": "execute_result"
    }
   ],
   "source": [
    "authors.sort_values('total_citations', inplace=True, ascending=False)\n",
    "authors[authors['gender']=='female'][['name','gender','total_citations']].head(10)\n",
    "#authors[['name','gender','total_citations']].head(10)"
   ]
  },
  {
   "cell_type": "markdown",
   "metadata": {},
   "source": [
    "### Papers per author"
   ]
  },
  {
   "cell_type": "code",
   "execution_count": 138,
   "metadata": {},
   "outputs": [
    {
     "data": {
      "text/plain": [
       "count    122963.000000\n",
       "mean          1.732098\n",
       "std           2.065762\n",
       "min           1.000000\n",
       "25%           1.000000\n",
       "50%           1.000000\n",
       "75%           2.000000\n",
       "max          69.000000\n",
       "Name: papers, dtype: float64"
      ]
     },
     "execution_count": 138,
     "metadata": {},
     "output_type": "execute_result"
    }
   ],
   "source": [
    "authors['papers'].describe()"
   ]
  },
  {
   "cell_type": "markdown",
   "metadata": {},
   "source": [
    "### Top-10 Most productive author"
   ]
  },
  {
   "cell_type": "code",
   "execution_count": 150,
   "metadata": {},
   "outputs": [
    {
     "data": {
      "text/html": [
       "<div>\n",
       "<style scoped>\n",
       "    .dataframe tbody tr th:only-of-type {\n",
       "        vertical-align: middle;\n",
       "    }\n",
       "\n",
       "    .dataframe tbody tr th {\n",
       "        vertical-align: top;\n",
       "    }\n",
       "\n",
       "    .dataframe thead th {\n",
       "        text-align: right;\n",
       "    }\n",
       "</style>\n",
       "<table border=\"1\" class=\"dataframe\">\n",
       "  <thead>\n",
       "    <tr style=\"text-align: right;\">\n",
       "      <th></th>\n",
       "      <th>name</th>\n",
       "      <th>gender</th>\n",
       "      <th>papers</th>\n",
       "    </tr>\n",
       "  </thead>\n",
       "  <tbody>\n",
       "    <tr>\n",
       "      <th>8093</th>\n",
       "      <td>Peter F Stadler</td>\n",
       "      <td>male</td>\n",
       "      <td>69</td>\n",
       "    </tr>\n",
       "    <tr>\n",
       "      <th>3250</th>\n",
       "      <td>Janusz M Bujnicki</td>\n",
       "      <td>male</td>\n",
       "      <td>68</td>\n",
       "    </tr>\n",
       "    <tr>\n",
       "      <th>1943</th>\n",
       "      <td>Wei Wang</td>\n",
       "      <td>unknown</td>\n",
       "      <td>62</td>\n",
       "    </tr>\n",
       "    <tr>\n",
       "      <th>3241</th>\n",
       "      <td>Peer Bork</td>\n",
       "      <td>male</td>\n",
       "      <td>53</td>\n",
       "    </tr>\n",
       "    <tr>\n",
       "      <th>4104</th>\n",
       "      <td>Alfonso Valencia</td>\n",
       "      <td>male</td>\n",
       "      <td>51</td>\n",
       "    </tr>\n",
       "    <tr>\n",
       "      <th>265</th>\n",
       "      <td>Philip E Bourne</td>\n",
       "      <td>male</td>\n",
       "      <td>48</td>\n",
       "    </tr>\n",
       "    <tr>\n",
       "      <th>1941</th>\n",
       "      <td>Jun Wang</td>\n",
       "      <td>male</td>\n",
       "      <td>48</td>\n",
       "    </tr>\n",
       "    <tr>\n",
       "      <th>23361</th>\n",
       "      <td>Wei Li</td>\n",
       "      <td>unknown</td>\n",
       "      <td>47</td>\n",
       "    </tr>\n",
       "    <tr>\n",
       "      <th>10014</th>\n",
       "      <td>Jing Wang</td>\n",
       "      <td>unknown</td>\n",
       "      <td>46</td>\n",
       "    </tr>\n",
       "    <tr>\n",
       "      <th>3420</th>\n",
       "      <td>Mark Gerstein</td>\n",
       "      <td>male</td>\n",
       "      <td>46</td>\n",
       "    </tr>\n",
       "  </tbody>\n",
       "</table>\n",
       "</div>"
      ],
      "text/plain": [
       "                    name   gender  papers\n",
       "8093     Peter F Stadler     male      69\n",
       "3250   Janusz M Bujnicki     male      68\n",
       "1943            Wei Wang  unknown      62\n",
       "3241           Peer Bork     male      53\n",
       "4104    Alfonso Valencia     male      51\n",
       "265      Philip E Bourne     male      48\n",
       "1941            Jun Wang     male      48\n",
       "23361             Wei Li  unknown      47\n",
       "10014          Jing Wang  unknown      46\n",
       "3420       Mark Gerstein     male      46"
      ]
     },
     "execution_count": 150,
     "metadata": {},
     "output_type": "execute_result"
    }
   ],
   "source": [
    "authors.sort_values('papers', inplace=True, ascending=False)\n",
    "authors[['name','gender','papers']].head(10)"
   ]
  },
  {
   "cell_type": "markdown",
   "metadata": {},
   "source": [
    "#### Top-10 most productive female authors"
   ]
  },
  {
   "cell_type": "code",
   "execution_count": 254,
   "metadata": {},
   "outputs": [
    {
     "data": {
      "text/html": [
       "<div>\n",
       "<style scoped>\n",
       "    .dataframe tbody tr th:only-of-type {\n",
       "        vertical-align: middle;\n",
       "    }\n",
       "\n",
       "    .dataframe tbody tr th {\n",
       "        vertical-align: top;\n",
       "    }\n",
       "\n",
       "    .dataframe thead th {\n",
       "        text-align: right;\n",
       "    }\n",
       "</style>\n",
       "<table border=\"1\" class=\"dataframe\">\n",
       "  <thead>\n",
       "    <tr style=\"text-align: right;\">\n",
       "      <th></th>\n",
       "      <th>name</th>\n",
       "      <th>gender</th>\n",
       "      <th>papers</th>\n",
       "    </tr>\n",
       "  </thead>\n",
       "  <tbody>\n",
       "    <tr>\n",
       "      <th>770</th>\n",
       "      <td>Olga G Troyanskaya</td>\n",
       "      <td>female</td>\n",
       "      <td>35</td>\n",
       "    </tr>\n",
       "    <tr>\n",
       "      <th>17453</th>\n",
       "      <td>Rita Casadio</td>\n",
       "      <td>female</td>\n",
       "      <td>34</td>\n",
       "    </tr>\n",
       "    <tr>\n",
       "      <th>1846</th>\n",
       "      <td>Luonan Chen</td>\n",
       "      <td>female</td>\n",
       "      <td>32</td>\n",
       "    </tr>\n",
       "    <tr>\n",
       "      <th>62</th>\n",
       "      <td>Jin Wang</td>\n",
       "      <td>female</td>\n",
       "      <td>30</td>\n",
       "    </tr>\n",
       "    <tr>\n",
       "      <th>107</th>\n",
       "      <td>Ruth Nussinov</td>\n",
       "      <td>female</td>\n",
       "      <td>29</td>\n",
       "    </tr>\n",
       "    <tr>\n",
       "      <th>17417</th>\n",
       "      <td>Sophia Ananiadou</td>\n",
       "      <td>female</td>\n",
       "      <td>29</td>\n",
       "    </tr>\n",
       "    <tr>\n",
       "      <th>2449</th>\n",
       "      <td>Shoba Ranganathan</td>\n",
       "      <td>female</td>\n",
       "      <td>28</td>\n",
       "    </tr>\n",
       "    <tr>\n",
       "      <th>17794</th>\n",
       "      <td>Lin Liu</td>\n",
       "      <td>female</td>\n",
       "      <td>28</td>\n",
       "    </tr>\n",
       "    <tr>\n",
       "      <th>122924</th>\n",
       "      <td>Charlotte M Deane</td>\n",
       "      <td>female</td>\n",
       "      <td>26</td>\n",
       "    </tr>\n",
       "    <tr>\n",
       "      <th>13627</th>\n",
       "      <td>Cathy H Wu</td>\n",
       "      <td>female</td>\n",
       "      <td>26</td>\n",
       "    </tr>\n",
       "  </tbody>\n",
       "</table>\n",
       "</div>"
      ],
      "text/plain": [
       "                      name  gender  papers\n",
       "770     Olga G Troyanskaya  female      35\n",
       "17453         Rita Casadio  female      34\n",
       "1846           Luonan Chen  female      32\n",
       "62                Jin Wang  female      30\n",
       "107          Ruth Nussinov  female      29\n",
       "17417     Sophia Ananiadou  female      29\n",
       "2449     Shoba Ranganathan  female      28\n",
       "17794              Lin Liu  female      28\n",
       "122924   Charlotte M Deane  female      26\n",
       "13627           Cathy H Wu  female      26"
      ]
     },
     "execution_count": 254,
     "metadata": {},
     "output_type": "execute_result"
    }
   ],
   "source": [
    "authors.sort_values('papers', inplace=True, ascending=False)\n",
    "authors[authors['gender']=='female'][['name','gender','papers']].head(10)"
   ]
  },
  {
   "cell_type": "markdown",
   "metadata": {},
   "source": [
    "### H-Index"
   ]
  },
  {
   "cell_type": "markdown",
   "metadata": {},
   "source": [
    "The **`h-index`** is computed based only on the papers available of the dataset"
   ]
  },
  {
   "cell_type": "code",
   "execution_count": 143,
   "metadata": {},
   "outputs": [
    {
     "data": {
      "text/plain": [
       "count    122963.000000\n",
       "mean          1.483625\n",
       "std           1.450438\n",
       "min           0.000000\n",
       "25%           1.000000\n",
       "50%           1.000000\n",
       "75%           2.000000\n",
       "max          32.000000\n",
       "Name: h-index, dtype: float64"
      ]
     },
     "execution_count": 143,
     "metadata": {},
     "output_type": "execute_result"
    }
   ],
   "source": [
    "authors['h-index'].describe()"
   ]
  },
  {
   "cell_type": "markdown",
   "metadata": {},
   "source": [
    "### Top-10 most impactful author"
   ]
  },
  {
   "cell_type": "code",
   "execution_count": 155,
   "metadata": {},
   "outputs": [
    {
     "data": {
      "text/html": [
       "<div>\n",
       "<style scoped>\n",
       "    .dataframe tbody tr th:only-of-type {\n",
       "        vertical-align: middle;\n",
       "    }\n",
       "\n",
       "    .dataframe tbody tr th {\n",
       "        vertical-align: top;\n",
       "    }\n",
       "\n",
       "    .dataframe thead th {\n",
       "        text-align: right;\n",
       "    }\n",
       "</style>\n",
       "<table border=\"1\" class=\"dataframe\">\n",
       "  <thead>\n",
       "    <tr style=\"text-align: right;\">\n",
       "      <th></th>\n",
       "      <th>name</th>\n",
       "      <th>gender</th>\n",
       "      <th>papers</th>\n",
       "      <th>total_citations</th>\n",
       "      <th>h-index</th>\n",
       "    </tr>\n",
       "  </thead>\n",
       "  <tbody>\n",
       "    <tr>\n",
       "      <th>3241</th>\n",
       "      <td>Peer Bork</td>\n",
       "      <td>male</td>\n",
       "      <td>53</td>\n",
       "      <td>12624</td>\n",
       "      <td>32</td>\n",
       "    </tr>\n",
       "    <tr>\n",
       "      <th>8093</th>\n",
       "      <td>Peter F Stadler</td>\n",
       "      <td>male</td>\n",
       "      <td>69</td>\n",
       "      <td>3420</td>\n",
       "      <td>30</td>\n",
       "    </tr>\n",
       "    <tr>\n",
       "      <th>3420</th>\n",
       "      <td>Mark Gerstein</td>\n",
       "      <td>male</td>\n",
       "      <td>46</td>\n",
       "      <td>2202</td>\n",
       "      <td>25</td>\n",
       "    </tr>\n",
       "    <tr>\n",
       "      <th>26310</th>\n",
       "      <td>Minoru Kanehisa</td>\n",
       "      <td>male</td>\n",
       "      <td>31</td>\n",
       "      <td>10150</td>\n",
       "      <td>25</td>\n",
       "    </tr>\n",
       "    <tr>\n",
       "      <th>8765</th>\n",
       "      <td>Ewan Birney</td>\n",
       "      <td>male</td>\n",
       "      <td>32</td>\n",
       "      <td>7033</td>\n",
       "      <td>25</td>\n",
       "    </tr>\n",
       "    <tr>\n",
       "      <th>4047</th>\n",
       "      <td>David S Wishart</td>\n",
       "      <td>male</td>\n",
       "      <td>37</td>\n",
       "      <td>9711</td>\n",
       "      <td>25</td>\n",
       "    </tr>\n",
       "    <tr>\n",
       "      <th>265</th>\n",
       "      <td>Philip E Bourne</td>\n",
       "      <td>male</td>\n",
       "      <td>48</td>\n",
       "      <td>3171</td>\n",
       "      <td>25</td>\n",
       "    </tr>\n",
       "    <tr>\n",
       "      <th>122946</th>\n",
       "      <td>William Stafford Noble</td>\n",
       "      <td>male</td>\n",
       "      <td>40</td>\n",
       "      <td>4243</td>\n",
       "      <td>24</td>\n",
       "    </tr>\n",
       "    <tr>\n",
       "      <th>3250</th>\n",
       "      <td>Janusz M Bujnicki</td>\n",
       "      <td>male</td>\n",
       "      <td>68</td>\n",
       "      <td>2186</td>\n",
       "      <td>23</td>\n",
       "    </tr>\n",
       "    <tr>\n",
       "      <th>18169</th>\n",
       "      <td>Hsien-Da Huang</td>\n",
       "      <td>male</td>\n",
       "      <td>35</td>\n",
       "      <td>2813</td>\n",
       "      <td>23</td>\n",
       "    </tr>\n",
       "  </tbody>\n",
       "</table>\n",
       "</div>"
      ],
      "text/plain": [
       "                          name gender  papers  total_citations  h-index\n",
       "3241                 Peer Bork   male      53            12624       32\n",
       "8093           Peter F Stadler   male      69             3420       30\n",
       "3420             Mark Gerstein   male      46             2202       25\n",
       "26310          Minoru Kanehisa   male      31            10150       25\n",
       "8765               Ewan Birney   male      32             7033       25\n",
       "4047           David S Wishart   male      37             9711       25\n",
       "265            Philip E Bourne   male      48             3171       25\n",
       "122946  William Stafford Noble   male      40             4243       24\n",
       "3250         Janusz M Bujnicki   male      68             2186       23\n",
       "18169           Hsien-Da Huang   male      35             2813       23"
      ]
     },
     "execution_count": 155,
     "metadata": {},
     "output_type": "execute_result"
    }
   ],
   "source": [
    "authors.sort_values('h-index', inplace=True, ascending=False)\n",
    "authors[['name','gender','papers','total_citations','h-index']].head(10)"
   ]
  },
  {
   "cell_type": "markdown",
   "metadata": {},
   "source": [
    "#### Top-10 most impacful female authors"
   ]
  },
  {
   "cell_type": "code",
   "execution_count": 163,
   "metadata": {},
   "outputs": [
    {
     "data": {
      "text/html": [
       "<div>\n",
       "<style scoped>\n",
       "    .dataframe tbody tr th:only-of-type {\n",
       "        vertical-align: middle;\n",
       "    }\n",
       "\n",
       "    .dataframe tbody tr th {\n",
       "        vertical-align: top;\n",
       "    }\n",
       "\n",
       "    .dataframe thead th {\n",
       "        text-align: right;\n",
       "    }\n",
       "</style>\n",
       "<table border=\"1\" class=\"dataframe\">\n",
       "  <thead>\n",
       "    <tr style=\"text-align: right;\">\n",
       "      <th></th>\n",
       "      <th>name</th>\n",
       "      <th>gender</th>\n",
       "      <th>papers</th>\n",
       "      <th>total_citations</th>\n",
       "      <th>h-index</th>\n",
       "    </tr>\n",
       "  </thead>\n",
       "  <tbody>\n",
       "    <tr>\n",
       "      <th>770</th>\n",
       "      <td>Olga G Troyanskaya</td>\n",
       "      <td>female</td>\n",
       "      <td>35</td>\n",
       "      <td>1473</td>\n",
       "      <td>20</td>\n",
       "    </tr>\n",
       "    <tr>\n",
       "      <th>17417</th>\n",
       "      <td>Sophia Ananiadou</td>\n",
       "      <td>female</td>\n",
       "      <td>29</td>\n",
       "      <td>754</td>\n",
       "      <td>18</td>\n",
       "    </tr>\n",
       "    <tr>\n",
       "      <th>20365</th>\n",
       "      <td>Helen Parkinson</td>\n",
       "      <td>female</td>\n",
       "      <td>23</td>\n",
       "      <td>2892</td>\n",
       "      <td>18</td>\n",
       "    </tr>\n",
       "    <tr>\n",
       "      <th>1846</th>\n",
       "      <td>Luonan Chen</td>\n",
       "      <td>female</td>\n",
       "      <td>32</td>\n",
       "      <td>976</td>\n",
       "      <td>17</td>\n",
       "    </tr>\n",
       "    <tr>\n",
       "      <th>107</th>\n",
       "      <td>Ruth Nussinov</td>\n",
       "      <td>female</td>\n",
       "      <td>29</td>\n",
       "      <td>1656</td>\n",
       "      <td>17</td>\n",
       "    </tr>\n",
       "    <tr>\n",
       "      <th>13627</th>\n",
       "      <td>Cathy H Wu</td>\n",
       "      <td>female</td>\n",
       "      <td>26</td>\n",
       "      <td>3676</td>\n",
       "      <td>17</td>\n",
       "    </tr>\n",
       "    <tr>\n",
       "      <th>2256</th>\n",
       "      <td>Janet M Thornton</td>\n",
       "      <td>female</td>\n",
       "      <td>23</td>\n",
       "      <td>1516</td>\n",
       "      <td>16</td>\n",
       "    </tr>\n",
       "    <tr>\n",
       "      <th>5222</th>\n",
       "      <td>Christine A Orengo</td>\n",
       "      <td>female</td>\n",
       "      <td>25</td>\n",
       "      <td>1180</td>\n",
       "      <td>16</td>\n",
       "    </tr>\n",
       "    <tr>\n",
       "      <th>338</th>\n",
       "      <td>Ivet Bahar</td>\n",
       "      <td>female</td>\n",
       "      <td>24</td>\n",
       "      <td>1097</td>\n",
       "      <td>16</td>\n",
       "    </tr>\n",
       "    <tr>\n",
       "      <th>18946</th>\n",
       "      <td>Drena Dobbs</td>\n",
       "      <td>female</td>\n",
       "      <td>17</td>\n",
       "      <td>1008</td>\n",
       "      <td>16</td>\n",
       "    </tr>\n",
       "  </tbody>\n",
       "</table>\n",
       "</div>"
      ],
      "text/plain": [
       "                     name  gender  papers  total_citations  h-index\n",
       "770    Olga G Troyanskaya  female      35             1473       20\n",
       "17417    Sophia Ananiadou  female      29              754       18\n",
       "20365     Helen Parkinson  female      23             2892       18\n",
       "1846          Luonan Chen  female      32              976       17\n",
       "107         Ruth Nussinov  female      29             1656       17\n",
       "13627          Cathy H Wu  female      26             3676       17\n",
       "2256     Janet M Thornton  female      23             1516       16\n",
       "5222   Christine A Orengo  female      25             1180       16\n",
       "338            Ivet Bahar  female      24             1097       16\n",
       "18946         Drena Dobbs  female      17             1008       16"
      ]
     },
     "execution_count": 163,
     "metadata": {},
     "output_type": "execute_result"
    }
   ],
   "source": [
    "authors.sort_values('h-index', inplace=True, ascending=False)\n",
    "authors[authors['gender']=='female'][['name','gender','papers','total_citations','h-index']].head(10)"
   ]
  },
  {
   "cell_type": "markdown",
   "metadata": {},
   "source": [
    "### First author"
   ]
  },
  {
   "cell_type": "code",
   "execution_count": 156,
   "metadata": {},
   "outputs": [
    {
     "data": {
      "text/plain": [
       "count    122963.000000\n",
       "mean          0.310866\n",
       "std           0.656986\n",
       "min           0.000000\n",
       "25%           0.000000\n",
       "50%           0.000000\n",
       "75%           0.000000\n",
       "max          14.000000\n",
       "Name: papers_as_first_author, dtype: float64"
      ]
     },
     "execution_count": 156,
     "metadata": {},
     "output_type": "execute_result"
    }
   ],
   "source": [
    "authors['papers_as_first_author'].describe()"
   ]
  },
  {
   "cell_type": "markdown",
   "metadata": {},
   "source": [
    "### Top-10 authors that appeared as first author"
   ]
  },
  {
   "cell_type": "code",
   "execution_count": 157,
   "metadata": {},
   "outputs": [
    {
     "data": {
      "text/html": [
       "<div>\n",
       "<style scoped>\n",
       "    .dataframe tbody tr th:only-of-type {\n",
       "        vertical-align: middle;\n",
       "    }\n",
       "\n",
       "    .dataframe tbody tr th {\n",
       "        vertical-align: top;\n",
       "    }\n",
       "\n",
       "    .dataframe thead th {\n",
       "        text-align: right;\n",
       "    }\n",
       "</style>\n",
       "<table border=\"1\" class=\"dataframe\">\n",
       "  <thead>\n",
       "    <tr style=\"text-align: right;\">\n",
       "      <th></th>\n",
       "      <th>name</th>\n",
       "      <th>gender</th>\n",
       "      <th>papers</th>\n",
       "      <th>papers_as_first_author</th>\n",
       "    </tr>\n",
       "  </thead>\n",
       "  <tbody>\n",
       "    <tr>\n",
       "      <th>26068</th>\n",
       "      <td>Heng Li</td>\n",
       "      <td>unknown</td>\n",
       "      <td>19</td>\n",
       "      <td>14</td>\n",
       "    </tr>\n",
       "    <tr>\n",
       "      <th>8781</th>\n",
       "      <td>Kai Wang</td>\n",
       "      <td>male</td>\n",
       "      <td>32</td>\n",
       "      <td>13</td>\n",
       "    </tr>\n",
       "    <tr>\n",
       "      <th>18741</th>\n",
       "      <td>Shuangge Ma</td>\n",
       "      <td>female</td>\n",
       "      <td>17</td>\n",
       "      <td>12</td>\n",
       "    </tr>\n",
       "    <tr>\n",
       "      <th>18398</th>\n",
       "      <td>Yi Wang</td>\n",
       "      <td>unknown</td>\n",
       "      <td>22</td>\n",
       "      <td>12</td>\n",
       "    </tr>\n",
       "    <tr>\n",
       "      <th>16474</th>\n",
       "      <td>Bin Liu</td>\n",
       "      <td>unknown</td>\n",
       "      <td>21</td>\n",
       "      <td>11</td>\n",
       "    </tr>\n",
       "    <tr>\n",
       "      <th>10929</th>\n",
       "      <td>Robert Hoehndorf</td>\n",
       "      <td>male</td>\n",
       "      <td>16</td>\n",
       "      <td>11</td>\n",
       "    </tr>\n",
       "    <tr>\n",
       "      <th>1943</th>\n",
       "      <td>Wei Wang</td>\n",
       "      <td>unknown</td>\n",
       "      <td>62</td>\n",
       "      <td>11</td>\n",
       "    </tr>\n",
       "    <tr>\n",
       "      <th>15446</th>\n",
       "      <td>Junbai Wang</td>\n",
       "      <td>unknown</td>\n",
       "      <td>12</td>\n",
       "      <td>11</td>\n",
       "    </tr>\n",
       "    <tr>\n",
       "      <th>3123</th>\n",
       "      <td>Yan Zhang</td>\n",
       "      <td>male</td>\n",
       "      <td>45</td>\n",
       "      <td>10</td>\n",
       "    </tr>\n",
       "    <tr>\n",
       "      <th>5690</th>\n",
       "      <td>Zhiming Dai</td>\n",
       "      <td>unknown</td>\n",
       "      <td>13</td>\n",
       "      <td>10</td>\n",
       "    </tr>\n",
       "  </tbody>\n",
       "</table>\n",
       "</div>"
      ],
      "text/plain": [
       "                   name   gender  papers  papers_as_first_author\n",
       "26068           Heng Li  unknown      19                      14\n",
       "8781           Kai Wang     male      32                      13\n",
       "18741       Shuangge Ma   female      17                      12\n",
       "18398           Yi Wang  unknown      22                      12\n",
       "16474           Bin Liu  unknown      21                      11\n",
       "10929  Robert Hoehndorf     male      16                      11\n",
       "1943           Wei Wang  unknown      62                      11\n",
       "15446       Junbai Wang  unknown      12                      11\n",
       "3123          Yan Zhang     male      45                      10\n",
       "5690        Zhiming Dai  unknown      13                      10"
      ]
     },
     "execution_count": 157,
     "metadata": {},
     "output_type": "execute_result"
    }
   ],
   "source": [
    "authors.sort_values('papers_as_first_author', inplace=True, ascending=False)\n",
    "authors[['name','gender','papers','papers_as_first_author']].head(10)"
   ]
  },
  {
   "cell_type": "markdown",
   "metadata": {},
   "source": [
    "#### Top-10 female authors that appeared as first author"
   ]
  },
  {
   "cell_type": "code",
   "execution_count": 166,
   "metadata": {},
   "outputs": [
    {
     "data": {
      "text/html": [
       "<div>\n",
       "<style scoped>\n",
       "    .dataframe tbody tr th:only-of-type {\n",
       "        vertical-align: middle;\n",
       "    }\n",
       "\n",
       "    .dataframe tbody tr th {\n",
       "        vertical-align: top;\n",
       "    }\n",
       "\n",
       "    .dataframe thead th {\n",
       "        text-align: right;\n",
       "    }\n",
       "</style>\n",
       "<table border=\"1\" class=\"dataframe\">\n",
       "  <thead>\n",
       "    <tr style=\"text-align: right;\">\n",
       "      <th></th>\n",
       "      <th>name</th>\n",
       "      <th>gender</th>\n",
       "      <th>papers</th>\n",
       "      <th>papers_as_first_author</th>\n",
       "    </tr>\n",
       "  </thead>\n",
       "  <tbody>\n",
       "    <tr>\n",
       "      <th>18741</th>\n",
       "      <td>Shuangge Ma</td>\n",
       "      <td>female</td>\n",
       "      <td>17</td>\n",
       "      <td>12</td>\n",
       "    </tr>\n",
       "    <tr>\n",
       "      <th>19205</th>\n",
       "      <td>Christina Backes</td>\n",
       "      <td>female</td>\n",
       "      <td>22</td>\n",
       "      <td>9</td>\n",
       "    </tr>\n",
       "    <tr>\n",
       "      <th>3238</th>\n",
       "      <td>Wei-Hua Chen</td>\n",
       "      <td>female</td>\n",
       "      <td>10</td>\n",
       "      <td>8</td>\n",
       "    </tr>\n",
       "    <tr>\n",
       "      <th>86050</th>\n",
       "      <td>Cristina Aurrecoechea</td>\n",
       "      <td>female</td>\n",
       "      <td>9</td>\n",
       "      <td>7</td>\n",
       "    </tr>\n",
       "    <tr>\n",
       "      <th>80081</th>\n",
       "      <td>Agnieszka Kiliszek</td>\n",
       "      <td>female</td>\n",
       "      <td>7</td>\n",
       "      <td>7</td>\n",
       "    </tr>\n",
       "    <tr>\n",
       "      <th>26443</th>\n",
       "      <td>Milana Frenkel-Morgenstern</td>\n",
       "      <td>female</td>\n",
       "      <td>8</td>\n",
       "      <td>7</td>\n",
       "    </tr>\n",
       "    <tr>\n",
       "      <th>8064</th>\n",
       "      <td>Michelle S Scott</td>\n",
       "      <td>female</td>\n",
       "      <td>11</td>\n",
       "      <td>6</td>\n",
       "    </tr>\n",
       "    <tr>\n",
       "      <th>19743</th>\n",
       "      <td>Eva Freyhult</td>\n",
       "      <td>female</td>\n",
       "      <td>8</td>\n",
       "      <td>6</td>\n",
       "    </tr>\n",
       "    <tr>\n",
       "      <th>24546</th>\n",
       "      <td>Monica Chagoyen</td>\n",
       "      <td>female</td>\n",
       "      <td>9</td>\n",
       "      <td>6</td>\n",
       "    </tr>\n",
       "    <tr>\n",
       "      <th>28952</th>\n",
       "      <td>Sook Jung</td>\n",
       "      <td>female</td>\n",
       "      <td>8</td>\n",
       "      <td>6</td>\n",
       "    </tr>\n",
       "  </tbody>\n",
       "</table>\n",
       "</div>"
      ],
      "text/plain": [
       "                             name  gender  papers  papers_as_first_author\n",
       "18741                 Shuangge Ma  female      17                      12\n",
       "19205            Christina Backes  female      22                       9\n",
       "3238                 Wei-Hua Chen  female      10                       8\n",
       "86050       Cristina Aurrecoechea  female       9                       7\n",
       "80081          Agnieszka Kiliszek  female       7                       7\n",
       "26443  Milana Frenkel-Morgenstern  female       8                       7\n",
       "8064             Michelle S Scott  female      11                       6\n",
       "19743                Eva Freyhult  female       8                       6\n",
       "24546             Monica Chagoyen  female       9                       6\n",
       "28952                   Sook Jung  female       8                       6"
      ]
     },
     "execution_count": 166,
     "metadata": {},
     "output_type": "execute_result"
    }
   ],
   "source": [
    "authors.sort_values('papers_as_first_author', inplace=True, ascending=False)\n",
    "authors[authors['gender']=='female'][['name','gender','papers','papers_as_first_author']].head(10)"
   ]
  },
  {
   "cell_type": "markdown",
   "metadata": {},
   "source": [
    "## Papers without citations"
   ]
  },
  {
   "cell_type": "code",
   "execution_count": 169,
   "metadata": {},
   "outputs": [
    {
     "data": {
      "text/html": [
       "<div>\n",
       "<style scoped>\n",
       "    .dataframe tbody tr th:only-of-type {\n",
       "        vertical-align: middle;\n",
       "    }\n",
       "\n",
       "    .dataframe tbody tr th {\n",
       "        vertical-align: top;\n",
       "    }\n",
       "\n",
       "    .dataframe thead th {\n",
       "        text-align: right;\n",
       "    }\n",
       "</style>\n",
       "<table border=\"1\" class=\"dataframe\">\n",
       "  <thead>\n",
       "    <tr style=\"text-align: right;\">\n",
       "      <th></th>\n",
       "      <th>id</th>\n",
       "      <th>name</th>\n",
       "      <th>gender</th>\n",
       "      <th>papers</th>\n",
       "      <th>total_citations</th>\n",
       "      <th>papers_as_first_author</th>\n",
       "      <th>papers_with_citations</th>\n",
       "      <th>h-index</th>\n",
       "      <th>papers_without_citations</th>\n",
       "    </tr>\n",
       "  </thead>\n",
       "  <tbody>\n",
       "    <tr>\n",
       "      <th>26068</th>\n",
       "      <td>26069</td>\n",
       "      <td>Heng Li</td>\n",
       "      <td>unknown</td>\n",
       "      <td>19</td>\n",
       "      <td>22523</td>\n",
       "      <td>14</td>\n",
       "      <td>19</td>\n",
       "      <td>14</td>\n",
       "      <td>0</td>\n",
       "    </tr>\n",
       "    <tr>\n",
       "      <th>8781</th>\n",
       "      <td>8782</td>\n",
       "      <td>Kai Wang</td>\n",
       "      <td>male</td>\n",
       "      <td>32</td>\n",
       "      <td>3154</td>\n",
       "      <td>13</td>\n",
       "      <td>28</td>\n",
       "      <td>15</td>\n",
       "      <td>4</td>\n",
       "    </tr>\n",
       "    <tr>\n",
       "      <th>18398</th>\n",
       "      <td>18399</td>\n",
       "      <td>Yi Wang</td>\n",
       "      <td>unknown</td>\n",
       "      <td>22</td>\n",
       "      <td>323</td>\n",
       "      <td>12</td>\n",
       "      <td>21</td>\n",
       "      <td>11</td>\n",
       "      <td>1</td>\n",
       "    </tr>\n",
       "    <tr>\n",
       "      <th>18741</th>\n",
       "      <td>18742</td>\n",
       "      <td>Shuangge Ma</td>\n",
       "      <td>female</td>\n",
       "      <td>17</td>\n",
       "      <td>412</td>\n",
       "      <td>12</td>\n",
       "      <td>16</td>\n",
       "      <td>11</td>\n",
       "      <td>1</td>\n",
       "    </tr>\n",
       "    <tr>\n",
       "      <th>1943</th>\n",
       "      <td>1944</td>\n",
       "      <td>Wei Wang</td>\n",
       "      <td>unknown</td>\n",
       "      <td>62</td>\n",
       "      <td>1377</td>\n",
       "      <td>11</td>\n",
       "      <td>55</td>\n",
       "      <td>19</td>\n",
       "      <td>7</td>\n",
       "    </tr>\n",
       "  </tbody>\n",
       "</table>\n",
       "</div>"
      ],
      "text/plain": [
       "          id         name   gender  papers  total_citations  \\\n",
       "26068  26069      Heng Li  unknown      19            22523   \n",
       "8781    8782     Kai Wang     male      32             3154   \n",
       "18398  18399      Yi Wang  unknown      22              323   \n",
       "18741  18742  Shuangge Ma   female      17              412   \n",
       "1943    1944     Wei Wang  unknown      62             1377   \n",
       "\n",
       "       papers_as_first_author  papers_with_citations  h-index  \\\n",
       "26068                      14                     19       14   \n",
       "8781                       13                     28       15   \n",
       "18398                      12                     21       11   \n",
       "18741                      12                     16       11   \n",
       "1943                       11                     55       19   \n",
       "\n",
       "       papers_without_citations  \n",
       "26068                         0  \n",
       "8781                          4  \n",
       "18398                         1  \n",
       "18741                         1  \n",
       "1943                          7  "
      ]
     },
     "execution_count": 169,
     "metadata": {},
     "output_type": "execute_result"
    }
   ],
   "source": [
    "authors['papers_without_citations'] = authors['papers'] - authors['papers_with_citations']\n",
    "authors.head()"
   ]
  },
  {
   "cell_type": "code",
   "execution_count": 170,
   "metadata": {},
   "outputs": [
    {
     "data": {
      "text/plain": [
       "count    122963.000000\n",
       "mean          0.120931\n",
       "std           0.360789\n",
       "min           0.000000\n",
       "25%           0.000000\n",
       "50%           0.000000\n",
       "75%           0.000000\n",
       "max           7.000000\n",
       "Name: papers_without_citations, dtype: float64"
      ]
     },
     "execution_count": 170,
     "metadata": {},
     "output_type": "execute_result"
    }
   ],
   "source": [
    "authors['papers_without_citations'].describe()"
   ]
  },
  {
   "cell_type": "markdown",
   "metadata": {},
   "source": [
    "# Authorship"
   ]
  },
  {
   "cell_type": "code",
   "execution_count": 259,
   "metadata": {},
   "outputs": [],
   "source": [
    "# Get data\n",
    "papers_authors = pd.read_csv(project_dir + '/data/papers_authors.csv')"
   ]
  },
  {
   "cell_type": "markdown",
   "metadata": {},
   "source": [
    "## Data structure"
   ]
  },
  {
   "cell_type": "code",
   "execution_count": 260,
   "metadata": {},
   "outputs": [
    {
     "data": {
      "text/html": [
       "<div>\n",
       "<style scoped>\n",
       "    .dataframe tbody tr th:only-of-type {\n",
       "        vertical-align: middle;\n",
       "    }\n",
       "\n",
       "    .dataframe tbody tr th {\n",
       "        vertical-align: top;\n",
       "    }\n",
       "\n",
       "    .dataframe thead th {\n",
       "        text-align: right;\n",
       "    }\n",
       "</style>\n",
       "<table border=\"1\" class=\"dataframe\">\n",
       "  <thead>\n",
       "    <tr style=\"text-align: right;\">\n",
       "      <th></th>\n",
       "      <th>id</th>\n",
       "      <th>title</th>\n",
       "      <th>doi</th>\n",
       "      <th>year</th>\n",
       "      <th>category</th>\n",
       "      <th>author</th>\n",
       "      <th>author_gender</th>\n",
       "      <th>author_position</th>\n",
       "    </tr>\n",
       "  </thead>\n",
       "  <tbody>\n",
       "    <tr>\n",
       "      <th>0</th>\n",
       "      <td>1</td>\n",
       "      <td>A peptide-based method for 13C Metabolic Flux ...</td>\n",
       "      <td>10.1371/journal.pcbi.1003827</td>\n",
       "      <td>2014</td>\n",
       "      <td>Omics &gt; Genomics &gt; Transcriptomics</td>\n",
       "      <td>Amit Ghosh</td>\n",
       "      <td>male</td>\n",
       "      <td>1</td>\n",
       "    </tr>\n",
       "    <tr>\n",
       "      <th>1</th>\n",
       "      <td>2</td>\n",
       "      <td>A peptide-based method for 13C Metabolic Flux ...</td>\n",
       "      <td>10.1371/journal.pcbi.1003827</td>\n",
       "      <td>2014</td>\n",
       "      <td>Omics &gt; Genomics &gt; Transcriptomics</td>\n",
       "      <td>Jerome Nilmeier</td>\n",
       "      <td>male</td>\n",
       "      <td>2</td>\n",
       "    </tr>\n",
       "    <tr>\n",
       "      <th>2</th>\n",
       "      <td>3</td>\n",
       "      <td>A peptide-based method for 13C Metabolic Flux ...</td>\n",
       "      <td>10.1371/journal.pcbi.1003827</td>\n",
       "      <td>2014</td>\n",
       "      <td>Omics &gt; Genomics &gt; Transcriptomics</td>\n",
       "      <td>Daniel Weaver</td>\n",
       "      <td>male</td>\n",
       "      <td>3</td>\n",
       "    </tr>\n",
       "    <tr>\n",
       "      <th>3</th>\n",
       "      <td>4</td>\n",
       "      <td>A peptide-based method for 13C Metabolic Flux ...</td>\n",
       "      <td>10.1371/journal.pcbi.1003827</td>\n",
       "      <td>2014</td>\n",
       "      <td>Omics &gt; Genomics &gt; Transcriptomics</td>\n",
       "      <td>Paul D Adams</td>\n",
       "      <td>male</td>\n",
       "      <td>4</td>\n",
       "    </tr>\n",
       "    <tr>\n",
       "      <th>4</th>\n",
       "      <td>5</td>\n",
       "      <td>A peptide-based method for 13C Metabolic Flux ...</td>\n",
       "      <td>10.1371/journal.pcbi.1003827</td>\n",
       "      <td>2014</td>\n",
       "      <td>Omics &gt; Genomics &gt; Transcriptomics</td>\n",
       "      <td>Jay D Keasling</td>\n",
       "      <td>male</td>\n",
       "      <td>5</td>\n",
       "    </tr>\n",
       "  </tbody>\n",
       "</table>\n",
       "</div>"
      ],
      "text/plain": [
       "   id                                              title  \\\n",
       "0   1  A peptide-based method for 13C Metabolic Flux ...   \n",
       "1   2  A peptide-based method for 13C Metabolic Flux ...   \n",
       "2   3  A peptide-based method for 13C Metabolic Flux ...   \n",
       "3   4  A peptide-based method for 13C Metabolic Flux ...   \n",
       "4   5  A peptide-based method for 13C Metabolic Flux ...   \n",
       "\n",
       "                            doi  year                            category  \\\n",
       "0  10.1371/journal.pcbi.1003827  2014  Omics > Genomics > Transcriptomics   \n",
       "1  10.1371/journal.pcbi.1003827  2014  Omics > Genomics > Transcriptomics   \n",
       "2  10.1371/journal.pcbi.1003827  2014  Omics > Genomics > Transcriptomics   \n",
       "3  10.1371/journal.pcbi.1003827  2014  Omics > Genomics > Transcriptomics   \n",
       "4  10.1371/journal.pcbi.1003827  2014  Omics > Genomics > Transcriptomics   \n",
       "\n",
       "            author author_gender  author_position  \n",
       "0       Amit Ghosh          male                1  \n",
       "1  Jerome Nilmeier          male                2  \n",
       "2    Daniel Weaver          male                3  \n",
       "3     Paul D Adams          male                4  \n",
       "4   Jay D Keasling          male                5  "
      ]
     },
     "execution_count": 260,
     "metadata": {},
     "output_type": "execute_result"
    }
   ],
   "source": [
    "papers_authors.head()"
   ]
  },
  {
   "cell_type": "code",
   "execution_count": 261,
   "metadata": {},
   "outputs": [
    {
     "data": {
      "text/html": [
       "<div>\n",
       "<style scoped>\n",
       "    .dataframe tbody tr th:only-of-type {\n",
       "        vertical-align: middle;\n",
       "    }\n",
       "\n",
       "    .dataframe tbody tr th {\n",
       "        vertical-align: top;\n",
       "    }\n",
       "\n",
       "    .dataframe thead th {\n",
       "        text-align: right;\n",
       "    }\n",
       "</style>\n",
       "<table border=\"1\" class=\"dataframe\">\n",
       "  <thead>\n",
       "    <tr style=\"text-align: right;\">\n",
       "      <th></th>\n",
       "      <th>title</th>\n",
       "      <th>author_gender</th>\n",
       "      <th>count_gender</th>\n",
       "    </tr>\n",
       "  </thead>\n",
       "  <tbody>\n",
       "    <tr>\n",
       "      <th>0</th>\n",
       "      <td>A peptide-based method for 13C Metabolic Flux ...</td>\n",
       "      <td>male</td>\n",
       "      <td>6</td>\n",
       "    </tr>\n",
       "    <tr>\n",
       "      <th>1</th>\n",
       "      <td>A peptide-based method for 13C Metabolic Flux ...</td>\n",
       "      <td>female</td>\n",
       "      <td>2</td>\n",
       "    </tr>\n",
       "    <tr>\n",
       "      <th>2</th>\n",
       "      <td>Baseline CD4+ T cell counts correlates with HI...</td>\n",
       "      <td>female</td>\n",
       "      <td>2</td>\n",
       "    </tr>\n",
       "    <tr>\n",
       "      <th>3</th>\n",
       "      <td>Baseline CD4+ T cell counts correlates with HI...</td>\n",
       "      <td>unknown</td>\n",
       "      <td>4</td>\n",
       "    </tr>\n",
       "    <tr>\n",
       "      <th>4</th>\n",
       "      <td>Baseline CD4+ T cell counts correlates with HI...</td>\n",
       "      <td>male</td>\n",
       "      <td>2</td>\n",
       "    </tr>\n",
       "  </tbody>\n",
       "</table>\n",
       "</div>"
      ],
      "text/plain": [
       "                                               title author_gender  \\\n",
       "0  A peptide-based method for 13C Metabolic Flux ...          male   \n",
       "1  A peptide-based method for 13C Metabolic Flux ...        female   \n",
       "2  Baseline CD4+ T cell counts correlates with HI...        female   \n",
       "3  Baseline CD4+ T cell counts correlates with HI...       unknown   \n",
       "4  Baseline CD4+ T cell counts correlates with HI...          male   \n",
       "\n",
       "   count_gender  \n",
       "0             6  \n",
       "1             2  \n",
       "2             2  \n",
       "3             4  \n",
       "4             2  "
      ]
     },
     "execution_count": 261,
     "metadata": {},
     "output_type": "execute_result"
    }
   ],
   "source": [
    "papers_grouped_by_title = papers_authors.drop(['id', 'doi', 'year', 'category', 'author', 'author_position'], axis=1).groupby(['title','author_gender'], sort=False, as_index=False)\n",
    "agg_papers_grouped_df = papers_grouped_by_title[['author_gender']].agg({'author_gender': {'count_gender': 'count'}})\n",
    "agg_papers_grouped_df.head()"
   ]
  },
  {
   "cell_type": "code",
   "execution_count": 262,
   "metadata": {},
   "outputs": [
    {
     "data": {
      "text/html": [
       "<div>\n",
       "<style scoped>\n",
       "    .dataframe tbody tr th:only-of-type {\n",
       "        vertical-align: middle;\n",
       "    }\n",
       "\n",
       "    .dataframe tbody tr th {\n",
       "        vertical-align: top;\n",
       "    }\n",
       "\n",
       "    .dataframe thead th {\n",
       "        text-align: right;\n",
       "    }\n",
       "</style>\n",
       "<table border=\"1\" class=\"dataframe\">\n",
       "  <thead>\n",
       "    <tr style=\"text-align: right;\">\n",
       "      <th>author_gender</th>\n",
       "      <th>female</th>\n",
       "      <th>male</th>\n",
       "      <th>unknown</th>\n",
       "    </tr>\n",
       "    <tr>\n",
       "      <th>title</th>\n",
       "      <th></th>\n",
       "      <th></th>\n",
       "      <th></th>\n",
       "    </tr>\n",
       "  </thead>\n",
       "  <tbody>\n",
       "    <tr>\n",
       "      <th>'Bois noir' phytoplasma induces significant reprogramming of the leaf transcriptome in the field grown grapevine</th>\n",
       "      <td>1.0</td>\n",
       "      <td>3.0</td>\n",
       "      <td>0.0</td>\n",
       "    </tr>\n",
       "    <tr>\n",
       "      <th>'Brukin2D': A 2D visualization and comparison tool for LC-MS data</th>\n",
       "      <td>6.0</td>\n",
       "      <td>1.0</td>\n",
       "      <td>0.0</td>\n",
       "    </tr>\n",
       "    <tr>\n",
       "      <th>'Double water exclusion': A hypothesis refining the O-ring theory for the hot spots at protein interfaces</th>\n",
       "      <td>0.0</td>\n",
       "      <td>0.0</td>\n",
       "      <td>1.0</td>\n",
       "    </tr>\n",
       "    <tr>\n",
       "      <th>'Evidence of an auxin signal pathway, microRNA167-ARF8-GH3, and its response to exogenous auxin in cultured rice cells'</th>\n",
       "      <td>1.0</td>\n",
       "      <td>0.0</td>\n",
       "      <td>3.0</td>\n",
       "    </tr>\n",
       "    <tr>\n",
       "      <th>'Genome design' model and multicellular complexity: Golden middle</th>\n",
       "      <td>0.0</td>\n",
       "      <td>3.0</td>\n",
       "      <td>0.0</td>\n",
       "    </tr>\n",
       "  </tbody>\n",
       "</table>\n",
       "</div>"
      ],
      "text/plain": [
       "author_gender                                       female  male  unknown\n",
       "title                                                                    \n",
       "'Bois noir' phytoplasma induces significant rep...     1.0   3.0      0.0\n",
       "'Brukin2D': A 2D visualization and comparison t...     6.0   1.0      0.0\n",
       "'Double water exclusion': A hypothesis refining...     0.0   0.0      1.0\n",
       "'Evidence of an auxin signal pathway, microRNA1...     1.0   0.0      3.0\n",
       "'Genome design' model and multicellular complex...     0.0   3.0      0.0"
      ]
     },
     "execution_count": 262,
     "metadata": {},
     "output_type": "execute_result"
    }
   ],
   "source": [
    "papers_gender_dist = agg_papers_grouped_df.pivot(columns='author_gender', values='count_gender', index='title')\n",
    "papers_gender_dist = papers_gender_dist.drop(['error_api', 'mostly_female', 'mostly_male'], axis=1)\n",
    "papers_gender_dist = papers_gender_dist.fillna(0)\n",
    "papers_gender_dist.head()"
   ]
  },
  {
   "cell_type": "code",
   "execution_count": 270,
   "metadata": {},
   "outputs": [
    {
     "data": {
      "text/html": [
       "<div>\n",
       "<style scoped>\n",
       "    .dataframe tbody tr th:only-of-type {\n",
       "        vertical-align: middle;\n",
       "    }\n",
       "\n",
       "    .dataframe tbody tr th {\n",
       "        vertical-align: top;\n",
       "    }\n",
       "\n",
       "    .dataframe thead th {\n",
       "        text-align: right;\n",
       "    }\n",
       "</style>\n",
       "<table border=\"1\" class=\"dataframe\">\n",
       "  <thead>\n",
       "    <tr style=\"text-align: right;\">\n",
       "      <th>author_gender</th>\n",
       "      <th>female</th>\n",
       "      <th>male</th>\n",
       "      <th>unknown</th>\n",
       "      <th>most_female</th>\n",
       "      <th>most_male</th>\n",
       "      <th>equal_gender</th>\n",
       "      <th>only_male</th>\n",
       "      <th>only_female</th>\n",
       "    </tr>\n",
       "    <tr>\n",
       "      <th>title</th>\n",
       "      <th></th>\n",
       "      <th></th>\n",
       "      <th></th>\n",
       "      <th></th>\n",
       "      <th></th>\n",
       "      <th></th>\n",
       "      <th></th>\n",
       "      <th></th>\n",
       "    </tr>\n",
       "  </thead>\n",
       "  <tbody>\n",
       "    <tr>\n",
       "      <th>'Bois noir' phytoplasma induces significant reprogramming of the leaf transcriptome in the field grown grapevine</th>\n",
       "      <td>1.0</td>\n",
       "      <td>3.0</td>\n",
       "      <td>0.0</td>\n",
       "      <td>0</td>\n",
       "      <td>1</td>\n",
       "      <td>0</td>\n",
       "      <td>0</td>\n",
       "      <td>0</td>\n",
       "    </tr>\n",
       "    <tr>\n",
       "      <th>'Brukin2D': A 2D visualization and comparison tool for LC-MS data</th>\n",
       "      <td>6.0</td>\n",
       "      <td>1.0</td>\n",
       "      <td>0.0</td>\n",
       "      <td>1</td>\n",
       "      <td>0</td>\n",
       "      <td>0</td>\n",
       "      <td>0</td>\n",
       "      <td>0</td>\n",
       "    </tr>\n",
       "    <tr>\n",
       "      <th>'Double water exclusion': A hypothesis refining the O-ring theory for the hot spots at protein interfaces</th>\n",
       "      <td>0.0</td>\n",
       "      <td>0.0</td>\n",
       "      <td>1.0</td>\n",
       "      <td>0</td>\n",
       "      <td>0</td>\n",
       "      <td>1</td>\n",
       "      <td>0</td>\n",
       "      <td>0</td>\n",
       "    </tr>\n",
       "    <tr>\n",
       "      <th>'Evidence of an auxin signal pathway, microRNA167-ARF8-GH3, and its response to exogenous auxin in cultured rice cells'</th>\n",
       "      <td>1.0</td>\n",
       "      <td>0.0</td>\n",
       "      <td>3.0</td>\n",
       "      <td>1</td>\n",
       "      <td>0</td>\n",
       "      <td>0</td>\n",
       "      <td>0</td>\n",
       "      <td>0</td>\n",
       "    </tr>\n",
       "    <tr>\n",
       "      <th>'Genome design' model and multicellular complexity: Golden middle</th>\n",
       "      <td>0.0</td>\n",
       "      <td>3.0</td>\n",
       "      <td>0.0</td>\n",
       "      <td>0</td>\n",
       "      <td>1</td>\n",
       "      <td>0</td>\n",
       "      <td>1</td>\n",
       "      <td>0</td>\n",
       "    </tr>\n",
       "  </tbody>\n",
       "</table>\n",
       "</div>"
      ],
      "text/plain": [
       "author_gender                                       female  male  unknown  \\\n",
       "title                                                                       \n",
       "'Bois noir' phytoplasma induces significant rep...     1.0   3.0      0.0   \n",
       "'Brukin2D': A 2D visualization and comparison t...     6.0   1.0      0.0   \n",
       "'Double water exclusion': A hypothesis refining...     0.0   0.0      1.0   \n",
       "'Evidence of an auxin signal pathway, microRNA1...     1.0   0.0      3.0   \n",
       "'Genome design' model and multicellular complex...     0.0   3.0      0.0   \n",
       "\n",
       "author_gender                                       most_female  most_male  \\\n",
       "title                                                                        \n",
       "'Bois noir' phytoplasma induces significant rep...            0          1   \n",
       "'Brukin2D': A 2D visualization and comparison t...            1          0   \n",
       "'Double water exclusion': A hypothesis refining...            0          0   \n",
       "'Evidence of an auxin signal pathway, microRNA1...            1          0   \n",
       "'Genome design' model and multicellular complex...            0          1   \n",
       "\n",
       "author_gender                                       equal_gender  only_male  \\\n",
       "title                                                                         \n",
       "'Bois noir' phytoplasma induces significant rep...             0          0   \n",
       "'Brukin2D': A 2D visualization and comparison t...             0          0   \n",
       "'Double water exclusion': A hypothesis refining...             1          0   \n",
       "'Evidence of an auxin signal pathway, microRNA1...             0          0   \n",
       "'Genome design' model and multicellular complex...             0          1   \n",
       "\n",
       "author_gender                                       only_female  \n",
       "title                                                            \n",
       "'Bois noir' phytoplasma induces significant rep...            0  \n",
       "'Brukin2D': A 2D visualization and comparison t...            0  \n",
       "'Double water exclusion': A hypothesis refining...            0  \n",
       "'Evidence of an auxin signal pathway, microRNA1...            0  \n",
       "'Genome design' model and multicellular complex...            0  "
      ]
     },
     "execution_count": 270,
     "metadata": {},
     "output_type": "execute_result"
    }
   ],
   "source": [
    "papers_gender_dist['most_female'] = np.where(papers_gender_dist['female']>papers_gender_dist['male'], 1, 0)\n",
    "papers_gender_dist['most_male'] = np.where(papers_gender_dist['male']>papers_gender_dist['female'], 1, 0)\n",
    "papers_gender_dist['equal_gender'] = np.where(papers_gender_dist['male']==papers_gender_dist['female'], 1, 0)\n",
    "papers_gender_dist['only_male'] = np.where((papers_gender_dist['female']==0) & (papers_gender_dist['unknown']==0), \n",
    "                                           1, 0)\n",
    "papers_gender_dist['only_female'] = np.where((papers_gender_dist['male']==0) & (papers_gender_dist['unknown']==0), \n",
    "                                             1, 0)\n",
    "papers_gender_dist.head()"
   ]
  },
  {
   "cell_type": "markdown",
   "metadata": {},
   "source": [
    "## Papers with mostly male authors"
   ]
  },
  {
   "cell_type": "code",
   "execution_count": 271,
   "metadata": {},
   "outputs": [
    {
     "name": "stdout",
     "output_type": "stream",
     "text": [
      "There are 21736(56.71%) papers which have mostly male authors\n"
     ]
    }
   ],
   "source": [
    "raw_num = papers_gender_dist['most_male'].sum()\n",
    "per_num = round(raw_num/papers_gender_dist.shape[0]*100,2)\n",
    "print('There are {}({}%) papers which have mostly male authors'.format(raw_num, per_num))"
   ]
  },
  {
   "cell_type": "markdown",
   "metadata": {},
   "source": [
    "## Papers with mostly female authors"
   ]
  },
  {
   "cell_type": "code",
   "execution_count": 272,
   "metadata": {},
   "outputs": [
    {
     "name": "stdout",
     "output_type": "stream",
     "text": [
      "There are 10553(27.53%) papers which have mostly female authors\n"
     ]
    }
   ],
   "source": [
    "raw_num = papers_gender_dist['most_female'].sum()\n",
    "per_num = round(raw_num/papers_gender_dist.shape[0]*100,2)\n",
    "print('There are {}({}%) papers which have mostly female authors'.format(raw_num, per_num))"
   ]
  },
  {
   "cell_type": "markdown",
   "metadata": {},
   "source": [
    "## Papers with only male authors"
   ]
  },
  {
   "cell_type": "code",
   "execution_count": 273,
   "metadata": {},
   "outputs": [
    {
     "name": "stdout",
     "output_type": "stream",
     "text": [
      "There are 8211(21.42%) papers which have only male authors\n"
     ]
    }
   ],
   "source": [
    "raw_num = papers_gender_dist['only_male'].sum()\n",
    "per_num = round(raw_num/papers_gender_dist.shape[0]*100,2)\n",
    "print('There are {}({}%) papers which have only male authors'.format(raw_num, per_num))"
   ]
  },
  {
   "cell_type": "markdown",
   "metadata": {},
   "source": [
    "## Papers with only female authors"
   ]
  },
  {
   "cell_type": "code",
   "execution_count": 274,
   "metadata": {},
   "outputs": [
    {
     "name": "stdout",
     "output_type": "stream",
     "text": [
      "There are 406(1.06%) papers which have only female authors\n"
     ]
    }
   ],
   "source": [
    "raw_num = papers_gender_dist['only_female'].sum()\n",
    "per_num = round(raw_num/papers_gender_dist.shape[0]*100,2)\n",
    "print('There are {}({}%) papers which have only female authors'.format(raw_num, per_num))"
   ]
  },
  {
   "cell_type": "markdown",
   "metadata": {},
   "source": [
    "## Papers with equal number of male and female authors"
   ]
  },
  {
   "cell_type": "code",
   "execution_count": 275,
   "metadata": {},
   "outputs": [
    {
     "name": "stdout",
     "output_type": "stream",
     "text": [
      "There are 6040(15.76%) papers which have equal number of male and female authors\n"
     ]
    }
   ],
   "source": [
    "raw_num = papers_gender_dist['equal_gender'].sum()\n",
    "per_num = round(raw_num/papers_gender_dist.shape[0]*100,2)\n",
    "print('There are {}({}%) papers which have equal number of male and female authors'.format(raw_num, per_num))"
   ]
  },
  {
   "cell_type": "markdown",
   "metadata": {},
   "source": [
    "## Distribution of first author genders"
   ]
  },
  {
   "cell_type": "code",
   "execution_count": 84,
   "metadata": {},
   "outputs": [
    {
     "data": {
      "text/plain": [
       "male             0.551042\n",
       "female           0.250163\n",
       "unknown          0.191599\n",
       "mostly_male      0.004433\n",
       "mostly_female    0.002190\n",
       "Name: author_gender, dtype: float64"
      ]
     },
     "execution_count": 84,
     "metadata": {},
     "output_type": "execute_result"
    }
   ],
   "source": [
    "papers_authors[papers_authors['author_position']==1].author_gender.value_counts()/papers.shape[0]"
   ]
  },
  {
   "cell_type": "markdown",
   "metadata": {},
   "source": [
    "## Number of papers with a woman as first author"
   ]
  },
  {
   "cell_type": "code",
   "execution_count": 85,
   "metadata": {},
   "outputs": [
    {
     "name": "stdout",
     "output_type": "stream",
     "text": [
      "There are 9594(25.02%) papers which have a woman as the first author\n"
     ]
    }
   ],
   "source": [
    "raw_num = papers_authors[(papers_authors['author_gender']=='female')&(papers_authors['author_position']==1)].shape[0]\n",
    "per_num = round(raw_num/papers.shape[0]*100,2)\n",
    "print('There are {}({}%) papers which have a woman as the first author'.format(raw_num, per_num))"
   ]
  },
  {
   "cell_type": "markdown",
   "metadata": {},
   "source": [
    "## Number of papers with a man as first author"
   ]
  },
  {
   "cell_type": "code",
   "execution_count": 86,
   "metadata": {},
   "outputs": [
    {
     "name": "stdout",
     "output_type": "stream",
     "text": [
      "There are 21133(55.1%) papers which have a man as the first author\n"
     ]
    }
   ],
   "source": [
    "raw_num = papers_authors[(papers_authors['author_gender']=='male')&(papers_authors['author_position']==1)].shape[0]\n",
    "per_num = round(raw_num/papers.shape[0]*100,2)\n",
    "print('There are {}({}%) papers which have a man as the first author'.format(raw_num, per_num))"
   ]
  },
  {
   "cell_type": "markdown",
   "metadata": {},
   "source": [
    "## Evolution of male and female authors by year"
   ]
  },
  {
   "cell_type": "code",
   "execution_count": 111,
   "metadata": {},
   "outputs": [],
   "source": [
    "papers_grouped_by_year = papers_authors.drop(['id', 'title', 'doi', 'category', 'author', 'author_position'], axis=1).\\\n",
    "    groupby(['year','author_gender'], as_index=False)\n",
    "agg_papers_grouped_df = papers_grouped_by_year[['author_gender']].agg({'author_gender': {'count_gender': 'count'}})"
   ]
  },
  {
   "cell_type": "code",
   "execution_count": 163,
   "metadata": {},
   "outputs": [
    {
     "data": {
      "text/html": [
       "<div>\n",
       "<style scoped>\n",
       "    .dataframe tbody tr th:only-of-type {\n",
       "        vertical-align: middle;\n",
       "    }\n",
       "\n",
       "    .dataframe tbody tr th {\n",
       "        vertical-align: top;\n",
       "    }\n",
       "\n",
       "    .dataframe thead th {\n",
       "        text-align: right;\n",
       "    }\n",
       "</style>\n",
       "<table border=\"1\" class=\"dataframe\">\n",
       "  <thead>\n",
       "    <tr style=\"text-align: right;\">\n",
       "      <th>author_gender</th>\n",
       "      <th>female</th>\n",
       "      <th>male</th>\n",
       "    </tr>\n",
       "    <tr>\n",
       "      <th>year</th>\n",
       "      <th></th>\n",
       "      <th></th>\n",
       "    </tr>\n",
       "  </thead>\n",
       "  <tbody>\n",
       "    <tr>\n",
       "      <th>2000</th>\n",
       "      <td>2.0</td>\n",
       "      <td>1.0</td>\n",
       "    </tr>\n",
       "    <tr>\n",
       "      <th>2001</th>\n",
       "      <td>1.0</td>\n",
       "      <td>1.0</td>\n",
       "    </tr>\n",
       "    <tr>\n",
       "      <th>2002</th>\n",
       "      <td>53.0</td>\n",
       "      <td>147.0</td>\n",
       "    </tr>\n",
       "    <tr>\n",
       "      <th>2003</th>\n",
       "      <td>100.0</td>\n",
       "      <td>273.0</td>\n",
       "    </tr>\n",
       "    <tr>\n",
       "      <th>2004</th>\n",
       "      <td>284.0</td>\n",
       "      <td>873.0</td>\n",
       "    </tr>\n",
       "  </tbody>\n",
       "</table>\n",
       "</div>"
      ],
      "text/plain": [
       "author_gender  female   male\n",
       "year                        \n",
       "2000              2.0    1.0\n",
       "2001              1.0    1.0\n",
       "2002             53.0  147.0\n",
       "2003            100.0  273.0\n",
       "2004            284.0  873.0"
      ]
     },
     "execution_count": 163,
     "metadata": {},
     "output_type": "execute_result"
    }
   ],
   "source": [
    "papers_gender_dist = agg_papers_grouped_df.pivot(columns='author_gender', values='count_gender', index='year')\n",
    "papers_gender_dist = papers_gender_dist.drop(['error_api', 'mostly_female', 'mostly_male', 'unknown'], axis=1)\n",
    "papers_gender_dist = papers_gender_dist.fillna(0)\n",
    "papers_gender_dist.head()"
   ]
  },
  {
   "cell_type": "code",
   "execution_count": 124,
   "metadata": {},
   "outputs": [
    {
     "data": {
      "image/png": "[encoded data removed]",
      "text/plain": [
       "<Figure size 864x576 with 1 Axes>"
      ]
     },
     "metadata": {
      "needs_background": "light"
     },
     "output_type": "display_data"
    }
   ],
   "source": [
    "papers_gender_dist.plot(lw=5)\n",
    "plt.gcf().set_size_inches(12, 8)"
   ]
  },
  {
   "cell_type": "markdown",
   "metadata": {},
   "source": [
    "## Position in papers of female authors"
   ]
  },
  {
   "cell_type": "code",
   "execution_count": 180,
   "metadata": {},
   "outputs": [
    {
     "name": "stderr",
     "output_type": "stream",
     "text": [
      "/home/jorge/python_venvs/gender_identification/lib/python3.6/site-packages/pandas/core/groupby/generic.py:1315: FutureWarning: using a dict with renaming is deprecated and will be removed in a future version\n",
      "  return super(DataFrameGroupBy, self).aggregate(arg, *args, **kwargs)\n"
     ]
    },
    {
     "data": {
      "text/html": [
       "<div>\n",
       "<style scoped>\n",
       "    .dataframe tbody tr th:only-of-type {\n",
       "        vertical-align: middle;\n",
       "    }\n",
       "\n",
       "    .dataframe tbody tr th {\n",
       "        vertical-align: top;\n",
       "    }\n",
       "\n",
       "    .dataframe thead th {\n",
       "        text-align: right;\n",
       "    }\n",
       "</style>\n",
       "<table border=\"1\" class=\"dataframe\">\n",
       "  <thead>\n",
       "    <tr style=\"text-align: right;\">\n",
       "      <th>author_position</th>\n",
       "      <th>1</th>\n",
       "      <th>2</th>\n",
       "      <th>3</th>\n",
       "      <th>4</th>\n",
       "      <th>5</th>\n",
       "      <th>6</th>\n",
       "      <th>7</th>\n",
       "      <th>8</th>\n",
       "      <th>9</th>\n",
       "      <th>10</th>\n",
       "      <th>...</th>\n",
       "      <th>92</th>\n",
       "      <th>93</th>\n",
       "      <th>95</th>\n",
       "      <th>103</th>\n",
       "      <th>107</th>\n",
       "      <th>117</th>\n",
       "      <th>118</th>\n",
       "      <th>120</th>\n",
       "      <th>126</th>\n",
       "      <th>129</th>\n",
       "    </tr>\n",
       "    <tr>\n",
       "      <th>author</th>\n",
       "      <th></th>\n",
       "      <th></th>\n",
       "      <th></th>\n",
       "      <th></th>\n",
       "      <th></th>\n",
       "      <th></th>\n",
       "      <th></th>\n",
       "      <th></th>\n",
       "      <th></th>\n",
       "      <th></th>\n",
       "      <th></th>\n",
       "      <th></th>\n",
       "      <th></th>\n",
       "      <th></th>\n",
       "      <th></th>\n",
       "      <th></th>\n",
       "      <th></th>\n",
       "      <th></th>\n",
       "      <th></th>\n",
       "      <th></th>\n",
       "      <th></th>\n",
       "    </tr>\n",
       "  </thead>\n",
       "  <tbody>\n",
       "    <tr>\n",
       "      <th>A A Fedorova</th>\n",
       "      <td>0.0</td>\n",
       "      <td>0.0</td>\n",
       "      <td>0.0</td>\n",
       "      <td>1.0</td>\n",
       "      <td>0.0</td>\n",
       "      <td>0.0</td>\n",
       "      <td>0.0</td>\n",
       "      <td>0.0</td>\n",
       "      <td>0.0</td>\n",
       "      <td>0.0</td>\n",
       "      <td>...</td>\n",
       "      <td>0.0</td>\n",
       "      <td>0.0</td>\n",
       "      <td>0.0</td>\n",
       "      <td>0.0</td>\n",
       "      <td>0.0</td>\n",
       "      <td>0.0</td>\n",
       "      <td>0.0</td>\n",
       "      <td>0.0</td>\n",
       "      <td>0.0</td>\n",
       "      <td>0.0</td>\n",
       "    </tr>\n",
       "    <tr>\n",
       "      <th>A Bendoraite</th>\n",
       "      <td>0.0</td>\n",
       "      <td>0.0</td>\n",
       "      <td>0.0</td>\n",
       "      <td>1.0</td>\n",
       "      <td>0.0</td>\n",
       "      <td>0.0</td>\n",
       "      <td>0.0</td>\n",
       "      <td>0.0</td>\n",
       "      <td>0.0</td>\n",
       "      <td>0.0</td>\n",
       "      <td>...</td>\n",
       "      <td>0.0</td>\n",
       "      <td>0.0</td>\n",
       "      <td>0.0</td>\n",
       "      <td>0.0</td>\n",
       "      <td>0.0</td>\n",
       "      <td>0.0</td>\n",
       "      <td>0.0</td>\n",
       "      <td>0.0</td>\n",
       "      <td>0.0</td>\n",
       "      <td>0.0</td>\n",
       "    </tr>\n",
       "    <tr>\n",
       "      <th>A K Shchyolkina</th>\n",
       "      <td>0.0</td>\n",
       "      <td>1.0</td>\n",
       "      <td>0.0</td>\n",
       "      <td>0.0</td>\n",
       "      <td>0.0</td>\n",
       "      <td>0.0</td>\n",
       "      <td>0.0</td>\n",
       "      <td>0.0</td>\n",
       "      <td>0.0</td>\n",
       "      <td>0.0</td>\n",
       "      <td>...</td>\n",
       "      <td>0.0</td>\n",
       "      <td>0.0</td>\n",
       "      <td>0.0</td>\n",
       "      <td>0.0</td>\n",
       "      <td>0.0</td>\n",
       "      <td>0.0</td>\n",
       "      <td>0.0</td>\n",
       "      <td>0.0</td>\n",
       "      <td>0.0</td>\n",
       "      <td>0.0</td>\n",
       "    </tr>\n",
       "    <tr>\n",
       "      <th>A V Lapuk</th>\n",
       "      <td>0.0</td>\n",
       "      <td>0.0</td>\n",
       "      <td>0.0</td>\n",
       "      <td>0.0</td>\n",
       "      <td>1.0</td>\n",
       "      <td>0.0</td>\n",
       "      <td>0.0</td>\n",
       "      <td>0.0</td>\n",
       "      <td>0.0</td>\n",
       "      <td>0.0</td>\n",
       "      <td>...</td>\n",
       "      <td>0.0</td>\n",
       "      <td>0.0</td>\n",
       "      <td>0.0</td>\n",
       "      <td>0.0</td>\n",
       "      <td>0.0</td>\n",
       "      <td>0.0</td>\n",
       "      <td>0.0</td>\n",
       "      <td>0.0</td>\n",
       "      <td>0.0</td>\n",
       "      <td>0.0</td>\n",
       "    </tr>\n",
       "    <tr>\n",
       "      <th>A-Lien Lu</th>\n",
       "      <td>0.0</td>\n",
       "      <td>0.0</td>\n",
       "      <td>0.0</td>\n",
       "      <td>0.0</td>\n",
       "      <td>0.0</td>\n",
       "      <td>0.0</td>\n",
       "      <td>2.0</td>\n",
       "      <td>0.0</td>\n",
       "      <td>0.0</td>\n",
       "      <td>0.0</td>\n",
       "      <td>...</td>\n",
       "      <td>0.0</td>\n",
       "      <td>0.0</td>\n",
       "      <td>0.0</td>\n",
       "      <td>0.0</td>\n",
       "      <td>0.0</td>\n",
       "      <td>0.0</td>\n",
       "      <td>0.0</td>\n",
       "      <td>0.0</td>\n",
       "      <td>0.0</td>\n",
       "      <td>0.0</td>\n",
       "    </tr>\n",
       "  </tbody>\n",
       "</table>\n",
       "<p>5 rows × 89 columns</p>\n",
       "</div>"
      ],
      "text/plain": [
       "author_position  1    2    3    4    5    6    7    8    9    10   ...  92   \\\n",
       "author                                                             ...        \n",
       "A A Fedorova     0.0  0.0  0.0  1.0  0.0  0.0  0.0  0.0  0.0  0.0  ...  0.0   \n",
       "A Bendoraite     0.0  0.0  0.0  1.0  0.0  0.0  0.0  0.0  0.0  0.0  ...  0.0   \n",
       "A K Shchyolkina  0.0  1.0  0.0  0.0  0.0  0.0  0.0  0.0  0.0  0.0  ...  0.0   \n",
       "A V Lapuk        0.0  0.0  0.0  0.0  1.0  0.0  0.0  0.0  0.0  0.0  ...  0.0   \n",
       "A-Lien Lu        0.0  0.0  0.0  0.0  0.0  0.0  2.0  0.0  0.0  0.0  ...  0.0   \n",
       "\n",
       "author_position  93   95   103  107  117  118  120  126  129  \n",
       "author                                                        \n",
       "A A Fedorova     0.0  0.0  0.0  0.0  0.0  0.0  0.0  0.0  0.0  \n",
       "A Bendoraite     0.0  0.0  0.0  0.0  0.0  0.0  0.0  0.0  0.0  \n",
       "A K Shchyolkina  0.0  0.0  0.0  0.0  0.0  0.0  0.0  0.0  0.0  \n",
       "A V Lapuk        0.0  0.0  0.0  0.0  0.0  0.0  0.0  0.0  0.0  \n",
       "A-Lien Lu        0.0  0.0  0.0  0.0  0.0  0.0  0.0  0.0  0.0  \n",
       "\n",
       "[5 rows x 89 columns]"
      ]
     },
     "execution_count": 180,
     "metadata": {},
     "output_type": "execute_result"
    }
   ],
   "source": [
    "# filter out male authors\n",
    "female_authors = papers_authors[papers_authors['author_gender']=='female']\n",
    "# drop unneccesary columns\n",
    "female_authors = female_authors.drop(['id', 'title', 'doi', 'year', 'category', 'author_gender'], axis=1)\n",
    "# group rows authors by author\n",
    "female_authors_grouped_by_position = female_authors.groupby(['author','author_position'], as_index=False)\n",
    "# compute frequency of positions\n",
    "agg_fa_grouped_df = female_authors_grouped_by_position[['author_position']].\\\n",
    "    agg({'author_position': {'count_position': 'count'}})\n",
    "# pivot table\n",
    "female_authors_pos = agg_fa_grouped_df.pivot(columns='author_position', values='count_position', index='author')\n",
    "# fill na values with zero\n",
    "female_authors_pos = female_authors_pos.fillna(0)\n",
    "female_authors_pos.head()"
   ]
  },
  {
   "cell_type": "code",
   "execution_count": 204,
   "metadata": {},
   "outputs": [],
   "source": [
    "female_authors_pos['freq_pos'] = female_authors_pos.idxmax(axis=1)  #.value_counts()[:10]"
   ]
  },
  {
   "cell_type": "code",
   "execution_count": 208,
   "metadata": {},
   "outputs": [
    {
     "data": {
      "text/html": [
       "<div>\n",
       "<style scoped>\n",
       "    .dataframe tbody tr th:only-of-type {\n",
       "        vertical-align: middle;\n",
       "    }\n",
       "\n",
       "    .dataframe tbody tr th {\n",
       "        vertical-align: top;\n",
       "    }\n",
       "\n",
       "    .dataframe thead th {\n",
       "        text-align: right;\n",
       "    }\n",
       "</style>\n",
       "<table border=\"1\" class=\"dataframe\">\n",
       "  <thead>\n",
       "    <tr style=\"text-align: right;\">\n",
       "      <th>author_position</th>\n",
       "      <th>1</th>\n",
       "      <th>2</th>\n",
       "      <th>3</th>\n",
       "      <th>4</th>\n",
       "      <th>5</th>\n",
       "      <th>6</th>\n",
       "      <th>7</th>\n",
       "      <th>8</th>\n",
       "      <th>9</th>\n",
       "      <th>10</th>\n",
       "      <th>...</th>\n",
       "      <th>93</th>\n",
       "      <th>95</th>\n",
       "      <th>103</th>\n",
       "      <th>107</th>\n",
       "      <th>117</th>\n",
       "      <th>118</th>\n",
       "      <th>120</th>\n",
       "      <th>126</th>\n",
       "      <th>129</th>\n",
       "      <th>freq_pos</th>\n",
       "    </tr>\n",
       "    <tr>\n",
       "      <th>author</th>\n",
       "      <th></th>\n",
       "      <th></th>\n",
       "      <th></th>\n",
       "      <th></th>\n",
       "      <th></th>\n",
       "      <th></th>\n",
       "      <th></th>\n",
       "      <th></th>\n",
       "      <th></th>\n",
       "      <th></th>\n",
       "      <th></th>\n",
       "      <th></th>\n",
       "      <th></th>\n",
       "      <th></th>\n",
       "      <th></th>\n",
       "      <th></th>\n",
       "      <th></th>\n",
       "      <th></th>\n",
       "      <th></th>\n",
       "      <th></th>\n",
       "      <th></th>\n",
       "    </tr>\n",
       "  </thead>\n",
       "  <tbody>\n",
       "    <tr>\n",
       "      <th>Aafke A van den Berg</th>\n",
       "      <td>1.0</td>\n",
       "      <td>0.0</td>\n",
       "      <td>0.0</td>\n",
       "      <td>0.0</td>\n",
       "      <td>0.0</td>\n",
       "      <td>0.0</td>\n",
       "      <td>0.0</td>\n",
       "      <td>0.0</td>\n",
       "      <td>0.0</td>\n",
       "      <td>0.0</td>\n",
       "      <td>...</td>\n",
       "      <td>0.0</td>\n",
       "      <td>0.0</td>\n",
       "      <td>0.0</td>\n",
       "      <td>0.0</td>\n",
       "      <td>0.0</td>\n",
       "      <td>0.0</td>\n",
       "      <td>0.0</td>\n",
       "      <td>0.0</td>\n",
       "      <td>0.0</td>\n",
       "      <td>1</td>\n",
       "    </tr>\n",
       "    <tr>\n",
       "      <th>Aafke W F Janssen</th>\n",
       "      <td>1.0</td>\n",
       "      <td>0.0</td>\n",
       "      <td>0.0</td>\n",
       "      <td>0.0</td>\n",
       "      <td>0.0</td>\n",
       "      <td>0.0</td>\n",
       "      <td>0.0</td>\n",
       "      <td>0.0</td>\n",
       "      <td>0.0</td>\n",
       "      <td>0.0</td>\n",
       "      <td>...</td>\n",
       "      <td>0.0</td>\n",
       "      <td>0.0</td>\n",
       "      <td>0.0</td>\n",
       "      <td>0.0</td>\n",
       "      <td>0.0</td>\n",
       "      <td>0.0</td>\n",
       "      <td>0.0</td>\n",
       "      <td>0.0</td>\n",
       "      <td>0.0</td>\n",
       "      <td>1</td>\n",
       "    </tr>\n",
       "    <tr>\n",
       "      <th>Aakrosh Ratan</th>\n",
       "      <td>2.0</td>\n",
       "      <td>1.0</td>\n",
       "      <td>0.0</td>\n",
       "      <td>0.0</td>\n",
       "      <td>1.0</td>\n",
       "      <td>0.0</td>\n",
       "      <td>0.0</td>\n",
       "      <td>1.0</td>\n",
       "      <td>0.0</td>\n",
       "      <td>0.0</td>\n",
       "      <td>...</td>\n",
       "      <td>0.0</td>\n",
       "      <td>0.0</td>\n",
       "      <td>0.0</td>\n",
       "      <td>0.0</td>\n",
       "      <td>0.0</td>\n",
       "      <td>0.0</td>\n",
       "      <td>0.0</td>\n",
       "      <td>0.0</td>\n",
       "      <td>0.0</td>\n",
       "      <td>1</td>\n",
       "    </tr>\n",
       "    <tr>\n",
       "      <th>Aamira Tariq</th>\n",
       "      <td>1.0</td>\n",
       "      <td>0.0</td>\n",
       "      <td>0.0</td>\n",
       "      <td>0.0</td>\n",
       "      <td>0.0</td>\n",
       "      <td>0.0</td>\n",
       "      <td>0.0</td>\n",
       "      <td>0.0</td>\n",
       "      <td>0.0</td>\n",
       "      <td>0.0</td>\n",
       "      <td>...</td>\n",
       "      <td>0.0</td>\n",
       "      <td>0.0</td>\n",
       "      <td>0.0</td>\n",
       "      <td>0.0</td>\n",
       "      <td>0.0</td>\n",
       "      <td>0.0</td>\n",
       "      <td>0.0</td>\n",
       "      <td>0.0</td>\n",
       "      <td>0.0</td>\n",
       "      <td>1</td>\n",
       "    </tr>\n",
       "    <tr>\n",
       "      <th>Aanchal Katoch</th>\n",
       "      <td>1.0</td>\n",
       "      <td>0.0</td>\n",
       "      <td>0.0</td>\n",
       "      <td>0.0</td>\n",
       "      <td>0.0</td>\n",
       "      <td>0.0</td>\n",
       "      <td>0.0</td>\n",
       "      <td>0.0</td>\n",
       "      <td>0.0</td>\n",
       "      <td>0.0</td>\n",
       "      <td>...</td>\n",
       "      <td>0.0</td>\n",
       "      <td>0.0</td>\n",
       "      <td>0.0</td>\n",
       "      <td>0.0</td>\n",
       "      <td>0.0</td>\n",
       "      <td>0.0</td>\n",
       "      <td>0.0</td>\n",
       "      <td>0.0</td>\n",
       "      <td>0.0</td>\n",
       "      <td>1</td>\n",
       "    </tr>\n",
       "    <tr>\n",
       "      <th>Aarti Garg</th>\n",
       "      <td>4.0</td>\n",
       "      <td>0.0</td>\n",
       "      <td>0.0</td>\n",
       "      <td>0.0</td>\n",
       "      <td>0.0</td>\n",
       "      <td>0.0</td>\n",
       "      <td>0.0</td>\n",
       "      <td>0.0</td>\n",
       "      <td>0.0</td>\n",
       "      <td>0.0</td>\n",
       "      <td>...</td>\n",
       "      <td>0.0</td>\n",
       "      <td>0.0</td>\n",
       "      <td>0.0</td>\n",
       "      <td>0.0</td>\n",
       "      <td>0.0</td>\n",
       "      <td>0.0</td>\n",
       "      <td>0.0</td>\n",
       "      <td>0.0</td>\n",
       "      <td>0.0</td>\n",
       "      <td>1</td>\n",
       "    </tr>\n",
       "    <tr>\n",
       "      <th>Aarti Sevilimedu</th>\n",
       "      <td>1.0</td>\n",
       "      <td>0.0</td>\n",
       "      <td>1.0</td>\n",
       "      <td>0.0</td>\n",
       "      <td>0.0</td>\n",
       "      <td>0.0</td>\n",
       "      <td>0.0</td>\n",
       "      <td>0.0</td>\n",
       "      <td>0.0</td>\n",
       "      <td>0.0</td>\n",
       "      <td>...</td>\n",
       "      <td>0.0</td>\n",
       "      <td>0.0</td>\n",
       "      <td>0.0</td>\n",
       "      <td>0.0</td>\n",
       "      <td>0.0</td>\n",
       "      <td>0.0</td>\n",
       "      <td>0.0</td>\n",
       "      <td>0.0</td>\n",
       "      <td>0.0</td>\n",
       "      <td>1</td>\n",
       "    </tr>\n",
       "    <tr>\n",
       "      <th>Abbey B Holt</th>\n",
       "      <td>1.0</td>\n",
       "      <td>0.0</td>\n",
       "      <td>0.0</td>\n",
       "      <td>0.0</td>\n",
       "      <td>0.0</td>\n",
       "      <td>0.0</td>\n",
       "      <td>0.0</td>\n",
       "      <td>0.0</td>\n",
       "      <td>0.0</td>\n",
       "      <td>0.0</td>\n",
       "      <td>...</td>\n",
       "      <td>0.0</td>\n",
       "      <td>0.0</td>\n",
       "      <td>0.0</td>\n",
       "      <td>0.0</td>\n",
       "      <td>0.0</td>\n",
       "      <td>0.0</td>\n",
       "      <td>0.0</td>\n",
       "      <td>0.0</td>\n",
       "      <td>0.0</td>\n",
       "      <td>1</td>\n",
       "    </tr>\n",
       "    <tr>\n",
       "      <th>Abha Singh Bais</th>\n",
       "      <td>1.0</td>\n",
       "      <td>0.0</td>\n",
       "      <td>0.0</td>\n",
       "      <td>0.0</td>\n",
       "      <td>0.0</td>\n",
       "      <td>0.0</td>\n",
       "      <td>0.0</td>\n",
       "      <td>0.0</td>\n",
       "      <td>0.0</td>\n",
       "      <td>0.0</td>\n",
       "      <td>...</td>\n",
       "      <td>0.0</td>\n",
       "      <td>0.0</td>\n",
       "      <td>0.0</td>\n",
       "      <td>0.0</td>\n",
       "      <td>0.0</td>\n",
       "      <td>0.0</td>\n",
       "      <td>0.0</td>\n",
       "      <td>0.0</td>\n",
       "      <td>0.0</td>\n",
       "      <td>1</td>\n",
       "    </tr>\n",
       "    <tr>\n",
       "      <th>Abibatou Mbodj</th>\n",
       "      <td>1.0</td>\n",
       "      <td>0.0</td>\n",
       "      <td>0.0</td>\n",
       "      <td>0.0</td>\n",
       "      <td>0.0</td>\n",
       "      <td>0.0</td>\n",
       "      <td>0.0</td>\n",
       "      <td>0.0</td>\n",
       "      <td>0.0</td>\n",
       "      <td>0.0</td>\n",
       "      <td>...</td>\n",
       "      <td>0.0</td>\n",
       "      <td>0.0</td>\n",
       "      <td>0.0</td>\n",
       "      <td>0.0</td>\n",
       "      <td>0.0</td>\n",
       "      <td>0.0</td>\n",
       "      <td>0.0</td>\n",
       "      <td>0.0</td>\n",
       "      <td>0.0</td>\n",
       "      <td>1</td>\n",
       "    </tr>\n",
       "  </tbody>\n",
       "</table>\n",
       "<p>10 rows × 90 columns</p>\n",
       "</div>"
      ],
      "text/plain": [
       "author_position         1    2    3    4    5    6    7    8    9   10  ...  \\\n",
       "author                                                                  ...   \n",
       "Aafke A van den Berg  1.0  0.0  0.0  0.0  0.0  0.0  0.0  0.0  0.0  0.0  ...   \n",
       "Aafke W F Janssen     1.0  0.0  0.0  0.0  0.0  0.0  0.0  0.0  0.0  0.0  ...   \n",
       "Aakrosh Ratan         2.0  1.0  0.0  0.0  1.0  0.0  0.0  1.0  0.0  0.0  ...   \n",
       "Aamira Tariq          1.0  0.0  0.0  0.0  0.0  0.0  0.0  0.0  0.0  0.0  ...   \n",
       "Aanchal Katoch        1.0  0.0  0.0  0.0  0.0  0.0  0.0  0.0  0.0  0.0  ...   \n",
       "Aarti Garg            4.0  0.0  0.0  0.0  0.0  0.0  0.0  0.0  0.0  0.0  ...   \n",
       "Aarti Sevilimedu      1.0  0.0  1.0  0.0  0.0  0.0  0.0  0.0  0.0  0.0  ...   \n",
       "Abbey B Holt          1.0  0.0  0.0  0.0  0.0  0.0  0.0  0.0  0.0  0.0  ...   \n",
       "Abha Singh Bais       1.0  0.0  0.0  0.0  0.0  0.0  0.0  0.0  0.0  0.0  ...   \n",
       "Abibatou Mbodj        1.0  0.0  0.0  0.0  0.0  0.0  0.0  0.0  0.0  0.0  ...   \n",
       "\n",
       "author_position        93   95  103  107  117  118  120  126  129  freq_pos  \n",
       "author                                                                       \n",
       "Aafke A van den Berg  0.0  0.0  0.0  0.0  0.0  0.0  0.0  0.0  0.0         1  \n",
       "Aafke W F Janssen     0.0  0.0  0.0  0.0  0.0  0.0  0.0  0.0  0.0         1  \n",
       "Aakrosh Ratan         0.0  0.0  0.0  0.0  0.0  0.0  0.0  0.0  0.0         1  \n",
       "Aamira Tariq          0.0  0.0  0.0  0.0  0.0  0.0  0.0  0.0  0.0         1  \n",
       "Aanchal Katoch        0.0  0.0  0.0  0.0  0.0  0.0  0.0  0.0  0.0         1  \n",
       "Aarti Garg            0.0  0.0  0.0  0.0  0.0  0.0  0.0  0.0  0.0         1  \n",
       "Aarti Sevilimedu      0.0  0.0  0.0  0.0  0.0  0.0  0.0  0.0  0.0         1  \n",
       "Abbey B Holt          0.0  0.0  0.0  0.0  0.0  0.0  0.0  0.0  0.0         1  \n",
       "Abha Singh Bais       0.0  0.0  0.0  0.0  0.0  0.0  0.0  0.0  0.0         1  \n",
       "Abibatou Mbodj        0.0  0.0  0.0  0.0  0.0  0.0  0.0  0.0  0.0         1  \n",
       "\n",
       "[10 rows x 90 columns]"
      ]
     },
     "execution_count": 208,
     "metadata": {},
     "output_type": "execute_result"
    }
   ],
   "source": [
    "female_authors_pos[female_authors_pos['freq_pos']==1].head(10)"
   ]
  },
  {
   "cell_type": "markdown",
   "metadata": {},
   "source": [
    "### Positions most frequently occuped by female authors in papres"
   ]
  },
  {
   "cell_type": "code",
   "execution_count": 288,
   "metadata": {},
   "outputs": [
    {
     "data": {
      "text/plain": [
       "1     7717\n",
       "2     6823\n",
       "3     5665\n",
       "4     4301\n",
       "5     3021\n",
       "6     2184\n",
       "7     1539\n",
       "8      998\n",
       "9      695\n",
       "10     482\n",
       "Name: freq_pos, dtype: int64"
      ]
     },
     "execution_count": 288,
     "metadata": {},
     "output_type": "execute_result"
    }
   ],
   "source": [
    "female_authors_pos['freq_pos'].value_counts()[:10]"
   ]
  },
  {
   "cell_type": "code",
   "execution_count": 247,
   "metadata": {},
   "outputs": [
    {
     "name": "stdout",
     "output_type": "stream",
     "text": [
      "There are 9594 (25.03%) papers led by a woman\n",
      "In 8821 (91.94%) of this papers there are also men as co-authors\n"
     ]
    }
   ],
   "source": [
    "title_papers_led_female = papers_authors[(papers_authors['author_gender']=='female') & \\\n",
    "                                         (papers_authors['author_position']==1)]['title']\n",
    "papers_led_female = papers_authors[papers_authors['title'].isin(title_papers_led_female)]\n",
    "papers_led_female = papers_led_female.drop(['id', 'doi', 'year', 'category', 'author', 'author_position'], axis=1)\n",
    "papers_led_female_grouped_by_title = papers_led_female.groupby(['title','author_gender'], \\\n",
    "                                                               sort=False, as_index=False)\n",
    "agg_papers_grouped_lbf = papers_led_female_grouped_by_title[['author_gender']].\\\n",
    "    agg({'author_gender': {'count_gender': 'count'}})\n",
    "agg_papers_grouped_lbf.head()\n",
    "papers_led_female_df = agg_papers_grouped_lbf.pivot(columns='author_gender', values='count_gender', index='title') \n",
    "papers_led_female_df = papers_led_female_df.drop(['error_api', 'mostly_female', 'mostly_male'], axis=1)\n",
    "papers_led_female_df = papers_led_female_df.fillna(0)\n",
    "num_papers_led_by_woman = papers_led_female_df.shape[0]\n",
    "per_papers_led_by_woman = round(num_papers_led_by_woman/papers.shape[0]*100,2)\n",
    "print('There are {} ({}%) papers led by a woman'.format(num_papers_led_by_woman, per_papers_led_by_woman))\n",
    "num_papers_led_by_woman_men = papers_led_female_df[papers_led_female_df['male']>0].shape[0]\n",
    "per_papers_led_by_woman_men = round(num_papers_led_by_woman_men/num_papers_led_by_woman*100,2)\n",
    "print('In {} ({}%) of this papers there are also men as co-authors'.format(num_papers_led_by_woman_men, \\\n",
    "                                                                          per_papers_led_by_woman_men))"
   ]
  }
 ],
 "metadata": {
  "kernelspec": {
   "display_name": "Python 3",
   "language": "python",
   "name": "python3"
  },
  "language_info": {
   "codemirror_mode": {
    "name": "ipython",
    "version": 3
   },
   "file_extension": ".py",
   "mimetype": "text/x-python",
   "name": "python",
   "nbconvert_exporter": "python",
   "pygments_lexer": "ipython3",
   "version": "3.6.7"
  }
 },
 "nbformat": 4,
 "nbformat_minor": 2
}
