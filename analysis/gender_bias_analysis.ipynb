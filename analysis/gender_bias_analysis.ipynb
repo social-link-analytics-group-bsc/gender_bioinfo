{
 "cells": [
  {
   "cell_type": "markdown",
   "metadata": {},
   "source": [
    "# Gender bias in Bioinformatics"
   ]
  },
  {
   "cell_type": "markdown",
   "metadata": {},
   "source": [
    "This notebook shows a series of analyses conducted to study gender bians in bioinformatics. By talking the case of studies of the five most important journals in the area (nucleids acid research, bmc genomics, bmc bioinformatics, oxford bioinformatics, plos computational biology) we analyze bias in the autorship of the papers."
   ]
  },
  {
   "cell_type": "code",
   "execution_count": 1,
   "metadata": {},
   "outputs": [],
   "source": [
    "%matplotlib inline\n",
    "\n",
    "# Import libraries\n",
    "import os\n",
    "import pandas as pd\n",
    "import matplotlib.pyplot as plt\n",
    "import seaborn as sns\n",
    "import numpy as np\n",
    "from scipy.stats import ttest_ind\n",
    "\n",
    "os.chdir('..')\n",
    "\n",
    "from db_manager import DBManager\n",
    "\n",
    "plt.style.use('seaborn')"
   ]
  },
  {
   "cell_type": "code",
   "execution_count": 2,
   "metadata": {},
   "outputs": [],
   "source": [
    "# Save current dir in case it can be useful\n",
    "project_dir = os.getcwd()"
   ]
  },
  {
   "cell_type": "markdown",
   "metadata": {},
   "source": [
    "# Papers"
   ]
  },
  {
   "cell_type": "code",
   "execution_count": 681,
   "metadata": {},
   "outputs": [],
   "source": [
    "# Get data\n",
    "papers = pd.read_csv(project_dir + '/data/papers.csv')"
   ]
  },
  {
   "cell_type": "code",
   "execution_count": 682,
   "metadata": {},
   "outputs": [
    {
     "name": "stdout",
     "output_type": "stream",
     "text": [
      "Total papers: 38350\n"
     ]
    }
   ],
   "source": [
    "print(\"Total papers: \" + str(papers.shape[0]))"
   ]
  },
  {
   "cell_type": "markdown",
   "metadata": {},
   "source": [
    "## Data structure"
   ]
  },
  {
   "cell_type": "code",
   "execution_count": 683,
   "metadata": {},
   "outputs": [
    {
     "data": {
      "text/html": [
       "<div>\n",
       "<style scoped>\n",
       "    .dataframe tbody tr th:only-of-type {\n",
       "        vertical-align: middle;\n",
       "    }\n",
       "\n",
       "    .dataframe tbody tr th {\n",
       "        vertical-align: top;\n",
       "    }\n",
       "\n",
       "    .dataframe thead th {\n",
       "        text-align: right;\n",
       "    }\n",
       "</style>\n",
       "<table border=\"1\" class=\"dataframe\">\n",
       "  <thead>\n",
       "    <tr style=\"text-align: right;\">\n",
       "      <th></th>\n",
       "      <th>id</th>\n",
       "      <th>title</th>\n",
       "      <th>DOI</th>\n",
       "      <th>year</th>\n",
       "      <th>source</th>\n",
       "      <th>citations</th>\n",
       "      <th>edamCategory</th>\n",
       "      <th>link</th>\n",
       "      <th>authors</th>\n",
       "      <th>gender_last_author</th>\n",
       "    </tr>\n",
       "  </thead>\n",
       "  <tbody>\n",
       "    <tr>\n",
       "      <th>0</th>\n",
       "      <td>1</td>\n",
       "      <td>A peptide-based method for 13C Metabolic Flux ...</td>\n",
       "      <td>10.1371/journal.pcbi.1003827</td>\n",
       "      <td>2014</td>\n",
       "      <td>plos computational biology</td>\n",
       "      <td>7</td>\n",
       "      <td>Omics &gt; Genomics &gt; Transcriptomics</td>\n",
       "      <td>https://journals.plos.org/ploscompbiol/article...</td>\n",
       "      <td>8.0</td>\n",
       "      <td>male</td>\n",
       "    </tr>\n",
       "    <tr>\n",
       "      <th>1</th>\n",
       "      <td>2</td>\n",
       "      <td>Baseline CD4+ T cell counts correlates with HI...</td>\n",
       "      <td>10.1371/journal.pcbi.1003830</td>\n",
       "      <td>2014</td>\n",
       "      <td>plos computational biology</td>\n",
       "      <td>0</td>\n",
       "      <td>Computational Biology &gt; Phylogeny</td>\n",
       "      <td>https://journals.plos.org/ploscompbiol/article...</td>\n",
       "      <td>10.0</td>\n",
       "      <td>male</td>\n",
       "    </tr>\n",
       "    <tr>\n",
       "      <th>2</th>\n",
       "      <td>3</td>\n",
       "      <td>Evolution of the F0F1 ATP Synthase Complex in ...</td>\n",
       "      <td>10.1371/journal.pcbi.1003821</td>\n",
       "      <td>2014</td>\n",
       "      <td>plos computational biology</td>\n",
       "      <td>8</td>\n",
       "      <td>Computational Biology &gt; Structure analysis</td>\n",
       "      <td>https://journals.plos.org/ploscompbiol/article...</td>\n",
       "      <td>2.0</td>\n",
       "      <td>female</td>\n",
       "    </tr>\n",
       "    <tr>\n",
       "      <th>3</th>\n",
       "      <td>4</td>\n",
       "      <td>Dynamic Modelling of Pathways to Cellular Sene...</td>\n",
       "      <td>10.1371/journal.pcbi.1003728</td>\n",
       "      <td>2014</td>\n",
       "      <td>plos computational biology</td>\n",
       "      <td>12</td>\n",
       "      <td>Computational Biology &gt; Phylogeny</td>\n",
       "      <td>https://journals.plos.org/ploscompbiol/article...</td>\n",
       "      <td>7.0</td>\n",
       "      <td>male</td>\n",
       "    </tr>\n",
       "    <tr>\n",
       "      <th>4</th>\n",
       "      <td>5</td>\n",
       "      <td>Unbiased Functional Clustering of Gene Variant...</td>\n",
       "      <td>10.1371/journal.pcbi.1003815</td>\n",
       "      <td>2014</td>\n",
       "      <td>plos computational biology</td>\n",
       "      <td>7</td>\n",
       "      <td>Omics &gt; Genomics &gt; Functional genomics</td>\n",
       "      <td>https://journals.plos.org/ploscompbiol/article...</td>\n",
       "      <td>3.0</td>\n",
       "      <td>male</td>\n",
       "    </tr>\n",
       "  </tbody>\n",
       "</table>\n",
       "</div>"
      ],
      "text/plain": [
       "   id                                              title  \\\n",
       "0   1  A peptide-based method for 13C Metabolic Flux ...   \n",
       "1   2  Baseline CD4+ T cell counts correlates with HI...   \n",
       "2   3  Evolution of the F0F1 ATP Synthase Complex in ...   \n",
       "3   4  Dynamic Modelling of Pathways to Cellular Sene...   \n",
       "4   5  Unbiased Functional Clustering of Gene Variant...   \n",
       "\n",
       "                            DOI  year                      source  citations  \\\n",
       "0  10.1371/journal.pcbi.1003827  2014  plos computational biology          7   \n",
       "1  10.1371/journal.pcbi.1003830  2014  plos computational biology          0   \n",
       "2  10.1371/journal.pcbi.1003821  2014  plos computational biology          8   \n",
       "3  10.1371/journal.pcbi.1003728  2014  plos computational biology         12   \n",
       "4  10.1371/journal.pcbi.1003815  2014  plos computational biology          7   \n",
       "\n",
       "                                 edamCategory  \\\n",
       "0          Omics > Genomics > Transcriptomics   \n",
       "1           Computational Biology > Phylogeny   \n",
       "2  Computational Biology > Structure analysis   \n",
       "3           Computational Biology > Phylogeny   \n",
       "4      Omics > Genomics > Functional genomics   \n",
       "\n",
       "                                                link  authors  \\\n",
       "0  https://journals.plos.org/ploscompbiol/article...      8.0   \n",
       "1  https://journals.plos.org/ploscompbiol/article...     10.0   \n",
       "2  https://journals.plos.org/ploscompbiol/article...      2.0   \n",
       "3  https://journals.plos.org/ploscompbiol/article...      7.0   \n",
       "4  https://journals.plos.org/ploscompbiol/article...      3.0   \n",
       "\n",
       "  gender_last_author  \n",
       "0               male  \n",
       "1               male  \n",
       "2             female  \n",
       "3               male  \n",
       "4               male  "
      ]
     },
     "execution_count": 683,
     "metadata": {},
     "output_type": "execute_result"
    }
   ],
   "source": [
    "papers.head()"
   ]
  },
  {
   "cell_type": "markdown",
   "metadata": {},
   "source": [
    "### Papers without authors"
   ]
  },
  {
   "cell_type": "code",
   "execution_count": 684,
   "metadata": {},
   "outputs": [
    {
     "name": "stdout",
     "output_type": "stream",
     "text": [
      "Papers without authors 22\n"
     ]
    },
    {
     "data": {
      "text/html": [
       "<div>\n",
       "<style scoped>\n",
       "    .dataframe tbody tr th:only-of-type {\n",
       "        vertical-align: middle;\n",
       "    }\n",
       "\n",
       "    .dataframe tbody tr th {\n",
       "        vertical-align: top;\n",
       "    }\n",
       "\n",
       "    .dataframe thead th {\n",
       "        text-align: right;\n",
       "    }\n",
       "</style>\n",
       "<table border=\"1\" class=\"dataframe\">\n",
       "  <thead>\n",
       "    <tr style=\"text-align: right;\">\n",
       "      <th></th>\n",
       "      <th>id</th>\n",
       "      <th>title</th>\n",
       "      <th>DOI</th>\n",
       "      <th>year</th>\n",
       "      <th>source</th>\n",
       "      <th>citations</th>\n",
       "      <th>edamCategory</th>\n",
       "      <th>link</th>\n",
       "      <th>authors</th>\n",
       "      <th>gender_last_author</th>\n",
       "    </tr>\n",
       "  </thead>\n",
       "  <tbody>\n",
       "    <tr>\n",
       "      <th>2284</th>\n",
       "      <td>2285</td>\n",
       "      <td>The gene ontology's reference genome project: ...</td>\n",
       "      <td>10.1371/journal.pcbi.1000431</td>\n",
       "      <td>2009</td>\n",
       "      <td>plos computational biology</td>\n",
       "      <td>59</td>\n",
       "      <td>Computational Biology &gt; Molecular genetics</td>\n",
       "      <td>https://journals.plos.org/ploscompbiol/article...</td>\n",
       "      <td>0.0</td>\n",
       "      <td>-</td>\n",
       "    </tr>\n",
       "    <tr>\n",
       "      <th>8602</th>\n",
       "      <td>8603</td>\n",
       "      <td>GenomeBlast: A web tool for small genome compa...</td>\n",
       "      <td>10.1186/1474-2105-7-S4-S18</td>\n",
       "      <td>2006</td>\n",
       "      <td>bmc bioinformatics</td>\n",
       "      <td>15</td>\n",
       "      <td>Computational Biology &gt; Molecular genetics</td>\n",
       "      <td>https://dx.doi.org/</td>\n",
       "      <td>NaN</td>\n",
       "      <td>NaN</td>\n",
       "    </tr>\n",
       "    <tr>\n",
       "      <th>9492</th>\n",
       "      <td>9493</td>\n",
       "      <td>Clustering proteins from interaction networks ...</td>\n",
       "      <td>10.1186/147-2105-5-95</td>\n",
       "      <td>2004</td>\n",
       "      <td>bmc bioinformatics</td>\n",
       "      <td>86</td>\n",
       "      <td>Computational Biology &gt; Molecular interactions...</td>\n",
       "      <td>https://dx.doi.org/</td>\n",
       "      <td>NaN</td>\n",
       "      <td>NaN</td>\n",
       "    </tr>\n",
       "    <tr>\n",
       "      <th>19922</th>\n",
       "      <td>19923</td>\n",
       "      <td>The Universal Protein resource (UniProt)</td>\n",
       "      <td>10.1093/nar/gkm895</td>\n",
       "      <td>2008</td>\n",
       "      <td>nucleic acids research</td>\n",
       "      <td>601</td>\n",
       "      <td>Computational Biology &gt; Molecular interactions...</td>\n",
       "      <td>https://academic.oup.com/nar/article/36/suppl_...</td>\n",
       "      <td>0.0</td>\n",
       "      <td>-</td>\n",
       "    </tr>\n",
       "    <tr>\n",
       "      <th>20068</th>\n",
       "      <td>20069</td>\n",
       "      <td>Altered stoichiometry Escherichia coli Cascade...</td>\n",
       "      <td>10.1093/nar/gkw91</td>\n",
       "      <td>2016</td>\n",
       "      <td>nucleic acids research</td>\n",
       "      <td>5</td>\n",
       "      <td>Computational Biology &gt; Nucleic acids &gt; DNA</td>\n",
       "      <td>https://dx.doi.org/</td>\n",
       "      <td>NaN</td>\n",
       "      <td>NaN</td>\n",
       "    </tr>\n",
       "  </tbody>\n",
       "</table>\n",
       "</div>"
      ],
      "text/plain": [
       "          id                                              title  \\\n",
       "2284    2285  The gene ontology's reference genome project: ...   \n",
       "8602    8603  GenomeBlast: A web tool for small genome compa...   \n",
       "9492    9493  Clustering proteins from interaction networks ...   \n",
       "19922  19923           The Universal Protein resource (UniProt)   \n",
       "20068  20069  Altered stoichiometry Escherichia coli Cascade...   \n",
       "\n",
       "                                DOI  year                      source  \\\n",
       "2284   10.1371/journal.pcbi.1000431  2009  plos computational biology   \n",
       "8602     10.1186/1474-2105-7-S4-S18  2006          bmc bioinformatics   \n",
       "9492          10.1186/147-2105-5-95  2004          bmc bioinformatics   \n",
       "19922            10.1093/nar/gkm895  2008      nucleic acids research   \n",
       "20068             10.1093/nar/gkw91  2016      nucleic acids research   \n",
       "\n",
       "       citations                                       edamCategory  \\\n",
       "2284          59         Computational Biology > Molecular genetics   \n",
       "8602          15         Computational Biology > Molecular genetics   \n",
       "9492          86  Computational Biology > Molecular interactions...   \n",
       "19922        601  Computational Biology > Molecular interactions...   \n",
       "20068          5        Computational Biology > Nucleic acids > DNA   \n",
       "\n",
       "                                                    link  authors  \\\n",
       "2284   https://journals.plos.org/ploscompbiol/article...      0.0   \n",
       "8602                                 https://dx.doi.org/      NaN   \n",
       "9492                                 https://dx.doi.org/      NaN   \n",
       "19922  https://academic.oup.com/nar/article/36/suppl_...      0.0   \n",
       "20068                                https://dx.doi.org/      NaN   \n",
       "\n",
       "      gender_last_author  \n",
       "2284                   -  \n",
       "8602                 NaN  \n",
       "9492                 NaN  \n",
       "19922                  -  \n",
       "20068                NaN  "
      ]
     },
     "execution_count": 684,
     "metadata": {},
     "output_type": "execute_result"
    }
   ],
   "source": [
    "papers_without_authors = papers[(papers['authors']==0)|(pd.isna(papers['authors']))]\n",
    "print(\"Papers without authors \" + str(papers_without_authors.shape[0]))\n",
    "papers_without_authors.head()"
   ]
  },
  {
   "cell_type": "code",
   "execution_count": 686,
   "metadata": {},
   "outputs": [
    {
     "name": "stdout",
     "output_type": "stream",
     "text": [
      "Papers with authors 38328\n"
     ]
    }
   ],
   "source": [
    "papers = papers[(papers['authors']!=0)&(pd.notnull(papers['authors']))]\n",
    "print(\"Papers with authors \" + str(papers.shape[0]))"
   ]
  },
  {
   "cell_type": "markdown",
   "metadata": {},
   "source": [
    "## Evolution of papers by year"
   ]
  },
  {
   "cell_type": "code",
   "execution_count": 294,
   "metadata": {},
   "outputs": [],
   "source": [
    "papers_by_year = papers.groupby('year').size()"
   ]
  },
  {
   "cell_type": "code",
   "execution_count": 295,
   "metadata": {},
   "outputs": [
    {
     "data": {
      "text/plain": [
       "<matplotlib.axes._subplots.AxesSubplot at 0x7f8e51a9fef0>"
      ]
     },
     "execution_count": 295,
     "metadata": {},
     "output_type": "execute_result"
    },
    {
     "data": {
      "image/png": "[encoded data removed]",
      "text/plain": [
       "<Figure size 720x432 with 1 Axes>"
      ]
     },
     "metadata": {
      "needs_background": "light"
     },
     "output_type": "display_data"
    }
   ],
   "source": [
    "plt.figure(figsize=(10,6))\n",
    "papers_by_year.plot(lw=5)"
   ]
  },
  {
   "cell_type": "markdown",
   "metadata": {},
   "source": [
    "## Evolution of average citations over years"
   ]
  },
  {
   "cell_type": "code",
   "execution_count": 296,
   "metadata": {},
   "outputs": [
    {
     "data": {
      "text/plain": [
       "count    38334.000000\n",
       "mean        34.063547\n",
       "std        154.074043\n",
       "min          0.000000\n",
       "25%          5.000000\n",
       "50%         13.000000\n",
       "75%         31.000000\n",
       "max      14513.000000\n",
       "Name: citations, dtype: float64"
      ]
     },
     "execution_count": 296,
     "metadata": {},
     "output_type": "execute_result"
    }
   ],
   "source": [
    "papers['citations'].describe()"
   ]
  },
  {
   "cell_type": "markdown",
   "metadata": {},
   "source": [
    "### Paper with max citation"
   ]
  },
  {
   "cell_type": "code",
   "execution_count": 297,
   "metadata": {},
   "outputs": [
    {
     "data": {
      "text/html": [
       "<div>\n",
       "<style scoped>\n",
       "    .dataframe tbody tr th:only-of-type {\n",
       "        vertical-align: middle;\n",
       "    }\n",
       "\n",
       "    .dataframe tbody tr th {\n",
       "        vertical-align: top;\n",
       "    }\n",
       "\n",
       "    .dataframe thead th {\n",
       "        text-align: right;\n",
       "    }\n",
       "</style>\n",
       "<table border=\"1\" class=\"dataframe\">\n",
       "  <thead>\n",
       "    <tr style=\"text-align: right;\">\n",
       "      <th></th>\n",
       "      <th>id</th>\n",
       "      <th>title</th>\n",
       "      <th>DOI</th>\n",
       "      <th>year</th>\n",
       "      <th>source</th>\n",
       "      <th>citations</th>\n",
       "      <th>edamCategory</th>\n",
       "      <th>link</th>\n",
       "      <th>authors</th>\n",
       "    </tr>\n",
       "  </thead>\n",
       "  <tbody>\n",
       "    <tr>\n",
       "      <th>35745</th>\n",
       "      <td>35746</td>\n",
       "      <td>Clustal W and Clustal X version 2.0</td>\n",
       "      <td>10.1093/bioinformatics/btm404</td>\n",
       "      <td>2007</td>\n",
       "      <td>oxford bioinformatics</td>\n",
       "      <td>14513</td>\n",
       "      <td>Computational Biology &gt; Molecular genetics</td>\n",
       "      <td>https://academic.oup.com/bioinformatics/articl...</td>\n",
       "      <td>13.0</td>\n",
       "    </tr>\n",
       "  </tbody>\n",
       "</table>\n",
       "</div>"
      ],
      "text/plain": [
       "          id                                title  \\\n",
       "35745  35746  Clustal W and Clustal X version 2.0   \n",
       "\n",
       "                                 DOI  year                 source  citations  \\\n",
       "35745  10.1093/bioinformatics/btm404  2007  oxford bioinformatics      14513   \n",
       "\n",
       "                                     edamCategory  \\\n",
       "35745  Computational Biology > Molecular genetics   \n",
       "\n",
       "                                                    link  authors  \n",
       "35745  https://academic.oup.com/bioinformatics/articl...     13.0  "
      ]
     },
     "execution_count": 297,
     "metadata": {},
     "output_type": "execute_result"
    }
   ],
   "source": [
    "papers[papers['citations']==max(papers['citations'])].head()"
   ]
  },
  {
   "cell_type": "markdown",
   "metadata": {},
   "source": [
    "### Average citations by year"
   ]
  },
  {
   "cell_type": "code",
   "execution_count": 298,
   "metadata": {},
   "outputs": [],
   "source": [
    "avg_citations_by_year = papers.groupby('year').mean()['citations']"
   ]
  },
  {
   "cell_type": "code",
   "execution_count": 299,
   "metadata": {},
   "outputs": [
    {
     "data": {
      "text/plain": [
       "<matplotlib.axes._subplots.AxesSubplot at 0x7f8e51082a58>"
      ]
     },
     "execution_count": 299,
     "metadata": {},
     "output_type": "execute_result"
    },
    {
     "data": {
      "image/png": "[encoded data removed]",
      "text/plain": [
       "<Figure size 720x432 with 1 Axes>"
      ]
     },
     "metadata": {
      "needs_background": "light"
     },
     "output_type": "display_data"
    }
   ],
   "source": [
    "plt.figure(figsize=(10,6))\n",
    "avg_citations_by_year.plot(lw=5)"
   ]
  },
  {
   "cell_type": "markdown",
   "metadata": {},
   "source": [
    "## Evolution of average authors over years"
   ]
  },
  {
   "cell_type": "code",
   "execution_count": 300,
   "metadata": {},
   "outputs": [
    {
     "data": {
      "text/plain": [
       "count    38328.000000\n",
       "mean         5.562696\n",
       "std          3.961221\n",
       "min          1.000000\n",
       "25%          3.000000\n",
       "50%          5.000000\n",
       "75%          7.000000\n",
       "max        138.000000\n",
       "Name: authors, dtype: float64"
      ]
     },
     "execution_count": 300,
     "metadata": {},
     "output_type": "execute_result"
    }
   ],
   "source": [
    "papers['authors'].describe()"
   ]
  },
  {
   "cell_type": "markdown",
   "metadata": {},
   "source": [
    "### Paper with max number of authors"
   ]
  },
  {
   "cell_type": "code",
   "execution_count": 301,
   "metadata": {},
   "outputs": [
    {
     "data": {
      "text/html": [
       "<div>\n",
       "<style scoped>\n",
       "    .dataframe tbody tr th:only-of-type {\n",
       "        vertical-align: middle;\n",
       "    }\n",
       "\n",
       "    .dataframe tbody tr th {\n",
       "        vertical-align: top;\n",
       "    }\n",
       "\n",
       "    .dataframe thead th {\n",
       "        text-align: right;\n",
       "    }\n",
       "</style>\n",
       "<table border=\"1\" class=\"dataframe\">\n",
       "  <thead>\n",
       "    <tr style=\"text-align: right;\">\n",
       "      <th></th>\n",
       "      <th>id</th>\n",
       "      <th>title</th>\n",
       "      <th>DOI</th>\n",
       "      <th>year</th>\n",
       "      <th>source</th>\n",
       "      <th>citations</th>\n",
       "      <th>edamCategory</th>\n",
       "      <th>link</th>\n",
       "      <th>authors</th>\n",
       "    </tr>\n",
       "  </thead>\n",
       "  <tbody>\n",
       "    <tr>\n",
       "      <th>19896</th>\n",
       "      <td>19897</td>\n",
       "      <td>The H-Invitational Database (H-InvDB), a compr...</td>\n",
       "      <td>10.1093/nar/gkm999</td>\n",
       "      <td>2008</td>\n",
       "      <td>nucleic acids research</td>\n",
       "      <td>54</td>\n",
       "      <td>Computational Biology &gt; Sequence analysis</td>\n",
       "      <td>https://academic.oup.com/nar/article/36/suppl_...</td>\n",
       "      <td>138.0</td>\n",
       "    </tr>\n",
       "  </tbody>\n",
       "</table>\n",
       "</div>"
      ],
      "text/plain": [
       "          id                                              title  \\\n",
       "19896  19897  The H-Invitational Database (H-InvDB), a compr...   \n",
       "\n",
       "                      DOI  year                  source  citations  \\\n",
       "19896  10.1093/nar/gkm999  2008  nucleic acids research         54   \n",
       "\n",
       "                                    edamCategory  \\\n",
       "19896  Computational Biology > Sequence analysis   \n",
       "\n",
       "                                                    link  authors  \n",
       "19896  https://academic.oup.com/nar/article/36/suppl_...    138.0  "
      ]
     },
     "execution_count": 301,
     "metadata": {},
     "output_type": "execute_result"
    }
   ],
   "source": [
    "papers[papers['authors']==max(papers['authors'])].head()"
   ]
  },
  {
   "cell_type": "markdown",
   "metadata": {},
   "source": [
    "### Average number of authors by year"
   ]
  },
  {
   "cell_type": "code",
   "execution_count": 302,
   "metadata": {},
   "outputs": [],
   "source": [
    "avg_authors_by_year = papers.groupby('year').mean()['authors']"
   ]
  },
  {
   "cell_type": "code",
   "execution_count": 303,
   "metadata": {},
   "outputs": [
    {
     "data": {
      "text/plain": [
       "<matplotlib.axes._subplots.AxesSubplot at 0x7f8e512d2c18>"
      ]
     },
     "execution_count": 303,
     "metadata": {},
     "output_type": "execute_result"
    },
    {
     "data": {
      "image/png": "[encoded data removed]",
      "text/plain": [
       "<Figure size 720x432 with 1 Axes>"
      ]
     },
     "metadata": {
      "needs_background": "light"
     },
     "output_type": "display_data"
    }
   ],
   "source": [
    "plt.figure(figsize=(10,6))\n",
    "avg_authors_by_year.plot(lw=5)"
   ]
  },
  {
   "cell_type": "markdown",
   "metadata": {},
   "source": [
    "## Categories"
   ]
  },
  {
   "cell_type": "code",
   "execution_count": 304,
   "metadata": {},
   "outputs": [],
   "source": [
    "row_categories = papers['edamCategory']\n",
    "categories = []\n",
    "for row_category in row_categories:\n",
    "    for category in row_category.split('>'):\n",
    "        clean_category = category.strip()\n",
    "        exists_category_dict = False\n",
    "        for category_dict in categories:\n",
    "            if category_dict['category_name'] == clean_category:\n",
    "                category_dict['count'] += 1\n",
    "                exists_category_dict = True\n",
    "                break\n",
    "        if not exists_category_dict:\n",
    "            categories.append(\n",
    "                {\n",
    "                    'category_name': clean_category,\n",
    "                    'count': 1\n",
    "                }\n",
    "            )"
   ]
  },
  {
   "cell_type": "code",
   "execution_count": 309,
   "metadata": {},
   "outputs": [
    {
     "name": "stdout",
     "output_type": "stream",
     "text": [
      "There are 18 categories\n"
     ]
    },
    {
     "data": {
      "text/html": [
       "<div>\n",
       "<style scoped>\n",
       "    .dataframe tbody tr th:only-of-type {\n",
       "        vertical-align: middle;\n",
       "    }\n",
       "\n",
       "    .dataframe tbody tr th {\n",
       "        vertical-align: top;\n",
       "    }\n",
       "\n",
       "    .dataframe thead th {\n",
       "        text-align: right;\n",
       "    }\n",
       "</style>\n",
       "<table border=\"1\" class=\"dataframe\">\n",
       "  <thead>\n",
       "    <tr style=\"text-align: right;\">\n",
       "      <th></th>\n",
       "      <th>category_name</th>\n",
       "      <th>count</th>\n",
       "    </tr>\n",
       "  </thead>\n",
       "  <tbody>\n",
       "    <tr>\n",
       "      <th>3</th>\n",
       "      <td>Computational Biology</td>\n",
       "      <td>24272</td>\n",
       "    </tr>\n",
       "    <tr>\n",
       "      <th>0</th>\n",
       "      <td>Omics</td>\n",
       "      <td>12567</td>\n",
       "    </tr>\n",
       "    <tr>\n",
       "      <th>1</th>\n",
       "      <td>Genomics</td>\n",
       "      <td>12567</td>\n",
       "    </tr>\n",
       "    <tr>\n",
       "      <th>7</th>\n",
       "      <td>Nucleic acids</td>\n",
       "      <td>6663</td>\n",
       "    </tr>\n",
       "    <tr>\n",
       "      <th>6</th>\n",
       "      <td>Functional genomics</td>\n",
       "      <td>5293</td>\n",
       "    </tr>\n",
       "  </tbody>\n",
       "</table>\n",
       "</div>"
      ],
      "text/plain": [
       "           category_name  count\n",
       "3  Computational Biology  24272\n",
       "0                  Omics  12567\n",
       "1               Genomics  12567\n",
       "7          Nucleic acids   6663\n",
       "6    Functional genomics   5293"
      ]
     },
     "execution_count": 309,
     "metadata": {},
     "output_type": "execute_result"
    }
   ],
   "source": [
    "categories_df = pd.DataFrame(categories)\n",
    "total_categories = categories_df.shape[0]\n",
    "print(\"There are \" + str(total_categories) + \" categories\")\n",
    "categories_df.sort_values('count', inplace=True, ascending=False)\n",
    "categories_df.head()"
   ]
  },
  {
   "cell_type": "code",
   "execution_count": 310,
   "metadata": {},
   "outputs": [
    {
     "data": {
      "image/png": "[encoded data removed]",
      "text/plain": [
       "<Figure size 432x288 with 1 Axes>"
      ]
     },
     "metadata": {
      "needs_background": "light"
     },
     "output_type": "display_data"
    }
   ],
   "source": [
    "categories_df.plot.bar(x='category_name', y='count')\n",
    "plt.xticks(rotation=90)\n",
    "plt.xlabel(\"Category\")\n",
    "plt.ylabel(\"Count\")\n",
    "plt.show()"
   ]
  },
  {
   "cell_type": "markdown",
   "metadata": {},
   "source": [
    "## Source"
   ]
  },
  {
   "cell_type": "code",
   "execution_count": 307,
   "metadata": {},
   "outputs": [],
   "source": [
    "papers_by_source = papers.groupby('source').size().sort_values(ascending=False)"
   ]
  },
  {
   "cell_type": "code",
   "execution_count": 308,
   "metadata": {},
   "outputs": [
    {
     "data": {
      "text/plain": [
       "<matplotlib.axes._subplots.AxesSubplot at 0x7f8e50aa5d30>"
      ]
     },
     "execution_count": 308,
     "metadata": {},
     "output_type": "execute_result"
    },
    {
     "data": {
      "image/png": "[encoded data removed]",
      "text/plain": [
       "<Figure size 720x432 with 1 Axes>"
      ]
     },
     "metadata": {
      "needs_background": "light"
     },
     "output_type": "display_data"
    }
   ],
   "source": [
    "plt.figure(figsize=(10,6))\n",
    "papers_by_source.plot(kind='bar')"
   ]
  },
  {
   "cell_type": "markdown",
   "metadata": {},
   "source": [
    "# Authors"
   ]
  },
  {
   "cell_type": "code",
   "execution_count": 364,
   "metadata": {},
   "outputs": [],
   "source": [
    "# Get data\n",
    "authors = pd.read_csv(project_dir + '/data/authors.csv')"
   ]
  },
  {
   "cell_type": "code",
   "execution_count": 365,
   "metadata": {},
   "outputs": [
    {
     "name": "stdout",
     "output_type": "stream",
     "text": [
      "Total authors: 120855\n"
     ]
    }
   ],
   "source": [
    "print(\"Total authors: \" + str(authors.shape[0]))"
   ]
  },
  {
   "cell_type": "markdown",
   "metadata": {},
   "source": [
    "## Data structure"
   ]
  },
  {
   "cell_type": "code",
   "execution_count": 366,
   "metadata": {},
   "outputs": [
    {
     "data": {
      "text/html": [
       "<div>\n",
       "<style scoped>\n",
       "    .dataframe tbody tr th:only-of-type {\n",
       "        vertical-align: middle;\n",
       "    }\n",
       "\n",
       "    .dataframe tbody tr th {\n",
       "        vertical-align: top;\n",
       "    }\n",
       "\n",
       "    .dataframe thead th {\n",
       "        text-align: right;\n",
       "    }\n",
       "</style>\n",
       "<table border=\"1\" class=\"dataframe\">\n",
       "  <thead>\n",
       "    <tr style=\"text-align: right;\">\n",
       "      <th></th>\n",
       "      <th>id</th>\n",
       "      <th>name</th>\n",
       "      <th>gender</th>\n",
       "      <th>papers</th>\n",
       "      <th>total_citations</th>\n",
       "      <th>papers_as_first_author</th>\n",
       "      <th>papers_as_last_author</th>\n",
       "      <th>papers_with_citations</th>\n",
       "      <th>h-index</th>\n",
       "    </tr>\n",
       "  </thead>\n",
       "  <tbody>\n",
       "    <tr>\n",
       "      <th>0</th>\n",
       "      <td>1</td>\n",
       "      <td>Amit Ghosh</td>\n",
       "      <td>male</td>\n",
       "      <td>3</td>\n",
       "      <td>21</td>\n",
       "      <td>1</td>\n",
       "      <td>0</td>\n",
       "      <td>3</td>\n",
       "      <td>2</td>\n",
       "    </tr>\n",
       "    <tr>\n",
       "      <th>1</th>\n",
       "      <td>2</td>\n",
       "      <td>Jerome Nilmeier</td>\n",
       "      <td>male</td>\n",
       "      <td>1</td>\n",
       "      <td>7</td>\n",
       "      <td>0</td>\n",
       "      <td>0</td>\n",
       "      <td>1</td>\n",
       "      <td>1</td>\n",
       "    </tr>\n",
       "    <tr>\n",
       "      <th>2</th>\n",
       "      <td>3</td>\n",
       "      <td>Paul D Adams</td>\n",
       "      <td>male</td>\n",
       "      <td>3</td>\n",
       "      <td>92</td>\n",
       "      <td>0</td>\n",
       "      <td>0</td>\n",
       "      <td>3</td>\n",
       "      <td>3</td>\n",
       "    </tr>\n",
       "    <tr>\n",
       "      <th>3</th>\n",
       "      <td>4</td>\n",
       "      <td>Jay D Keasling</td>\n",
       "      <td>male</td>\n",
       "      <td>10</td>\n",
       "      <td>214</td>\n",
       "      <td>0</td>\n",
       "      <td>1</td>\n",
       "      <td>10</td>\n",
       "      <td>7</td>\n",
       "    </tr>\n",
       "    <tr>\n",
       "      <th>4</th>\n",
       "      <td>5</td>\n",
       "      <td>Aindrila Mukhopadhyay</td>\n",
       "      <td>female</td>\n",
       "      <td>6</td>\n",
       "      <td>59</td>\n",
       "      <td>0</td>\n",
       "      <td>0</td>\n",
       "      <td>5</td>\n",
       "      <td>4</td>\n",
       "    </tr>\n",
       "  </tbody>\n",
       "</table>\n",
       "</div>"
      ],
      "text/plain": [
       "   id                   name  gender  papers  total_citations  \\\n",
       "0   1             Amit Ghosh    male       3               21   \n",
       "1   2        Jerome Nilmeier    male       1                7   \n",
       "2   3           Paul D Adams    male       3               92   \n",
       "3   4         Jay D Keasling    male      10              214   \n",
       "4   5  Aindrila Mukhopadhyay  female       6               59   \n",
       "\n",
       "   papers_as_first_author  papers_as_last_author  papers_with_citations  \\\n",
       "0                       1                      0                      3   \n",
       "1                       0                      0                      1   \n",
       "2                       0                      0                      3   \n",
       "3                       0                      1                     10   \n",
       "4                       0                      0                      5   \n",
       "\n",
       "   h-index  \n",
       "0        2  \n",
       "1        1  \n",
       "2        3  \n",
       "3        7  \n",
       "4        4  "
      ]
     },
     "execution_count": 366,
     "metadata": {},
     "output_type": "execute_result"
    }
   ],
   "source": [
    "authors.head()"
   ]
  },
  {
   "cell_type": "markdown",
   "metadata": {},
   "source": [
    "## Authors with unknown gender"
   ]
  },
  {
   "cell_type": "code",
   "execution_count": 367,
   "metadata": {},
   "outputs": [
    {
     "name": "stdout",
     "output_type": "stream",
     "text": [
      "There are 20064 authors with unknown gender\n"
     ]
    }
   ],
   "source": [
    "print(\"There are \" + str(authors[authors['gender']=='unknown'].shape[0]) + \" authors with unknown gender\")"
   ]
  },
  {
   "cell_type": "markdown",
   "metadata": {},
   "source": [
    "### Filter out authors with unknown gender"
   ]
  },
  {
   "cell_type": "code",
   "execution_count": 368,
   "metadata": {},
   "outputs": [],
   "source": [
    "authors = authors[authors['gender']!='unknown']\n",
    "authors = authors[authors['gender']!='error_api']"
   ]
  },
  {
   "cell_type": "code",
   "execution_count": 369,
   "metadata": {},
   "outputs": [
    {
     "data": {
      "text/plain": [
       "100790"
      ]
     },
     "execution_count": 369,
     "metadata": {},
     "output_type": "execute_result"
    }
   ],
   "source": [
    "authors.shape[0]"
   ]
  },
  {
   "cell_type": "markdown",
   "metadata": {},
   "source": [
    "## Gender distribution "
   ]
  },
  {
   "cell_type": "code",
   "execution_count": 370,
   "metadata": {},
   "outputs": [
    {
     "data": {
      "text/plain": [
       "gender\n",
       "male      0.653924\n",
       "female    0.346076\n",
       "dtype: float64"
      ]
     },
     "execution_count": 370,
     "metadata": {},
     "output_type": "execute_result"
    }
   ],
   "source": [
    "authors_by_gender = authors.groupby('gender').size().sort_values(ascending=False)\n",
    "per_authors_by_gender = authors_by_gender/authors.shape[0]\n",
    "per_authors_by_gender"
   ]
  },
  {
   "cell_type": "code",
   "execution_count": 371,
   "metadata": {},
   "outputs": [
    {
     "data": {
      "text/plain": [
       "gender\n",
       "male      65909\n",
       "female    34881\n",
       "dtype: int64"
      ]
     },
     "execution_count": 371,
     "metadata": {},
     "output_type": "execute_result"
    }
   ],
   "source": [
    "authors_by_gender"
   ]
  },
  {
   "cell_type": "code",
   "execution_count": 372,
   "metadata": {},
   "outputs": [
    {
     "data": {
      "text/plain": [
       "<matplotlib.axes._subplots.AxesSubplot at 0x7f8e4d8b7470>"
      ]
     },
     "execution_count": 372,
     "metadata": {},
     "output_type": "execute_result"
    },
    {
     "data": {
      "image/png": "[encoded data removed]",
      "text/plain": [
       "<Figure size 432x288 with 1 Axes>"
      ]
     },
     "metadata": {
      "needs_background": "light"
     },
     "output_type": "display_data"
    }
   ],
   "source": [
    "per_authors_by_gender.plot.bar()"
   ]
  },
  {
   "cell_type": "markdown",
   "metadata": {},
   "source": [
    "## Papers"
   ]
  },
  {
   "cell_type": "markdown",
   "metadata": {},
   "source": [
    "### Citations per paper"
   ]
  },
  {
   "cell_type": "code",
   "execution_count": 373,
   "metadata": {},
   "outputs": [
    {
     "data": {
      "text/plain": [
       "count    100790.000000\n",
       "mean         68.890991\n",
       "std         282.993017\n",
       "min           0.000000\n",
       "25%           6.000000\n",
       "50%          19.000000\n",
       "75%          50.000000\n",
       "max       24962.000000\n",
       "Name: total_citations, dtype: float64"
      ]
     },
     "execution_count": 373,
     "metadata": {},
     "output_type": "execute_result"
    }
   ],
   "source": [
    "authors['total_citations'].describe()"
   ]
  },
  {
   "cell_type": "markdown",
   "metadata": {},
   "source": [
    "### Author with max number of citations"
   ]
  },
  {
   "cell_type": "code",
   "execution_count": 374,
   "metadata": {},
   "outputs": [
    {
     "data": {
      "text/html": [
       "<div>\n",
       "<style scoped>\n",
       "    .dataframe tbody tr th:only-of-type {\n",
       "        vertical-align: middle;\n",
       "    }\n",
       "\n",
       "    .dataframe tbody tr th {\n",
       "        vertical-align: top;\n",
       "    }\n",
       "\n",
       "    .dataframe thead th {\n",
       "        text-align: right;\n",
       "    }\n",
       "</style>\n",
       "<table border=\"1\" class=\"dataframe\">\n",
       "  <thead>\n",
       "    <tr style=\"text-align: right;\">\n",
       "      <th></th>\n",
       "      <th>id</th>\n",
       "      <th>name</th>\n",
       "      <th>gender</th>\n",
       "      <th>papers</th>\n",
       "      <th>total_citations</th>\n",
       "      <th>papers_as_first_author</th>\n",
       "      <th>papers_as_last_author</th>\n",
       "      <th>papers_with_citations</th>\n",
       "      <th>h-index</th>\n",
       "    </tr>\n",
       "  </thead>\n",
       "  <tbody>\n",
       "    <tr>\n",
       "      <th>7298</th>\n",
       "      <td>7299</td>\n",
       "      <td>Richard Durbin</td>\n",
       "      <td>male</td>\n",
       "      <td>21</td>\n",
       "      <td>24962</td>\n",
       "      <td>1</td>\n",
       "      <td>0</td>\n",
       "      <td>20</td>\n",
       "      <td>16</td>\n",
       "    </tr>\n",
       "  </tbody>\n",
       "</table>\n",
       "</div>"
      ],
      "text/plain": [
       "        id            name gender  papers  total_citations  \\\n",
       "7298  7299  Richard Durbin   male      21            24962   \n",
       "\n",
       "      papers_as_first_author  papers_as_last_author  papers_with_citations  \\\n",
       "7298                       1                      0                     20   \n",
       "\n",
       "      h-index  \n",
       "7298       16  "
      ]
     },
     "execution_count": 374,
     "metadata": {},
     "output_type": "execute_result"
    }
   ],
   "source": [
    "authors[authors['total_citations']==max(authors['total_citations'])]"
   ]
  },
  {
   "cell_type": "markdown",
   "metadata": {},
   "source": [
    "### Top-10 Most cited authors"
   ]
  },
  {
   "cell_type": "code",
   "execution_count": 375,
   "metadata": {},
   "outputs": [
    {
     "data": {
      "text/html": [
       "<div>\n",
       "<style scoped>\n",
       "    .dataframe tbody tr th:only-of-type {\n",
       "        vertical-align: middle;\n",
       "    }\n",
       "\n",
       "    .dataframe tbody tr th {\n",
       "        vertical-align: top;\n",
       "    }\n",
       "\n",
       "    .dataframe thead th {\n",
       "        text-align: right;\n",
       "    }\n",
       "</style>\n",
       "<table border=\"1\" class=\"dataframe\">\n",
       "  <thead>\n",
       "    <tr style=\"text-align: right;\">\n",
       "      <th></th>\n",
       "      <th>name</th>\n",
       "      <th>gender</th>\n",
       "      <th>total_citations</th>\n",
       "    </tr>\n",
       "  </thead>\n",
       "  <tbody>\n",
       "    <tr>\n",
       "      <th>7298</th>\n",
       "      <td>Richard Durbin</td>\n",
       "      <td>male</td>\n",
       "      <td>24962</td>\n",
       "    </tr>\n",
       "    <tr>\n",
       "      <th>119245</th>\n",
       "      <td>Goncalo R Abecasis</td>\n",
       "      <td>male</td>\n",
       "      <td>22031</td>\n",
       "    </tr>\n",
       "    <tr>\n",
       "      <th>16979</th>\n",
       "      <td>Alexandros Stamatakis</td>\n",
       "      <td>male</td>\n",
       "      <td>12752</td>\n",
       "    </tr>\n",
       "    <tr>\n",
       "      <th>3204</th>\n",
       "      <td>Peer Bork</td>\n",
       "      <td>male</td>\n",
       "      <td>12624</td>\n",
       "    </tr>\n",
       "    <tr>\n",
       "      <th>25815</th>\n",
       "      <td>Minoru Kanehisa</td>\n",
       "      <td>male</td>\n",
       "      <td>10150</td>\n",
       "    </tr>\n",
       "    <tr>\n",
       "      <th>51102</th>\n",
       "      <td>Jue Ruan</td>\n",
       "      <td>female</td>\n",
       "      <td>9984</td>\n",
       "    </tr>\n",
       "    <tr>\n",
       "      <th>21503</th>\n",
       "      <td>Nils Homer</td>\n",
       "      <td>male</td>\n",
       "      <td>9827</td>\n",
       "    </tr>\n",
       "    <tr>\n",
       "      <th>113603</th>\n",
       "      <td>Tim Fennell</td>\n",
       "      <td>male</td>\n",
       "      <td>9821</td>\n",
       "    </tr>\n",
       "    <tr>\n",
       "      <th>33544</th>\n",
       "      <td>Gabor Marth</td>\n",
       "      <td>male</td>\n",
       "      <td>9782</td>\n",
       "    </tr>\n",
       "    <tr>\n",
       "      <th>115238</th>\n",
       "      <td>Bob Handsaker</td>\n",
       "      <td>male</td>\n",
       "      <td>9753</td>\n",
       "    </tr>\n",
       "  </tbody>\n",
       "</table>\n",
       "</div>"
      ],
      "text/plain": [
       "                         name  gender  total_citations\n",
       "7298           Richard Durbin    male            24962\n",
       "119245     Goncalo R Abecasis    male            22031\n",
       "16979   Alexandros Stamatakis    male            12752\n",
       "3204                Peer Bork    male            12624\n",
       "25815         Minoru Kanehisa    male            10150\n",
       "51102                Jue Ruan  female             9984\n",
       "21503              Nils Homer    male             9827\n",
       "113603            Tim Fennell    male             9821\n",
       "33544             Gabor Marth    male             9782\n",
       "115238          Bob Handsaker    male             9753"
      ]
     },
     "execution_count": 375,
     "metadata": {},
     "output_type": "execute_result"
    }
   ],
   "source": [
    "authors.sort_values('total_citations', inplace=True, ascending=False)\n",
    "authors[['name','gender','total_citations']].head(10)"
   ]
  },
  {
   "cell_type": "markdown",
   "metadata": {},
   "source": [
    "#### Top-10 most cited female authors"
   ]
  },
  {
   "cell_type": "code",
   "execution_count": 376,
   "metadata": {},
   "outputs": [
    {
     "data": {
      "text/html": [
       "<div>\n",
       "<style scoped>\n",
       "    .dataframe tbody tr th:only-of-type {\n",
       "        vertical-align: middle;\n",
       "    }\n",
       "\n",
       "    .dataframe tbody tr th {\n",
       "        vertical-align: top;\n",
       "    }\n",
       "\n",
       "    .dataframe thead th {\n",
       "        text-align: right;\n",
       "    }\n",
       "</style>\n",
       "<table border=\"1\" class=\"dataframe\">\n",
       "  <thead>\n",
       "    <tr style=\"text-align: right;\">\n",
       "      <th></th>\n",
       "      <th>name</th>\n",
       "      <th>gender</th>\n",
       "      <th>total_citations</th>\n",
       "    </tr>\n",
       "  </thead>\n",
       "  <tbody>\n",
       "    <tr>\n",
       "      <th>51102</th>\n",
       "      <td>Jue Ruan</td>\n",
       "      <td>female</td>\n",
       "      <td>9984</td>\n",
       "    </tr>\n",
       "    <tr>\n",
       "      <th>76793</th>\n",
       "      <td>Miho Furumichi</td>\n",
       "      <td>female</td>\n",
       "      <td>5232</td>\n",
       "    </tr>\n",
       "    <tr>\n",
       "      <th>76794</th>\n",
       "      <td>Mao Tanabe</td>\n",
       "      <td>female</td>\n",
       "      <td>5232</td>\n",
       "    </tr>\n",
       "    <tr>\n",
       "      <th>21794</th>\n",
       "      <td>Fiona Cunningham</td>\n",
       "      <td>female</td>\n",
       "      <td>4685</td>\n",
       "    </tr>\n",
       "    <tr>\n",
       "      <th>84281</th>\n",
       "      <td>Narmada Thanki</td>\n",
       "      <td>female</td>\n",
       "      <td>4501</td>\n",
       "    </tr>\n",
       "    <tr>\n",
       "      <th>84270</th>\n",
       "      <td>Myra K Derbyshire</td>\n",
       "      <td>female</td>\n",
       "      <td>4446</td>\n",
       "    </tr>\n",
       "    <tr>\n",
       "      <th>84278</th>\n",
       "      <td>Gabriele H Marchler</td>\n",
       "      <td>female</td>\n",
       "      <td>4446</td>\n",
       "    </tr>\n",
       "    <tr>\n",
       "      <th>84282</th>\n",
       "      <td>Roxanne A Yamashita</td>\n",
       "      <td>female</td>\n",
       "      <td>4446</td>\n",
       "    </tr>\n",
       "    <tr>\n",
       "      <th>84272</th>\n",
       "      <td>Noreen R Gonzales</td>\n",
       "      <td>female</td>\n",
       "      <td>4446</td>\n",
       "    </tr>\n",
       "    <tr>\n",
       "      <th>72241</th>\n",
       "      <td>Donna R Maglott</td>\n",
       "      <td>female</td>\n",
       "      <td>4408</td>\n",
       "    </tr>\n",
       "  </tbody>\n",
       "</table>\n",
       "</div>"
      ],
      "text/plain": [
       "                      name  gender  total_citations\n",
       "51102             Jue Ruan  female             9984\n",
       "76793       Miho Furumichi  female             5232\n",
       "76794           Mao Tanabe  female             5232\n",
       "21794     Fiona Cunningham  female             4685\n",
       "84281       Narmada Thanki  female             4501\n",
       "84270    Myra K Derbyshire  female             4446\n",
       "84278  Gabriele H Marchler  female             4446\n",
       "84282  Roxanne A Yamashita  female             4446\n",
       "84272    Noreen R Gonzales  female             4446\n",
       "72241      Donna R Maglott  female             4408"
      ]
     },
     "execution_count": 376,
     "metadata": {},
     "output_type": "execute_result"
    }
   ],
   "source": [
    "authors.sort_values('total_citations', inplace=True, ascending=False)\n",
    "authors[authors['gender']=='female'][['name','gender','total_citations']].head(10)"
   ]
  },
  {
   "cell_type": "markdown",
   "metadata": {},
   "source": [
    "### Papers per author"
   ]
  },
  {
   "cell_type": "code",
   "execution_count": 377,
   "metadata": {},
   "outputs": [
    {
     "data": {
      "text/plain": [
       "count    100790.000000\n",
       "mean          1.744181\n",
       "std           2.037485\n",
       "min           1.000000\n",
       "25%           1.000000\n",
       "50%           1.000000\n",
       "75%           2.000000\n",
       "max          69.000000\n",
       "Name: papers, dtype: float64"
      ]
     },
     "execution_count": 377,
     "metadata": {},
     "output_type": "execute_result"
    }
   ],
   "source": [
    "authors['papers'].describe()"
   ]
  },
  {
   "cell_type": "markdown",
   "metadata": {},
   "source": [
    "### Top-10 Most productive author"
   ]
  },
  {
   "cell_type": "code",
   "execution_count": 378,
   "metadata": {},
   "outputs": [
    {
     "data": {
      "text/html": [
       "<div>\n",
       "<style scoped>\n",
       "    .dataframe tbody tr th:only-of-type {\n",
       "        vertical-align: middle;\n",
       "    }\n",
       "\n",
       "    .dataframe tbody tr th {\n",
       "        vertical-align: top;\n",
       "    }\n",
       "\n",
       "    .dataframe thead th {\n",
       "        text-align: right;\n",
       "    }\n",
       "</style>\n",
       "<table border=\"1\" class=\"dataframe\">\n",
       "  <thead>\n",
       "    <tr style=\"text-align: right;\">\n",
       "      <th></th>\n",
       "      <th>name</th>\n",
       "      <th>gender</th>\n",
       "      <th>papers</th>\n",
       "    </tr>\n",
       "  </thead>\n",
       "  <tbody>\n",
       "    <tr>\n",
       "      <th>3213</th>\n",
       "      <td>Janusz M Bujnicki</td>\n",
       "      <td>male</td>\n",
       "      <td>69</td>\n",
       "    </tr>\n",
       "    <tr>\n",
       "      <th>7970</th>\n",
       "      <td>Peter F Stadler</td>\n",
       "      <td>male</td>\n",
       "      <td>69</td>\n",
       "    </tr>\n",
       "    <tr>\n",
       "      <th>3204</th>\n",
       "      <td>Peer Bork</td>\n",
       "      <td>male</td>\n",
       "      <td>53</td>\n",
       "    </tr>\n",
       "    <tr>\n",
       "      <th>4050</th>\n",
       "      <td>Alfonso Valencia</td>\n",
       "      <td>male</td>\n",
       "      <td>51</td>\n",
       "    </tr>\n",
       "    <tr>\n",
       "      <th>1923</th>\n",
       "      <td>Jun Wang</td>\n",
       "      <td>male</td>\n",
       "      <td>48</td>\n",
       "    </tr>\n",
       "    <tr>\n",
       "      <th>265</th>\n",
       "      <td>Philip E Bourne</td>\n",
       "      <td>male</td>\n",
       "      <td>48</td>\n",
       "    </tr>\n",
       "    <tr>\n",
       "      <th>3380</th>\n",
       "      <td>Mark Gerstein</td>\n",
       "      <td>male</td>\n",
       "      <td>46</td>\n",
       "    </tr>\n",
       "    <tr>\n",
       "      <th>3087</th>\n",
       "      <td>Yan Zhang</td>\n",
       "      <td>male</td>\n",
       "      <td>45</td>\n",
       "    </tr>\n",
       "    <tr>\n",
       "      <th>67606</th>\n",
       "      <td>Christine Anne Orengo</td>\n",
       "      <td>female</td>\n",
       "      <td>44</td>\n",
       "    </tr>\n",
       "    <tr>\n",
       "      <th>2342</th>\n",
       "      <td>Yutaka Suzuki</td>\n",
       "      <td>male</td>\n",
       "      <td>41</td>\n",
       "    </tr>\n",
       "  </tbody>\n",
       "</table>\n",
       "</div>"
      ],
      "text/plain": [
       "                        name  gender  papers\n",
       "3213       Janusz M Bujnicki    male      69\n",
       "7970         Peter F Stadler    male      69\n",
       "3204               Peer Bork    male      53\n",
       "4050        Alfonso Valencia    male      51\n",
       "1923                Jun Wang    male      48\n",
       "265          Philip E Bourne    male      48\n",
       "3380           Mark Gerstein    male      46\n",
       "3087               Yan Zhang    male      45\n",
       "67606  Christine Anne Orengo  female      44\n",
       "2342           Yutaka Suzuki    male      41"
      ]
     },
     "execution_count": 378,
     "metadata": {},
     "output_type": "execute_result"
    }
   ],
   "source": [
    "authors.sort_values('papers', inplace=True, ascending=False)\n",
    "authors[['name','gender','papers']].head(10)"
   ]
  },
  {
   "cell_type": "markdown",
   "metadata": {},
   "source": [
    "#### Top-10 most productive female authors"
   ]
  },
  {
   "cell_type": "code",
   "execution_count": 379,
   "metadata": {},
   "outputs": [
    {
     "data": {
      "text/html": [
       "<div>\n",
       "<style scoped>\n",
       "    .dataframe tbody tr th:only-of-type {\n",
       "        vertical-align: middle;\n",
       "    }\n",
       "\n",
       "    .dataframe tbody tr th {\n",
       "        vertical-align: top;\n",
       "    }\n",
       "\n",
       "    .dataframe thead th {\n",
       "        text-align: right;\n",
       "    }\n",
       "</style>\n",
       "<table border=\"1\" class=\"dataframe\">\n",
       "  <thead>\n",
       "    <tr style=\"text-align: right;\">\n",
       "      <th></th>\n",
       "      <th>name</th>\n",
       "      <th>gender</th>\n",
       "      <th>papers</th>\n",
       "    </tr>\n",
       "  </thead>\n",
       "  <tbody>\n",
       "    <tr>\n",
       "      <th>67606</th>\n",
       "      <td>Christine Anne Orengo</td>\n",
       "      <td>female</td>\n",
       "      <td>44</td>\n",
       "    </tr>\n",
       "    <tr>\n",
       "      <th>763</th>\n",
       "      <td>Olga G Troyanskaya</td>\n",
       "      <td>female</td>\n",
       "      <td>35</td>\n",
       "    </tr>\n",
       "    <tr>\n",
       "      <th>17171</th>\n",
       "      <td>Rita Casadio</td>\n",
       "      <td>female</td>\n",
       "      <td>34</td>\n",
       "    </tr>\n",
       "    <tr>\n",
       "      <th>1829</th>\n",
       "      <td>Luonan Chen</td>\n",
       "      <td>female</td>\n",
       "      <td>32</td>\n",
       "    </tr>\n",
       "    <tr>\n",
       "      <th>62</th>\n",
       "      <td>Jin Wang</td>\n",
       "      <td>female</td>\n",
       "      <td>30</td>\n",
       "    </tr>\n",
       "    <tr>\n",
       "      <th>107</th>\n",
       "      <td>Ruth Nussinov</td>\n",
       "      <td>female</td>\n",
       "      <td>29</td>\n",
       "    </tr>\n",
       "    <tr>\n",
       "      <th>17135</th>\n",
       "      <td>Sophia Ananiadou</td>\n",
       "      <td>female</td>\n",
       "      <td>29</td>\n",
       "    </tr>\n",
       "    <tr>\n",
       "      <th>2421</th>\n",
       "      <td>Shoba Ranganathan</td>\n",
       "      <td>female</td>\n",
       "      <td>28</td>\n",
       "    </tr>\n",
       "    <tr>\n",
       "      <th>17500</th>\n",
       "      <td>Lin Liu</td>\n",
       "      <td>female</td>\n",
       "      <td>28</td>\n",
       "    </tr>\n",
       "    <tr>\n",
       "      <th>17301</th>\n",
       "      <td>Manuela Helmer-Citterich</td>\n",
       "      <td>female</td>\n",
       "      <td>26</td>\n",
       "    </tr>\n",
       "  </tbody>\n",
       "</table>\n",
       "</div>"
      ],
      "text/plain": [
       "                           name  gender  papers\n",
       "67606     Christine Anne Orengo  female      44\n",
       "763          Olga G Troyanskaya  female      35\n",
       "17171              Rita Casadio  female      34\n",
       "1829                Luonan Chen  female      32\n",
       "62                     Jin Wang  female      30\n",
       "107               Ruth Nussinov  female      29\n",
       "17135          Sophia Ananiadou  female      29\n",
       "2421          Shoba Ranganathan  female      28\n",
       "17500                   Lin Liu  female      28\n",
       "17301  Manuela Helmer-Citterich  female      26"
      ]
     },
     "execution_count": 379,
     "metadata": {},
     "output_type": "execute_result"
    }
   ],
   "source": [
    "authors.sort_values('papers', inplace=True, ascending=False)\n",
    "authors[authors['gender']=='female'][['name','gender','papers']].head(10)"
   ]
  },
  {
   "cell_type": "markdown",
   "metadata": {},
   "source": [
    "### H-Index"
   ]
  },
  {
   "cell_type": "markdown",
   "metadata": {},
   "source": [
    "The **`h-index`** is computed based only on the papers available of the dataset"
   ]
  },
  {
   "cell_type": "code",
   "execution_count": 380,
   "metadata": {},
   "outputs": [
    {
     "data": {
      "text/plain": [
       "count    100790.000000\n",
       "mean          1.486874\n",
       "std           1.443448\n",
       "min           0.000000\n",
       "25%           1.000000\n",
       "50%           1.000000\n",
       "75%           2.000000\n",
       "max          32.000000\n",
       "Name: h-index, dtype: float64"
      ]
     },
     "execution_count": 380,
     "metadata": {},
     "output_type": "execute_result"
    }
   ],
   "source": [
    "authors['h-index'].describe()"
   ]
  },
  {
   "cell_type": "markdown",
   "metadata": {},
   "source": [
    "### Top-10 most impactful author"
   ]
  },
  {
   "cell_type": "code",
   "execution_count": 381,
   "metadata": {},
   "outputs": [
    {
     "data": {
      "text/html": [
       "<div>\n",
       "<style scoped>\n",
       "    .dataframe tbody tr th:only-of-type {\n",
       "        vertical-align: middle;\n",
       "    }\n",
       "\n",
       "    .dataframe tbody tr th {\n",
       "        vertical-align: top;\n",
       "    }\n",
       "\n",
       "    .dataframe thead th {\n",
       "        text-align: right;\n",
       "    }\n",
       "</style>\n",
       "<table border=\"1\" class=\"dataframe\">\n",
       "  <thead>\n",
       "    <tr style=\"text-align: right;\">\n",
       "      <th></th>\n",
       "      <th>name</th>\n",
       "      <th>gender</th>\n",
       "      <th>papers</th>\n",
       "      <th>total_citations</th>\n",
       "      <th>h-index</th>\n",
       "    </tr>\n",
       "  </thead>\n",
       "  <tbody>\n",
       "    <tr>\n",
       "      <th>3204</th>\n",
       "      <td>Peer Bork</td>\n",
       "      <td>male</td>\n",
       "      <td>53</td>\n",
       "      <td>12624</td>\n",
       "      <td>32</td>\n",
       "    </tr>\n",
       "    <tr>\n",
       "      <th>7970</th>\n",
       "      <td>Peter F Stadler</td>\n",
       "      <td>male</td>\n",
       "      <td>69</td>\n",
       "      <td>3420</td>\n",
       "      <td>30</td>\n",
       "    </tr>\n",
       "    <tr>\n",
       "      <th>8629</th>\n",
       "      <td>Ewan Birney</td>\n",
       "      <td>male</td>\n",
       "      <td>32</td>\n",
       "      <td>7033</td>\n",
       "      <td>25</td>\n",
       "    </tr>\n",
       "    <tr>\n",
       "      <th>265</th>\n",
       "      <td>Philip E Bourne</td>\n",
       "      <td>male</td>\n",
       "      <td>48</td>\n",
       "      <td>3171</td>\n",
       "      <td>25</td>\n",
       "    </tr>\n",
       "    <tr>\n",
       "      <th>3380</th>\n",
       "      <td>Mark Gerstein</td>\n",
       "      <td>male</td>\n",
       "      <td>46</td>\n",
       "      <td>2202</td>\n",
       "      <td>25</td>\n",
       "    </tr>\n",
       "    <tr>\n",
       "      <th>3994</th>\n",
       "      <td>David S Wishart</td>\n",
       "      <td>male</td>\n",
       "      <td>37</td>\n",
       "      <td>9711</td>\n",
       "      <td>25</td>\n",
       "    </tr>\n",
       "    <tr>\n",
       "      <th>25815</th>\n",
       "      <td>Minoru Kanehisa</td>\n",
       "      <td>male</td>\n",
       "      <td>31</td>\n",
       "      <td>10150</td>\n",
       "      <td>25</td>\n",
       "    </tr>\n",
       "    <tr>\n",
       "      <th>120826</th>\n",
       "      <td>William Stafford Noble</td>\n",
       "      <td>male</td>\n",
       "      <td>40</td>\n",
       "      <td>4243</td>\n",
       "      <td>24</td>\n",
       "    </tr>\n",
       "    <tr>\n",
       "      <th>2643</th>\n",
       "      <td>Alex Bateman</td>\n",
       "      <td>male</td>\n",
       "      <td>34</td>\n",
       "      <td>7283</td>\n",
       "      <td>23</td>\n",
       "    </tr>\n",
       "    <tr>\n",
       "      <th>17868</th>\n",
       "      <td>Hsien-Da Huang</td>\n",
       "      <td>male</td>\n",
       "      <td>35</td>\n",
       "      <td>2813</td>\n",
       "      <td>23</td>\n",
       "    </tr>\n",
       "  </tbody>\n",
       "</table>\n",
       "</div>"
      ],
      "text/plain": [
       "                          name gender  papers  total_citations  h-index\n",
       "3204                 Peer Bork   male      53            12624       32\n",
       "7970           Peter F Stadler   male      69             3420       30\n",
       "8629               Ewan Birney   male      32             7033       25\n",
       "265            Philip E Bourne   male      48             3171       25\n",
       "3380             Mark Gerstein   male      46             2202       25\n",
       "3994           David S Wishart   male      37             9711       25\n",
       "25815          Minoru Kanehisa   male      31            10150       25\n",
       "120826  William Stafford Noble   male      40             4243       24\n",
       "2643              Alex Bateman   male      34             7283       23\n",
       "17868           Hsien-Da Huang   male      35             2813       23"
      ]
     },
     "execution_count": 381,
     "metadata": {},
     "output_type": "execute_result"
    }
   ],
   "source": [
    "authors.sort_values('h-index', inplace=True, ascending=False)\n",
    "authors[['name','gender','papers','total_citations','h-index']].head(10)"
   ]
  },
  {
   "cell_type": "markdown",
   "metadata": {},
   "source": [
    "#### Top-10 most impacful female authors"
   ]
  },
  {
   "cell_type": "code",
   "execution_count": 382,
   "metadata": {},
   "outputs": [
    {
     "data": {
      "text/html": [
       "<div>\n",
       "<style scoped>\n",
       "    .dataframe tbody tr th:only-of-type {\n",
       "        vertical-align: middle;\n",
       "    }\n",
       "\n",
       "    .dataframe tbody tr th {\n",
       "        vertical-align: top;\n",
       "    }\n",
       "\n",
       "    .dataframe thead th {\n",
       "        text-align: right;\n",
       "    }\n",
       "</style>\n",
       "<table border=\"1\" class=\"dataframe\">\n",
       "  <thead>\n",
       "    <tr style=\"text-align: right;\">\n",
       "      <th></th>\n",
       "      <th>name</th>\n",
       "      <th>gender</th>\n",
       "      <th>papers</th>\n",
       "      <th>total_citations</th>\n",
       "      <th>h-index</th>\n",
       "    </tr>\n",
       "  </thead>\n",
       "  <tbody>\n",
       "    <tr>\n",
       "      <th>763</th>\n",
       "      <td>Olga G Troyanskaya</td>\n",
       "      <td>female</td>\n",
       "      <td>35</td>\n",
       "      <td>1473</td>\n",
       "      <td>20</td>\n",
       "    </tr>\n",
       "    <tr>\n",
       "      <th>17135</th>\n",
       "      <td>Sophia Ananiadou</td>\n",
       "      <td>female</td>\n",
       "      <td>29</td>\n",
       "      <td>754</td>\n",
       "      <td>18</td>\n",
       "    </tr>\n",
       "    <tr>\n",
       "      <th>20017</th>\n",
       "      <td>Helen Parkinson</td>\n",
       "      <td>female</td>\n",
       "      <td>23</td>\n",
       "      <td>2892</td>\n",
       "      <td>18</td>\n",
       "    </tr>\n",
       "    <tr>\n",
       "      <th>107</th>\n",
       "      <td>Ruth Nussinov</td>\n",
       "      <td>female</td>\n",
       "      <td>29</td>\n",
       "      <td>1656</td>\n",
       "      <td>17</td>\n",
       "    </tr>\n",
       "    <tr>\n",
       "      <th>1829</th>\n",
       "      <td>Luonan Chen</td>\n",
       "      <td>female</td>\n",
       "      <td>32</td>\n",
       "      <td>976</td>\n",
       "      <td>17</td>\n",
       "    </tr>\n",
       "    <tr>\n",
       "      <th>13405</th>\n",
       "      <td>Cathy H Wu</td>\n",
       "      <td>female</td>\n",
       "      <td>26</td>\n",
       "      <td>3676</td>\n",
       "      <td>17</td>\n",
       "    </tr>\n",
       "    <tr>\n",
       "      <th>2231</th>\n",
       "      <td>Janet M Thornton</td>\n",
       "      <td>female</td>\n",
       "      <td>23</td>\n",
       "      <td>1516</td>\n",
       "      <td>16</td>\n",
       "    </tr>\n",
       "    <tr>\n",
       "      <th>67606</th>\n",
       "      <td>Christine Anne Orengo</td>\n",
       "      <td>female</td>\n",
       "      <td>44</td>\n",
       "      <td>4233</td>\n",
       "      <td>16</td>\n",
       "    </tr>\n",
       "    <tr>\n",
       "      <th>338</th>\n",
       "      <td>Ivet Bahar</td>\n",
       "      <td>female</td>\n",
       "      <td>24</td>\n",
       "      <td>1097</td>\n",
       "      <td>16</td>\n",
       "    </tr>\n",
       "    <tr>\n",
       "      <th>18627</th>\n",
       "      <td>Drena Dobbs</td>\n",
       "      <td>female</td>\n",
       "      <td>17</td>\n",
       "      <td>1008</td>\n",
       "      <td>16</td>\n",
       "    </tr>\n",
       "  </tbody>\n",
       "</table>\n",
       "</div>"
      ],
      "text/plain": [
       "                        name  gender  papers  total_citations  h-index\n",
       "763       Olga G Troyanskaya  female      35             1473       20\n",
       "17135       Sophia Ananiadou  female      29              754       18\n",
       "20017        Helen Parkinson  female      23             2892       18\n",
       "107            Ruth Nussinov  female      29             1656       17\n",
       "1829             Luonan Chen  female      32              976       17\n",
       "13405             Cathy H Wu  female      26             3676       17\n",
       "2231        Janet M Thornton  female      23             1516       16\n",
       "67606  Christine Anne Orengo  female      44             4233       16\n",
       "338               Ivet Bahar  female      24             1097       16\n",
       "18627            Drena Dobbs  female      17             1008       16"
      ]
     },
     "execution_count": 382,
     "metadata": {},
     "output_type": "execute_result"
    }
   ],
   "source": [
    "authors.sort_values('h-index', inplace=True, ascending=False)\n",
    "authors[authors['gender']=='female'][['name','gender','papers','total_citations','h-index']].head(10)"
   ]
  },
  {
   "cell_type": "markdown",
   "metadata": {},
   "source": [
    "### First author"
   ]
  },
  {
   "cell_type": "code",
   "execution_count": 383,
   "metadata": {},
   "outputs": [
    {
     "data": {
      "text/plain": [
       "count    100790.000000\n",
       "mean          4.608086\n",
       "std         101.942500\n",
       "min           0.000000\n",
       "25%           0.000000\n",
       "50%           0.000000\n",
       "75%           1.000000\n",
       "max       22031.000000\n",
       "Name: papers_as_first_author, dtype: float64"
      ]
     },
     "execution_count": 383,
     "metadata": {},
     "output_type": "execute_result"
    }
   ],
   "source": [
    "authors['papers_as_first_author'].describe()"
   ]
  },
  {
   "cell_type": "markdown",
   "metadata": {},
   "source": [
    "### Top-10 authors that appeared as first author"
   ]
  },
  {
   "cell_type": "code",
   "execution_count": 384,
   "metadata": {},
   "outputs": [
    {
     "data": {
      "text/html": [
       "<div>\n",
       "<style scoped>\n",
       "    .dataframe tbody tr th:only-of-type {\n",
       "        vertical-align: middle;\n",
       "    }\n",
       "\n",
       "    .dataframe tbody tr th {\n",
       "        vertical-align: top;\n",
       "    }\n",
       "\n",
       "    .dataframe thead th {\n",
       "        text-align: right;\n",
       "    }\n",
       "</style>\n",
       "<table border=\"1\" class=\"dataframe\">\n",
       "  <thead>\n",
       "    <tr style=\"text-align: right;\">\n",
       "      <th></th>\n",
       "      <th>name</th>\n",
       "      <th>gender</th>\n",
       "      <th>papers</th>\n",
       "      <th>papers_as_first_author</th>\n",
       "    </tr>\n",
       "  </thead>\n",
       "  <tbody>\n",
       "    <tr>\n",
       "      <th>119245</th>\n",
       "      <td>Goncalo R Abecasis</td>\n",
       "      <td>male</td>\n",
       "      <td>6</td>\n",
       "      <td>22031</td>\n",
       "    </tr>\n",
       "    <tr>\n",
       "      <th>12428</th>\n",
       "      <td>Robert D Finn</td>\n",
       "      <td>male</td>\n",
       "      <td>27</td>\n",
       "      <td>6329</td>\n",
       "    </tr>\n",
       "    <tr>\n",
       "      <th>8836</th>\n",
       "      <td>Timothy L Bailey</td>\n",
       "      <td>male</td>\n",
       "      <td>40</td>\n",
       "      <td>5327</td>\n",
       "    </tr>\n",
       "    <tr>\n",
       "      <th>23237</th>\n",
       "      <td>Darren A Natale</td>\n",
       "      <td>male</td>\n",
       "      <td>12</td>\n",
       "      <td>4854</td>\n",
       "    </tr>\n",
       "    <tr>\n",
       "      <th>21791</th>\n",
       "      <td>William M McLaren</td>\n",
       "      <td>male</td>\n",
       "      <td>12</td>\n",
       "      <td>4661</td>\n",
       "    </tr>\n",
       "    <tr>\n",
       "      <th>67606</th>\n",
       "      <td>Christine Anne Orengo</td>\n",
       "      <td>female</td>\n",
       "      <td>44</td>\n",
       "      <td>4233</td>\n",
       "    </tr>\n",
       "    <tr>\n",
       "      <th>24701</th>\n",
       "      <td>Tatiana A Tatusova</td>\n",
       "      <td>female</td>\n",
       "      <td>18</td>\n",
       "      <td>4199</td>\n",
       "    </tr>\n",
       "    <tr>\n",
       "      <th>27989</th>\n",
       "      <td>Daniel G Barrell</td>\n",
       "      <td>male</td>\n",
       "      <td>9</td>\n",
       "      <td>4035</td>\n",
       "    </tr>\n",
       "    <tr>\n",
       "      <th>59782</th>\n",
       "      <td>Giulietta M Spudich</td>\n",
       "      <td>female</td>\n",
       "      <td>10</td>\n",
       "      <td>3946</td>\n",
       "    </tr>\n",
       "    <tr>\n",
       "      <th>9449</th>\n",
       "      <td>Tim J P Hubbard</td>\n",
       "      <td>male</td>\n",
       "      <td>17</td>\n",
       "      <td>3935</td>\n",
       "    </tr>\n",
       "  </tbody>\n",
       "</table>\n",
       "</div>"
      ],
      "text/plain": [
       "                         name  gender  papers  papers_as_first_author\n",
       "119245     Goncalo R Abecasis    male       6                   22031\n",
       "12428           Robert D Finn    male      27                    6329\n",
       "8836         Timothy L Bailey    male      40                    5327\n",
       "23237         Darren A Natale    male      12                    4854\n",
       "21791       William M McLaren    male      12                    4661\n",
       "67606   Christine Anne Orengo  female      44                    4233\n",
       "24701      Tatiana A Tatusova  female      18                    4199\n",
       "27989        Daniel G Barrell    male       9                    4035\n",
       "59782     Giulietta M Spudich  female      10                    3946\n",
       "9449          Tim J P Hubbard    male      17                    3935"
      ]
     },
     "execution_count": 384,
     "metadata": {},
     "output_type": "execute_result"
    }
   ],
   "source": [
    "authors.sort_values('papers_as_first_author', inplace=True, ascending=False)\n",
    "authors[['name','gender','papers','papers_as_first_author']].head(10)"
   ]
  },
  {
   "cell_type": "markdown",
   "metadata": {},
   "source": [
    "#### Top-10 female authors that appeared as first author"
   ]
  },
  {
   "cell_type": "code",
   "execution_count": 385,
   "metadata": {},
   "outputs": [
    {
     "data": {
      "text/html": [
       "<div>\n",
       "<style scoped>\n",
       "    .dataframe tbody tr th:only-of-type {\n",
       "        vertical-align: middle;\n",
       "    }\n",
       "\n",
       "    .dataframe tbody tr th {\n",
       "        vertical-align: top;\n",
       "    }\n",
       "\n",
       "    .dataframe thead th {\n",
       "        text-align: right;\n",
       "    }\n",
       "</style>\n",
       "<table border=\"1\" class=\"dataframe\">\n",
       "  <thead>\n",
       "    <tr style=\"text-align: right;\">\n",
       "      <th></th>\n",
       "      <th>name</th>\n",
       "      <th>gender</th>\n",
       "      <th>papers</th>\n",
       "      <th>papers_as_first_author</th>\n",
       "    </tr>\n",
       "  </thead>\n",
       "  <tbody>\n",
       "    <tr>\n",
       "      <th>67606</th>\n",
       "      <td>Christine Anne Orengo</td>\n",
       "      <td>female</td>\n",
       "      <td>44</td>\n",
       "      <td>4233</td>\n",
       "    </tr>\n",
       "    <tr>\n",
       "      <th>24701</th>\n",
       "      <td>Tatiana A Tatusova</td>\n",
       "      <td>female</td>\n",
       "      <td>18</td>\n",
       "      <td>4199</td>\n",
       "    </tr>\n",
       "    <tr>\n",
       "      <th>59782</th>\n",
       "      <td>Giulietta M Spudich</td>\n",
       "      <td>female</td>\n",
       "      <td>10</td>\n",
       "      <td>3946</td>\n",
       "    </tr>\n",
       "    <tr>\n",
       "      <th>38621</th>\n",
       "      <td>Jennifer L Harrow</td>\n",
       "      <td>female</td>\n",
       "      <td>13</td>\n",
       "      <td>3126</td>\n",
       "    </tr>\n",
       "    <tr>\n",
       "      <th>101697</th>\n",
       "      <td>Louise C Daugherty</td>\n",
       "      <td>female</td>\n",
       "      <td>5</td>\n",
       "      <td>2711</td>\n",
       "    </tr>\n",
       "    <tr>\n",
       "      <th>84901</th>\n",
       "      <td>Brooke L Rhead</td>\n",
       "      <td>female</td>\n",
       "      <td>10</td>\n",
       "      <td>2700</td>\n",
       "    </tr>\n",
       "    <tr>\n",
       "      <th>104439</th>\n",
       "      <td>Charlotte G Cole</td>\n",
       "      <td>female</td>\n",
       "      <td>4</td>\n",
       "      <td>2496</td>\n",
       "    </tr>\n",
       "    <tr>\n",
       "      <th>22799</th>\n",
       "      <td>Artemis G Hatzigeorgiou</td>\n",
       "      <td>female</td>\n",
       "      <td>16</td>\n",
       "      <td>2360</td>\n",
       "    </tr>\n",
       "    <tr>\n",
       "      <th>9769</th>\n",
       "      <td>Melissa S Cline</td>\n",
       "      <td>female</td>\n",
       "      <td>11</td>\n",
       "      <td>2290</td>\n",
       "    </tr>\n",
       "    <tr>\n",
       "      <th>81677</th>\n",
       "      <td>Belinda M Giardine</td>\n",
       "      <td>female</td>\n",
       "      <td>6</td>\n",
       "      <td>2178</td>\n",
       "    </tr>\n",
       "  </tbody>\n",
       "</table>\n",
       "</div>"
      ],
      "text/plain": [
       "                           name  gender  papers  papers_as_first_author\n",
       "67606     Christine Anne Orengo  female      44                    4233\n",
       "24701        Tatiana A Tatusova  female      18                    4199\n",
       "59782       Giulietta M Spudich  female      10                    3946\n",
       "38621         Jennifer L Harrow  female      13                    3126\n",
       "101697       Louise C Daugherty  female       5                    2711\n",
       "84901            Brooke L Rhead  female      10                    2700\n",
       "104439         Charlotte G Cole  female       4                    2496\n",
       "22799   Artemis G Hatzigeorgiou  female      16                    2360\n",
       "9769            Melissa S Cline  female      11                    2290\n",
       "81677        Belinda M Giardine  female       6                    2178"
      ]
     },
     "execution_count": 385,
     "metadata": {},
     "output_type": "execute_result"
    }
   ],
   "source": [
    "authors.sort_values('papers_as_first_author', inplace=True, ascending=False)\n",
    "authors[authors['gender']=='female'][['name','gender','papers','papers_as_first_author']].head(10)"
   ]
  },
  {
   "cell_type": "markdown",
   "metadata": {},
   "source": [
    "### Last author"
   ]
  },
  {
   "cell_type": "code",
   "execution_count": 386,
   "metadata": {},
   "outputs": [
    {
     "data": {
      "text/plain": [
       "count    100790.000000\n",
       "mean          0.074363\n",
       "std           0.431288\n",
       "min           0.000000\n",
       "25%           0.000000\n",
       "50%           0.000000\n",
       "75%           0.000000\n",
       "max          20.000000\n",
       "Name: papers_as_last_author, dtype: float64"
      ]
     },
     "execution_count": 386,
     "metadata": {},
     "output_type": "execute_result"
    }
   ],
   "source": [
    "authors['papers_as_last_author'].describe()"
   ]
  },
  {
   "cell_type": "markdown",
   "metadata": {},
   "source": [
    "### Top-10 authors that appeared as first author"
   ]
  },
  {
   "cell_type": "code",
   "execution_count": 387,
   "metadata": {},
   "outputs": [
    {
     "data": {
      "text/html": [
       "<div>\n",
       "<style scoped>\n",
       "    .dataframe tbody tr th:only-of-type {\n",
       "        vertical-align: middle;\n",
       "    }\n",
       "\n",
       "    .dataframe tbody tr th {\n",
       "        vertical-align: top;\n",
       "    }\n",
       "\n",
       "    .dataframe thead th {\n",
       "        text-align: right;\n",
       "    }\n",
       "</style>\n",
       "<table border=\"1\" class=\"dataframe\">\n",
       "  <thead>\n",
       "    <tr style=\"text-align: right;\">\n",
       "      <th></th>\n",
       "      <th>name</th>\n",
       "      <th>gender</th>\n",
       "      <th>papers</th>\n",
       "      <th>papers_as_last_author</th>\n",
       "    </tr>\n",
       "  </thead>\n",
       "  <tbody>\n",
       "    <tr>\n",
       "      <th>265</th>\n",
       "      <td>Philip E Bourne</td>\n",
       "      <td>male</td>\n",
       "      <td>48</td>\n",
       "      <td>20</td>\n",
       "    </tr>\n",
       "    <tr>\n",
       "      <th>6591</th>\n",
       "      <td>Mark B Gerstein</td>\n",
       "      <td>male</td>\n",
       "      <td>22</td>\n",
       "      <td>14</td>\n",
       "    </tr>\n",
       "    <tr>\n",
       "      <th>763</th>\n",
       "      <td>Olga G Troyanskaya</td>\n",
       "      <td>female</td>\n",
       "      <td>35</td>\n",
       "      <td>12</td>\n",
       "    </tr>\n",
       "    <tr>\n",
       "      <th>17135</th>\n",
       "      <td>Sophia Ananiadou</td>\n",
       "      <td>female</td>\n",
       "      <td>29</td>\n",
       "      <td>11</td>\n",
       "    </tr>\n",
       "    <tr>\n",
       "      <th>155</th>\n",
       "      <td>Alan S Perelson</td>\n",
       "      <td>male</td>\n",
       "      <td>18</td>\n",
       "      <td>11</td>\n",
       "    </tr>\n",
       "    <tr>\n",
       "      <th>1437</th>\n",
       "      <td>Eugene I Shakhnovich</td>\n",
       "      <td>male</td>\n",
       "      <td>17</td>\n",
       "      <td>11</td>\n",
       "    </tr>\n",
       "    <tr>\n",
       "      <th>62</th>\n",
       "      <td>Jin Wang</td>\n",
       "      <td>female</td>\n",
       "      <td>30</td>\n",
       "      <td>10</td>\n",
       "    </tr>\n",
       "    <tr>\n",
       "      <th>2421</th>\n",
       "      <td>Shoba Ranganathan</td>\n",
       "      <td>female</td>\n",
       "      <td>28</td>\n",
       "      <td>10</td>\n",
       "    </tr>\n",
       "    <tr>\n",
       "      <th>7447</th>\n",
       "      <td>David T Jones</td>\n",
       "      <td>male</td>\n",
       "      <td>22</td>\n",
       "      <td>10</td>\n",
       "    </tr>\n",
       "    <tr>\n",
       "      <th>398</th>\n",
       "      <td>Ned S Wingreen</td>\n",
       "      <td>male</td>\n",
       "      <td>12</td>\n",
       "      <td>10</td>\n",
       "    </tr>\n",
       "  </tbody>\n",
       "</table>\n",
       "</div>"
      ],
      "text/plain": [
       "                       name  gender  papers  papers_as_last_author\n",
       "265         Philip E Bourne    male      48                     20\n",
       "6591        Mark B Gerstein    male      22                     14\n",
       "763      Olga G Troyanskaya  female      35                     12\n",
       "17135      Sophia Ananiadou  female      29                     11\n",
       "155         Alan S Perelson    male      18                     11\n",
       "1437   Eugene I Shakhnovich    male      17                     11\n",
       "62                 Jin Wang  female      30                     10\n",
       "2421      Shoba Ranganathan  female      28                     10\n",
       "7447          David T Jones    male      22                     10\n",
       "398          Ned S Wingreen    male      12                     10"
      ]
     },
     "execution_count": 387,
     "metadata": {},
     "output_type": "execute_result"
    }
   ],
   "source": [
    "authors.sort_values('papers_as_last_author', inplace=True, ascending=False)\n",
    "authors[['name','gender','papers','papers_as_last_author']].head(10)"
   ]
  },
  {
   "cell_type": "markdown",
   "metadata": {},
   "source": [
    "#### Top-10 female authors that appeared as first author"
   ]
  },
  {
   "cell_type": "code",
   "execution_count": 388,
   "metadata": {},
   "outputs": [
    {
     "data": {
      "text/html": [
       "<div>\n",
       "<style scoped>\n",
       "    .dataframe tbody tr th:only-of-type {\n",
       "        vertical-align: middle;\n",
       "    }\n",
       "\n",
       "    .dataframe tbody tr th {\n",
       "        vertical-align: top;\n",
       "    }\n",
       "\n",
       "    .dataframe thead th {\n",
       "        text-align: right;\n",
       "    }\n",
       "</style>\n",
       "<table border=\"1\" class=\"dataframe\">\n",
       "  <thead>\n",
       "    <tr style=\"text-align: right;\">\n",
       "      <th></th>\n",
       "      <th>name</th>\n",
       "      <th>gender</th>\n",
       "      <th>papers</th>\n",
       "      <th>papers_as_last_author</th>\n",
       "    </tr>\n",
       "  </thead>\n",
       "  <tbody>\n",
       "    <tr>\n",
       "      <th>763</th>\n",
       "      <td>Olga G Troyanskaya</td>\n",
       "      <td>female</td>\n",
       "      <td>35</td>\n",
       "      <td>12</td>\n",
       "    </tr>\n",
       "    <tr>\n",
       "      <th>17135</th>\n",
       "      <td>Sophia Ananiadou</td>\n",
       "      <td>female</td>\n",
       "      <td>29</td>\n",
       "      <td>11</td>\n",
       "    </tr>\n",
       "    <tr>\n",
       "      <th>62</th>\n",
       "      <td>Jin Wang</td>\n",
       "      <td>female</td>\n",
       "      <td>30</td>\n",
       "      <td>10</td>\n",
       "    </tr>\n",
       "    <tr>\n",
       "      <th>2421</th>\n",
       "      <td>Shoba Ranganathan</td>\n",
       "      <td>female</td>\n",
       "      <td>28</td>\n",
       "      <td>10</td>\n",
       "    </tr>\n",
       "    <tr>\n",
       "      <th>5018</th>\n",
       "      <td>Lauren Ancel Meyers</td>\n",
       "      <td>female</td>\n",
       "      <td>10</td>\n",
       "      <td>9</td>\n",
       "    </tr>\n",
       "    <tr>\n",
       "      <th>1696</th>\n",
       "      <td>Paulien Hogeweg</td>\n",
       "      <td>female</td>\n",
       "      <td>11</td>\n",
       "      <td>8</td>\n",
       "    </tr>\n",
       "    <tr>\n",
       "      <th>338</th>\n",
       "      <td>Ivet Bahar</td>\n",
       "      <td>female</td>\n",
       "      <td>24</td>\n",
       "      <td>8</td>\n",
       "    </tr>\n",
       "    <tr>\n",
       "      <th>3982</th>\n",
       "      <td>Teresa M Przytycka</td>\n",
       "      <td>female</td>\n",
       "      <td>23</td>\n",
       "      <td>8</td>\n",
       "    </tr>\n",
       "    <tr>\n",
       "      <th>3367</th>\n",
       "      <td>Kim T Blackwell</td>\n",
       "      <td>female</td>\n",
       "      <td>8</td>\n",
       "      <td>7</td>\n",
       "    </tr>\n",
       "    <tr>\n",
       "      <th>901</th>\n",
       "      <td>Becca Asquith</td>\n",
       "      <td>female</td>\n",
       "      <td>7</td>\n",
       "      <td>7</td>\n",
       "    </tr>\n",
       "  </tbody>\n",
       "</table>\n",
       "</div>"
      ],
      "text/plain": [
       "                      name  gender  papers  papers_as_last_author\n",
       "763     Olga G Troyanskaya  female      35                     12\n",
       "17135     Sophia Ananiadou  female      29                     11\n",
       "62                Jin Wang  female      30                     10\n",
       "2421     Shoba Ranganathan  female      28                     10\n",
       "5018   Lauren Ancel Meyers  female      10                      9\n",
       "1696       Paulien Hogeweg  female      11                      8\n",
       "338             Ivet Bahar  female      24                      8\n",
       "3982    Teresa M Przytycka  female      23                      8\n",
       "3367       Kim T Blackwell  female       8                      7\n",
       "901          Becca Asquith  female       7                      7"
      ]
     },
     "execution_count": 388,
     "metadata": {},
     "output_type": "execute_result"
    }
   ],
   "source": [
    "authors.sort_values('papers_as_last_author', inplace=True, ascending=False)\n",
    "authors[authors['gender']=='female'][['name','gender','papers','papers_as_last_author']].head(10)"
   ]
  },
  {
   "cell_type": "markdown",
   "metadata": {},
   "source": [
    "## Papers without citations"
   ]
  },
  {
   "cell_type": "code",
   "execution_count": 395,
   "metadata": {},
   "outputs": [
    {
     "data": {
      "text/html": [
       "<div>\n",
       "<style scoped>\n",
       "    .dataframe tbody tr th:only-of-type {\n",
       "        vertical-align: middle;\n",
       "    }\n",
       "\n",
       "    .dataframe tbody tr th {\n",
       "        vertical-align: top;\n",
       "    }\n",
       "\n",
       "    .dataframe thead th {\n",
       "        text-align: right;\n",
       "    }\n",
       "</style>\n",
       "<table border=\"1\" class=\"dataframe\">\n",
       "  <thead>\n",
       "    <tr style=\"text-align: right;\">\n",
       "      <th></th>\n",
       "      <th>id</th>\n",
       "      <th>name</th>\n",
       "      <th>gender</th>\n",
       "      <th>papers</th>\n",
       "      <th>papers_without_citations</th>\n",
       "    </tr>\n",
       "  </thead>\n",
       "  <tbody>\n",
       "    <tr>\n",
       "      <th>265</th>\n",
       "      <td>266</td>\n",
       "      <td>Philip E Bourne</td>\n",
       "      <td>male</td>\n",
       "      <td>48</td>\n",
       "      <td>1</td>\n",
       "    </tr>\n",
       "    <tr>\n",
       "      <th>6591</th>\n",
       "      <td>6592</td>\n",
       "      <td>Mark B Gerstein</td>\n",
       "      <td>male</td>\n",
       "      <td>22</td>\n",
       "      <td>1</td>\n",
       "    </tr>\n",
       "    <tr>\n",
       "      <th>763</th>\n",
       "      <td>764</td>\n",
       "      <td>Olga G Troyanskaya</td>\n",
       "      <td>female</td>\n",
       "      <td>35</td>\n",
       "      <td>0</td>\n",
       "    </tr>\n",
       "    <tr>\n",
       "      <th>17135</th>\n",
       "      <td>17136</td>\n",
       "      <td>Sophia Ananiadou</td>\n",
       "      <td>female</td>\n",
       "      <td>29</td>\n",
       "      <td>2</td>\n",
       "    </tr>\n",
       "    <tr>\n",
       "      <th>155</th>\n",
       "      <td>156</td>\n",
       "      <td>Alan S Perelson</td>\n",
       "      <td>male</td>\n",
       "      <td>18</td>\n",
       "      <td>1</td>\n",
       "    </tr>\n",
       "  </tbody>\n",
       "</table>\n",
       "</div>"
      ],
      "text/plain": [
       "          id                name  gender  papers  papers_without_citations\n",
       "265      266     Philip E Bourne    male      48                         1\n",
       "6591    6592     Mark B Gerstein    male      22                         1\n",
       "763      764  Olga G Troyanskaya  female      35                         0\n",
       "17135  17136    Sophia Ananiadou  female      29                         2\n",
       "155      156     Alan S Perelson    male      18                         1"
      ]
     },
     "execution_count": 395,
     "metadata": {},
     "output_type": "execute_result"
    }
   ],
   "source": [
    "authors['papers_without_citations'] = authors['papers'] - authors['papers_with_citations']\n",
    "authors[['id','name','gender','papers','papers_without_citations']].head()"
   ]
  },
  {
   "cell_type": "code",
   "execution_count": 396,
   "metadata": {},
   "outputs": [
    {
     "data": {
      "text/plain": [
       "count    100790.000000\n",
       "mean          0.115865\n",
       "std           0.349181\n",
       "min           0.000000\n",
       "25%           0.000000\n",
       "50%           0.000000\n",
       "75%           0.000000\n",
       "max           6.000000\n",
       "Name: papers_without_citations, dtype: float64"
      ]
     },
     "execution_count": 396,
     "metadata": {},
     "output_type": "execute_result"
    }
   ],
   "source": [
    "authors['papers_without_citations'].describe()"
   ]
  },
  {
   "cell_type": "markdown",
   "metadata": {},
   "source": [
    "# Authorship"
   ]
  },
  {
   "cell_type": "code",
   "execution_count": 693,
   "metadata": {},
   "outputs": [],
   "source": [
    "# Get data\n",
    "papers_authors = pd.read_csv(project_dir + '/data/papers_authors.csv')"
   ]
  },
  {
   "cell_type": "markdown",
   "metadata": {},
   "source": [
    "## Data structure"
   ]
  },
  {
   "cell_type": "code",
   "execution_count": 694,
   "metadata": {},
   "outputs": [
    {
     "data": {
      "text/html": [
       "<div>\n",
       "<style scoped>\n",
       "    .dataframe tbody tr th:only-of-type {\n",
       "        vertical-align: middle;\n",
       "    }\n",
       "\n",
       "    .dataframe tbody tr th {\n",
       "        vertical-align: top;\n",
       "    }\n",
       "\n",
       "    .dataframe thead th {\n",
       "        text-align: right;\n",
       "    }\n",
       "</style>\n",
       "<table border=\"1\" class=\"dataframe\">\n",
       "  <thead>\n",
       "    <tr style=\"text-align: right;\">\n",
       "      <th></th>\n",
       "      <th>id</th>\n",
       "      <th>title</th>\n",
       "      <th>doi</th>\n",
       "      <th>year</th>\n",
       "      <th>category</th>\n",
       "      <th>author</th>\n",
       "      <th>author_gender</th>\n",
       "      <th>author_position</th>\n",
       "    </tr>\n",
       "  </thead>\n",
       "  <tbody>\n",
       "    <tr>\n",
       "      <th>0</th>\n",
       "      <td>1</td>\n",
       "      <td>A peptide-based method for 13C Metabolic Flux ...</td>\n",
       "      <td>10.1371/journal.pcbi.1003827</td>\n",
       "      <td>2014</td>\n",
       "      <td>Omics &gt; Genomics &gt; Transcriptomics</td>\n",
       "      <td>Amit Ghosh</td>\n",
       "      <td>male</td>\n",
       "      <td>1</td>\n",
       "    </tr>\n",
       "    <tr>\n",
       "      <th>1</th>\n",
       "      <td>2</td>\n",
       "      <td>A peptide-based method for 13C Metabolic Flux ...</td>\n",
       "      <td>10.1371/journal.pcbi.1003827</td>\n",
       "      <td>2014</td>\n",
       "      <td>Omics &gt; Genomics &gt; Transcriptomics</td>\n",
       "      <td>Jerome Nilmeier</td>\n",
       "      <td>male</td>\n",
       "      <td>2</td>\n",
       "    </tr>\n",
       "    <tr>\n",
       "      <th>2</th>\n",
       "      <td>3</td>\n",
       "      <td>A peptide-based method for 13C Metabolic Flux ...</td>\n",
       "      <td>10.1371/journal.pcbi.1003827</td>\n",
       "      <td>2014</td>\n",
       "      <td>Omics &gt; Genomics &gt; Transcriptomics</td>\n",
       "      <td>Paul D Adams</td>\n",
       "      <td>male</td>\n",
       "      <td>4</td>\n",
       "    </tr>\n",
       "    <tr>\n",
       "      <th>3</th>\n",
       "      <td>4</td>\n",
       "      <td>A peptide-based method for 13C Metabolic Flux ...</td>\n",
       "      <td>10.1371/journal.pcbi.1003827</td>\n",
       "      <td>2014</td>\n",
       "      <td>Omics &gt; Genomics &gt; Transcriptomics</td>\n",
       "      <td>Jay D Keasling</td>\n",
       "      <td>male</td>\n",
       "      <td>5</td>\n",
       "    </tr>\n",
       "    <tr>\n",
       "      <th>4</th>\n",
       "      <td>5</td>\n",
       "      <td>A peptide-based method for 13C Metabolic Flux ...</td>\n",
       "      <td>10.1371/journal.pcbi.1003827</td>\n",
       "      <td>2014</td>\n",
       "      <td>Omics &gt; Genomics &gt; Transcriptomics</td>\n",
       "      <td>Aindrila Mukhopadhyay</td>\n",
       "      <td>female</td>\n",
       "      <td>6</td>\n",
       "    </tr>\n",
       "  </tbody>\n",
       "</table>\n",
       "</div>"
      ],
      "text/plain": [
       "   id                                              title  \\\n",
       "0   1  A peptide-based method for 13C Metabolic Flux ...   \n",
       "1   2  A peptide-based method for 13C Metabolic Flux ...   \n",
       "2   3  A peptide-based method for 13C Metabolic Flux ...   \n",
       "3   4  A peptide-based method for 13C Metabolic Flux ...   \n",
       "4   5  A peptide-based method for 13C Metabolic Flux ...   \n",
       "\n",
       "                            doi  year                            category  \\\n",
       "0  10.1371/journal.pcbi.1003827  2014  Omics > Genomics > Transcriptomics   \n",
       "1  10.1371/journal.pcbi.1003827  2014  Omics > Genomics > Transcriptomics   \n",
       "2  10.1371/journal.pcbi.1003827  2014  Omics > Genomics > Transcriptomics   \n",
       "3  10.1371/journal.pcbi.1003827  2014  Omics > Genomics > Transcriptomics   \n",
       "4  10.1371/journal.pcbi.1003827  2014  Omics > Genomics > Transcriptomics   \n",
       "\n",
       "                  author author_gender  author_position  \n",
       "0             Amit Ghosh          male                1  \n",
       "1        Jerome Nilmeier          male                2  \n",
       "2           Paul D Adams          male                4  \n",
       "3         Jay D Keasling          male                5  \n",
       "4  Aindrila Mukhopadhyay        female                6  "
      ]
     },
     "execution_count": 694,
     "metadata": {},
     "output_type": "execute_result"
    }
   ],
   "source": [
    "papers_authors.head()"
   ]
  },
  {
   "cell_type": "markdown",
   "metadata": {},
   "source": [
    "We need to remove authors with gender different from male or female"
   ]
  },
  {
   "cell_type": "code",
   "execution_count": 704,
   "metadata": {},
   "outputs": [
    {
     "data": {
      "text/html": [
       "<div>\n",
       "<style scoped>\n",
       "    .dataframe tbody tr th:only-of-type {\n",
       "        vertical-align: middle;\n",
       "    }\n",
       "\n",
       "    .dataframe tbody tr th {\n",
       "        vertical-align: top;\n",
       "    }\n",
       "\n",
       "    .dataframe thead th {\n",
       "        text-align: right;\n",
       "    }\n",
       "</style>\n",
       "<table border=\"1\" class=\"dataframe\">\n",
       "  <thead>\n",
       "    <tr style=\"text-align: right;\">\n",
       "      <th></th>\n",
       "      <th>id</th>\n",
       "      <th>title</th>\n",
       "      <th>doi</th>\n",
       "      <th>year</th>\n",
       "      <th>category</th>\n",
       "      <th>author</th>\n",
       "      <th>author_gender</th>\n",
       "      <th>author_position</th>\n",
       "    </tr>\n",
       "  </thead>\n",
       "  <tbody>\n",
       "    <tr>\n",
       "      <th>9</th>\n",
       "      <td>10</td>\n",
       "      <td>Baseline CD4+ T cell counts correlates with HI...</td>\n",
       "      <td>10.1371/journal.pcbi.1003830</td>\n",
       "      <td>2014</td>\n",
       "      <td>Computational Biology &gt; Phylogeny</td>\n",
       "      <td>Wei Huang</td>\n",
       "      <td>unknown</td>\n",
       "      <td>3</td>\n",
       "    </tr>\n",
       "    <tr>\n",
       "      <th>36</th>\n",
       "      <td>37</td>\n",
       "      <td>Possible Role of Interleukin-1? in Type 2 Diab...</td>\n",
       "      <td>10.1371/journal.pcbi.1003798</td>\n",
       "      <td>2014</td>\n",
       "      <td>Computational Biology &gt; Molecular genetics</td>\n",
       "      <td>Gang Zhao</td>\n",
       "      <td>unknown</td>\n",
       "      <td>1</td>\n",
       "    </tr>\n",
       "    <tr>\n",
       "      <th>51</th>\n",
       "      <td>52</td>\n",
       "      <td>OpenCyto: An Open Source Infrastructure for Sc...</td>\n",
       "      <td>10.1371/journal.pcbi.1003806</td>\n",
       "      <td>2014</td>\n",
       "      <td>Omics &gt; Genomics &gt; Transcriptomics</td>\n",
       "      <td>Wenxin Jiang</td>\n",
       "      <td>unknown</td>\n",
       "      <td>3</td>\n",
       "    </tr>\n",
       "    <tr>\n",
       "      <th>59</th>\n",
       "      <td>60</td>\n",
       "      <td>Tracing the Evolution of Lineage-Specific Tran...</td>\n",
       "      <td>10.1371/journal.pcbi.1003771</td>\n",
       "      <td>2014</td>\n",
       "      <td>Omics &gt; Genomics &gt; Functional genomics</td>\n",
       "      <td>Yang Zhang</td>\n",
       "      <td>unknown</td>\n",
       "      <td>2</td>\n",
       "    </tr>\n",
       "    <tr>\n",
       "      <th>60</th>\n",
       "      <td>61</td>\n",
       "      <td>Tracing the Evolution of Lineage-Specific Tran...</td>\n",
       "      <td>10.1371/journal.pcbi.1003771</td>\n",
       "      <td>2014</td>\n",
       "      <td>Omics &gt; Genomics &gt; Functional genomics</td>\n",
       "      <td>Jian Ma</td>\n",
       "      <td>unknown</td>\n",
       "      <td>3</td>\n",
       "    </tr>\n",
       "    <tr>\n",
       "      <th>64</th>\n",
       "      <td>65</td>\n",
       "      <td>Specificity and Affinity Quantification of Fle...</td>\n",
       "      <td>10.1371/journal.pcbi.1003782</td>\n",
       "      <td>2014</td>\n",
       "      <td>Computational Biology &gt; Nucleic acids &gt; DNA</td>\n",
       "      <td>Xiakun Chu</td>\n",
       "      <td>unknown</td>\n",
       "      <td>1</td>\n",
       "    </tr>\n",
       "    <tr>\n",
       "      <th>83</th>\n",
       "      <td>84</td>\n",
       "      <td>A Scalable and Accurate Targeted Gene Assembly...</td>\n",
       "      <td>10.1371/journal.pcbi.1003737</td>\n",
       "      <td>2014</td>\n",
       "      <td>Computational Biology &gt; Nucleic acids &gt; DNA</td>\n",
       "      <td>Yuan Zhang</td>\n",
       "      <td>unknown</td>\n",
       "      <td>1</td>\n",
       "    </tr>\n",
       "    <tr>\n",
       "      <th>84</th>\n",
       "      <td>85</td>\n",
       "      <td>A Scalable and Accurate Targeted Gene Assembly...</td>\n",
       "      <td>10.1371/journal.pcbi.1003737</td>\n",
       "      <td>2014</td>\n",
       "      <td>Computational Biology &gt; Nucleic acids &gt; DNA</td>\n",
       "      <td>Yanni Sun</td>\n",
       "      <td>unknown</td>\n",
       "      <td>2</td>\n",
       "    </tr>\n",
       "    <tr>\n",
       "      <th>91</th>\n",
       "      <td>92</td>\n",
       "      <td>MODMatcher: Multi-Omics Data Matcher for Integ...</td>\n",
       "      <td>10.1371/journal.pcbi.1003790</td>\n",
       "      <td>2014</td>\n",
       "      <td>Computational Biology &gt; Structure analysis</td>\n",
       "      <td>Seungyeul Yoo</td>\n",
       "      <td>unknown</td>\n",
       "      <td>1</td>\n",
       "    </tr>\n",
       "    <tr>\n",
       "      <th>92</th>\n",
       "      <td>93</td>\n",
       "      <td>MODMatcher: Multi-Omics Data Matcher for Integ...</td>\n",
       "      <td>10.1371/journal.pcbi.1003790</td>\n",
       "      <td>2014</td>\n",
       "      <td>Computational Biology &gt; Structure analysis</td>\n",
       "      <td>Tao Huang</td>\n",
       "      <td>unknown</td>\n",
       "      <td>2</td>\n",
       "    </tr>\n",
       "    <tr>\n",
       "      <th>94</th>\n",
       "      <td>95</td>\n",
       "      <td>MODMatcher: Multi-Omics Data Matcher for Integ...</td>\n",
       "      <td>10.1371/journal.pcbi.1003790</td>\n",
       "      <td>2014</td>\n",
       "      <td>Computational Biology &gt; Structure analysis</td>\n",
       "      <td>Eunjee Lee</td>\n",
       "      <td>unknown</td>\n",
       "      <td>4</td>\n",
       "    </tr>\n",
       "    <tr>\n",
       "      <th>95</th>\n",
       "      <td>96</td>\n",
       "      <td>MODMatcher: Multi-Omics Data Matcher for Integ...</td>\n",
       "      <td>10.1371/journal.pcbi.1003790</td>\n",
       "      <td>2014</td>\n",
       "      <td>Computational Biology &gt; Structure analysis</td>\n",
       "      <td>Zhidong Tu</td>\n",
       "      <td>unknown</td>\n",
       "      <td>5</td>\n",
       "    </tr>\n",
       "    <tr>\n",
       "      <th>102</th>\n",
       "      <td>103</td>\n",
       "      <td>Epigenetic Landscapes Explain Partially Reprog...</td>\n",
       "      <td>10.1371/journal.pcbi.1003734</td>\n",
       "      <td>2014</td>\n",
       "      <td>Computational Biology &gt; Nucleic acids &gt; RNA</td>\n",
       "      <td>Hu Li</td>\n",
       "      <td>unknown</td>\n",
       "      <td>2</td>\n",
       "    </tr>\n",
       "    <tr>\n",
       "      <th>112</th>\n",
       "      <td>113</td>\n",
       "      <td>Making Biomolecular Simulations Accessible in ...</td>\n",
       "      <td>10.1371/journal.pcbi.1003786</td>\n",
       "      <td>2014</td>\n",
       "      <td>Omics &gt; Genomics &gt; Functional genomics</td>\n",
       "      <td>Qiang Cui</td>\n",
       "      <td>unknown</td>\n",
       "      <td>1</td>\n",
       "    </tr>\n",
       "    <tr>\n",
       "      <th>125</th>\n",
       "      <td>126</td>\n",
       "      <td>Dynamic Mechanisms of Neocortical Focal Seizur...</td>\n",
       "      <td>10.1371/journal.pcbi.1003787</td>\n",
       "      <td>2014</td>\n",
       "      <td>Omics &gt; Genomics &gt; Proteomics</td>\n",
       "      <td>Yujiang Wang</td>\n",
       "      <td>unknown</td>\n",
       "      <td>1</td>\n",
       "    </tr>\n",
       "    <tr>\n",
       "      <th>149</th>\n",
       "      <td>150</td>\n",
       "      <td>SciClone: Inferring Clonal Architecture and Tr...</td>\n",
       "      <td>10.1371/journal.pcbi.1003665</td>\n",
       "      <td>2014</td>\n",
       "      <td>Computational Biology &gt; Molecular genetics</td>\n",
       "      <td>Li Ding</td>\n",
       "      <td>unknown</td>\n",
       "      <td>17</td>\n",
       "    </tr>\n",
       "    <tr>\n",
       "      <th>170</th>\n",
       "      <td>171</td>\n",
       "      <td>Cost-Effective Control of Plant Disease When E...</td>\n",
       "      <td>10.1371/journal.pcbi.1003753</td>\n",
       "      <td>2014</td>\n",
       "      <td>Computational Biology &gt; Nucleic acids &gt; DNA</td>\n",
       "      <td>R Erik DeSimone</td>\n",
       "      <td>unknown</td>\n",
       "      <td>4</td>\n",
       "    </tr>\n",
       "    <tr>\n",
       "      <th>175</th>\n",
       "      <td>176</td>\n",
       "      <td>Quantitatively Characterizing the Ligand Bindi...</td>\n",
       "      <td>10.1371/journal.pcbi.1003767</td>\n",
       "      <td>2014</td>\n",
       "      <td>Computational Biology &gt; Nucleic acids &gt; RNA</td>\n",
       "      <td>Shuo Gu</td>\n",
       "      <td>unknown</td>\n",
       "      <td>1</td>\n",
       "    </tr>\n",
       "    <tr>\n",
       "      <th>177</th>\n",
       "      <td>178</td>\n",
       "      <td>Quantitatively Characterizing the Ligand Bindi...</td>\n",
       "      <td>10.1371/journal.pcbi.1003767</td>\n",
       "      <td>2014</td>\n",
       "      <td>Computational Biology &gt; Nucleic acids &gt; RNA</td>\n",
       "      <td>Luming Meng</td>\n",
       "      <td>unknown</td>\n",
       "      <td>3</td>\n",
       "    </tr>\n",
       "    <tr>\n",
       "      <th>179</th>\n",
       "      <td>180</td>\n",
       "      <td>Quantitatively Characterizing the Ligand Bindi...</td>\n",
       "      <td>10.1371/journal.pcbi.1003767</td>\n",
       "      <td>2014</td>\n",
       "      <td>Computational Biology &gt; Nucleic acids &gt; RNA</td>\n",
       "      <td>Xuhui Huang</td>\n",
       "      <td>unknown</td>\n",
       "      <td>5</td>\n",
       "    </tr>\n",
       "    <tr>\n",
       "      <th>190</th>\n",
       "      <td>191</td>\n",
       "      <td>The Upside of Failure: How Regional Student Gr...</td>\n",
       "      <td>10.1371/journal.pcbi.1003768</td>\n",
       "      <td>2014</td>\n",
       "      <td>Computational Biology &gt; Structure analysis</td>\n",
       "      <td>R Gonzalo Parra</td>\n",
       "      <td>unknown</td>\n",
       "      <td>2</td>\n",
       "    </tr>\n",
       "    <tr>\n",
       "      <th>194</th>\n",
       "      <td>195</td>\n",
       "      <td>Phenotypic Signatures Arising from Unbalanced ...</td>\n",
       "      <td>10.1371/journal.pcbi.1003751</td>\n",
       "      <td>2014</td>\n",
       "      <td>Computational Biology &gt; Molecular interactions...</td>\n",
       "      <td>Ming-Chi Tsai</td>\n",
       "      <td>unknown</td>\n",
       "      <td>3</td>\n",
       "    </tr>\n",
       "    <tr>\n",
       "      <th>203</th>\n",
       "      <td>204</td>\n",
       "      <td>Learning Gene Networks under SNP Perturbations...</td>\n",
       "      <td>10.1371/journal.pcbi.1003420</td>\n",
       "      <td>2014</td>\n",
       "      <td>Omics &gt; Genomics &gt; Proteomics</td>\n",
       "      <td>Lingxue Zhang</td>\n",
       "      <td>unknown</td>\n",
       "      <td>1</td>\n",
       "    </tr>\n",
       "    <tr>\n",
       "      <th>223</th>\n",
       "      <td>224</td>\n",
       "      <td>Inferring Host Gene Subnetworks Involved in Vi...</td>\n",
       "      <td>10.1371/journal.pcbi.1003626</td>\n",
       "      <td>2014</td>\n",
       "      <td>Computational Biology &gt; Molecular genetics</td>\n",
       "      <td>Linhui Hao</td>\n",
       "      <td>unknown</td>\n",
       "      <td>3</td>\n",
       "    </tr>\n",
       "    <tr>\n",
       "      <th>234</th>\n",
       "      <td>235</td>\n",
       "      <td>Different Inward and Outward Conduction Mechan...</td>\n",
       "      <td>10.1371/journal.pcbi.1003746</td>\n",
       "      <td>2014</td>\n",
       "      <td>Computational Biology &gt; Nucleic acids &gt; RNA</td>\n",
       "      <td>Song Ke</td>\n",
       "      <td>unknown</td>\n",
       "      <td>1</td>\n",
       "    </tr>\n",
       "    <tr>\n",
       "      <th>235</th>\n",
       "      <td>236</td>\n",
       "      <td>Different Inward and Outward Conduction Mechan...</td>\n",
       "      <td>10.1371/journal.pcbi.1003746</td>\n",
       "      <td>2014</td>\n",
       "      <td>Computational Biology &gt; Nucleic acids &gt; RNA</td>\n",
       "      <td>E N Timin</td>\n",
       "      <td>unknown</td>\n",
       "      <td>2</td>\n",
       "    </tr>\n",
       "    <tr>\n",
       "      <th>255</th>\n",
       "      <td>256</td>\n",
       "      <td>Reconstruction of the Gene Regulatory Network ...</td>\n",
       "      <td>10.1371/journal.pcbi.1003884</td>\n",
       "      <td>2014</td>\n",
       "      <td>Omics &gt; Genomics &gt; Functional genomics</td>\n",
       "      <td>Jinhua Liu</td>\n",
       "      <td>unknown</td>\n",
       "      <td>1</td>\n",
       "    </tr>\n",
       "    <tr>\n",
       "      <th>256</th>\n",
       "      <td>257</td>\n",
       "      <td>Reconstruction of the Gene Regulatory Network ...</td>\n",
       "      <td>10.1371/journal.pcbi.1003884</td>\n",
       "      <td>2014</td>\n",
       "      <td>Omics &gt; Genomics &gt; Functional genomics</td>\n",
       "      <td>Xuelong Wang</td>\n",
       "      <td>unknown</td>\n",
       "      <td>2</td>\n",
       "    </tr>\n",
       "    <tr>\n",
       "      <th>258</th>\n",
       "      <td>259</td>\n",
       "      <td>Reconstruction of the Gene Regulatory Network ...</td>\n",
       "      <td>10.1371/journal.pcbi.1003884</td>\n",
       "      <td>2014</td>\n",
       "      <td>Omics &gt; Genomics &gt; Functional genomics</td>\n",
       "      <td>Haifang Wang</td>\n",
       "      <td>unknown</td>\n",
       "      <td>4</td>\n",
       "    </tr>\n",
       "    <tr>\n",
       "      <th>259</th>\n",
       "      <td>260</td>\n",
       "      <td>Reconstruction of the Gene Regulatory Network ...</td>\n",
       "      <td>10.1371/journal.pcbi.1003884</td>\n",
       "      <td>2014</td>\n",
       "      <td>Omics &gt; Genomics &gt; Functional genomics</td>\n",
       "      <td>Gang Wei</td>\n",
       "      <td>unknown</td>\n",
       "      <td>5</td>\n",
       "    </tr>\n",
       "    <tr>\n",
       "      <th>...</th>\n",
       "      <td>...</td>\n",
       "      <td>...</td>\n",
       "      <td>...</td>\n",
       "      <td>...</td>\n",
       "      <td>...</td>\n",
       "      <td>...</td>\n",
       "      <td>...</td>\n",
       "      <td>...</td>\n",
       "    </tr>\n",
       "    <tr>\n",
       "      <th>213029</th>\n",
       "      <td>213030</td>\n",
       "      <td>Snowball: Resampling combined with distance-ba...</td>\n",
       "      <td>10.1093/bioinformatics/btu603</td>\n",
       "      <td>2015</td>\n",
       "      <td>Software &gt; Tools</td>\n",
       "      <td>Zhongming Zhao</td>\n",
       "      <td>unknown</td>\n",
       "      <td>4</td>\n",
       "    </tr>\n",
       "    <tr>\n",
       "      <th>213030</th>\n",
       "      <td>213031</td>\n",
       "      <td>Shifted Hamming distance: A fast and accurate ...</td>\n",
       "      <td>10.1093/bioinformatics/btu856</td>\n",
       "      <td>2015</td>\n",
       "      <td>Omics &gt; Genomics &gt; Proteomics</td>\n",
       "      <td>Hongyi Xin</td>\n",
       "      <td>unknown</td>\n",
       "      <td>1</td>\n",
       "    </tr>\n",
       "    <tr>\n",
       "      <th>213049</th>\n",
       "      <td>213050</td>\n",
       "      <td>RCSB PDB Mobile: IOS and Android mobile apps t...</td>\n",
       "      <td>10.1093/bioinformatics/btu596</td>\n",
       "      <td>2015</td>\n",
       "      <td>Omics &gt; Genomics &gt; Transcriptomics</td>\n",
       "      <td>Chunxiao Bi</td>\n",
       "      <td>unknown</td>\n",
       "      <td>2</td>\n",
       "    </tr>\n",
       "    <tr>\n",
       "      <th>213063</th>\n",
       "      <td>213064</td>\n",
       "      <td>BalestraWeb: Efficient online evaluation of dr...</td>\n",
       "      <td>10.1093/bioinformatics/btu599</td>\n",
       "      <td>2015</td>\n",
       "      <td>Computational Biology &gt; Molecular interactions...</td>\n",
       "      <td>D Lansing Taylor</td>\n",
       "      <td>unknown</td>\n",
       "      <td>3</td>\n",
       "    </tr>\n",
       "    <tr>\n",
       "      <th>213066</th>\n",
       "      <td>213067</td>\n",
       "      <td>SignalSpider: Probabilistic pattern discovery ...</td>\n",
       "      <td>10.1093/bioinformatics/btu604</td>\n",
       "      <td>2015</td>\n",
       "      <td>Omics &gt; Genomics &gt; Functional genomics</td>\n",
       "      <td>Yue Li</td>\n",
       "      <td>unknown</td>\n",
       "      <td>2</td>\n",
       "    </tr>\n",
       "    <tr>\n",
       "      <th>213067</th>\n",
       "      <td>213068</td>\n",
       "      <td>SignalSpider: Probabilistic pattern discovery ...</td>\n",
       "      <td>10.1093/bioinformatics/btu604</td>\n",
       "      <td>2015</td>\n",
       "      <td>Omics &gt; Genomics &gt; Functional genomics</td>\n",
       "      <td>Chengbin Peng</td>\n",
       "      <td>unknown</td>\n",
       "      <td>3</td>\n",
       "    </tr>\n",
       "    <tr>\n",
       "      <th>213068</th>\n",
       "      <td>213069</td>\n",
       "      <td>SignalSpider: Probabilistic pattern discovery ...</td>\n",
       "      <td>10.1093/bioinformatics/btu604</td>\n",
       "      <td>2015</td>\n",
       "      <td>Omics &gt; Genomics &gt; Functional genomics</td>\n",
       "      <td>Zhaolei Zhang</td>\n",
       "      <td>unknown</td>\n",
       "      <td>4</td>\n",
       "    </tr>\n",
       "    <tr>\n",
       "      <th>213075</th>\n",
       "      <td>213076</td>\n",
       "      <td>Overlap and diversity in antimicrobial peptide...</td>\n",
       "      <td>10.1093/bioinformatics/btv180</td>\n",
       "      <td>2015</td>\n",
       "      <td>Omics &gt; Genomics &gt; Transcriptomics</td>\n",
       "      <td>Longendri Aguilera-Mendoza</td>\n",
       "      <td>unknown</td>\n",
       "      <td>1</td>\n",
       "    </tr>\n",
       "    <tr>\n",
       "      <th>213084</th>\n",
       "      <td>213085</td>\n",
       "      <td>Family genome browser: Visualizing genomes wit...</td>\n",
       "      <td>10.1093/bioinformatics/btv151</td>\n",
       "      <td>2015</td>\n",
       "      <td>Computational Biology &gt; Structure analysis</td>\n",
       "      <td>Yongtian Wang</td>\n",
       "      <td>unknown</td>\n",
       "      <td>3</td>\n",
       "    </tr>\n",
       "    <tr>\n",
       "      <th>213085</th>\n",
       "      <td>213086</td>\n",
       "      <td>Family genome browser: Visualizing genomes wit...</td>\n",
       "      <td>10.1093/bioinformatics/btv151</td>\n",
       "      <td>2015</td>\n",
       "      <td>Computational Biology &gt; Structure analysis</td>\n",
       "      <td>Mingxiang Teng</td>\n",
       "      <td>unknown</td>\n",
       "      <td>4</td>\n",
       "    </tr>\n",
       "    <tr>\n",
       "      <th>213086</th>\n",
       "      <td>213087</td>\n",
       "      <td>Family genome browser: Visualizing genomes wit...</td>\n",
       "      <td>10.1093/bioinformatics/btv151</td>\n",
       "      <td>2015</td>\n",
       "      <td>Computational Biology &gt; Structure analysis</td>\n",
       "      <td>Tianyi Zang</td>\n",
       "      <td>unknown</td>\n",
       "      <td>5</td>\n",
       "    </tr>\n",
       "    <tr>\n",
       "      <th>213087</th>\n",
       "      <td>213088</td>\n",
       "      <td>Family genome browser: Visualizing genomes wit...</td>\n",
       "      <td>10.1093/bioinformatics/btv151</td>\n",
       "      <td>2015</td>\n",
       "      <td>Computational Biology &gt; Structure analysis</td>\n",
       "      <td>Yadong Wang</td>\n",
       "      <td>unknown</td>\n",
       "      <td>6</td>\n",
       "    </tr>\n",
       "    <tr>\n",
       "      <th>213088</th>\n",
       "      <td>213089</td>\n",
       "      <td>Improved rat genome gene prediction by integra...</td>\n",
       "      <td>10.1093/bioinformatics/btu608</td>\n",
       "      <td>2015</td>\n",
       "      <td>Omics &gt; Genomics &gt; Proteomics</td>\n",
       "      <td>Liping Li</td>\n",
       "      <td>unknown</td>\n",
       "      <td>1</td>\n",
       "    </tr>\n",
       "    <tr>\n",
       "      <th>213089</th>\n",
       "      <td>213090</td>\n",
       "      <td>Improved rat genome gene prediction by integra...</td>\n",
       "      <td>10.1093/bioinformatics/btu608</td>\n",
       "      <td>2015</td>\n",
       "      <td>Omics &gt; Genomics &gt; Proteomics</td>\n",
       "      <td>Enguo Chen</td>\n",
       "      <td>unknown</td>\n",
       "      <td>2</td>\n",
       "    </tr>\n",
       "    <tr>\n",
       "      <th>213090</th>\n",
       "      <td>213091</td>\n",
       "      <td>Improved rat genome gene prediction by integra...</td>\n",
       "      <td>10.1093/bioinformatics/btu608</td>\n",
       "      <td>2015</td>\n",
       "      <td>Omics &gt; Genomics &gt; Proteomics</td>\n",
       "      <td>Chun Yang</td>\n",
       "      <td>unknown</td>\n",
       "      <td>3</td>\n",
       "    </tr>\n",
       "    <tr>\n",
       "      <th>213099</th>\n",
       "      <td>213100</td>\n",
       "      <td>Improved rat genome gene prediction by integra...</td>\n",
       "      <td>10.1093/bioinformatics/btu608</td>\n",
       "      <td>2015</td>\n",
       "      <td>Omics &gt; Genomics &gt; Proteomics</td>\n",
       "      <td>Mingyu Liang</td>\n",
       "      <td>unknown</td>\n",
       "      <td>12</td>\n",
       "    </tr>\n",
       "    <tr>\n",
       "      <th>213100</th>\n",
       "      <td>213101</td>\n",
       "      <td>Improved rat genome gene prediction by integra...</td>\n",
       "      <td>10.1093/bioinformatics/btu608</td>\n",
       "      <td>2015</td>\n",
       "      <td>Omics &gt; Genomics &gt; Proteomics</td>\n",
       "      <td>Haiming Xu</td>\n",
       "      <td>unknown</td>\n",
       "      <td>13</td>\n",
       "    </tr>\n",
       "    <tr>\n",
       "      <th>213101</th>\n",
       "      <td>213102</td>\n",
       "      <td>Improved rat genome gene prediction by integra...</td>\n",
       "      <td>10.1093/bioinformatics/btu608</td>\n",
       "      <td>2015</td>\n",
       "      <td>Omics &gt; Genomics &gt; Proteomics</td>\n",
       "      <td>Pengyuan Liu</td>\n",
       "      <td>unknown</td>\n",
       "      <td>14</td>\n",
       "    </tr>\n",
       "    <tr>\n",
       "      <th>213104</th>\n",
       "      <td>213105</td>\n",
       "      <td>HAlign: Fast multiple similar DNA/RNA sequence...</td>\n",
       "      <td>10.1093/bioinformatics/btv177</td>\n",
       "      <td>2015</td>\n",
       "      <td>Computational Biology &gt; Molecular interactions...</td>\n",
       "      <td>Qinghua Hu</td>\n",
       "      <td>unknown</td>\n",
       "      <td>2</td>\n",
       "    </tr>\n",
       "    <tr>\n",
       "      <th>213106</th>\n",
       "      <td>213107</td>\n",
       "      <td>HAlign: Fast multiple similar DNA/RNA sequence...</td>\n",
       "      <td>10.1093/bioinformatics/btv177</td>\n",
       "      <td>2015</td>\n",
       "      <td>Computational Biology &gt; Molecular interactions...</td>\n",
       "      <td>Guohua Wang</td>\n",
       "      <td>unknown</td>\n",
       "      <td>4</td>\n",
       "    </tr>\n",
       "    <tr>\n",
       "      <th>213128</th>\n",
       "      <td>213129</td>\n",
       "      <td>QTLMiner: QTL database curation by mining tabl...</td>\n",
       "      <td>10.1093/bioinformatics/btv016</td>\n",
       "      <td>2015</td>\n",
       "      <td>Computational Biology &gt; Sequence analysis</td>\n",
       "      <td>Jing Peng</td>\n",
       "      <td>unknown</td>\n",
       "      <td>1</td>\n",
       "    </tr>\n",
       "    <tr>\n",
       "      <th>213129</th>\n",
       "      <td>213130</td>\n",
       "      <td>QTLMiner: QTL database curation by mining tabl...</td>\n",
       "      <td>10.1093/bioinformatics/btv016</td>\n",
       "      <td>2015</td>\n",
       "      <td>Computational Biology &gt; Sequence analysis</td>\n",
       "      <td>Xinyi Shi</td>\n",
       "      <td>unknown</td>\n",
       "      <td>2</td>\n",
       "    </tr>\n",
       "    <tr>\n",
       "      <th>213130</th>\n",
       "      <td>213131</td>\n",
       "      <td>QTLMiner: QTL database curation by mining tabl...</td>\n",
       "      <td>10.1093/bioinformatics/btv016</td>\n",
       "      <td>2015</td>\n",
       "      <td>Computational Biology &gt; Sequence analysis</td>\n",
       "      <td>Yiming Sun</td>\n",
       "      <td>unknown</td>\n",
       "      <td>3</td>\n",
       "    </tr>\n",
       "    <tr>\n",
       "      <th>213131</th>\n",
       "      <td>213132</td>\n",
       "      <td>QTLMiner: QTL database curation by mining tabl...</td>\n",
       "      <td>10.1093/bioinformatics/btv016</td>\n",
       "      <td>2015</td>\n",
       "      <td>Computational Biology &gt; Sequence analysis</td>\n",
       "      <td>Dongye Li</td>\n",
       "      <td>unknown</td>\n",
       "      <td>4</td>\n",
       "    </tr>\n",
       "    <tr>\n",
       "      <th>213132</th>\n",
       "      <td>213133</td>\n",
       "      <td>QTLMiner: QTL database curation by mining tabl...</td>\n",
       "      <td>10.1093/bioinformatics/btv016</td>\n",
       "      <td>2015</td>\n",
       "      <td>Computational Biology &gt; Sequence analysis</td>\n",
       "      <td>Baohui Liu</td>\n",
       "      <td>unknown</td>\n",
       "      <td>5</td>\n",
       "    </tr>\n",
       "    <tr>\n",
       "      <th>213134</th>\n",
       "      <td>213135</td>\n",
       "      <td>QTLMiner: QTL database curation by mining tabl...</td>\n",
       "      <td>10.1093/bioinformatics/btv016</td>\n",
       "      <td>2015</td>\n",
       "      <td>Computational Biology &gt; Sequence analysis</td>\n",
       "      <td>Xiaohui Yuan</td>\n",
       "      <td>unknown</td>\n",
       "      <td>7</td>\n",
       "    </tr>\n",
       "    <tr>\n",
       "      <th>213136</th>\n",
       "      <td>213137</td>\n",
       "      <td>Global optimization-based inference of chemoge...</td>\n",
       "      <td>10.1093/bioinformatics/btv181</td>\n",
       "      <td>2015</td>\n",
       "      <td>Omics &gt; Genomics &gt; Transcriptomics</td>\n",
       "      <td>Ting Chen</td>\n",
       "      <td>unknown</td>\n",
       "      <td>2</td>\n",
       "    </tr>\n",
       "    <tr>\n",
       "      <th>213137</th>\n",
       "      <td>213138</td>\n",
       "      <td>Global optimization-based inference of chemoge...</td>\n",
       "      <td>10.1093/bioinformatics/btv181</td>\n",
       "      <td>2015</td>\n",
       "      <td>Omics &gt; Genomics &gt; Transcriptomics</td>\n",
       "      <td>Shao Li</td>\n",
       "      <td>unknown</td>\n",
       "      <td>3</td>\n",
       "    </tr>\n",
       "    <tr>\n",
       "      <th>213142</th>\n",
       "      <td>213143</td>\n",
       "      <td>A robust approach for identifying differential...</td>\n",
       "      <td>10.1093/bioinformatics/btv165</td>\n",
       "      <td>2015</td>\n",
       "      <td>Computational Biology &gt; Nucleic acids &gt; DNA</td>\n",
       "      <td>Ruofei Du</td>\n",
       "      <td>unknown</td>\n",
       "      <td>2</td>\n",
       "    </tr>\n",
       "    <tr>\n",
       "      <th>213143</th>\n",
       "      <td>213144</td>\n",
       "      <td>A robust approach for identifying differential...</td>\n",
       "      <td>10.1093/bioinformatics/btv165</td>\n",
       "      <td>2015</td>\n",
       "      <td>Computational Biology &gt; Nucleic acids &gt; DNA</td>\n",
       "      <td>Lingling An</td>\n",
       "      <td>unknown</td>\n",
       "      <td>3</td>\n",
       "    </tr>\n",
       "  </tbody>\n",
       "</table>\n",
       "<p>37284 rows × 8 columns</p>\n",
       "</div>"
      ],
      "text/plain": [
       "            id                                              title  \\\n",
       "9           10  Baseline CD4+ T cell counts correlates with HI...   \n",
       "36          37  Possible Role of Interleukin-1? in Type 2 Diab...   \n",
       "51          52  OpenCyto: An Open Source Infrastructure for Sc...   \n",
       "59          60  Tracing the Evolution of Lineage-Specific Tran...   \n",
       "60          61  Tracing the Evolution of Lineage-Specific Tran...   \n",
       "64          65  Specificity and Affinity Quantification of Fle...   \n",
       "83          84  A Scalable and Accurate Targeted Gene Assembly...   \n",
       "84          85  A Scalable and Accurate Targeted Gene Assembly...   \n",
       "91          92  MODMatcher: Multi-Omics Data Matcher for Integ...   \n",
       "92          93  MODMatcher: Multi-Omics Data Matcher for Integ...   \n",
       "94          95  MODMatcher: Multi-Omics Data Matcher for Integ...   \n",
       "95          96  MODMatcher: Multi-Omics Data Matcher for Integ...   \n",
       "102        103  Epigenetic Landscapes Explain Partially Reprog...   \n",
       "112        113  Making Biomolecular Simulations Accessible in ...   \n",
       "125        126  Dynamic Mechanisms of Neocortical Focal Seizur...   \n",
       "149        150  SciClone: Inferring Clonal Architecture and Tr...   \n",
       "170        171  Cost-Effective Control of Plant Disease When E...   \n",
       "175        176  Quantitatively Characterizing the Ligand Bindi...   \n",
       "177        178  Quantitatively Characterizing the Ligand Bindi...   \n",
       "179        180  Quantitatively Characterizing the Ligand Bindi...   \n",
       "190        191  The Upside of Failure: How Regional Student Gr...   \n",
       "194        195  Phenotypic Signatures Arising from Unbalanced ...   \n",
       "203        204  Learning Gene Networks under SNP Perturbations...   \n",
       "223        224  Inferring Host Gene Subnetworks Involved in Vi...   \n",
       "234        235  Different Inward and Outward Conduction Mechan...   \n",
       "235        236  Different Inward and Outward Conduction Mechan...   \n",
       "255        256  Reconstruction of the Gene Regulatory Network ...   \n",
       "256        257  Reconstruction of the Gene Regulatory Network ...   \n",
       "258        259  Reconstruction of the Gene Regulatory Network ...   \n",
       "259        260  Reconstruction of the Gene Regulatory Network ...   \n",
       "...        ...                                                ...   \n",
       "213029  213030  Snowball: Resampling combined with distance-ba...   \n",
       "213030  213031  Shifted Hamming distance: A fast and accurate ...   \n",
       "213049  213050  RCSB PDB Mobile: IOS and Android mobile apps t...   \n",
       "213063  213064  BalestraWeb: Efficient online evaluation of dr...   \n",
       "213066  213067  SignalSpider: Probabilistic pattern discovery ...   \n",
       "213067  213068  SignalSpider: Probabilistic pattern discovery ...   \n",
       "213068  213069  SignalSpider: Probabilistic pattern discovery ...   \n",
       "213075  213076  Overlap and diversity in antimicrobial peptide...   \n",
       "213084  213085  Family genome browser: Visualizing genomes wit...   \n",
       "213085  213086  Family genome browser: Visualizing genomes wit...   \n",
       "213086  213087  Family genome browser: Visualizing genomes wit...   \n",
       "213087  213088  Family genome browser: Visualizing genomes wit...   \n",
       "213088  213089  Improved rat genome gene prediction by integra...   \n",
       "213089  213090  Improved rat genome gene prediction by integra...   \n",
       "213090  213091  Improved rat genome gene prediction by integra...   \n",
       "213099  213100  Improved rat genome gene prediction by integra...   \n",
       "213100  213101  Improved rat genome gene prediction by integra...   \n",
       "213101  213102  Improved rat genome gene prediction by integra...   \n",
       "213104  213105  HAlign: Fast multiple similar DNA/RNA sequence...   \n",
       "213106  213107  HAlign: Fast multiple similar DNA/RNA sequence...   \n",
       "213128  213129  QTLMiner: QTL database curation by mining tabl...   \n",
       "213129  213130  QTLMiner: QTL database curation by mining tabl...   \n",
       "213130  213131  QTLMiner: QTL database curation by mining tabl...   \n",
       "213131  213132  QTLMiner: QTL database curation by mining tabl...   \n",
       "213132  213133  QTLMiner: QTL database curation by mining tabl...   \n",
       "213134  213135  QTLMiner: QTL database curation by mining tabl...   \n",
       "213136  213137  Global optimization-based inference of chemoge...   \n",
       "213137  213138  Global optimization-based inference of chemoge...   \n",
       "213142  213143  A robust approach for identifying differential...   \n",
       "213143  213144  A robust approach for identifying differential...   \n",
       "\n",
       "                                  doi  year  \\\n",
       "9        10.1371/journal.pcbi.1003830  2014   \n",
       "36       10.1371/journal.pcbi.1003798  2014   \n",
       "51       10.1371/journal.pcbi.1003806  2014   \n",
       "59       10.1371/journal.pcbi.1003771  2014   \n",
       "60       10.1371/journal.pcbi.1003771  2014   \n",
       "64       10.1371/journal.pcbi.1003782  2014   \n",
       "83       10.1371/journal.pcbi.1003737  2014   \n",
       "84       10.1371/journal.pcbi.1003737  2014   \n",
       "91       10.1371/journal.pcbi.1003790  2014   \n",
       "92       10.1371/journal.pcbi.1003790  2014   \n",
       "94       10.1371/journal.pcbi.1003790  2014   \n",
       "95       10.1371/journal.pcbi.1003790  2014   \n",
       "102      10.1371/journal.pcbi.1003734  2014   \n",
       "112      10.1371/journal.pcbi.1003786  2014   \n",
       "125      10.1371/journal.pcbi.1003787  2014   \n",
       "149      10.1371/journal.pcbi.1003665  2014   \n",
       "170      10.1371/journal.pcbi.1003753  2014   \n",
       "175      10.1371/journal.pcbi.1003767  2014   \n",
       "177      10.1371/journal.pcbi.1003767  2014   \n",
       "179      10.1371/journal.pcbi.1003767  2014   \n",
       "190      10.1371/journal.pcbi.1003768  2014   \n",
       "194      10.1371/journal.pcbi.1003751  2014   \n",
       "203      10.1371/journal.pcbi.1003420  2014   \n",
       "223      10.1371/journal.pcbi.1003626  2014   \n",
       "234      10.1371/journal.pcbi.1003746  2014   \n",
       "235      10.1371/journal.pcbi.1003746  2014   \n",
       "255      10.1371/journal.pcbi.1003884  2014   \n",
       "256      10.1371/journal.pcbi.1003884  2014   \n",
       "258      10.1371/journal.pcbi.1003884  2014   \n",
       "259      10.1371/journal.pcbi.1003884  2014   \n",
       "...                               ...   ...   \n",
       "213029  10.1093/bioinformatics/btu603  2015   \n",
       "213030  10.1093/bioinformatics/btu856  2015   \n",
       "213049  10.1093/bioinformatics/btu596  2015   \n",
       "213063  10.1093/bioinformatics/btu599  2015   \n",
       "213066  10.1093/bioinformatics/btu604  2015   \n",
       "213067  10.1093/bioinformatics/btu604  2015   \n",
       "213068  10.1093/bioinformatics/btu604  2015   \n",
       "213075  10.1093/bioinformatics/btv180  2015   \n",
       "213084  10.1093/bioinformatics/btv151  2015   \n",
       "213085  10.1093/bioinformatics/btv151  2015   \n",
       "213086  10.1093/bioinformatics/btv151  2015   \n",
       "213087  10.1093/bioinformatics/btv151  2015   \n",
       "213088  10.1093/bioinformatics/btu608  2015   \n",
       "213089  10.1093/bioinformatics/btu608  2015   \n",
       "213090  10.1093/bioinformatics/btu608  2015   \n",
       "213099  10.1093/bioinformatics/btu608  2015   \n",
       "213100  10.1093/bioinformatics/btu608  2015   \n",
       "213101  10.1093/bioinformatics/btu608  2015   \n",
       "213104  10.1093/bioinformatics/btv177  2015   \n",
       "213106  10.1093/bioinformatics/btv177  2015   \n",
       "213128  10.1093/bioinformatics/btv016  2015   \n",
       "213129  10.1093/bioinformatics/btv016  2015   \n",
       "213130  10.1093/bioinformatics/btv016  2015   \n",
       "213131  10.1093/bioinformatics/btv016  2015   \n",
       "213132  10.1093/bioinformatics/btv016  2015   \n",
       "213134  10.1093/bioinformatics/btv016  2015   \n",
       "213136  10.1093/bioinformatics/btv181  2015   \n",
       "213137  10.1093/bioinformatics/btv181  2015   \n",
       "213142  10.1093/bioinformatics/btv165  2015   \n",
       "213143  10.1093/bioinformatics/btv165  2015   \n",
       "\n",
       "                                                 category  \\\n",
       "9                       Computational Biology > Phylogeny   \n",
       "36             Computational Biology > Molecular genetics   \n",
       "51                     Omics > Genomics > Transcriptomics   \n",
       "59                 Omics > Genomics > Functional genomics   \n",
       "60                 Omics > Genomics > Functional genomics   \n",
       "64            Computational Biology > Nucleic acids > DNA   \n",
       "83            Computational Biology > Nucleic acids > DNA   \n",
       "84            Computational Biology > Nucleic acids > DNA   \n",
       "91             Computational Biology > Structure analysis   \n",
       "92             Computational Biology > Structure analysis   \n",
       "94             Computational Biology > Structure analysis   \n",
       "95             Computational Biology > Structure analysis   \n",
       "102           Computational Biology > Nucleic acids > RNA   \n",
       "112                Omics > Genomics > Functional genomics   \n",
       "125                         Omics > Genomics > Proteomics   \n",
       "149            Computational Biology > Molecular genetics   \n",
       "170           Computational Biology > Nucleic acids > DNA   \n",
       "175           Computational Biology > Nucleic acids > RNA   \n",
       "177           Computational Biology > Nucleic acids > RNA   \n",
       "179           Computational Biology > Nucleic acids > RNA   \n",
       "190            Computational Biology > Structure analysis   \n",
       "194     Computational Biology > Molecular interactions...   \n",
       "203                         Omics > Genomics > Proteomics   \n",
       "223            Computational Biology > Molecular genetics   \n",
       "234           Computational Biology > Nucleic acids > RNA   \n",
       "235           Computational Biology > Nucleic acids > RNA   \n",
       "255                Omics > Genomics > Functional genomics   \n",
       "256                Omics > Genomics > Functional genomics   \n",
       "258                Omics > Genomics > Functional genomics   \n",
       "259                Omics > Genomics > Functional genomics   \n",
       "...                                                   ...   \n",
       "213029                                   Software > Tools   \n",
       "213030                      Omics > Genomics > Proteomics   \n",
       "213049                 Omics > Genomics > Transcriptomics   \n",
       "213063  Computational Biology > Molecular interactions...   \n",
       "213066             Omics > Genomics > Functional genomics   \n",
       "213067             Omics > Genomics > Functional genomics   \n",
       "213068             Omics > Genomics > Functional genomics   \n",
       "213075                 Omics > Genomics > Transcriptomics   \n",
       "213084         Computational Biology > Structure analysis   \n",
       "213085         Computational Biology > Structure analysis   \n",
       "213086         Computational Biology > Structure analysis   \n",
       "213087         Computational Biology > Structure analysis   \n",
       "213088                      Omics > Genomics > Proteomics   \n",
       "213089                      Omics > Genomics > Proteomics   \n",
       "213090                      Omics > Genomics > Proteomics   \n",
       "213099                      Omics > Genomics > Proteomics   \n",
       "213100                      Omics > Genomics > Proteomics   \n",
       "213101                      Omics > Genomics > Proteomics   \n",
       "213104  Computational Biology > Molecular interactions...   \n",
       "213106  Computational Biology > Molecular interactions...   \n",
       "213128          Computational Biology > Sequence analysis   \n",
       "213129          Computational Biology > Sequence analysis   \n",
       "213130          Computational Biology > Sequence analysis   \n",
       "213131          Computational Biology > Sequence analysis   \n",
       "213132          Computational Biology > Sequence analysis   \n",
       "213134          Computational Biology > Sequence analysis   \n",
       "213136                 Omics > Genomics > Transcriptomics   \n",
       "213137                 Omics > Genomics > Transcriptomics   \n",
       "213142        Computational Biology > Nucleic acids > DNA   \n",
       "213143        Computational Biology > Nucleic acids > DNA   \n",
       "\n",
       "                            author author_gender  author_position  \n",
       "9                        Wei Huang       unknown                3  \n",
       "36                       Gang Zhao       unknown                1  \n",
       "51                    Wenxin Jiang       unknown                3  \n",
       "59                      Yang Zhang       unknown                2  \n",
       "60                         Jian Ma       unknown                3  \n",
       "64                      Xiakun Chu       unknown                1  \n",
       "83                      Yuan Zhang       unknown                1  \n",
       "84                       Yanni Sun       unknown                2  \n",
       "91                   Seungyeul Yoo       unknown                1  \n",
       "92                       Tao Huang       unknown                2  \n",
       "94                      Eunjee Lee       unknown                4  \n",
       "95                      Zhidong Tu       unknown                5  \n",
       "102                          Hu Li       unknown                2  \n",
       "112                      Qiang Cui       unknown                1  \n",
       "125                   Yujiang Wang       unknown                1  \n",
       "149                        Li Ding       unknown               17  \n",
       "170                R Erik DeSimone       unknown                4  \n",
       "175                        Shuo Gu       unknown                1  \n",
       "177                    Luming Meng       unknown                3  \n",
       "179                    Xuhui Huang       unknown                5  \n",
       "190                R Gonzalo Parra       unknown                2  \n",
       "194                  Ming-Chi Tsai       unknown                3  \n",
       "203                  Lingxue Zhang       unknown                1  \n",
       "223                     Linhui Hao       unknown                3  \n",
       "234                        Song Ke       unknown                1  \n",
       "235                      E N Timin       unknown                2  \n",
       "255                     Jinhua Liu       unknown                1  \n",
       "256                   Xuelong Wang       unknown                2  \n",
       "258                   Haifang Wang       unknown                4  \n",
       "259                       Gang Wei       unknown                5  \n",
       "...                            ...           ...              ...  \n",
       "213029              Zhongming Zhao       unknown                4  \n",
       "213030                  Hongyi Xin       unknown                1  \n",
       "213049                 Chunxiao Bi       unknown                2  \n",
       "213063            D Lansing Taylor       unknown                3  \n",
       "213066                      Yue Li       unknown                2  \n",
       "213067               Chengbin Peng       unknown                3  \n",
       "213068               Zhaolei Zhang       unknown                4  \n",
       "213075  Longendri Aguilera-Mendoza       unknown                1  \n",
       "213084               Yongtian Wang       unknown                3  \n",
       "213085              Mingxiang Teng       unknown                4  \n",
       "213086                 Tianyi Zang       unknown                5  \n",
       "213087                 Yadong Wang       unknown                6  \n",
       "213088                   Liping Li       unknown                1  \n",
       "213089                  Enguo Chen       unknown                2  \n",
       "213090                   Chun Yang       unknown                3  \n",
       "213099                Mingyu Liang       unknown               12  \n",
       "213100                  Haiming Xu       unknown               13  \n",
       "213101                Pengyuan Liu       unknown               14  \n",
       "213104                  Qinghua Hu       unknown                2  \n",
       "213106                 Guohua Wang       unknown                4  \n",
       "213128                   Jing Peng       unknown                1  \n",
       "213129                   Xinyi Shi       unknown                2  \n",
       "213130                  Yiming Sun       unknown                3  \n",
       "213131                   Dongye Li       unknown                4  \n",
       "213132                  Baohui Liu       unknown                5  \n",
       "213134                Xiaohui Yuan       unknown                7  \n",
       "213136                   Ting Chen       unknown                2  \n",
       "213137                     Shao Li       unknown                3  \n",
       "213142                   Ruofei Du       unknown                2  \n",
       "213143                 Lingling An       unknown                3  \n",
       "\n",
       "[37284 rows x 8 columns]"
      ]
     },
     "execution_count": 704,
     "metadata": {},
     "output_type": "execute_result"
    }
   ],
   "source": [
    "papers_authors[papers_authors['author_gender']=='unknown']"
   ]
  },
  {
   "cell_type": "code",
   "execution_count": 696,
   "metadata": {},
   "outputs": [],
   "source": [
    "x = papers_authors.groupby('doi', sort=False, as_index=False)"
   ]
  },
  {
   "cell_type": "code",
   "execution_count": 697,
   "metadata": {},
   "outputs": [
    {
     "data": {
      "text/plain": [
       "38327"
      ]
     },
     "execution_count": 697,
     "metadata": {},
     "output_type": "execute_result"
    }
   ],
   "source": [
    "x.ngroups"
   ]
  },
  {
   "cell_type": "code",
   "execution_count": 698,
   "metadata": {},
   "outputs": [],
   "source": [
    "y = list(x.groups.keys())"
   ]
  },
  {
   "cell_type": "code",
   "execution_count": 699,
   "metadata": {},
   "outputs": [],
   "source": [
    "z = list(papers['DOI'])"
   ]
  },
  {
   "cell_type": "code",
   "execution_count": 700,
   "metadata": {},
   "outputs": [],
   "source": [
    "dif = list(set(z) - set(y))"
   ]
  },
  {
   "cell_type": "code",
   "execution_count": 701,
   "metadata": {},
   "outputs": [
    {
     "data": {
      "text/plain": [
       "'10.1093/bioinformatics/btw205'"
      ]
     },
     "execution_count": 701,
     "metadata": {},
     "output_type": "execute_result"
    }
   ],
   "source": [
    "dif[0]"
   ]
  },
  {
   "cell_type": "code",
   "execution_count": 703,
   "metadata": {},
   "outputs": [
    {
     "data": {
      "text/html": [
       "<div>\n",
       "<style scoped>\n",
       "    .dataframe tbody tr th:only-of-type {\n",
       "        vertical-align: middle;\n",
       "    }\n",
       "\n",
       "    .dataframe tbody tr th {\n",
       "        vertical-align: top;\n",
       "    }\n",
       "\n",
       "    .dataframe thead th {\n",
       "        text-align: right;\n",
       "    }\n",
       "</style>\n",
       "<table border=\"1\" class=\"dataframe\">\n",
       "  <thead>\n",
       "    <tr style=\"text-align: right;\">\n",
       "      <th></th>\n",
       "      <th>id</th>\n",
       "      <th>title</th>\n",
       "      <th>DOI</th>\n",
       "      <th>year</th>\n",
       "      <th>source</th>\n",
       "      <th>citations</th>\n",
       "      <th>edamCategory</th>\n",
       "      <th>link</th>\n",
       "      <th>authors</th>\n",
       "      <th>gender_last_author</th>\n",
       "    </tr>\n",
       "  </thead>\n",
       "  <tbody>\n",
       "    <tr>\n",
       "      <th>37368</th>\n",
       "      <td>37369</td>\n",
       "      <td>SAMFIRE: Multi-locus variant calling for time-...</td>\n",
       "      <td>10.1093/bioinformatics/btw205</td>\n",
       "      <td>2016</td>\n",
       "      <td>oxford bioinformatics</td>\n",
       "      <td>0</td>\n",
       "      <td>Software &gt; Tools</td>\n",
       "      <td>https://academic.oup.com/bioinformatics/articl...</td>\n",
       "      <td>1.0</td>\n",
       "      <td>unknown</td>\n",
       "    </tr>\n",
       "  </tbody>\n",
       "</table>\n",
       "</div>"
      ],
      "text/plain": [
       "          id                                              title  \\\n",
       "37368  37369  SAMFIRE: Multi-locus variant calling for time-...   \n",
       "\n",
       "                                 DOI  year                 source  citations  \\\n",
       "37368  10.1093/bioinformatics/btw205  2016  oxford bioinformatics          0   \n",
       "\n",
       "           edamCategory                                               link  \\\n",
       "37368  Software > Tools  https://academic.oup.com/bioinformatics/articl...   \n",
       "\n",
       "       authors gender_last_author  \n",
       "37368      1.0            unknown  "
      ]
     },
     "execution_count": 703,
     "metadata": {},
     "output_type": "execute_result"
    }
   ],
   "source": [
    "papers[papers['DOI']=='10.1093/bioinformatics/btw205']"
   ]
  },
  {
   "cell_type": "code",
   "execution_count": 687,
   "metadata": {},
   "outputs": [
    {
     "data": {
      "text/plain": [
       "38328"
      ]
     },
     "execution_count": 687,
     "metadata": {},
     "output_type": "execute_result"
    }
   ],
   "source": [
    "papers.shape[0]"
   ]
  },
  {
   "cell_type": "code",
   "execution_count": 400,
   "metadata": {},
   "outputs": [
    {
     "name": "stderr",
     "output_type": "stream",
     "text": [
      "/home/jorge/python_venvs/gender_identification/lib/python3.6/site-packages/pandas/core/groupby/generic.py:1315: FutureWarning: using a dict with renaming is deprecated and will be removed in a future version\n",
      "  return super(DataFrameGroupBy, self).aggregate(arg, *args, **kwargs)\n"
     ]
    },
    {
     "data": {
      "text/html": [
       "<div>\n",
       "<style scoped>\n",
       "    .dataframe tbody tr th:only-of-type {\n",
       "        vertical-align: middle;\n",
       "    }\n",
       "\n",
       "    .dataframe tbody tr th {\n",
       "        vertical-align: top;\n",
       "    }\n",
       "\n",
       "    .dataframe thead th {\n",
       "        text-align: right;\n",
       "    }\n",
       "</style>\n",
       "<table border=\"1\" class=\"dataframe\">\n",
       "  <thead>\n",
       "    <tr style=\"text-align: right;\">\n",
       "      <th></th>\n",
       "      <th>title</th>\n",
       "      <th>author_gender</th>\n",
       "      <th>count_gender</th>\n",
       "    </tr>\n",
       "  </thead>\n",
       "  <tbody>\n",
       "    <tr>\n",
       "      <th>0</th>\n",
       "      <td>A peptide-based method for 13C Metabolic Flux ...</td>\n",
       "      <td>male</td>\n",
       "      <td>6</td>\n",
       "    </tr>\n",
       "    <tr>\n",
       "      <th>1</th>\n",
       "      <td>A peptide-based method for 13C Metabolic Flux ...</td>\n",
       "      <td>female</td>\n",
       "      <td>2</td>\n",
       "    </tr>\n",
       "    <tr>\n",
       "      <th>2</th>\n",
       "      <td>Baseline CD4+ T cell counts correlates with HI...</td>\n",
       "      <td>female</td>\n",
       "      <td>2</td>\n",
       "    </tr>\n",
       "    <tr>\n",
       "      <th>3</th>\n",
       "      <td>Baseline CD4+ T cell counts correlates with HI...</td>\n",
       "      <td>unknown</td>\n",
       "      <td>4</td>\n",
       "    </tr>\n",
       "    <tr>\n",
       "      <th>4</th>\n",
       "      <td>Baseline CD4+ T cell counts correlates with HI...</td>\n",
       "      <td>male</td>\n",
       "      <td>1</td>\n",
       "    </tr>\n",
       "  </tbody>\n",
       "</table>\n",
       "</div>"
      ],
      "text/plain": [
       "                                               title author_gender  \\\n",
       "0  A peptide-based method for 13C Metabolic Flux ...          male   \n",
       "1  A peptide-based method for 13C Metabolic Flux ...        female   \n",
       "2  Baseline CD4+ T cell counts correlates with HI...        female   \n",
       "3  Baseline CD4+ T cell counts correlates with HI...       unknown   \n",
       "4  Baseline CD4+ T cell counts correlates with HI...          male   \n",
       "\n",
       "   count_gender  \n",
       "0             6  \n",
       "1             2  \n",
       "2             2  \n",
       "3             4  \n",
       "4             1  "
      ]
     },
     "execution_count": 400,
     "metadata": {},
     "output_type": "execute_result"
    }
   ],
   "source": [
    "papers_grouped_by_title = papers_authors.drop(['id', 'doi', 'year', 'category', 'author', 'author_position'], axis=1).groupby(['title','author_gender'], sort=False, as_index=False)\n",
    "agg_papers_grouped_df = papers_grouped_by_title[['author_gender']].agg({'author_gender': {'count_gender': 'count'}})\n",
    "agg_papers_grouped_df.head()"
   ]
  },
  {
   "cell_type": "code",
   "execution_count": 402,
   "metadata": {},
   "outputs": [
    {
     "data": {
      "text/html": [
       "<div>\n",
       "<style scoped>\n",
       "    .dataframe tbody tr th:only-of-type {\n",
       "        vertical-align: middle;\n",
       "    }\n",
       "\n",
       "    .dataframe tbody tr th {\n",
       "        vertical-align: top;\n",
       "    }\n",
       "\n",
       "    .dataframe thead th {\n",
       "        text-align: right;\n",
       "    }\n",
       "</style>\n",
       "<table border=\"1\" class=\"dataframe\">\n",
       "  <thead>\n",
       "    <tr style=\"text-align: right;\">\n",
       "      <th>author_gender</th>\n",
       "      <th>female</th>\n",
       "      <th>male</th>\n",
       "    </tr>\n",
       "    <tr>\n",
       "      <th>title</th>\n",
       "      <th></th>\n",
       "      <th></th>\n",
       "    </tr>\n",
       "  </thead>\n",
       "  <tbody>\n",
       "    <tr>\n",
       "      <th>'Bois noir' phytoplasma induces significant reprogramming of the leaf transcriptome in the field grown grapevine</th>\n",
       "      <td>3.0</td>\n",
       "      <td>2.0</td>\n",
       "    </tr>\n",
       "    <tr>\n",
       "      <th>'Brukin2D': A 2D visualization and comparison tool for LC-MS data</th>\n",
       "      <td>2.0</td>\n",
       "      <td>12.0</td>\n",
       "    </tr>\n",
       "    <tr>\n",
       "      <th>'HypothesisFinder:' A Strategy for the Detection of Speculative Statements in Scientific Text</th>\n",
       "      <td>6.0</td>\n",
       "      <td>6.0</td>\n",
       "    </tr>\n",
       "    <tr>\n",
       "      <th>'In-line attack' conformational effect plays a modest role in an enzyme-catalyzed RNA cleavage: A free energy simulation study</th>\n",
       "      <td>0.0</td>\n",
       "      <td>0.0</td>\n",
       "    </tr>\n",
       "    <tr>\n",
       "      <th>'PACLIMS': A component LIM system for high-throughput functional genomic analysis</th>\n",
       "      <td>4.0</td>\n",
       "      <td>2.0</td>\n",
       "    </tr>\n",
       "  </tbody>\n",
       "</table>\n",
       "</div>"
      ],
      "text/plain": [
       "author_gender                                       female  male\n",
       "title                                                           \n",
       "'Bois noir' phytoplasma induces significant rep...     3.0   2.0\n",
       "'Brukin2D': A 2D visualization and comparison t...     2.0  12.0\n",
       "'HypothesisFinder:' A Strategy for the Detectio...     6.0   6.0\n",
       "'In-line attack' conformational effect plays a ...     0.0   0.0\n",
       "'PACLIMS': A component LIM system for high-thro...     4.0   2.0"
      ]
     },
     "execution_count": 402,
     "metadata": {},
     "output_type": "execute_result"
    }
   ],
   "source": [
    "papers_gender_dist = agg_papers_grouped_df.pivot(columns='author_gender', values='count_gender', index='title')\n",
    "papers_gender_dist = papers_gender_dist.drop(['mostly_female', 'mostly_male', 'unknown'], axis=1)\n",
    "papers_gender_dist = papers_gender_dist.fillna(0)\n",
    "papers_gender_dist.head()"
   ]
  },
  {
   "cell_type": "code",
   "execution_count": 403,
   "metadata": {},
   "outputs": [
    {
     "data": {
      "text/html": [
       "<div>\n",
       "<style scoped>\n",
       "    .dataframe tbody tr th:only-of-type {\n",
       "        vertical-align: middle;\n",
       "    }\n",
       "\n",
       "    .dataframe tbody tr th {\n",
       "        vertical-align: top;\n",
       "    }\n",
       "\n",
       "    .dataframe thead th {\n",
       "        text-align: right;\n",
       "    }\n",
       "</style>\n",
       "<table border=\"1\" class=\"dataframe\">\n",
       "  <thead>\n",
       "    <tr style=\"text-align: right;\">\n",
       "      <th>author_gender</th>\n",
       "      <th>female</th>\n",
       "      <th>male</th>\n",
       "      <th>most_female</th>\n",
       "      <th>most_male</th>\n",
       "      <th>equal_gender</th>\n",
       "      <th>only_male</th>\n",
       "      <th>only_female</th>\n",
       "    </tr>\n",
       "    <tr>\n",
       "      <th>title</th>\n",
       "      <th></th>\n",
       "      <th></th>\n",
       "      <th></th>\n",
       "      <th></th>\n",
       "      <th></th>\n",
       "      <th></th>\n",
       "      <th></th>\n",
       "    </tr>\n",
       "  </thead>\n",
       "  <tbody>\n",
       "    <tr>\n",
       "      <th>'Bois noir' phytoplasma induces significant reprogramming of the leaf transcriptome in the field grown grapevine</th>\n",
       "      <td>3.0</td>\n",
       "      <td>2.0</td>\n",
       "      <td>1</td>\n",
       "      <td>0</td>\n",
       "      <td>0</td>\n",
       "      <td>0</td>\n",
       "      <td>0</td>\n",
       "    </tr>\n",
       "    <tr>\n",
       "      <th>'Brukin2D': A 2D visualization and comparison tool for LC-MS data</th>\n",
       "      <td>2.0</td>\n",
       "      <td>12.0</td>\n",
       "      <td>0</td>\n",
       "      <td>1</td>\n",
       "      <td>0</td>\n",
       "      <td>0</td>\n",
       "      <td>0</td>\n",
       "    </tr>\n",
       "    <tr>\n",
       "      <th>'HypothesisFinder:' A Strategy for the Detection of Speculative Statements in Scientific Text</th>\n",
       "      <td>6.0</td>\n",
       "      <td>6.0</td>\n",
       "      <td>0</td>\n",
       "      <td>0</td>\n",
       "      <td>1</td>\n",
       "      <td>0</td>\n",
       "      <td>0</td>\n",
       "    </tr>\n",
       "    <tr>\n",
       "      <th>'In-line attack' conformational effect plays a modest role in an enzyme-catalyzed RNA cleavage: A free energy simulation study</th>\n",
       "      <td>0.0</td>\n",
       "      <td>0.0</td>\n",
       "      <td>0</td>\n",
       "      <td>0</td>\n",
       "      <td>1</td>\n",
       "      <td>1</td>\n",
       "      <td>1</td>\n",
       "    </tr>\n",
       "    <tr>\n",
       "      <th>'PACLIMS': A component LIM system for high-throughput functional genomic analysis</th>\n",
       "      <td>4.0</td>\n",
       "      <td>2.0</td>\n",
       "      <td>1</td>\n",
       "      <td>0</td>\n",
       "      <td>0</td>\n",
       "      <td>0</td>\n",
       "      <td>0</td>\n",
       "    </tr>\n",
       "  </tbody>\n",
       "</table>\n",
       "</div>"
      ],
      "text/plain": [
       "author_gender                                       female  male  most_female  \\\n",
       "title                                                                           \n",
       "'Bois noir' phytoplasma induces significant rep...     3.0   2.0            1   \n",
       "'Brukin2D': A 2D visualization and comparison t...     2.0  12.0            0   \n",
       "'HypothesisFinder:' A Strategy for the Detectio...     6.0   6.0            0   \n",
       "'In-line attack' conformational effect plays a ...     0.0   0.0            0   \n",
       "'PACLIMS': A component LIM system for high-thro...     4.0   2.0            1   \n",
       "\n",
       "author_gender                                       most_male  equal_gender  \\\n",
       "title                                                                         \n",
       "'Bois noir' phytoplasma induces significant rep...          0             0   \n",
       "'Brukin2D': A 2D visualization and comparison t...          1             0   \n",
       "'HypothesisFinder:' A Strategy for the Detectio...          0             1   \n",
       "'In-line attack' conformational effect plays a ...          0             1   \n",
       "'PACLIMS': A component LIM system for high-thro...          0             0   \n",
       "\n",
       "author_gender                                       only_male  only_female  \n",
       "title                                                                       \n",
       "'Bois noir' phytoplasma induces significant rep...          0            0  \n",
       "'Brukin2D': A 2D visualization and comparison t...          0            0  \n",
       "'HypothesisFinder:' A Strategy for the Detectio...          0            0  \n",
       "'In-line attack' conformational effect plays a ...          1            1  \n",
       "'PACLIMS': A component LIM system for high-thro...          0            0  "
      ]
     },
     "execution_count": 403,
     "metadata": {},
     "output_type": "execute_result"
    }
   ],
   "source": [
    "papers_gender_dist['most_female'] = np.where(papers_gender_dist['female']>papers_gender_dist['male'], 1, 0)\n",
    "papers_gender_dist['most_male'] = np.where(papers_gender_dist['male']>papers_gender_dist['female'], 1, 0)\n",
    "papers_gender_dist['equal_gender'] = np.where(papers_gender_dist['male']==papers_gender_dist['female'], 1, 0)\n",
    "papers_gender_dist['only_male'] = np.where(papers_gender_dist['female']==0, 1, 0)\n",
    "papers_gender_dist['only_female'] = np.where(papers_gender_dist['male']==0, 1, 0)\n",
    "papers_gender_dist.head()"
   ]
  },
  {
   "cell_type": "markdown",
   "metadata": {},
   "source": [
    "## Papers with mostly male authors"
   ]
  },
  {
   "cell_type": "code",
   "execution_count": 404,
   "metadata": {},
   "outputs": [
    {
     "name": "stdout",
     "output_type": "stream",
     "text": [
      "There are 12870(56.23%) papers which have mostly male authors\n"
     ]
    }
   ],
   "source": [
    "raw_num = papers_gender_dist['most_male'].sum()\n",
    "per_num = round(raw_num/papers_gender_dist.shape[0]*100,2)\n",
    "print('There are {}({}%) papers which have mostly male authors'.format(raw_num, per_num))"
   ]
  },
  {
   "cell_type": "markdown",
   "metadata": {},
   "source": [
    "## Papers with mostly female authors"
   ]
  },
  {
   "cell_type": "code",
   "execution_count": 405,
   "metadata": {},
   "outputs": [
    {
     "name": "stdout",
     "output_type": "stream",
     "text": [
      "There are 6411(28.01%) papers which have mostly female authors\n"
     ]
    }
   ],
   "source": [
    "raw_num = papers_gender_dist['most_female'].sum()\n",
    "per_num = round(raw_num/papers_gender_dist.shape[0]*100,2)\n",
    "print('There are {}({}%) papers which have mostly female authors'.format(raw_num, per_num))"
   ]
  },
  {
   "cell_type": "markdown",
   "metadata": {},
   "source": [
    "## Papers with only male authors"
   ]
  },
  {
   "cell_type": "code",
   "execution_count": 406,
   "metadata": {},
   "outputs": [
    {
     "name": "stdout",
     "output_type": "stream",
     "text": [
      "There are 8453(36.93%) papers which have only male authors\n"
     ]
    }
   ],
   "source": [
    "raw_num = papers_gender_dist['only_male'].sum()\n",
    "per_num = round(raw_num/papers_gender_dist.shape[0]*100,2)\n",
    "print('There are {}({}%) papers which have only male authors'.format(raw_num, per_num))"
   ]
  },
  {
   "cell_type": "markdown",
   "metadata": {},
   "source": [
    "## Papers with only female authors"
   ]
  },
  {
   "cell_type": "code",
   "execution_count": 407,
   "metadata": {},
   "outputs": [
    {
     "name": "stdout",
     "output_type": "stream",
     "text": [
      "There are 1916(8.37%) papers which have only female authors\n"
     ]
    }
   ],
   "source": [
    "raw_num = papers_gender_dist['only_female'].sum()\n",
    "per_num = round(raw_num/papers_gender_dist.shape[0]*100,2)\n",
    "print('There are {}({}%) papers which have only female authors'.format(raw_num, per_num))"
   ]
  },
  {
   "cell_type": "markdown",
   "metadata": {},
   "source": [
    "## Papers with equal number of male and female authors"
   ]
  },
  {
   "cell_type": "code",
   "execution_count": 408,
   "metadata": {},
   "outputs": [
    {
     "name": "stdout",
     "output_type": "stream",
     "text": [
      "There are 3607(15.76%) papers which have equal number of male and female authors\n"
     ]
    }
   ],
   "source": [
    "raw_num = papers_gender_dist['equal_gender'].sum()\n",
    "per_num = round(raw_num/papers_gender_dist.shape[0]*100,2)\n",
    "print('There are {}({}%) papers which have equal number of male and female authors'.format(raw_num, per_num))"
   ]
  },
  {
   "cell_type": "markdown",
   "metadata": {},
   "source": [
    "## Distribution of first author genders"
   ]
  },
  {
   "cell_type": "code",
   "execution_count": 353,
   "metadata": {},
   "outputs": [
    {
     "data": {
      "text/plain": [
       "male             0.543017\n",
       "female           0.248161\n",
       "unknown          0.190040\n",
       "mostly_male      0.004383\n",
       "mostly_female    0.002191\n",
       "Name: author_gender, dtype: float64"
      ]
     },
     "execution_count": 353,
     "metadata": {},
     "output_type": "execute_result"
    }
   ],
   "source": [
    "papers_authors[papers_authors['author_position']==1].author_gender.value_counts()/papers.shape[0]"
   ]
  },
  {
   "cell_type": "markdown",
   "metadata": {},
   "source": [
    "## Number of papers with a woman as first author"
   ]
  },
  {
   "cell_type": "code",
   "execution_count": 354,
   "metadata": {},
   "outputs": [
    {
     "name": "stdout",
     "output_type": "stream",
     "text": [
      "There are 9513(24.82%) papers which have a woman as the first author\n"
     ]
    }
   ],
   "source": [
    "raw_num = papers_authors[(papers_authors['author_gender']=='female')&(papers_authors['author_position']==1)].shape[0]\n",
    "per_num = round(raw_num/papers.shape[0]*100,2)\n",
    "print('There are {}({}%) papers which have a woman as the first author'.format(raw_num, per_num))"
   ]
  },
  {
   "cell_type": "markdown",
   "metadata": {},
   "source": [
    "## Number of papers with a man as first author"
   ]
  },
  {
   "cell_type": "code",
   "execution_count": 355,
   "metadata": {},
   "outputs": [
    {
     "name": "stdout",
     "output_type": "stream",
     "text": [
      "There are 20816(54.3%) papers which have a man as the first author\n"
     ]
    }
   ],
   "source": [
    "raw_num = papers_authors[(papers_authors['author_gender']=='male')&(papers_authors['author_position']==1)].shape[0]\n",
    "per_num = round(raw_num/papers.shape[0]*100,2)\n",
    "print('There are {}({}%) papers which have a man as the first author'.format(raw_num, per_num))"
   ]
  },
  {
   "cell_type": "markdown",
   "metadata": {},
   "source": [
    "## Evolution of male and female authors by year"
   ]
  },
  {
   "cell_type": "code",
   "execution_count": 356,
   "metadata": {},
   "outputs": [],
   "source": [
    "papers_grouped_by_year = papers_authors.drop(['id', 'title', 'doi', 'category', 'author', 'author_position'], axis=1).\\\n",
    "    groupby(['year','author_gender'], as_index=False)\n",
    "agg_papers_grouped_df = papers_grouped_by_year[['author_gender']].agg({'author_gender': {'count_gender': 'count'}})"
   ]
  },
  {
   "cell_type": "code",
   "execution_count": 357,
   "metadata": {},
   "outputs": [
    {
     "data": {
      "text/html": [
       "<div>\n",
       "<style scoped>\n",
       "    .dataframe tbody tr th:only-of-type {\n",
       "        vertical-align: middle;\n",
       "    }\n",
       "\n",
       "    .dataframe tbody tr th {\n",
       "        vertical-align: top;\n",
       "    }\n",
       "\n",
       "    .dataframe thead th {\n",
       "        text-align: right;\n",
       "    }\n",
       "</style>\n",
       "<table border=\"1\" class=\"dataframe\">\n",
       "  <thead>\n",
       "    <tr style=\"text-align: right;\">\n",
       "      <th>author_gender</th>\n",
       "      <th>female</th>\n",
       "      <th>male</th>\n",
       "    </tr>\n",
       "    <tr>\n",
       "      <th>year</th>\n",
       "      <th></th>\n",
       "      <th></th>\n",
       "    </tr>\n",
       "  </thead>\n",
       "  <tbody>\n",
       "    <tr>\n",
       "      <th>2000</th>\n",
       "      <td>2.0</td>\n",
       "      <td>1.0</td>\n",
       "    </tr>\n",
       "    <tr>\n",
       "      <th>2001</th>\n",
       "      <td>1.0</td>\n",
       "      <td>1.0</td>\n",
       "    </tr>\n",
       "    <tr>\n",
       "      <th>2002</th>\n",
       "      <td>53.0</td>\n",
       "      <td>142.0</td>\n",
       "    </tr>\n",
       "    <tr>\n",
       "      <th>2003</th>\n",
       "      <td>98.0</td>\n",
       "      <td>266.0</td>\n",
       "    </tr>\n",
       "    <tr>\n",
       "      <th>2004</th>\n",
       "      <td>281.0</td>\n",
       "      <td>843.0</td>\n",
       "    </tr>\n",
       "  </tbody>\n",
       "</table>\n",
       "</div>"
      ],
      "text/plain": [
       "author_gender  female   male\n",
       "year                        \n",
       "2000              2.0    1.0\n",
       "2001              1.0    1.0\n",
       "2002             53.0  142.0\n",
       "2003             98.0  266.0\n",
       "2004            281.0  843.0"
      ]
     },
     "execution_count": 357,
     "metadata": {},
     "output_type": "execute_result"
    }
   ],
   "source": [
    "papers_gender_dist = agg_papers_grouped_df.pivot(columns='author_gender', values='count_gender', index='year')\n",
    "papers_gender_dist = papers_gender_dist.drop(['error_api', 'mostly_female', 'mostly_male', 'unknown'], axis=1)\n",
    "papers_gender_dist = papers_gender_dist.fillna(0)\n",
    "papers_gender_dist.head()"
   ]
  },
  {
   "cell_type": "code",
   "execution_count": 358,
   "metadata": {},
   "outputs": [
    {
     "data": {
      "image/png": "[encoded data removed]",
      "text/plain": [
       "<Figure size 864x576 with 1 Axes>"
      ]
     },
     "metadata": {
      "needs_background": "light"
     },
     "output_type": "display_data"
    }
   ],
   "source": [
    "papers_gender_dist.plot(lw=5)\n",
    "plt.gcf().set_size_inches(12, 8)"
   ]
  },
  {
   "cell_type": "markdown",
   "metadata": {},
   "source": [
    "## Position in papers of female authors"
   ]
  },
  {
   "cell_type": "code",
   "execution_count": 359,
   "metadata": {},
   "outputs": [
    {
     "data": {
      "text/html": [
       "<div>\n",
       "<style scoped>\n",
       "    .dataframe tbody tr th:only-of-type {\n",
       "        vertical-align: middle;\n",
       "    }\n",
       "\n",
       "    .dataframe tbody tr th {\n",
       "        vertical-align: top;\n",
       "    }\n",
       "\n",
       "    .dataframe thead th {\n",
       "        text-align: right;\n",
       "    }\n",
       "</style>\n",
       "<table border=\"1\" class=\"dataframe\">\n",
       "  <thead>\n",
       "    <tr style=\"text-align: right;\">\n",
       "      <th>author_position</th>\n",
       "      <th>1</th>\n",
       "      <th>2</th>\n",
       "      <th>3</th>\n",
       "      <th>4</th>\n",
       "      <th>5</th>\n",
       "      <th>6</th>\n",
       "      <th>7</th>\n",
       "      <th>8</th>\n",
       "      <th>9</th>\n",
       "      <th>10</th>\n",
       "      <th>...</th>\n",
       "      <th>92</th>\n",
       "      <th>93</th>\n",
       "      <th>95</th>\n",
       "      <th>103</th>\n",
       "      <th>107</th>\n",
       "      <th>117</th>\n",
       "      <th>118</th>\n",
       "      <th>120</th>\n",
       "      <th>126</th>\n",
       "      <th>129</th>\n",
       "    </tr>\n",
       "    <tr>\n",
       "      <th>author</th>\n",
       "      <th></th>\n",
       "      <th></th>\n",
       "      <th></th>\n",
       "      <th></th>\n",
       "      <th></th>\n",
       "      <th></th>\n",
       "      <th></th>\n",
       "      <th></th>\n",
       "      <th></th>\n",
       "      <th></th>\n",
       "      <th></th>\n",
       "      <th></th>\n",
       "      <th></th>\n",
       "      <th></th>\n",
       "      <th></th>\n",
       "      <th></th>\n",
       "      <th></th>\n",
       "      <th></th>\n",
       "      <th></th>\n",
       "      <th></th>\n",
       "      <th></th>\n",
       "    </tr>\n",
       "  </thead>\n",
       "  <tbody>\n",
       "    <tr>\n",
       "      <th>A A Fedorova</th>\n",
       "      <td>0.0</td>\n",
       "      <td>0.0</td>\n",
       "      <td>0.0</td>\n",
       "      <td>1.0</td>\n",
       "      <td>0.0</td>\n",
       "      <td>0.0</td>\n",
       "      <td>0.0</td>\n",
       "      <td>0.0</td>\n",
       "      <td>0.0</td>\n",
       "      <td>0.0</td>\n",
       "      <td>...</td>\n",
       "      <td>0.0</td>\n",
       "      <td>0.0</td>\n",
       "      <td>0.0</td>\n",
       "      <td>0.0</td>\n",
       "      <td>0.0</td>\n",
       "      <td>0.0</td>\n",
       "      <td>0.0</td>\n",
       "      <td>0.0</td>\n",
       "      <td>0.0</td>\n",
       "      <td>0.0</td>\n",
       "    </tr>\n",
       "    <tr>\n",
       "      <th>A Bendoraite</th>\n",
       "      <td>0.0</td>\n",
       "      <td>0.0</td>\n",
       "      <td>0.0</td>\n",
       "      <td>1.0</td>\n",
       "      <td>0.0</td>\n",
       "      <td>0.0</td>\n",
       "      <td>0.0</td>\n",
       "      <td>0.0</td>\n",
       "      <td>0.0</td>\n",
       "      <td>0.0</td>\n",
       "      <td>...</td>\n",
       "      <td>0.0</td>\n",
       "      <td>0.0</td>\n",
       "      <td>0.0</td>\n",
       "      <td>0.0</td>\n",
       "      <td>0.0</td>\n",
       "      <td>0.0</td>\n",
       "      <td>0.0</td>\n",
       "      <td>0.0</td>\n",
       "      <td>0.0</td>\n",
       "      <td>0.0</td>\n",
       "    </tr>\n",
       "    <tr>\n",
       "      <th>A K Shchyolkina</th>\n",
       "      <td>0.0</td>\n",
       "      <td>1.0</td>\n",
       "      <td>0.0</td>\n",
       "      <td>0.0</td>\n",
       "      <td>0.0</td>\n",
       "      <td>0.0</td>\n",
       "      <td>0.0</td>\n",
       "      <td>0.0</td>\n",
       "      <td>0.0</td>\n",
       "      <td>0.0</td>\n",
       "      <td>...</td>\n",
       "      <td>0.0</td>\n",
       "      <td>0.0</td>\n",
       "      <td>0.0</td>\n",
       "      <td>0.0</td>\n",
       "      <td>0.0</td>\n",
       "      <td>0.0</td>\n",
       "      <td>0.0</td>\n",
       "      <td>0.0</td>\n",
       "      <td>0.0</td>\n",
       "      <td>0.0</td>\n",
       "    </tr>\n",
       "    <tr>\n",
       "      <th>A V Lapuk</th>\n",
       "      <td>0.0</td>\n",
       "      <td>0.0</td>\n",
       "      <td>0.0</td>\n",
       "      <td>0.0</td>\n",
       "      <td>1.0</td>\n",
       "      <td>0.0</td>\n",
       "      <td>0.0</td>\n",
       "      <td>0.0</td>\n",
       "      <td>0.0</td>\n",
       "      <td>0.0</td>\n",
       "      <td>...</td>\n",
       "      <td>0.0</td>\n",
       "      <td>0.0</td>\n",
       "      <td>0.0</td>\n",
       "      <td>0.0</td>\n",
       "      <td>0.0</td>\n",
       "      <td>0.0</td>\n",
       "      <td>0.0</td>\n",
       "      <td>0.0</td>\n",
       "      <td>0.0</td>\n",
       "      <td>0.0</td>\n",
       "    </tr>\n",
       "    <tr>\n",
       "      <th>A-Lien Lu</th>\n",
       "      <td>0.0</td>\n",
       "      <td>0.0</td>\n",
       "      <td>0.0</td>\n",
       "      <td>0.0</td>\n",
       "      <td>0.0</td>\n",
       "      <td>0.0</td>\n",
       "      <td>2.0</td>\n",
       "      <td>0.0</td>\n",
       "      <td>0.0</td>\n",
       "      <td>0.0</td>\n",
       "      <td>...</td>\n",
       "      <td>0.0</td>\n",
       "      <td>0.0</td>\n",
       "      <td>0.0</td>\n",
       "      <td>0.0</td>\n",
       "      <td>0.0</td>\n",
       "      <td>0.0</td>\n",
       "      <td>0.0</td>\n",
       "      <td>0.0</td>\n",
       "      <td>0.0</td>\n",
       "      <td>0.0</td>\n",
       "    </tr>\n",
       "  </tbody>\n",
       "</table>\n",
       "<p>5 rows × 89 columns</p>\n",
       "</div>"
      ],
      "text/plain": [
       "author_position  1    2    3    4    5    6    7    8    9    10   ...  92   \\\n",
       "author                                                             ...        \n",
       "A A Fedorova     0.0  0.0  0.0  1.0  0.0  0.0  0.0  0.0  0.0  0.0  ...  0.0   \n",
       "A Bendoraite     0.0  0.0  0.0  1.0  0.0  0.0  0.0  0.0  0.0  0.0  ...  0.0   \n",
       "A K Shchyolkina  0.0  1.0  0.0  0.0  0.0  0.0  0.0  0.0  0.0  0.0  ...  0.0   \n",
       "A V Lapuk        0.0  0.0  0.0  0.0  1.0  0.0  0.0  0.0  0.0  0.0  ...  0.0   \n",
       "A-Lien Lu        0.0  0.0  0.0  0.0  0.0  0.0  2.0  0.0  0.0  0.0  ...  0.0   \n",
       "\n",
       "author_position  93   95   103  107  117  118  120  126  129  \n",
       "author                                                        \n",
       "A A Fedorova     0.0  0.0  0.0  0.0  0.0  0.0  0.0  0.0  0.0  \n",
       "A Bendoraite     0.0  0.0  0.0  0.0  0.0  0.0  0.0  0.0  0.0  \n",
       "A K Shchyolkina  0.0  0.0  0.0  0.0  0.0  0.0  0.0  0.0  0.0  \n",
       "A V Lapuk        0.0  0.0  0.0  0.0  0.0  0.0  0.0  0.0  0.0  \n",
       "A-Lien Lu        0.0  0.0  0.0  0.0  0.0  0.0  0.0  0.0  0.0  \n",
       "\n",
       "[5 rows x 89 columns]"
      ]
     },
     "execution_count": 359,
     "metadata": {},
     "output_type": "execute_result"
    }
   ],
   "source": [
    "# filter out male authors\n",
    "female_authors = papers_authors[papers_authors['author_gender']=='female']\n",
    "# drop unneccesary columns\n",
    "female_authors = female_authors.drop(['id', 'title', 'doi', 'year', 'category', 'author_gender'], axis=1)\n",
    "# group rows authors by author\n",
    "female_authors_grouped_by_position = female_authors.groupby(['author','author_position'], as_index=False)\n",
    "# compute frequency of positions\n",
    "agg_fa_grouped_df = female_authors_grouped_by_position[['author_position']].\\\n",
    "    agg({'author_position': {'count_position': 'count'}})\n",
    "# pivot table\n",
    "female_authors_pos = agg_fa_grouped_df.pivot(columns='author_position', values='count_position', index='author')\n",
    "# fill na values with zero\n",
    "female_authors_pos = female_authors_pos.fillna(0)\n",
    "female_authors_pos.head()"
   ]
  },
  {
   "cell_type": "code",
   "execution_count": 360,
   "metadata": {},
   "outputs": [],
   "source": [
    "female_authors_pos['freq_pos'] = female_authors_pos.idxmax(axis=1)  #.value_counts()[:10]"
   ]
  },
  {
   "cell_type": "code",
   "execution_count": 361,
   "metadata": {},
   "outputs": [
    {
     "data": {
      "text/html": [
       "<div>\n",
       "<style scoped>\n",
       "    .dataframe tbody tr th:only-of-type {\n",
       "        vertical-align: middle;\n",
       "    }\n",
       "\n",
       "    .dataframe tbody tr th {\n",
       "        vertical-align: top;\n",
       "    }\n",
       "\n",
       "    .dataframe thead th {\n",
       "        text-align: right;\n",
       "    }\n",
       "</style>\n",
       "<table border=\"1\" class=\"dataframe\">\n",
       "  <thead>\n",
       "    <tr style=\"text-align: right;\">\n",
       "      <th>author_position</th>\n",
       "      <th>1</th>\n",
       "      <th>2</th>\n",
       "      <th>3</th>\n",
       "      <th>4</th>\n",
       "      <th>5</th>\n",
       "      <th>6</th>\n",
       "      <th>7</th>\n",
       "      <th>8</th>\n",
       "      <th>9</th>\n",
       "      <th>10</th>\n",
       "      <th>...</th>\n",
       "      <th>93</th>\n",
       "      <th>95</th>\n",
       "      <th>103</th>\n",
       "      <th>107</th>\n",
       "      <th>117</th>\n",
       "      <th>118</th>\n",
       "      <th>120</th>\n",
       "      <th>126</th>\n",
       "      <th>129</th>\n",
       "      <th>freq_pos</th>\n",
       "    </tr>\n",
       "    <tr>\n",
       "      <th>author</th>\n",
       "      <th></th>\n",
       "      <th></th>\n",
       "      <th></th>\n",
       "      <th></th>\n",
       "      <th></th>\n",
       "      <th></th>\n",
       "      <th></th>\n",
       "      <th></th>\n",
       "      <th></th>\n",
       "      <th></th>\n",
       "      <th></th>\n",
       "      <th></th>\n",
       "      <th></th>\n",
       "      <th></th>\n",
       "      <th></th>\n",
       "      <th></th>\n",
       "      <th></th>\n",
       "      <th></th>\n",
       "      <th></th>\n",
       "      <th></th>\n",
       "      <th></th>\n",
       "    </tr>\n",
       "  </thead>\n",
       "  <tbody>\n",
       "    <tr>\n",
       "      <th>Aafke A van den Berg</th>\n",
       "      <td>1.0</td>\n",
       "      <td>0.0</td>\n",
       "      <td>0.0</td>\n",
       "      <td>0.0</td>\n",
       "      <td>0.0</td>\n",
       "      <td>0.0</td>\n",
       "      <td>0.0</td>\n",
       "      <td>0.0</td>\n",
       "      <td>0.0</td>\n",
       "      <td>0.0</td>\n",
       "      <td>...</td>\n",
       "      <td>0.0</td>\n",
       "      <td>0.0</td>\n",
       "      <td>0.0</td>\n",
       "      <td>0.0</td>\n",
       "      <td>0.0</td>\n",
       "      <td>0.0</td>\n",
       "      <td>0.0</td>\n",
       "      <td>0.0</td>\n",
       "      <td>0.0</td>\n",
       "      <td>1</td>\n",
       "    </tr>\n",
       "    <tr>\n",
       "      <th>Aafke W F Janssen</th>\n",
       "      <td>1.0</td>\n",
       "      <td>0.0</td>\n",
       "      <td>0.0</td>\n",
       "      <td>0.0</td>\n",
       "      <td>0.0</td>\n",
       "      <td>0.0</td>\n",
       "      <td>0.0</td>\n",
       "      <td>0.0</td>\n",
       "      <td>0.0</td>\n",
       "      <td>0.0</td>\n",
       "      <td>...</td>\n",
       "      <td>0.0</td>\n",
       "      <td>0.0</td>\n",
       "      <td>0.0</td>\n",
       "      <td>0.0</td>\n",
       "      <td>0.0</td>\n",
       "      <td>0.0</td>\n",
       "      <td>0.0</td>\n",
       "      <td>0.0</td>\n",
       "      <td>0.0</td>\n",
       "      <td>1</td>\n",
       "    </tr>\n",
       "    <tr>\n",
       "      <th>Aakrosh Ratan</th>\n",
       "      <td>2.0</td>\n",
       "      <td>1.0</td>\n",
       "      <td>0.0</td>\n",
       "      <td>0.0</td>\n",
       "      <td>1.0</td>\n",
       "      <td>0.0</td>\n",
       "      <td>0.0</td>\n",
       "      <td>1.0</td>\n",
       "      <td>0.0</td>\n",
       "      <td>0.0</td>\n",
       "      <td>...</td>\n",
       "      <td>0.0</td>\n",
       "      <td>0.0</td>\n",
       "      <td>0.0</td>\n",
       "      <td>0.0</td>\n",
       "      <td>0.0</td>\n",
       "      <td>0.0</td>\n",
       "      <td>0.0</td>\n",
       "      <td>0.0</td>\n",
       "      <td>0.0</td>\n",
       "      <td>1</td>\n",
       "    </tr>\n",
       "    <tr>\n",
       "      <th>Aamira Tariq</th>\n",
       "      <td>1.0</td>\n",
       "      <td>0.0</td>\n",
       "      <td>0.0</td>\n",
       "      <td>0.0</td>\n",
       "      <td>0.0</td>\n",
       "      <td>0.0</td>\n",
       "      <td>0.0</td>\n",
       "      <td>0.0</td>\n",
       "      <td>0.0</td>\n",
       "      <td>0.0</td>\n",
       "      <td>...</td>\n",
       "      <td>0.0</td>\n",
       "      <td>0.0</td>\n",
       "      <td>0.0</td>\n",
       "      <td>0.0</td>\n",
       "      <td>0.0</td>\n",
       "      <td>0.0</td>\n",
       "      <td>0.0</td>\n",
       "      <td>0.0</td>\n",
       "      <td>0.0</td>\n",
       "      <td>1</td>\n",
       "    </tr>\n",
       "    <tr>\n",
       "      <th>Aanchal Katoch</th>\n",
       "      <td>1.0</td>\n",
       "      <td>0.0</td>\n",
       "      <td>0.0</td>\n",
       "      <td>0.0</td>\n",
       "      <td>0.0</td>\n",
       "      <td>0.0</td>\n",
       "      <td>0.0</td>\n",
       "      <td>0.0</td>\n",
       "      <td>0.0</td>\n",
       "      <td>0.0</td>\n",
       "      <td>...</td>\n",
       "      <td>0.0</td>\n",
       "      <td>0.0</td>\n",
       "      <td>0.0</td>\n",
       "      <td>0.0</td>\n",
       "      <td>0.0</td>\n",
       "      <td>0.0</td>\n",
       "      <td>0.0</td>\n",
       "      <td>0.0</td>\n",
       "      <td>0.0</td>\n",
       "      <td>1</td>\n",
       "    </tr>\n",
       "    <tr>\n",
       "      <th>Aarti Garg</th>\n",
       "      <td>4.0</td>\n",
       "      <td>0.0</td>\n",
       "      <td>0.0</td>\n",
       "      <td>0.0</td>\n",
       "      <td>0.0</td>\n",
       "      <td>0.0</td>\n",
       "      <td>0.0</td>\n",
       "      <td>0.0</td>\n",
       "      <td>0.0</td>\n",
       "      <td>0.0</td>\n",
       "      <td>...</td>\n",
       "      <td>0.0</td>\n",
       "      <td>0.0</td>\n",
       "      <td>0.0</td>\n",
       "      <td>0.0</td>\n",
       "      <td>0.0</td>\n",
       "      <td>0.0</td>\n",
       "      <td>0.0</td>\n",
       "      <td>0.0</td>\n",
       "      <td>0.0</td>\n",
       "      <td>1</td>\n",
       "    </tr>\n",
       "    <tr>\n",
       "      <th>Aarti Sevilimedu</th>\n",
       "      <td>1.0</td>\n",
       "      <td>0.0</td>\n",
       "      <td>1.0</td>\n",
       "      <td>0.0</td>\n",
       "      <td>0.0</td>\n",
       "      <td>0.0</td>\n",
       "      <td>0.0</td>\n",
       "      <td>0.0</td>\n",
       "      <td>0.0</td>\n",
       "      <td>0.0</td>\n",
       "      <td>...</td>\n",
       "      <td>0.0</td>\n",
       "      <td>0.0</td>\n",
       "      <td>0.0</td>\n",
       "      <td>0.0</td>\n",
       "      <td>0.0</td>\n",
       "      <td>0.0</td>\n",
       "      <td>0.0</td>\n",
       "      <td>0.0</td>\n",
       "      <td>0.0</td>\n",
       "      <td>1</td>\n",
       "    </tr>\n",
       "    <tr>\n",
       "      <th>Abbey B Holt</th>\n",
       "      <td>1.0</td>\n",
       "      <td>0.0</td>\n",
       "      <td>0.0</td>\n",
       "      <td>0.0</td>\n",
       "      <td>0.0</td>\n",
       "      <td>0.0</td>\n",
       "      <td>0.0</td>\n",
       "      <td>0.0</td>\n",
       "      <td>0.0</td>\n",
       "      <td>0.0</td>\n",
       "      <td>...</td>\n",
       "      <td>0.0</td>\n",
       "      <td>0.0</td>\n",
       "      <td>0.0</td>\n",
       "      <td>0.0</td>\n",
       "      <td>0.0</td>\n",
       "      <td>0.0</td>\n",
       "      <td>0.0</td>\n",
       "      <td>0.0</td>\n",
       "      <td>0.0</td>\n",
       "      <td>1</td>\n",
       "    </tr>\n",
       "    <tr>\n",
       "      <th>Abha Singh Bais</th>\n",
       "      <td>1.0</td>\n",
       "      <td>0.0</td>\n",
       "      <td>0.0</td>\n",
       "      <td>0.0</td>\n",
       "      <td>0.0</td>\n",
       "      <td>0.0</td>\n",
       "      <td>0.0</td>\n",
       "      <td>0.0</td>\n",
       "      <td>0.0</td>\n",
       "      <td>0.0</td>\n",
       "      <td>...</td>\n",
       "      <td>0.0</td>\n",
       "      <td>0.0</td>\n",
       "      <td>0.0</td>\n",
       "      <td>0.0</td>\n",
       "      <td>0.0</td>\n",
       "      <td>0.0</td>\n",
       "      <td>0.0</td>\n",
       "      <td>0.0</td>\n",
       "      <td>0.0</td>\n",
       "      <td>1</td>\n",
       "    </tr>\n",
       "    <tr>\n",
       "      <th>Abibatou Mbodj</th>\n",
       "      <td>1.0</td>\n",
       "      <td>0.0</td>\n",
       "      <td>0.0</td>\n",
       "      <td>0.0</td>\n",
       "      <td>0.0</td>\n",
       "      <td>0.0</td>\n",
       "      <td>0.0</td>\n",
       "      <td>0.0</td>\n",
       "      <td>0.0</td>\n",
       "      <td>0.0</td>\n",
       "      <td>...</td>\n",
       "      <td>0.0</td>\n",
       "      <td>0.0</td>\n",
       "      <td>0.0</td>\n",
       "      <td>0.0</td>\n",
       "      <td>0.0</td>\n",
       "      <td>0.0</td>\n",
       "      <td>0.0</td>\n",
       "      <td>0.0</td>\n",
       "      <td>0.0</td>\n",
       "      <td>1</td>\n",
       "    </tr>\n",
       "  </tbody>\n",
       "</table>\n",
       "<p>10 rows × 90 columns</p>\n",
       "</div>"
      ],
      "text/plain": [
       "author_position         1    2    3    4    5    6    7    8    9   10  ...  \\\n",
       "author                                                                  ...   \n",
       "Aafke A van den Berg  1.0  0.0  0.0  0.0  0.0  0.0  0.0  0.0  0.0  0.0  ...   \n",
       "Aafke W F Janssen     1.0  0.0  0.0  0.0  0.0  0.0  0.0  0.0  0.0  0.0  ...   \n",
       "Aakrosh Ratan         2.0  1.0  0.0  0.0  1.0  0.0  0.0  1.0  0.0  0.0  ...   \n",
       "Aamira Tariq          1.0  0.0  0.0  0.0  0.0  0.0  0.0  0.0  0.0  0.0  ...   \n",
       "Aanchal Katoch        1.0  0.0  0.0  0.0  0.0  0.0  0.0  0.0  0.0  0.0  ...   \n",
       "Aarti Garg            4.0  0.0  0.0  0.0  0.0  0.0  0.0  0.0  0.0  0.0  ...   \n",
       "Aarti Sevilimedu      1.0  0.0  1.0  0.0  0.0  0.0  0.0  0.0  0.0  0.0  ...   \n",
       "Abbey B Holt          1.0  0.0  0.0  0.0  0.0  0.0  0.0  0.0  0.0  0.0  ...   \n",
       "Abha Singh Bais       1.0  0.0  0.0  0.0  0.0  0.0  0.0  0.0  0.0  0.0  ...   \n",
       "Abibatou Mbodj        1.0  0.0  0.0  0.0  0.0  0.0  0.0  0.0  0.0  0.0  ...   \n",
       "\n",
       "author_position        93   95  103  107  117  118  120  126  129  freq_pos  \n",
       "author                                                                       \n",
       "Aafke A van den Berg  0.0  0.0  0.0  0.0  0.0  0.0  0.0  0.0  0.0         1  \n",
       "Aafke W F Janssen     0.0  0.0  0.0  0.0  0.0  0.0  0.0  0.0  0.0         1  \n",
       "Aakrosh Ratan         0.0  0.0  0.0  0.0  0.0  0.0  0.0  0.0  0.0         1  \n",
       "Aamira Tariq          0.0  0.0  0.0  0.0  0.0  0.0  0.0  0.0  0.0         1  \n",
       "Aanchal Katoch        0.0  0.0  0.0  0.0  0.0  0.0  0.0  0.0  0.0         1  \n",
       "Aarti Garg            0.0  0.0  0.0  0.0  0.0  0.0  0.0  0.0  0.0         1  \n",
       "Aarti Sevilimedu      0.0  0.0  0.0  0.0  0.0  0.0  0.0  0.0  0.0         1  \n",
       "Abbey B Holt          0.0  0.0  0.0  0.0  0.0  0.0  0.0  0.0  0.0         1  \n",
       "Abha Singh Bais       0.0  0.0  0.0  0.0  0.0  0.0  0.0  0.0  0.0         1  \n",
       "Abibatou Mbodj        0.0  0.0  0.0  0.0  0.0  0.0  0.0  0.0  0.0         1  \n",
       "\n",
       "[10 rows x 90 columns]"
      ]
     },
     "execution_count": 361,
     "metadata": {},
     "output_type": "execute_result"
    }
   ],
   "source": [
    "female_authors_pos[female_authors_pos['freq_pos']==1].head(10)"
   ]
  },
  {
   "cell_type": "markdown",
   "metadata": {},
   "source": [
    "### Positions most frequently occuped by female authors in papres"
   ]
  },
  {
   "cell_type": "code",
   "execution_count": 362,
   "metadata": {},
   "outputs": [
    {
     "data": {
      "text/plain": [
       "1     7656\n",
       "2     6749\n",
       "3     5581\n",
       "4     4244\n",
       "5     2972\n",
       "6     2155\n",
       "7     1514\n",
       "8      984\n",
       "9      680\n",
       "10     477\n",
       "Name: freq_pos, dtype: int64"
      ]
     },
     "execution_count": 362,
     "metadata": {},
     "output_type": "execute_result"
    }
   ],
   "source": [
    "female_authors_pos['freq_pos'].value_counts()[:10]"
   ]
  },
  {
   "cell_type": "code",
   "execution_count": 363,
   "metadata": {},
   "outputs": [
    {
     "name": "stdout",
     "output_type": "stream",
     "text": [
      "There are 9513 (24.82%) papers led by a woman\n",
      "In 8706 (91.52%) of this papers there are also men as co-authors\n"
     ]
    }
   ],
   "source": [
    "title_papers_led_female = papers_authors[(papers_authors['author_gender']=='female') & \\\n",
    "                                         (papers_authors['author_position']==1)]['title']\n",
    "papers_led_female = papers_authors[papers_authors['title'].isin(title_papers_led_female)]\n",
    "papers_led_female = papers_led_female.drop(['id', 'doi', 'year', 'category', 'author', 'author_position'], axis=1)\n",
    "papers_led_female_grouped_by_title = papers_led_female.groupby(['title','author_gender'], \\\n",
    "                                                               sort=False, as_index=False)\n",
    "agg_papers_grouped_lbf = papers_led_female_grouped_by_title[['author_gender']].\\\n",
    "    agg({'author_gender': {'count_gender': 'count'}})\n",
    "papers_led_female_df = agg_papers_grouped_lbf.pivot(columns='author_gender', values='count_gender', index='title') \n",
    "papers_led_female_df = papers_led_female_df.drop(['error_api', 'mostly_female', 'mostly_male'], axis=1)\n",
    "papers_led_female_df = papers_led_female_df.fillna(0)\n",
    "num_papers_led_by_woman = papers_led_female_df.shape[0]\n",
    "per_papers_led_by_woman = round(num_papers_led_by_woman/papers.shape[0]*100,2)\n",
    "print('There are {} ({}%) papers led by a woman'.format(num_papers_led_by_woman, per_papers_led_by_woman))\n",
    "num_papers_led_by_woman_men = papers_led_female_df[papers_led_female_df['male']>0].shape[0]\n",
    "per_papers_led_by_woman_men = round(num_papers_led_by_woman_men/num_papers_led_by_woman*100,2)\n",
    "print('In {} ({}%) of this papers there are also men as co-authors'.format(num_papers_led_by_woman_men, \\\n",
    "                                                                          per_papers_led_by_woman_men))"
   ]
  },
  {
   "cell_type": "markdown",
   "metadata": {},
   "source": [
    "## Citations by gender"
   ]
  },
  {
   "cell_type": "markdown",
   "metadata": {},
   "source": [
    "### Citations of papers with mostly female and male authors"
   ]
  },
  {
   "cell_type": "code",
   "execution_count": 532,
   "metadata": {},
   "outputs": [],
   "source": [
    "papers_with_most_females = papers_gender_dist[papers_gender_dist['most_female']==1].index.values\n",
    "c_mostly_female_authors = papers[papers['title'].isin(papers_with_most_females)]['citations']\n",
    "papers_with_most_male = papers_gender_dist[papers_gender_dist['most_male']==1].index.values\n",
    "c_mostly_male_authors = papers[papers['title'].isin(papers_with_most_male)]['citations']"
   ]
  },
  {
   "cell_type": "code",
   "execution_count": 533,
   "metadata": {},
   "outputs": [
    {
     "data": {
      "text/plain": [
       "count    6411.000000\n",
       "mean       26.008891\n",
       "std        72.203477\n",
       "min         0.000000\n",
       "25%         4.000000\n",
       "50%        12.000000\n",
       "75%        28.000000\n",
       "max      2406.000000\n",
       "Name: citations, dtype: float64"
      ]
     },
     "execution_count": 533,
     "metadata": {},
     "output_type": "execute_result"
    }
   ],
   "source": [
    "c_mostly_female_authors.describe()"
   ]
  },
  {
   "cell_type": "code",
   "execution_count": 534,
   "metadata": {},
   "outputs": [
    {
     "data": {
      "text/plain": [
       "count    12870.000000\n",
       "mean        27.649650\n",
       "std         77.241824\n",
       "min          0.000000\n",
       "25%          4.000000\n",
       "50%         12.000000\n",
       "75%         29.000000\n",
       "max       3212.000000\n",
       "Name: citations, dtype: float64"
      ]
     },
     "execution_count": 534,
     "metadata": {},
     "output_type": "execute_result"
    }
   ],
   "source": [
    "c_mostly_male_authors.describe()"
   ]
  },
  {
   "cell_type": "code",
   "execution_count": 537,
   "metadata": {},
   "outputs": [
    {
     "data": {
      "image/png": "[encoded data removed]",
      "text/plain": [
       "<Figure size 864x576 with 1 Axes>"
      ]
     },
     "metadata": {
      "needs_background": "light"
     },
     "output_type": "display_data"
    }
   ],
   "source": [
    "data_to_plot = [c_mostly_female_authors, c_mostly_male_authors]\n",
    "# Create a figure instance\n",
    "fig = plt.figure(1, figsize=(12, 8))\n",
    "# Create an axes instance\n",
    "ax = fig.add_subplot(111)\n",
    "ax.set_xticklabels(['Most female authors', 'Most male authors'])\n",
    "# Create the boxplot\n",
    "bp = ax.boxplot(data_to_plot, showfliers=False)"
   ]
  },
  {
   "cell_type": "markdown",
   "metadata": {},
   "source": [
    "#### Are the different statistically significant?"
   ]
  },
  {
   "cell_type": "code",
   "execution_count": 549,
   "metadata": {},
   "outputs": [
    {
     "name": "stdout",
     "output_type": "stream",
     "text": [
      "The difference is not statistically significant, p-value: 0.156\n"
     ]
    }
   ],
   "source": [
    "ttest,pval = ttest_ind(c_mostly_female_authors,c_mostly_male_authors)\n",
    "if pval < 0.05:\n",
    "    print(\"The difference is statistically significant, p-value:\",round(pval,3))\n",
    "else:\n",
    "    print(\"The difference is not statistically significant, p-value:\",round(pval,3))"
   ]
  },
  {
   "cell_type": "markdown",
   "metadata": {},
   "source": [
    "### Citations of papers with only female and male authors"
   ]
  },
  {
   "cell_type": "code",
   "execution_count": 538,
   "metadata": {},
   "outputs": [],
   "source": [
    "papers_with_most_females = papers_gender_dist[papers_gender_dist['only_female']==1].index.values\n",
    "c_only_female_authors = papers[papers['title'].isin(papers_with_most_females)]['citations']\n",
    "papers_with_most_male = papers_gender_dist[papers_gender_dist['only_male']==1].index.values\n",
    "c_only_male_authors = papers[papers['title'].isin(papers_with_most_male)]['citations']"
   ]
  },
  {
   "cell_type": "code",
   "execution_count": 540,
   "metadata": {},
   "outputs": [
    {
     "data": {
      "text/plain": [
       "count    1916.000000\n",
       "mean       20.803236\n",
       "std        65.790850\n",
       "min         0.000000\n",
       "25%         3.000000\n",
       "50%         9.000000\n",
       "75%        23.000000\n",
       "max      2006.000000\n",
       "Name: citations, dtype: float64"
      ]
     },
     "execution_count": 540,
     "metadata": {},
     "output_type": "execute_result"
    }
   ],
   "source": [
    "c_only_female_authors.describe()"
   ]
  },
  {
   "cell_type": "code",
   "execution_count": 541,
   "metadata": {},
   "outputs": [
    {
     "data": {
      "text/plain": [
       "count    8453.000000\n",
       "mean       27.821602\n",
       "std        82.839307\n",
       "min         0.000000\n",
       "25%         4.000000\n",
       "50%        12.000000\n",
       "75%        29.000000\n",
       "max      3212.000000\n",
       "Name: citations, dtype: float64"
      ]
     },
     "execution_count": 541,
     "metadata": {},
     "output_type": "execute_result"
    }
   ],
   "source": [
    "c_only_male_authors.describe()"
   ]
  },
  {
   "cell_type": "code",
   "execution_count": 539,
   "metadata": {},
   "outputs": [
    {
     "data": {
      "image/png": "[encoded data removed]",
      "text/plain": [
       "<Figure size 864x576 with 1 Axes>"
      ]
     },
     "metadata": {
      "needs_background": "light"
     },
     "output_type": "display_data"
    }
   ],
   "source": [
    "data_to_plot = [c_only_female_authors, c_only_male_authors]\n",
    "# Create a figure instance\n",
    "fig = plt.figure(1, figsize=(12, 8))\n",
    "# Create an axes instance\n",
    "ax = fig.add_subplot(111)\n",
    "ax.set_xticklabels(['Only female authors', 'Only male authors'])\n",
    "# Create the boxplot\n",
    "bp = ax.boxplot(data_to_plot, showfliers=False)"
   ]
  },
  {
   "cell_type": "markdown",
   "metadata": {},
   "source": [
    "#### Are the different statistically significant?"
   ]
  },
  {
   "cell_type": "code",
   "execution_count": 550,
   "metadata": {},
   "outputs": [
    {
     "name": "stdout",
     "output_type": "stream",
     "text": [
      "The difference is statistically significant, p-value: 0.001\n"
     ]
    }
   ],
   "source": [
    "ttest,pval = ttest_ind(c_only_female_authors,c_only_male_authors)\n",
    "if pval < 0.05:\n",
    "    print(\"The difference is statistically significant, p-value:\",round(pval,3))\n",
    "else:\n",
    "    print(\"The difference is not statistically significant, p-value:\",round(pval,3))"
   ]
  },
  {
   "cell_type": "markdown",
   "metadata": {},
   "source": [
    "### Citations of papers led by female and male authors"
   ]
  },
  {
   "cell_type": "code",
   "execution_count": 558,
   "metadata": {},
   "outputs": [],
   "source": [
    "# citations led by female authors\n",
    "c_led_female_authors = papers[papers['title'].isin(papers_led_female_df.index.values)]['citations']\n",
    "# citations led by male authors\n",
    "title_papers_led_male = papers_authors[(papers_authors['author_gender']=='male') & \\\n",
    "                                       (papers_authors['author_position']==1)]['title']\n",
    "papers_led_male = papers_authors[papers_authors['title'].isin(title_papers_led_male)]\n",
    "papers_led_male = papers_led_male.drop(['id', 'doi', 'year', 'category', 'author', 'author_position'], axis=1)\n",
    "papers_led_male_grouped_by_title = papers_led_male.groupby(['title','author_gender'], sort=False, as_index=False)\n",
    "agg_papers_grouped_lbm = papers_led_male_grouped_by_title[['author_gender']].\\\n",
    "    agg({'author_gender': {'count_gender': 'count'}})\n",
    "papers_led_male_df = agg_papers_grouped_lbm.pivot(columns='author_gender', values='count_gender', index='title')\n",
    "c_led_male_authors = papers[papers['title'].isin(papers_led_male_df.index.values)]['citations']"
   ]
  },
  {
   "cell_type": "code",
   "execution_count": 559,
   "metadata": {},
   "outputs": [
    {
     "data": {
      "text/plain": [
       "count    9513.000000\n",
       "mean       27.985388\n",
       "std        78.463576\n",
       "min         0.000000\n",
       "25%         4.000000\n",
       "50%        12.000000\n",
       "75%        29.000000\n",
       "max      2686.000000\n",
       "Name: citations, dtype: float64"
      ]
     },
     "execution_count": 559,
     "metadata": {},
     "output_type": "execute_result"
    }
   ],
   "source": [
    "c_led_female_authors.describe()"
   ]
  },
  {
   "cell_type": "code",
   "execution_count": 560,
   "metadata": {},
   "outputs": [
    {
     "data": {
      "text/plain": [
       "count    12364.000000\n",
       "mean        30.306859\n",
       "std         93.288278\n",
       "min          0.000000\n",
       "25%          4.000000\n",
       "50%         13.000000\n",
       "75%         30.000000\n",
       "max       3212.000000\n",
       "Name: citations, dtype: float64"
      ]
     },
     "execution_count": 560,
     "metadata": {},
     "output_type": "execute_result"
    }
   ],
   "source": [
    "c_led_male_authors.describe()"
   ]
  },
  {
   "cell_type": "code",
   "execution_count": 561,
   "metadata": {},
   "outputs": [
    {
     "data": {
      "image/png": "[encoded data removed]",
      "text/plain": [
       "<Figure size 864x576 with 1 Axes>"
      ]
     },
     "metadata": {
      "needs_background": "light"
     },
     "output_type": "display_data"
    }
   ],
   "source": [
    "data_to_plot = [c_led_female_authors, c_led_male_authors]\n",
    "# Create a figure instance\n",
    "fig = plt.figure(1, figsize=(12, 8))\n",
    "# Create an axes instance\n",
    "ax = fig.add_subplot(111)\n",
    "ax.set_xticklabels(['Led by female authors', 'Led by male authors'])\n",
    "# Create the boxplot\n",
    "bp = ax.boxplot(data_to_plot, showfliers=False)"
   ]
  },
  {
   "cell_type": "markdown",
   "metadata": {},
   "source": [
    "#### Are the different statistically significant?"
   ]
  },
  {
   "cell_type": "code",
   "execution_count": 562,
   "metadata": {},
   "outputs": [
    {
     "name": "stdout",
     "output_type": "stream",
     "text": [
      "The difference is not statistically significant, p-value: 0.051\n"
     ]
    }
   ],
   "source": [
    "ttest,pval = ttest_ind(c_led_female_authors,c_led_male_authors)\n",
    "if pval < 0.05:\n",
    "    print(\"The difference is statistically significant, p-value:\",round(pval,3))\n",
    "else:\n",
    "    print(\"The difference is not statistically significant, p-value:\",round(pval,3))"
   ]
  },
  {
   "cell_type": "markdown",
   "metadata": {},
   "source": [
    "### Citations of papers with female and male authors as last authors"
   ]
  },
  {
   "cell_type": "code",
   "execution_count": 576,
   "metadata": {},
   "outputs": [],
   "source": [
    "citations_papers_female_author = papers[papers['gender_last_author']=='female']['citations']\n",
    "citations_papers_male_author = papers[papers['gender_last_author']=='male']['citations']"
   ]
  },
  {
   "cell_type": "code",
   "execution_count": 577,
   "metadata": {},
   "outputs": [
    {
     "data": {
      "text/plain": [
       "count    6680.000000\n",
       "mean       26.902096\n",
       "std        72.256484\n",
       "min         0.000000\n",
       "25%         4.000000\n",
       "50%        12.000000\n",
       "75%        27.000000\n",
       "max      2115.000000\n",
       "Name: citations, dtype: float64"
      ]
     },
     "execution_count": 577,
     "metadata": {},
     "output_type": "execute_result"
    }
   ],
   "source": [
    "citations_papers_female_author.describe()"
   ]
  },
  {
   "cell_type": "code",
   "execution_count": 578,
   "metadata": {},
   "outputs": [
    {
     "data": {
      "text/plain": [
       "count    25902.000000\n",
       "mean        35.978843\n",
       "std        148.681350\n",
       "min          0.000000\n",
       "25%          5.000000\n",
       "50%         14.000000\n",
       "75%         32.000000\n",
       "max       9753.000000\n",
       "Name: citations, dtype: float64"
      ]
     },
     "execution_count": 578,
     "metadata": {},
     "output_type": "execute_result"
    }
   ],
   "source": [
    "citations_papers_male_author.describe()"
   ]
  },
  {
   "cell_type": "code",
   "execution_count": 579,
   "metadata": {},
   "outputs": [
    {
     "data": {
      "image/png": "[encoded data removed]",
      "text/plain": [
       "<Figure size 864x576 with 1 Axes>"
      ]
     },
     "metadata": {
      "needs_background": "light"
     },
     "output_type": "display_data"
    }
   ],
   "source": [
    "data_to_plot = [citations_papers_female_author, citations_papers_male_author]\n",
    "# Create a figure instance\n",
    "fig = plt.figure(1, figsize=(12, 8))\n",
    "# Create an axes instance\n",
    "ax = fig.add_subplot(111)\n",
    "ax.set_xticklabels(['Female as last author', 'Male as last author'])\n",
    "# Create the boxplot\n",
    "bp = ax.boxplot(data_to_plot, showfliers=False)"
   ]
  },
  {
   "cell_type": "markdown",
   "metadata": {},
   "source": [
    "#### Are the different statistically significant?"
   ]
  },
  {
   "cell_type": "code",
   "execution_count": 583,
   "metadata": {},
   "outputs": [
    {
     "name": "stdout",
     "output_type": "stream",
     "text": [
      "The difference is statistically significant, p-value: 1.2772595621891377e-06\n"
     ]
    }
   ],
   "source": [
    "ttest,pval = ttest_ind(citations_papers_female_author, citations_papers_male_author)\n",
    "if pval < 0.05:\n",
    "    print(\"The difference is statistically significant, p-value:\",pval)\n",
    "else:\n",
    "    print(\"The difference is not statistically significant, p-value:\",round(pval,3))"
   ]
  },
  {
   "cell_type": "markdown",
   "metadata": {},
   "source": [
    "### Correlation between citations and gender distribution"
   ]
  },
  {
   "cell_type": "code",
   "execution_count": 586,
   "metadata": {},
   "outputs": [],
   "source": [
    "papers_gender_dist['gender_ratio'] = papers_gender_dist['female']/papers_gender_dist['male']"
   ]
  },
  {
   "cell_type": "code",
   "execution_count": 599,
   "metadata": {},
   "outputs": [
    {
     "data": {
      "text/plain": [
       "38350"
      ]
     },
     "execution_count": 599,
     "metadata": {},
     "output_type": "execute_result"
    }
   ],
   "source": [
    "papers.shape[0]"
   ]
  },
  {
   "cell_type": "code",
   "execution_count": 600,
   "metadata": {},
   "outputs": [
    {
     "data": {
      "text/plain": [
       "22888"
      ]
     },
     "execution_count": 600,
     "metadata": {},
     "output_type": "execute_result"
    }
   ],
   "source": [
    "papers_gender_dist.shape[0]"
   ]
  },
  {
   "cell_type": "code",
   "execution_count": 598,
   "metadata": {},
   "outputs": [
    {
     "ename": "ValueError",
     "evalue": "Shape of passed values is (22888, 2), indices imply (38350, 2)",
     "output_type": "error",
     "traceback": [
      "\u001b[0;31m---------------------------------------------------------------------------\u001b[0m",
      "\u001b[0;31mValueError\u001b[0m                                Traceback (most recent call last)",
      "\u001b[0;32m~/python_venvs/gender_identification/lib/python3.6/site-packages/pandas/core/internals/managers.py\u001b[0m in \u001b[0;36mcreate_block_manager_from_arrays\u001b[0;34m(arrays, names, axes)\u001b[0m\n\u001b[1;32m   1666\u001b[0m         \u001b[0mblocks\u001b[0m \u001b[0;34m=\u001b[0m \u001b[0mform_blocks\u001b[0m\u001b[0;34m(\u001b[0m\u001b[0marrays\u001b[0m\u001b[0;34m,\u001b[0m \u001b[0mnames\u001b[0m\u001b[0;34m,\u001b[0m \u001b[0maxes\u001b[0m\u001b[0;34m)\u001b[0m\u001b[0;34m\u001b[0m\u001b[0;34m\u001b[0m\u001b[0m\n\u001b[0;32m-> 1667\u001b[0;31m         \u001b[0mmgr\u001b[0m \u001b[0;34m=\u001b[0m \u001b[0mBlockManager\u001b[0m\u001b[0;34m(\u001b[0m\u001b[0mblocks\u001b[0m\u001b[0;34m,\u001b[0m \u001b[0maxes\u001b[0m\u001b[0;34m)\u001b[0m\u001b[0;34m\u001b[0m\u001b[0;34m\u001b[0m\u001b[0m\n\u001b[0m\u001b[1;32m   1668\u001b[0m         \u001b[0mmgr\u001b[0m\u001b[0;34m.\u001b[0m\u001b[0m_consolidate_inplace\u001b[0m\u001b[0;34m(\u001b[0m\u001b[0;34m)\u001b[0m\u001b[0;34m\u001b[0m\u001b[0;34m\u001b[0m\u001b[0m\n",
      "\u001b[0;32m~/python_venvs/gender_identification/lib/python3.6/site-packages/pandas/core/internals/managers.py\u001b[0m in \u001b[0;36m__init__\u001b[0;34m(self, blocks, axes, do_integrity_check)\u001b[0m\n\u001b[1;32m    113\u001b[0m         \u001b[0;32mif\u001b[0m \u001b[0mdo_integrity_check\u001b[0m\u001b[0;34m:\u001b[0m\u001b[0;34m\u001b[0m\u001b[0;34m\u001b[0m\u001b[0m\n\u001b[0;32m--> 114\u001b[0;31m             \u001b[0mself\u001b[0m\u001b[0;34m.\u001b[0m\u001b[0m_verify_integrity\u001b[0m\u001b[0;34m(\u001b[0m\u001b[0;34m)\u001b[0m\u001b[0;34m\u001b[0m\u001b[0;34m\u001b[0m\u001b[0m\n\u001b[0m\u001b[1;32m    115\u001b[0m \u001b[0;34m\u001b[0m\u001b[0m\n",
      "\u001b[0;32m~/python_venvs/gender_identification/lib/python3.6/site-packages/pandas/core/internals/managers.py\u001b[0m in \u001b[0;36m_verify_integrity\u001b[0;34m(self)\u001b[0m\n\u001b[1;32m    310\u001b[0m             \u001b[0;32mif\u001b[0m \u001b[0mblock\u001b[0m\u001b[0;34m.\u001b[0m\u001b[0m_verify_integrity\u001b[0m \u001b[0;32mand\u001b[0m \u001b[0mblock\u001b[0m\u001b[0;34m.\u001b[0m\u001b[0mshape\u001b[0m\u001b[0;34m[\u001b[0m\u001b[0;36m1\u001b[0m\u001b[0;34m:\u001b[0m\u001b[0;34m]\u001b[0m \u001b[0;34m!=\u001b[0m \u001b[0mmgr_shape\u001b[0m\u001b[0;34m[\u001b[0m\u001b[0;36m1\u001b[0m\u001b[0;34m:\u001b[0m\u001b[0;34m]\u001b[0m\u001b[0;34m:\u001b[0m\u001b[0;34m\u001b[0m\u001b[0;34m\u001b[0m\u001b[0m\n\u001b[0;32m--> 311\u001b[0;31m                 \u001b[0mconstruction_error\u001b[0m\u001b[0;34m(\u001b[0m\u001b[0mtot_items\u001b[0m\u001b[0;34m,\u001b[0m \u001b[0mblock\u001b[0m\u001b[0;34m.\u001b[0m\u001b[0mshape\u001b[0m\u001b[0;34m[\u001b[0m\u001b[0;36m1\u001b[0m\u001b[0;34m:\u001b[0m\u001b[0;34m]\u001b[0m\u001b[0;34m,\u001b[0m \u001b[0mself\u001b[0m\u001b[0;34m.\u001b[0m\u001b[0maxes\u001b[0m\u001b[0;34m)\u001b[0m\u001b[0;34m\u001b[0m\u001b[0;34m\u001b[0m\u001b[0m\n\u001b[0m\u001b[1;32m    312\u001b[0m         \u001b[0;32mif\u001b[0m \u001b[0mlen\u001b[0m\u001b[0;34m(\u001b[0m\u001b[0mself\u001b[0m\u001b[0;34m.\u001b[0m\u001b[0mitems\u001b[0m\u001b[0;34m)\u001b[0m \u001b[0;34m!=\u001b[0m \u001b[0mtot_items\u001b[0m\u001b[0;34m:\u001b[0m\u001b[0;34m\u001b[0m\u001b[0;34m\u001b[0m\u001b[0m\n",
      "\u001b[0;32m~/python_venvs/gender_identification/lib/python3.6/site-packages/pandas/core/internals/managers.py\u001b[0m in \u001b[0;36mconstruction_error\u001b[0;34m(tot_items, block_shape, axes, e)\u001b[0m\n\u001b[1;32m   1690\u001b[0m     raise ValueError(\"Shape of passed values is {0}, indices imply {1}\".format(\n\u001b[0;32m-> 1691\u001b[0;31m         passed, implied))\n\u001b[0m\u001b[1;32m   1692\u001b[0m \u001b[0;34m\u001b[0m\u001b[0m\n",
      "\u001b[0;31mValueError\u001b[0m: Shape of passed values is (22888, 2), indices imply (38350, 2)",
      "\nDuring handling of the above exception, another exception occurred:\n",
      "\u001b[0;31mValueError\u001b[0m                                Traceback (most recent call last)",
      "\u001b[0;32m<ipython-input-598-8fe0c4690478>\u001b[0m in \u001b[0;36m<module>\u001b[0;34m\u001b[0m\n\u001b[1;32m      1\u001b[0m papers_gdr = pd.DataFrame({'title': papers_gender_dist.index.values, \n\u001b[1;32m      2\u001b[0m                            'gender_ratio':papers_gender_dist['gender_ratio']},\n\u001b[0;32m----> 3\u001b[0;31m                          index=papers.index.values)\n\u001b[0m",
      "\u001b[0;32m~/python_venvs/gender_identification/lib/python3.6/site-packages/pandas/core/frame.py\u001b[0m in \u001b[0;36m__init__\u001b[0;34m(self, data, index, columns, dtype, copy)\u001b[0m\n\u001b[1;32m    390\u001b[0m                                  dtype=dtype, copy=copy)\n\u001b[1;32m    391\u001b[0m         \u001b[0;32melif\u001b[0m \u001b[0misinstance\u001b[0m\u001b[0;34m(\u001b[0m\u001b[0mdata\u001b[0m\u001b[0;34m,\u001b[0m \u001b[0mdict\u001b[0m\u001b[0;34m)\u001b[0m\u001b[0;34m:\u001b[0m\u001b[0;34m\u001b[0m\u001b[0;34m\u001b[0m\u001b[0m\n\u001b[0;32m--> 392\u001b[0;31m             \u001b[0mmgr\u001b[0m \u001b[0;34m=\u001b[0m \u001b[0minit_dict\u001b[0m\u001b[0;34m(\u001b[0m\u001b[0mdata\u001b[0m\u001b[0;34m,\u001b[0m \u001b[0mindex\u001b[0m\u001b[0;34m,\u001b[0m \u001b[0mcolumns\u001b[0m\u001b[0;34m,\u001b[0m \u001b[0mdtype\u001b[0m\u001b[0;34m=\u001b[0m\u001b[0mdtype\u001b[0m\u001b[0;34m)\u001b[0m\u001b[0;34m\u001b[0m\u001b[0;34m\u001b[0m\u001b[0m\n\u001b[0m\u001b[1;32m    393\u001b[0m         \u001b[0;32melif\u001b[0m \u001b[0misinstance\u001b[0m\u001b[0;34m(\u001b[0m\u001b[0mdata\u001b[0m\u001b[0;34m,\u001b[0m \u001b[0mma\u001b[0m\u001b[0;34m.\u001b[0m\u001b[0mMaskedArray\u001b[0m\u001b[0;34m)\u001b[0m\u001b[0;34m:\u001b[0m\u001b[0;34m\u001b[0m\u001b[0;34m\u001b[0m\u001b[0m\n\u001b[1;32m    394\u001b[0m             \u001b[0;32mimport\u001b[0m \u001b[0mnumpy\u001b[0m\u001b[0;34m.\u001b[0m\u001b[0mma\u001b[0m\u001b[0;34m.\u001b[0m\u001b[0mmrecords\u001b[0m \u001b[0;32mas\u001b[0m \u001b[0mmrecords\u001b[0m\u001b[0;34m\u001b[0m\u001b[0;34m\u001b[0m\u001b[0m\n",
      "\u001b[0;32m~/python_venvs/gender_identification/lib/python3.6/site-packages/pandas/core/internals/construction.py\u001b[0m in \u001b[0;36minit_dict\u001b[0;34m(data, index, columns, dtype)\u001b[0m\n\u001b[1;32m    210\u001b[0m         \u001b[0marrays\u001b[0m \u001b[0;34m=\u001b[0m \u001b[0;34m[\u001b[0m\u001b[0mdata\u001b[0m\u001b[0;34m[\u001b[0m\u001b[0mk\u001b[0m\u001b[0;34m]\u001b[0m \u001b[0;32mfor\u001b[0m \u001b[0mk\u001b[0m \u001b[0;32min\u001b[0m \u001b[0mkeys\u001b[0m\u001b[0;34m]\u001b[0m\u001b[0;34m\u001b[0m\u001b[0;34m\u001b[0m\u001b[0m\n\u001b[1;32m    211\u001b[0m \u001b[0;34m\u001b[0m\u001b[0m\n\u001b[0;32m--> 212\u001b[0;31m     \u001b[0;32mreturn\u001b[0m \u001b[0marrays_to_mgr\u001b[0m\u001b[0;34m(\u001b[0m\u001b[0marrays\u001b[0m\u001b[0;34m,\u001b[0m \u001b[0mdata_names\u001b[0m\u001b[0;34m,\u001b[0m \u001b[0mindex\u001b[0m\u001b[0;34m,\u001b[0m \u001b[0mcolumns\u001b[0m\u001b[0;34m,\u001b[0m \u001b[0mdtype\u001b[0m\u001b[0;34m=\u001b[0m\u001b[0mdtype\u001b[0m\u001b[0;34m)\u001b[0m\u001b[0;34m\u001b[0m\u001b[0;34m\u001b[0m\u001b[0m\n\u001b[0m\u001b[1;32m    213\u001b[0m \u001b[0;34m\u001b[0m\u001b[0m\n\u001b[1;32m    214\u001b[0m \u001b[0;34m\u001b[0m\u001b[0m\n",
      "\u001b[0;32m~/python_venvs/gender_identification/lib/python3.6/site-packages/pandas/core/internals/construction.py\u001b[0m in \u001b[0;36marrays_to_mgr\u001b[0;34m(arrays, arr_names, index, columns, dtype)\u001b[0m\n\u001b[1;32m     59\u001b[0m     \u001b[0maxes\u001b[0m \u001b[0;34m=\u001b[0m \u001b[0;34m[\u001b[0m\u001b[0mensure_index\u001b[0m\u001b[0;34m(\u001b[0m\u001b[0mcolumns\u001b[0m\u001b[0;34m)\u001b[0m\u001b[0;34m,\u001b[0m \u001b[0mindex\u001b[0m\u001b[0;34m]\u001b[0m\u001b[0;34m\u001b[0m\u001b[0;34m\u001b[0m\u001b[0m\n\u001b[1;32m     60\u001b[0m \u001b[0;34m\u001b[0m\u001b[0m\n\u001b[0;32m---> 61\u001b[0;31m     \u001b[0;32mreturn\u001b[0m \u001b[0mcreate_block_manager_from_arrays\u001b[0m\u001b[0;34m(\u001b[0m\u001b[0marrays\u001b[0m\u001b[0;34m,\u001b[0m \u001b[0marr_names\u001b[0m\u001b[0;34m,\u001b[0m \u001b[0maxes\u001b[0m\u001b[0;34m)\u001b[0m\u001b[0;34m\u001b[0m\u001b[0;34m\u001b[0m\u001b[0m\n\u001b[0m\u001b[1;32m     62\u001b[0m \u001b[0;34m\u001b[0m\u001b[0m\n\u001b[1;32m     63\u001b[0m \u001b[0;34m\u001b[0m\u001b[0m\n",
      "\u001b[0;32m~/python_venvs/gender_identification/lib/python3.6/site-packages/pandas/core/internals/managers.py\u001b[0m in \u001b[0;36mcreate_block_manager_from_arrays\u001b[0;34m(arrays, names, axes)\u001b[0m\n\u001b[1;32m   1669\u001b[0m         \u001b[0;32mreturn\u001b[0m \u001b[0mmgr\u001b[0m\u001b[0;34m\u001b[0m\u001b[0;34m\u001b[0m\u001b[0m\n\u001b[1;32m   1670\u001b[0m     \u001b[0;32mexcept\u001b[0m \u001b[0mValueError\u001b[0m \u001b[0;32mas\u001b[0m \u001b[0me\u001b[0m\u001b[0;34m:\u001b[0m\u001b[0;34m\u001b[0m\u001b[0;34m\u001b[0m\u001b[0m\n\u001b[0;32m-> 1671\u001b[0;31m         \u001b[0mconstruction_error\u001b[0m\u001b[0;34m(\u001b[0m\u001b[0mlen\u001b[0m\u001b[0;34m(\u001b[0m\u001b[0marrays\u001b[0m\u001b[0;34m)\u001b[0m\u001b[0;34m,\u001b[0m \u001b[0marrays\u001b[0m\u001b[0;34m[\u001b[0m\u001b[0;36m0\u001b[0m\u001b[0;34m]\u001b[0m\u001b[0;34m.\u001b[0m\u001b[0mshape\u001b[0m\u001b[0;34m,\u001b[0m \u001b[0maxes\u001b[0m\u001b[0;34m,\u001b[0m \u001b[0me\u001b[0m\u001b[0;34m)\u001b[0m\u001b[0;34m\u001b[0m\u001b[0;34m\u001b[0m\u001b[0m\n\u001b[0m\u001b[1;32m   1672\u001b[0m \u001b[0;34m\u001b[0m\u001b[0m\n\u001b[1;32m   1673\u001b[0m \u001b[0;34m\u001b[0m\u001b[0m\n",
      "\u001b[0;32m~/python_venvs/gender_identification/lib/python3.6/site-packages/pandas/core/internals/managers.py\u001b[0m in \u001b[0;36mconstruction_error\u001b[0;34m(tot_items, block_shape, axes, e)\u001b[0m\n\u001b[1;32m   1689\u001b[0m         \u001b[0;32mraise\u001b[0m \u001b[0mValueError\u001b[0m\u001b[0;34m(\u001b[0m\u001b[0;34m\"Empty data passed with indices specified.\"\u001b[0m\u001b[0;34m)\u001b[0m\u001b[0;34m\u001b[0m\u001b[0;34m\u001b[0m\u001b[0m\n\u001b[1;32m   1690\u001b[0m     raise ValueError(\"Shape of passed values is {0}, indices imply {1}\".format(\n\u001b[0;32m-> 1691\u001b[0;31m         passed, implied))\n\u001b[0m\u001b[1;32m   1692\u001b[0m \u001b[0;34m\u001b[0m\u001b[0m\n\u001b[1;32m   1693\u001b[0m \u001b[0;34m\u001b[0m\u001b[0m\n",
      "\u001b[0;31mValueError\u001b[0m: Shape of passed values is (22888, 2), indices imply (38350, 2)"
     ]
    }
   ],
   "source": [
    "papers_gdr = pd.DataFrame({'title': papers_gender_dist.index.values, \n",
    "                           'gender_ratio':papers_gender_dist['gender_ratio']},\n",
    "                         index=papers.index.values)"
   ]
  },
  {
   "cell_type": "code",
   "execution_count": 596,
   "metadata": {},
   "outputs": [
    {
     "data": {
      "text/html": [
       "<div>\n",
       "<style scoped>\n",
       "    .dataframe tbody tr th:only-of-type {\n",
       "        vertical-align: middle;\n",
       "    }\n",
       "\n",
       "    .dataframe tbody tr th {\n",
       "        vertical-align: top;\n",
       "    }\n",
       "\n",
       "    .dataframe thead th {\n",
       "        text-align: right;\n",
       "    }\n",
       "</style>\n",
       "<table border=\"1\" class=\"dataframe\">\n",
       "  <thead>\n",
       "    <tr style=\"text-align: right;\">\n",
       "      <th></th>\n",
       "      <th>title</th>\n",
       "      <th>gender_ratio</th>\n",
       "    </tr>\n",
       "    <tr>\n",
       "      <th>title</th>\n",
       "      <th></th>\n",
       "      <th></th>\n",
       "    </tr>\n",
       "  </thead>\n",
       "  <tbody>\n",
       "    <tr>\n",
       "      <th>'Bois noir' phytoplasma induces significant reprogramming of the leaf transcriptome in the field grown grapevine</th>\n",
       "      <td>'Bois noir' phytoplasma induces significant re...</td>\n",
       "      <td>1.500000</td>\n",
       "    </tr>\n",
       "    <tr>\n",
       "      <th>'Brukin2D': A 2D visualization and comparison tool for LC-MS data</th>\n",
       "      <td>'Brukin2D': A 2D visualization and comparison ...</td>\n",
       "      <td>0.166667</td>\n",
       "    </tr>\n",
       "    <tr>\n",
       "      <th>'HypothesisFinder:' A Strategy for the Detection of Speculative Statements in Scientific Text</th>\n",
       "      <td>'HypothesisFinder:' A Strategy for the Detecti...</td>\n",
       "      <td>1.000000</td>\n",
       "    </tr>\n",
       "    <tr>\n",
       "      <th>'In-line attack' conformational effect plays a modest role in an enzyme-catalyzed RNA cleavage: A free energy simulation study</th>\n",
       "      <td>'In-line attack' conformational effect plays a...</td>\n",
       "      <td>NaN</td>\n",
       "    </tr>\n",
       "    <tr>\n",
       "      <th>'PACLIMS': A component LIM system for high-throughput functional genomic analysis</th>\n",
       "      <td>'PACLIMS': A component LIM system for high-thr...</td>\n",
       "      <td>2.000000</td>\n",
       "    </tr>\n",
       "  </tbody>\n",
       "</table>\n",
       "</div>"
      ],
      "text/plain": [
       "                                                                                                title  \\\n",
       "title                                                                                                   \n",
       "'Bois noir' phytoplasma induces significant rep...  'Bois noir' phytoplasma induces significant re...   \n",
       "'Brukin2D': A 2D visualization and comparison t...  'Brukin2D': A 2D visualization and comparison ...   \n",
       "'HypothesisFinder:' A Strategy for the Detectio...  'HypothesisFinder:' A Strategy for the Detecti...   \n",
       "'In-line attack' conformational effect plays a ...  'In-line attack' conformational effect plays a...   \n",
       "'PACLIMS': A component LIM system for high-thro...  'PACLIMS': A component LIM system for high-thr...   \n",
       "\n",
       "                                                    gender_ratio  \n",
       "title                                                             \n",
       "'Bois noir' phytoplasma induces significant rep...      1.500000  \n",
       "'Brukin2D': A 2D visualization and comparison t...      0.166667  \n",
       "'HypothesisFinder:' A Strategy for the Detectio...      1.000000  \n",
       "'In-line attack' conformational effect plays a ...           NaN  \n",
       "'PACLIMS': A component LIM system for high-thro...      2.000000  "
      ]
     },
     "execution_count": 596,
     "metadata": {},
     "output_type": "execute_result"
    }
   ],
   "source": [
    "papers_gdr.head()"
   ]
  },
  {
   "cell_type": "code",
   "execution_count": null,
   "metadata": {},
   "outputs": [],
   "source": [
    "plt.scatter(papers_gender_dist['gender_ratio'], papers_gender_dist['citations'], s=area, c=colors, alpha=0.5)"
   ]
  }
 ],
 "metadata": {
  "kernelspec": {
   "display_name": "Python 3",
   "language": "python",
   "name": "python3"
  },
  "language_info": {
   "codemirror_mode": {
    "name": "ipython",
    "version": 3
   },
   "file_extension": ".py",
   "mimetype": "text/x-python",
   "name": "python",
   "nbconvert_exporter": "python",
   "pygments_lexer": "ipython3",
   "version": "3.6.7"
  }
 },
 "nbformat": 4,
 "nbformat_minor": 2
}
